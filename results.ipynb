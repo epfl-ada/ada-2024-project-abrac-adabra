{
 "cells": [
  {
   "cell_type": "code",
   "execution_count": null,
   "metadata": {},
   "outputs": [],
   "source": [
    "import pandas as pd \n",
    "import matplotlib.pyplot as plt\n",
    "import warnings\n",
    "import requests\n",
    "data_path = '../BindingDB_All.tsv'"
   ]
  },
  {
   "cell_type": "markdown",
   "metadata": {},
   "source": [
    "## 1. Data Exploration"
   ]
  },
  {
   "cell_type": "code",
   "execution_count": 142,
   "metadata": {},
   "outputs": [
    {
     "data": {
      "text/html": [
       "<div>\n",
       "<style scoped>\n",
       "    .dataframe tbody tr th:only-of-type {\n",
       "        vertical-align: middle;\n",
       "    }\n",
       "\n",
       "    .dataframe tbody tr th {\n",
       "        vertical-align: top;\n",
       "    }\n",
       "\n",
       "    .dataframe thead th {\n",
       "        text-align: right;\n",
       "    }\n",
       "</style>\n",
       "<table border=\"1\" class=\"dataframe\">\n",
       "  <thead>\n",
       "    <tr style=\"text-align: right;\">\n",
       "      <th></th>\n",
       "      <th>BindingDB Reactant_set_id</th>\n",
       "      <th>Ligand SMILES</th>\n",
       "      <th>Ligand InChI</th>\n",
       "      <th>Ligand InChI Key</th>\n",
       "      <th>BindingDB MonomerID</th>\n",
       "      <th>BindingDB Ligand Name</th>\n",
       "      <th>Target Name</th>\n",
       "      <th>Target Source Organism According to Curator or DataSource</th>\n",
       "      <th>Ki (nM)</th>\n",
       "      <th>IC50 (nM)</th>\n",
       "      <th>...</th>\n",
       "      <th>UniProt (SwissProt) Recommended Name of Target Chain.12</th>\n",
       "      <th>UniProt (SwissProt) Entry Name of Target Chain.12</th>\n",
       "      <th>UniProt (SwissProt) Primary ID of Target Chain.12</th>\n",
       "      <th>UniProt (SwissProt) Secondary ID(s) of Target Chain.12</th>\n",
       "      <th>UniProt (SwissProt) Alternative ID(s) of Target Chain.12</th>\n",
       "      <th>UniProt (TrEMBL) Submitted Name of Target Chain.12</th>\n",
       "      <th>UniProt (TrEMBL) Entry Name of Target Chain.12</th>\n",
       "      <th>UniProt (TrEMBL) Primary ID of Target Chain.12</th>\n",
       "      <th>UniProt (TrEMBL) Secondary ID(s) of Target Chain.12</th>\n",
       "      <th>UniProt (TrEMBL) Alternative ID(s) of Target Chain.12</th>\n",
       "    </tr>\n",
       "  </thead>\n",
       "  <tbody>\n",
       "    <tr>\n",
       "      <th>0</th>\n",
       "      <td>1</td>\n",
       "      <td>O[C@@H]1[C@@H](O)[C@@H](Cc2ccccc2)N(CCCCCC(O)=...</td>\n",
       "      <td>InChI=1S/C31H42N2O7/c34-27(35)17-9-3-11-19-32-...</td>\n",
       "      <td>XGEGDSLAQZJGCW-HHGOQMMWSA-N</td>\n",
       "      <td>608734</td>\n",
       "      <td>6-[(4R,5S,6S,7R)-4,7-dibenzyl-3-(5-carboxypent...</td>\n",
       "      <td>Dimer of Gag-Pol polyprotein [501-599]</td>\n",
       "      <td>Human immunodeficiency virus 1</td>\n",
       "      <td>0.24</td>\n",
       "      <td>NaN</td>\n",
       "      <td>...</td>\n",
       "      <td>NaN</td>\n",
       "      <td>NaN</td>\n",
       "      <td>NaN</td>\n",
       "      <td>NaN</td>\n",
       "      <td>NaN</td>\n",
       "      <td>NaN</td>\n",
       "      <td>NaN</td>\n",
       "      <td>NaN</td>\n",
       "      <td>NaN</td>\n",
       "      <td>NaN</td>\n",
       "    </tr>\n",
       "    <tr>\n",
       "      <th>1</th>\n",
       "      <td>2</td>\n",
       "      <td>O[C@@H]1[C@@H](O)[C@@H](Cc2ccccc2)N(C\\C=C\\c2cn...</td>\n",
       "      <td>InChI=1S/C31H34N6O3/c38-29-27(17-23-9-3-1-4-10...</td>\n",
       "      <td>UZLMEAPBHYEHAC-UNTBESQGSA-N</td>\n",
       "      <td>22</td>\n",
       "      <td>(4R,5S,6S,7R)-4,7-dibenzyl-5,6-dihydroxy-1,3-b...</td>\n",
       "      <td>Dimer of Gag-Pol polyprotein [501-599]</td>\n",
       "      <td>Human immunodeficiency virus 1</td>\n",
       "      <td>0.25</td>\n",
       "      <td>NaN</td>\n",
       "      <td>...</td>\n",
       "      <td>NaN</td>\n",
       "      <td>NaN</td>\n",
       "      <td>NaN</td>\n",
       "      <td>NaN</td>\n",
       "      <td>NaN</td>\n",
       "      <td>NaN</td>\n",
       "      <td>NaN</td>\n",
       "      <td>NaN</td>\n",
       "      <td>NaN</td>\n",
       "      <td>NaN</td>\n",
       "    </tr>\n",
       "    <tr>\n",
       "      <th>2</th>\n",
       "      <td>3</td>\n",
       "      <td>O[C@@H]1[C@@H](O)[C@@H](Cc2ccccc2)N(CC2CC2)C(=...</td>\n",
       "      <td>InChI=1S/C29H34N4O3/c34-27-25(16-21-8-3-1-4-9-...</td>\n",
       "      <td>HYNYUFZPPJMPOB-UTWJFGBXSA-N</td>\n",
       "      <td>23</td>\n",
       "      <td>(4R,5S,6S,7R)-4,7-dibenzyl-1-(cyclopropylmethy...</td>\n",
       "      <td>Dimer of Gag-Pol polyprotein [501-599]</td>\n",
       "      <td>Human immunodeficiency virus 1</td>\n",
       "      <td>0.41</td>\n",
       "      <td>NaN</td>\n",
       "      <td>...</td>\n",
       "      <td>NaN</td>\n",
       "      <td>NaN</td>\n",
       "      <td>NaN</td>\n",
       "      <td>NaN</td>\n",
       "      <td>NaN</td>\n",
       "      <td>NaN</td>\n",
       "      <td>NaN</td>\n",
       "      <td>NaN</td>\n",
       "      <td>NaN</td>\n",
       "      <td>NaN</td>\n",
       "    </tr>\n",
       "    <tr>\n",
       "      <th>3</th>\n",
       "      <td>4</td>\n",
       "      <td>OCCCCCCN1[C@H](Cc2ccccc2)[C@H](O)[C@@H](O)[C@@...</td>\n",
       "      <td>InChI=1S/C29H40N2O4/c32-18-10-2-1-9-17-30-25(1...</td>\n",
       "      <td>YXVAZXDWVZTGGD-VIJSPRBVSA-N</td>\n",
       "      <td>24</td>\n",
       "      <td>(4R,5S,6S,7R)-4,7-dibenzyl-1-(cyclopropylmethy...</td>\n",
       "      <td>Dimer of Gag-Pol polyprotein [501-599]</td>\n",
       "      <td>Human immunodeficiency virus 1</td>\n",
       "      <td>0.8</td>\n",
       "      <td>NaN</td>\n",
       "      <td>...</td>\n",
       "      <td>NaN</td>\n",
       "      <td>NaN</td>\n",
       "      <td>NaN</td>\n",
       "      <td>NaN</td>\n",
       "      <td>NaN</td>\n",
       "      <td>NaN</td>\n",
       "      <td>NaN</td>\n",
       "      <td>NaN</td>\n",
       "      <td>NaN</td>\n",
       "      <td>NaN</td>\n",
       "    </tr>\n",
       "    <tr>\n",
       "      <th>4</th>\n",
       "      <td>5</td>\n",
       "      <td>OCCCCCN1[C@H](Cc2ccccc2)[C@H](O)[C@@H](O)[C@@H...</td>\n",
       "      <td>InChI=1S/C28H38N2O4/c31-17-9-3-8-16-29-24(18-2...</td>\n",
       "      <td>WWTSWTPNILRSJX-XDZXDJIYSA-N</td>\n",
       "      <td>25</td>\n",
       "      <td>(4R,5S,6S,7R)-4,7-dibenzyl-1-(cyclopropylmethy...</td>\n",
       "      <td>Dimer of Gag-Pol polyprotein [501-599]</td>\n",
       "      <td>Human immunodeficiency virus 1</td>\n",
       "      <td>0.99</td>\n",
       "      <td>NaN</td>\n",
       "      <td>...</td>\n",
       "      <td>NaN</td>\n",
       "      <td>NaN</td>\n",
       "      <td>NaN</td>\n",
       "      <td>NaN</td>\n",
       "      <td>NaN</td>\n",
       "      <td>NaN</td>\n",
       "      <td>NaN</td>\n",
       "      <td>NaN</td>\n",
       "      <td>NaN</td>\n",
       "      <td>NaN</td>\n",
       "    </tr>\n",
       "  </tbody>\n",
       "</table>\n",
       "<p>5 rows × 194 columns</p>\n",
       "</div>"
      ],
      "text/plain": [
       "   BindingDB Reactant_set_id  \\\n",
       "0                          1   \n",
       "1                          2   \n",
       "2                          3   \n",
       "3                          4   \n",
       "4                          5   \n",
       "\n",
       "                                       Ligand SMILES  \\\n",
       "0  O[C@@H]1[C@@H](O)[C@@H](Cc2ccccc2)N(CCCCCC(O)=...   \n",
       "1  O[C@@H]1[C@@H](O)[C@@H](Cc2ccccc2)N(C\\C=C\\c2cn...   \n",
       "2  O[C@@H]1[C@@H](O)[C@@H](Cc2ccccc2)N(CC2CC2)C(=...   \n",
       "3  OCCCCCCN1[C@H](Cc2ccccc2)[C@H](O)[C@@H](O)[C@@...   \n",
       "4  OCCCCCN1[C@H](Cc2ccccc2)[C@H](O)[C@@H](O)[C@@H...   \n",
       "\n",
       "                                        Ligand InChI  \\\n",
       "0  InChI=1S/C31H42N2O7/c34-27(35)17-9-3-11-19-32-...   \n",
       "1  InChI=1S/C31H34N6O3/c38-29-27(17-23-9-3-1-4-10...   \n",
       "2  InChI=1S/C29H34N4O3/c34-27-25(16-21-8-3-1-4-9-...   \n",
       "3  InChI=1S/C29H40N2O4/c32-18-10-2-1-9-17-30-25(1...   \n",
       "4  InChI=1S/C28H38N2O4/c31-17-9-3-8-16-29-24(18-2...   \n",
       "\n",
       "              Ligand InChI Key  BindingDB MonomerID  \\\n",
       "0  XGEGDSLAQZJGCW-HHGOQMMWSA-N               608734   \n",
       "1  UZLMEAPBHYEHAC-UNTBESQGSA-N                   22   \n",
       "2  HYNYUFZPPJMPOB-UTWJFGBXSA-N                   23   \n",
       "3  YXVAZXDWVZTGGD-VIJSPRBVSA-N                   24   \n",
       "4  WWTSWTPNILRSJX-XDZXDJIYSA-N                   25   \n",
       "\n",
       "                               BindingDB Ligand Name  \\\n",
       "0  6-[(4R,5S,6S,7R)-4,7-dibenzyl-3-(5-carboxypent...   \n",
       "1  (4R,5S,6S,7R)-4,7-dibenzyl-5,6-dihydroxy-1,3-b...   \n",
       "2  (4R,5S,6S,7R)-4,7-dibenzyl-1-(cyclopropylmethy...   \n",
       "3  (4R,5S,6S,7R)-4,7-dibenzyl-1-(cyclopropylmethy...   \n",
       "4  (4R,5S,6S,7R)-4,7-dibenzyl-1-(cyclopropylmethy...   \n",
       "\n",
       "                              Target Name  \\\n",
       "0  Dimer of Gag-Pol polyprotein [501-599]   \n",
       "1  Dimer of Gag-Pol polyprotein [501-599]   \n",
       "2  Dimer of Gag-Pol polyprotein [501-599]   \n",
       "3  Dimer of Gag-Pol polyprotein [501-599]   \n",
       "4  Dimer of Gag-Pol polyprotein [501-599]   \n",
       "\n",
       "  Target Source Organism According to Curator or DataSource Ki (nM) IC50 (nM)  \\\n",
       "0                     Human immunodeficiency virus 1           0.24       NaN   \n",
       "1                     Human immunodeficiency virus 1           0.25       NaN   \n",
       "2                     Human immunodeficiency virus 1           0.41       NaN   \n",
       "3                     Human immunodeficiency virus 1            0.8       NaN   \n",
       "4                     Human immunodeficiency virus 1           0.99       NaN   \n",
       "\n",
       "   ... UniProt (SwissProt) Recommended Name of Target Chain.12  \\\n",
       "0  ...                                                NaN        \n",
       "1  ...                                                NaN        \n",
       "2  ...                                                NaN        \n",
       "3  ...                                                NaN        \n",
       "4  ...                                                NaN        \n",
       "\n",
       "  UniProt (SwissProt) Entry Name of Target Chain.12  \\\n",
       "0                                               NaN   \n",
       "1                                               NaN   \n",
       "2                                               NaN   \n",
       "3                                               NaN   \n",
       "4                                               NaN   \n",
       "\n",
       "  UniProt (SwissProt) Primary ID of Target Chain.12  \\\n",
       "0                                               NaN   \n",
       "1                                               NaN   \n",
       "2                                               NaN   \n",
       "3                                               NaN   \n",
       "4                                               NaN   \n",
       "\n",
       "  UniProt (SwissProt) Secondary ID(s) of Target Chain.12  \\\n",
       "0                                                NaN       \n",
       "1                                                NaN       \n",
       "2                                                NaN       \n",
       "3                                                NaN       \n",
       "4                                                NaN       \n",
       "\n",
       "   UniProt (SwissProt) Alternative ID(s) of Target Chain.12  \\\n",
       "0                                                NaN          \n",
       "1                                                NaN          \n",
       "2                                                NaN          \n",
       "3                                                NaN          \n",
       "4                                                NaN          \n",
       "\n",
       "  UniProt (TrEMBL) Submitted Name of Target Chain.12  \\\n",
       "0                                                NaN   \n",
       "1                                                NaN   \n",
       "2                                                NaN   \n",
       "3                                                NaN   \n",
       "4                                                NaN   \n",
       "\n",
       "  UniProt (TrEMBL) Entry Name of Target Chain.12  \\\n",
       "0                                            NaN   \n",
       "1                                            NaN   \n",
       "2                                            NaN   \n",
       "3                                            NaN   \n",
       "4                                            NaN   \n",
       "\n",
       "  UniProt (TrEMBL) Primary ID of Target Chain.12  \\\n",
       "0                                            NaN   \n",
       "1                                            NaN   \n",
       "2                                            NaN   \n",
       "3                                            NaN   \n",
       "4                                            NaN   \n",
       "\n",
       "  UniProt (TrEMBL) Secondary ID(s) of Target Chain.12  \\\n",
       "0                                                NaN    \n",
       "1                                                NaN    \n",
       "2                                                NaN    \n",
       "3                                                NaN    \n",
       "4                                                NaN    \n",
       "\n",
       "   UniProt (TrEMBL) Alternative ID(s) of Target Chain.12  \n",
       "0                                                NaN      \n",
       "1                                                NaN      \n",
       "2                                                NaN      \n",
       "3                                                NaN      \n",
       "4                                                NaN      \n",
       "\n",
       "[5 rows x 194 columns]"
      ]
     },
     "execution_count": 142,
     "metadata": {},
     "output_type": "execute_result"
    }
   ],
   "source": [
    "with warnings.catch_warnings():\n",
    "    warnings.filterwarnings(\"ignore\", message=\".*Specify dtype option on import or set low_memory=False.*\")\n",
    "    df = pd.read_csv(data_path, sep='\\t', on_bad_lines='skip');\n",
    "df.head()"
   ]
  },
  {
   "cell_type": "markdown",
   "metadata": {},
   "source": [
    "After exploring the dataset, we have discovered something odd that we wanted to point out. Some proteins seem to have multiple possible sequences:"
   ]
  },
  {
   "cell_type": "code",
   "execution_count": 144,
   "metadata": {},
   "outputs": [
    {
     "data": {
      "image/png": "[encoded data removed]",
      "text/plain": [
       "<Figure size 640x480 with 1 Axes>"
      ]
     },
     "metadata": {},
     "output_type": "display_data"
    }
   ],
   "source": [
    "df.groupby(['Target Name', 'UniProt (SwissProt) Entry Name of Target Chain'])['BindingDB Target Chain Sequence'].apply(lambda x: len(x.unique())).hist(log=True)\n",
    "plt.title('Histogram of the number of different target sequences for a given Target Name')\n",
    "plt.ylabel('Count (log-scale)')\n",
    "plt.xlabel('Number of different target sequences');"
   ]
  },
  {
   "cell_type": "code",
   "execution_count": null,
   "metadata": {},
   "outputs": [
    {
     "name": "stdout",
     "output_type": "stream",
     "text": [
      "Example of a problematic case:\n",
      "Target Name:  Histone H3.1 [22-45]\n",
      "UniProt (SwissProt) Entry Name of Target Chain:  H31_HUMAN\n",
      "Sequence 0:  ATKAARKSAPATGGVKKPHRYRPG\n",
      "Sequence 1:  ATKAARKSAPATGGVKKPHRYRPGGK\n"
     ]
    }
   ],
   "source": [
    "df_grouped = df.groupby(['Target Name', 'UniProt (SwissProt) Entry Name of Target Chain'])['BindingDB Target Chain Sequence'].apply(lambda x: x.unique())\n",
    "df_grouped = df_grouped[df_grouped.apply(len) >= 2].reset_index()\n",
    "example = df_grouped[df_grouped['BindingDB Target Chain Sequence'].apply(lambda x: len(x[0])) < 100].sample(1)\n",
    "print('Example of a problematic case:')\n",
    "print('Target Name: ', example['Target Name'].values[0])\n",
    "print('UniProt (SwissProt) Entry Name of Target Chain: ', example['UniProt (SwissProt) Entry Name of Target Chain'].values[0])\n",
    "for idx, seq in enumerate(example['BindingDB Target Chain Sequence'].values[0]):\n",
    "    print(f'Sequence {idx}: ', seq)"
   ]
  },
  {
   "cell_type": "markdown",
   "metadata": {},
   "source": [
    "## 2. Data Processing"
   ]
  },
  {
   "cell_type": "markdown",
   "metadata": {},
   "source": [
    "Our study focuses on the impact of certain mutations and certain parts of protein sequences and try to understand the impact on binding affinity. We will thus retain certain features to have a more neat data file:\n",
    "- the id of the interaction in BindingDB\n",
    "- the Ligand SMILES\n",
    "- the protein target Name\n",
    "- the protein target chain sequence\n",
    "- the entry name of the target chain in UniProt (SwissProt)\n",
    "- binding affinity features"
   ]
  },
  {
   "cell_type": "markdown",
   "metadata": {},
   "source": [
    "We first looked at how well defined binding affinity metrics are in BindingDB:"
   ]
  },
  {
   "cell_type": "code",
   "execution_count": 147,
   "metadata": {},
   "outputs": [
    {
     "name": "stdout",
     "output_type": "stream",
     "text": [
      "Missing Ki (nM) values rate: [0.79742492]\n",
      "Missing IC50 (nM) values rate: [0.33105142]\n",
      "Missing Kd (nM) values rate: [0.96203274]\n",
      "Missing EC50 (nM) values rate: [0.9084931]\n",
      "Missing kon (M-1-s-1) values rate: [0.99965635]\n",
      "Missing koff (s-1) values rate: [0.99966318]\n"
     ]
    }
   ],
   "source": [
    "bindind_affinity_covariates = ['Ki (nM)', 'IC50 (nM)', 'Kd (nM)', 'EC50 (nM)', 'kon (M-1-s-1)', 'koff (s-1)']\n",
    "for c in bindind_affinity_covariates:\n",
    "    print(f\"Missing {c} values rate: {df[[c]].isna().sum().values/len(df[[c]])}\")"
   ]
  },
  {
   "cell_type": "markdown",
   "metadata": {},
   "source": [
    "There are a lot of missing values and to retain as much data as possible, we have decided to focus on IC50 (nM) values since it is the most available one."
   ]
  },
  {
   "cell_type": "code",
   "execution_count": 148,
   "metadata": {},
   "outputs": [
    {
     "name": "stdout",
     "output_type": "stream",
     "text": [
      "Missing values rate for UniProt (SwissProt) Entry Name of Target Chain.1:  [0.94722317]\n",
      "Missing values rate for UniProt (SwissProt) Entry Name of Target Chain.2:  [0.98783376]\n",
      "Missing values rate for UniProt (SwissProt) Entry Name of Target Chain.3:  [0.9947492]\n",
      "Missing values rate for UniProt (SwissProt) Entry Name of Target Chain.4:  [0.99709773]\n",
      "Missing values rate for UniProt (SwissProt) Entry Name of Target Chain.5:  [0.99866125]\n",
      "Missing values rate for UniProt (SwissProt) Entry Name of Target Chain.6:  [0.99893864]\n",
      "Missing values rate for UniProt (SwissProt) Entry Name of Target Chain.7:  [0.99893966]\n",
      "Missing values rate for UniProt (SwissProt) Entry Name of Target Chain.8:  [0.99895674]\n",
      "Missing values rate for UniProt (SwissProt) Entry Name of Target Chain.9:  [0.99917195]\n",
      "Missing values rate for UniProt (SwissProt) Entry Name of Target Chain.10:  [0.99917263]\n",
      "Missing values rate for UniProt (SwissProt) Entry Name of Target Chain.11:  [0.99999009]\n",
      "Missing values rate for UniProt (SwissProt) Entry Name of Target Chain.12:  [1.]\n"
     ]
    }
   ],
   "source": [
    "target_names = ['UniProt (SwissProt) Entry Name of Target Chain.{}'.format(i) for i in range(1,13)]\n",
    "for t in target_names: \n",
    "    print(f\"Missing values rate for {t}: \", df[[t]].isna().sum().values/len(df[[t]]))"
   ]
  },
  {
   "cell_type": "markdown",
   "metadata": {},
   "source": [
    "Most proteins are composed of only one target chain. We have decided to focus on those as well because any analysis including other chains would lack data."
   ]
  },
  {
   "cell_type": "code",
   "execution_count": 149,
   "metadata": {},
   "outputs": [
    {
     "data": {
      "text/html": [
       "<div>\n",
       "<style scoped>\n",
       "    .dataframe tbody tr th:only-of-type {\n",
       "        vertical-align: middle;\n",
       "    }\n",
       "\n",
       "    .dataframe tbody tr th {\n",
       "        vertical-align: top;\n",
       "    }\n",
       "\n",
       "    .dataframe thead th {\n",
       "        text-align: right;\n",
       "    }\n",
       "</style>\n",
       "<table border=\"1\" class=\"dataframe\">\n",
       "  <thead>\n",
       "    <tr style=\"text-align: right;\">\n",
       "      <th></th>\n",
       "      <th>Ligand SMILES</th>\n",
       "      <th>Target Name</th>\n",
       "      <th>IC50 (nM)</th>\n",
       "      <th>BindingDB Target Chain Sequence</th>\n",
       "      <th>UniProt (SwissProt) Entry Name of Target Chain</th>\n",
       "    </tr>\n",
       "    <tr>\n",
       "      <th>BindingDB Reactant_set_id</th>\n",
       "      <th></th>\n",
       "      <th></th>\n",
       "      <th></th>\n",
       "      <th></th>\n",
       "      <th></th>\n",
       "    </tr>\n",
       "  </thead>\n",
       "  <tbody>\n",
       "    <tr>\n",
       "      <th>1</th>\n",
       "      <td>O[C@@H]1[C@@H](O)[C@@H](Cc2ccccc2)N(CCCCCC(O)=...</td>\n",
       "      <td>Dimer of Gag-Pol polyprotein [501-599]</td>\n",
       "      <td>NaN</td>\n",
       "      <td>PQITLWQRPLVTIKIGGQLKEALLDTGADDTVLEEMSLPGRWKPKM...</td>\n",
       "      <td>POL_HV1BR</td>\n",
       "    </tr>\n",
       "    <tr>\n",
       "      <th>2</th>\n",
       "      <td>O[C@@H]1[C@@H](O)[C@@H](Cc2ccccc2)N(C\\C=C\\c2cn...</td>\n",
       "      <td>Dimer of Gag-Pol polyprotein [501-599]</td>\n",
       "      <td>NaN</td>\n",
       "      <td>PQITLWQRPLVTIKIGGQLKEALLDTGADDTVLEEMSLPGRWKPKM...</td>\n",
       "      <td>POL_HV1BR</td>\n",
       "    </tr>\n",
       "    <tr>\n",
       "      <th>3</th>\n",
       "      <td>O[C@@H]1[C@@H](O)[C@@H](Cc2ccccc2)N(CC2CC2)C(=...</td>\n",
       "      <td>Dimer of Gag-Pol polyprotein [501-599]</td>\n",
       "      <td>NaN</td>\n",
       "      <td>PQITLWQRPLVTIKIGGQLKEALLDTGADDTVLEEMSLPGRWKPKM...</td>\n",
       "      <td>POL_HV1BR</td>\n",
       "    </tr>\n",
       "    <tr>\n",
       "      <th>4</th>\n",
       "      <td>OCCCCCCN1[C@H](Cc2ccccc2)[C@H](O)[C@@H](O)[C@@...</td>\n",
       "      <td>Dimer of Gag-Pol polyprotein [501-599]</td>\n",
       "      <td>NaN</td>\n",
       "      <td>PQITLWQRPLVTIKIGGQLKEALLDTGADDTVLEEMSLPGRWKPKM...</td>\n",
       "      <td>POL_HV1BR</td>\n",
       "    </tr>\n",
       "    <tr>\n",
       "      <th>5</th>\n",
       "      <td>OCCCCCN1[C@H](Cc2ccccc2)[C@H](O)[C@@H](O)[C@@H...</td>\n",
       "      <td>Dimer of Gag-Pol polyprotein [501-599]</td>\n",
       "      <td>NaN</td>\n",
       "      <td>PQITLWQRPLVTIKIGGQLKEALLDTGADDTVLEEMSLPGRWKPKM...</td>\n",
       "      <td>POL_HV1BR</td>\n",
       "    </tr>\n",
       "  </tbody>\n",
       "</table>\n",
       "</div>"
      ],
      "text/plain": [
       "                                                               Ligand SMILES  \\\n",
       "BindingDB Reactant_set_id                                                      \n",
       "1                          O[C@@H]1[C@@H](O)[C@@H](Cc2ccccc2)N(CCCCCC(O)=...   \n",
       "2                          O[C@@H]1[C@@H](O)[C@@H](Cc2ccccc2)N(C\\C=C\\c2cn...   \n",
       "3                          O[C@@H]1[C@@H](O)[C@@H](Cc2ccccc2)N(CC2CC2)C(=...   \n",
       "4                          OCCCCCCN1[C@H](Cc2ccccc2)[C@H](O)[C@@H](O)[C@@...   \n",
       "5                          OCCCCCN1[C@H](Cc2ccccc2)[C@H](O)[C@@H](O)[C@@H...   \n",
       "\n",
       "                                                      Target Name IC50 (nM)  \\\n",
       "BindingDB Reactant_set_id                                                     \n",
       "1                          Dimer of Gag-Pol polyprotein [501-599]       NaN   \n",
       "2                          Dimer of Gag-Pol polyprotein [501-599]       NaN   \n",
       "3                          Dimer of Gag-Pol polyprotein [501-599]       NaN   \n",
       "4                          Dimer of Gag-Pol polyprotein [501-599]       NaN   \n",
       "5                          Dimer of Gag-Pol polyprotein [501-599]       NaN   \n",
       "\n",
       "                                             BindingDB Target Chain Sequence  \\\n",
       "BindingDB Reactant_set_id                                                      \n",
       "1                          PQITLWQRPLVTIKIGGQLKEALLDTGADDTVLEEMSLPGRWKPKM...   \n",
       "2                          PQITLWQRPLVTIKIGGQLKEALLDTGADDTVLEEMSLPGRWKPKM...   \n",
       "3                          PQITLWQRPLVTIKIGGQLKEALLDTGADDTVLEEMSLPGRWKPKM...   \n",
       "4                          PQITLWQRPLVTIKIGGQLKEALLDTGADDTVLEEMSLPGRWKPKM...   \n",
       "5                          PQITLWQRPLVTIKIGGQLKEALLDTGADDTVLEEMSLPGRWKPKM...   \n",
       "\n",
       "                          UniProt (SwissProt) Entry Name of Target Chain  \n",
       "BindingDB Reactant_set_id                                                 \n",
       "1                                                              POL_HV1BR  \n",
       "2                                                              POL_HV1BR  \n",
       "3                                                              POL_HV1BR  \n",
       "4                                                              POL_HV1BR  \n",
       "5                                                              POL_HV1BR  "
      ]
     },
     "execution_count": 149,
     "metadata": {},
     "output_type": "execute_result"
    }
   ],
   "source": [
    "df = df[df['Number of Protein Chains in Target (>1 implies a multichain complex)'] == 1]\n",
    "useful_cols = ['BindingDB Reactant_set_id', 'Ligand SMILES', 'Target Name', 'IC50 (nM)', \n",
    "'BindingDB Target Chain Sequence', 'UniProt (SwissProt) Entry Name of Target Chain']\n",
    "filtered_df = df[useful_cols]\n",
    "filtered_df.set_index('BindingDB Reactant_set_id', inplace=True)\n",
    "filtered_df.head()"
   ]
  },
  {
   "cell_type": "code",
   "execution_count": 150,
   "metadata": {},
   "outputs": [
    {
     "data": {
      "text/plain": [
       "IC50 (nM)\n",
       ">10000     60546\n",
       "<100       49049\n",
       ">100000    34956\n",
       " 550       22131\n",
       ">1000      21222\n",
       "           ...  \n",
       " 153.73        1\n",
       " 89.04         1\n",
       " 21.53         1\n",
       " 113.71        1\n",
       " 30750         1\n",
       "Name: count, Length: 58351, dtype: int64"
      ]
     },
     "execution_count": 150,
     "metadata": {},
     "output_type": "execute_result"
    }
   ],
   "source": [
    "filtered_df['IC50 (nM)'].value_counts()"
   ]
  },
  {
   "cell_type": "markdown",
   "metadata": {},
   "source": [
    "As we can see, there are many ways IC50 values are stored in this database. Not all of them can be compared."
   ]
  },
  {
   "cell_type": "code",
   "execution_count": 151,
   "metadata": {},
   "outputs": [
    {
     "data": {
      "image/png": "[encoded data removed]",
      "text/plain": [
       "<Figure size 640x480 with 1 Axes>"
      ]
     },
     "metadata": {},
     "output_type": "display_data"
    }
   ],
   "source": [
    "upper_bound_ic50_values = filtered_df[filtered_df['IC50 (nM)'].apply(lambda x: type(x)==str and '>' in x)]\n",
    "lower_bound_ic50_values = filtered_df[filtered_df['IC50 (nM)'].apply(lambda x: type(x)==str and '<' in x)]\n",
    "nan_ic50_values = filtered_df[filtered_df['IC50 (nM)'].isna()]\n",
    "number_of_exact_ic50_values = len(filtered_df)-len(upper_bound_ic50_values)-len(lower_bound_ic50_values)-len(nan_ic50_values)\n",
    "names = ['Exact values', 'Lower bounds', 'Upper bounds', 'NaN']\n",
    "vals = [number_of_exact_ic50_values, len(lower_bound_ic50_values), len(upper_bound_ic50_values), len(nan_ic50_values)]\n",
    "plt.bar(names, vals)\n",
    "plt.ylabel('Count')\n",
    "plt.title('IC50 value types in BindingDB');"
   ]
  },
  {
   "cell_type": "markdown",
   "metadata": {},
   "source": [
    "We obviously have to drop rows with NaN IC50 values. This analysis also shows us that most entries have an exact IC50 values and it is thus valid to focus on those. "
   ]
  },
  {
   "cell_type": "code",
   "execution_count": 152,
   "metadata": {},
   "outputs": [
    {
     "data": {
      "text/html": [
       "<div>\n",
       "<style scoped>\n",
       "    .dataframe tbody tr th:only-of-type {\n",
       "        vertical-align: middle;\n",
       "    }\n",
       "\n",
       "    .dataframe tbody tr th {\n",
       "        vertical-align: top;\n",
       "    }\n",
       "\n",
       "    .dataframe thead th {\n",
       "        text-align: right;\n",
       "    }\n",
       "</style>\n",
       "<table border=\"1\" class=\"dataframe\">\n",
       "  <thead>\n",
       "    <tr style=\"text-align: right;\">\n",
       "      <th></th>\n",
       "      <th>Ligand SMILES</th>\n",
       "      <th>Target Name</th>\n",
       "      <th>IC50 (nM)</th>\n",
       "      <th>BindingDB Target Chain Sequence</th>\n",
       "      <th>UniProt (SwissProt) Entry Name of Target Chain</th>\n",
       "    </tr>\n",
       "    <tr>\n",
       "      <th>BindingDB Reactant_set_id</th>\n",
       "      <th></th>\n",
       "      <th></th>\n",
       "      <th></th>\n",
       "      <th></th>\n",
       "      <th></th>\n",
       "    </tr>\n",
       "  </thead>\n",
       "  <tbody>\n",
       "    <tr>\n",
       "      <th>145</th>\n",
       "      <td>O=C1CCCC2=C1C1(CCS(=O)(=O)C1)N=C(Nc1nc3ccccc3o...</td>\n",
       "      <td>Galactokinase</td>\n",
       "      <td>6676.9</td>\n",
       "      <td>MAALRQPQVAELLAEARRAFREEFGAEPELAVSAPGRVNLIGEHTD...</td>\n",
       "      <td>GALK1_HUMAN</td>\n",
       "    </tr>\n",
       "    <tr>\n",
       "      <th>181</th>\n",
       "      <td>CC(C)[C@H](NC(C)=O)C(=O)N[C@@H](Cc1ccccc1)[C@@...</td>\n",
       "      <td>Dimer of Gag-Pol polyprotein [489-587]</td>\n",
       "      <td>8.5</td>\n",
       "      <td>PQITLWQRPLVTIKIGGQLKEALLDTGADDTVLEEMNLPGRWKPKM...</td>\n",
       "      <td>POL_HV1N5</td>\n",
       "    </tr>\n",
       "    <tr>\n",
       "      <th>182</th>\n",
       "      <td>CCOC(=O)N[C@@H](C(C)C)C(=O)N[C@@H](Cc1ccccc1)[...</td>\n",
       "      <td>Dimer of Gag-Pol polyprotein [489-587]</td>\n",
       "      <td>177.0</td>\n",
       "      <td>PQITLWQRPLVTIKIGGQLKEALLDTGADDTVLEEMNLPGRWKPKM...</td>\n",
       "      <td>POL_HV1N5</td>\n",
       "    </tr>\n",
       "    <tr>\n",
       "      <th>184</th>\n",
       "      <td>COCCOC(=O)N[C@@H](C(C)C)C(=O)N[C@@H](Cc1ccccc1...</td>\n",
       "      <td>Dimer of Gag-Pol polyprotein [489-587]</td>\n",
       "      <td>164.0</td>\n",
       "      <td>PQITLWQRPLVTIKIGGQLKEALLDTGADDTVLEEMNLPGRWKPKM...</td>\n",
       "      <td>POL_HV1N5</td>\n",
       "    </tr>\n",
       "    <tr>\n",
       "      <th>185</th>\n",
       "      <td>COCCOCCOC(=O)N[C@@H](C(C)C)C(=O)N[C@@H](Cc1ccc...</td>\n",
       "      <td>Dimer of Gag-Pol polyprotein [489-587]</td>\n",
       "      <td>67.0</td>\n",
       "      <td>PQITLWQRPLVTIKIGGQLKEALLDTGADDTVLEEMNLPGRWKPKM...</td>\n",
       "      <td>POL_HV1N5</td>\n",
       "    </tr>\n",
       "  </tbody>\n",
       "</table>\n",
       "</div>"
      ],
      "text/plain": [
       "                                                               Ligand SMILES  \\\n",
       "BindingDB Reactant_set_id                                                      \n",
       "145                        O=C1CCCC2=C1C1(CCS(=O)(=O)C1)N=C(Nc1nc3ccccc3o...   \n",
       "181                        CC(C)[C@H](NC(C)=O)C(=O)N[C@@H](Cc1ccccc1)[C@@...   \n",
       "182                        CCOC(=O)N[C@@H](C(C)C)C(=O)N[C@@H](Cc1ccccc1)[...   \n",
       "184                        COCCOC(=O)N[C@@H](C(C)C)C(=O)N[C@@H](Cc1ccccc1...   \n",
       "185                        COCCOCCOC(=O)N[C@@H](C(C)C)C(=O)N[C@@H](Cc1ccc...   \n",
       "\n",
       "                                                      Target Name  IC50 (nM)  \\\n",
       "BindingDB Reactant_set_id                                                      \n",
       "145                                                 Galactokinase     6676.9   \n",
       "181                        Dimer of Gag-Pol polyprotein [489-587]        8.5   \n",
       "182                        Dimer of Gag-Pol polyprotein [489-587]      177.0   \n",
       "184                        Dimer of Gag-Pol polyprotein [489-587]      164.0   \n",
       "185                        Dimer of Gag-Pol polyprotein [489-587]       67.0   \n",
       "\n",
       "                                             BindingDB Target Chain Sequence  \\\n",
       "BindingDB Reactant_set_id                                                      \n",
       "145                        MAALRQPQVAELLAEARRAFREEFGAEPELAVSAPGRVNLIGEHTD...   \n",
       "181                        PQITLWQRPLVTIKIGGQLKEALLDTGADDTVLEEMNLPGRWKPKM...   \n",
       "182                        PQITLWQRPLVTIKIGGQLKEALLDTGADDTVLEEMNLPGRWKPKM...   \n",
       "184                        PQITLWQRPLVTIKIGGQLKEALLDTGADDTVLEEMNLPGRWKPKM...   \n",
       "185                        PQITLWQRPLVTIKIGGQLKEALLDTGADDTVLEEMNLPGRWKPKM...   \n",
       "\n",
       "                          UniProt (SwissProt) Entry Name of Target Chain  \n",
       "BindingDB Reactant_set_id                                                 \n",
       "145                                                          GALK1_HUMAN  \n",
       "181                                                            POL_HV1N5  \n",
       "182                                                            POL_HV1N5  \n",
       "184                                                            POL_HV1N5  \n",
       "185                                                            POL_HV1N5  "
      ]
     },
     "execution_count": 152,
     "metadata": {},
     "output_type": "execute_result"
    }
   ],
   "source": [
    "def filter_out_comparator(s):\n",
    "    if type(s)==str and ('>' in s or '<' in s):\n",
    "        return False\n",
    "    else:\n",
    "        return True\n",
    "\n",
    "clean_df = filtered_df.copy()\n",
    "clean_df = clean_df[clean_df['IC50 (nM)'].apply(filter_out_comparator)]\n",
    "clean_df['IC50 (nM)'] = pd.to_numeric(clean_df['IC50 (nM)'], errors='coerce')\n",
    "clean_df = clean_df.dropna(subset=['IC50 (nM)'])\n",
    "clean_df.head()"
   ]
  },
  {
   "cell_type": "code",
   "execution_count": 154,
   "metadata": {},
   "outputs": [
    {
     "data": {
      "image/png": "[encoded data removed]",
      "text/plain": [
       "<Figure size 640x480 with 1 Axes>"
      ]
     },
     "metadata": {},
     "output_type": "display_data"
    }
   ],
   "source": [
    "grouped_by_interactions = clean_df.groupby(['Ligand SMILES', 'Target Name', 'BindingDB Target Chain Sequence', \n",
    "                                            'UniProt (SwissProt) Entry Name of Target Chain'])['IC50 (nM)'].count().reset_index()\n",
    "grouped_by_interactions['IC50 (nM)'].hist(log=True)\n",
    "plt.title('Histogram of the number of entries in BindingDB for a given interaction')\n",
    "plt.xlabel('Number of rows describing the same interaction')\n",
    "plt.ylabel('Count (log-scale)');"
   ]
  },
  {
   "cell_type": "markdown",
   "metadata": {},
   "source": [
    "This plot shows us that some interactions have multiple entries in BindingDB. We thus need to merge the values to have only one entry per interaction. To have a robust merged value, we have decided to use the median which is less sensitive to outliers compared to the mean. \n",
    "Once this is done, we save this dataframe into a csv file which contains all the processed data."
   ]
  },
  {
   "cell_type": "code",
   "execution_count": 155,
   "metadata": {},
   "outputs": [
    {
     "data": {
      "text/html": [
       "<div>\n",
       "<style scoped>\n",
       "    .dataframe tbody tr th:only-of-type {\n",
       "        vertical-align: middle;\n",
       "    }\n",
       "\n",
       "    .dataframe tbody tr th {\n",
       "        vertical-align: top;\n",
       "    }\n",
       "\n",
       "    .dataframe thead th {\n",
       "        text-align: right;\n",
       "    }\n",
       "</style>\n",
       "<table border=\"1\" class=\"dataframe\">\n",
       "  <thead>\n",
       "    <tr style=\"text-align: right;\">\n",
       "      <th></th>\n",
       "      <th>Ligand SMILES</th>\n",
       "      <th>Target Name</th>\n",
       "      <th>BindingDB Target Chain Sequence</th>\n",
       "      <th>UniProt (SwissProt) Entry Name of Target Chain</th>\n",
       "      <th>IC50 (nM)</th>\n",
       "    </tr>\n",
       "  </thead>\n",
       "  <tbody>\n",
       "    <tr>\n",
       "      <th>0</th>\n",
       "      <td>B.CP(c1ccccc1)c1ccc(O)cc1</td>\n",
       "      <td>Estrogen receptor</td>\n",
       "      <td>MTMTLHTKASGMALLHQIQGNELEPLNRPQLKIPLERPLGEVYLDS...</td>\n",
       "      <td>ESR1_HUMAN</td>\n",
       "      <td>9800.0</td>\n",
       "    </tr>\n",
       "    <tr>\n",
       "      <th>1</th>\n",
       "      <td>B.CP(c1ccccc1)c1ccc(O)cc1</td>\n",
       "      <td>Estrogen receptor beta</td>\n",
       "      <td>MDIKNSPSSLNSPSSYNCSQSILPLEHGSIYIPSSYVDSHHEYPAM...</td>\n",
       "      <td>ESR2_HUMAN</td>\n",
       "      <td>2500.0</td>\n",
       "    </tr>\n",
       "    <tr>\n",
       "      <th>2</th>\n",
       "      <td>B.Oc1ccc(cc1)P(c1ccccc1)c1ccccc1</td>\n",
       "      <td>Estrogen receptor</td>\n",
       "      <td>MTMTLHTKASGMALLHQIQGNELEPLNRPQLKIPLERPLGEVYLDS...</td>\n",
       "      <td>ESR1_HUMAN</td>\n",
       "      <td>12000.0</td>\n",
       "    </tr>\n",
       "    <tr>\n",
       "      <th>3</th>\n",
       "      <td>B.Oc1ccc(cc1)P(c1ccccc1)c1ccccc1</td>\n",
       "      <td>Estrogen receptor beta</td>\n",
       "      <td>MDIKNSPSSLNSPSSYNCSQSILPLEHGSIYIPSSYVDSHHEYPAM...</td>\n",
       "      <td>ESR2_HUMAN</td>\n",
       "      <td>2000.0</td>\n",
       "    </tr>\n",
       "    <tr>\n",
       "      <th>4</th>\n",
       "      <td>B[P@@]1(=O)OC[C@H]2O[C@H]([C@@H](F)C2O[P@@](B)...</td>\n",
       "      <td>Stimulator of interferon genes protein [140-379]</td>\n",
       "      <td>APAEISAVCEKGNFNVAHGLAWSYYIGYLRLILPELQARIRTYNQH...</td>\n",
       "      <td>STING_HUMAN</td>\n",
       "      <td>5470.0</td>\n",
       "    </tr>\n",
       "  </tbody>\n",
       "</table>\n",
       "</div>"
      ],
      "text/plain": [
       "                                       Ligand SMILES  \\\n",
       "0                          B.CP(c1ccccc1)c1ccc(O)cc1   \n",
       "1                          B.CP(c1ccccc1)c1ccc(O)cc1   \n",
       "2                   B.Oc1ccc(cc1)P(c1ccccc1)c1ccccc1   \n",
       "3                   B.Oc1ccc(cc1)P(c1ccccc1)c1ccccc1   \n",
       "4  B[P@@]1(=O)OC[C@H]2O[C@H]([C@@H](F)C2O[P@@](B)...   \n",
       "\n",
       "                                        Target Name  \\\n",
       "0                                 Estrogen receptor   \n",
       "1                            Estrogen receptor beta   \n",
       "2                                 Estrogen receptor   \n",
       "3                            Estrogen receptor beta   \n",
       "4  Stimulator of interferon genes protein [140-379]   \n",
       "\n",
       "                     BindingDB Target Chain Sequence  \\\n",
       "0  MTMTLHTKASGMALLHQIQGNELEPLNRPQLKIPLERPLGEVYLDS...   \n",
       "1  MDIKNSPSSLNSPSSYNCSQSILPLEHGSIYIPSSYVDSHHEYPAM...   \n",
       "2  MTMTLHTKASGMALLHQIQGNELEPLNRPQLKIPLERPLGEVYLDS...   \n",
       "3  MDIKNSPSSLNSPSSYNCSQSILPLEHGSIYIPSSYVDSHHEYPAM...   \n",
       "4  APAEISAVCEKGNFNVAHGLAWSYYIGYLRLILPELQARIRTYNQH...   \n",
       "\n",
       "  UniProt (SwissProt) Entry Name of Target Chain  IC50 (nM)  \n",
       "0                                     ESR1_HUMAN     9800.0  \n",
       "1                                     ESR2_HUMAN     2500.0  \n",
       "2                                     ESR1_HUMAN    12000.0  \n",
       "3                                     ESR2_HUMAN     2000.0  \n",
       "4                                    STING_HUMAN     5470.0  "
      ]
     },
     "execution_count": 155,
     "metadata": {},
     "output_type": "execute_result"
    }
   ],
   "source": [
    "merged_df = clean_df.groupby(['Ligand SMILES', 'Target Name', 'BindingDB Target Chain Sequence', \n",
    "                              'UniProt (SwissProt) Entry Name of Target Chain'])['IC50 (nM)'].median().reset_index()\n",
    "merged_df.to_csv('merged_df.csv')\n",
    "merged_df.head()"
   ]
  },
  {
   "cell_type": "markdown",
   "metadata": {},
   "source": [
    "Some parts of our study focuses only in mutants and we thus will process the data further to store this information in another file. \n",
    "First, we look at the distribution of the number of mutants for a given ligand and a given wild-type (WT) protein.\n",
    "In BindingDB, two mutants will share the same 'UniProt (SwissProt) Entry Name of Target Chain' value but the 'Target Name' value will be different and indicate the type and location of mutations."
   ]
  },
  {
   "cell_type": "code",
   "execution_count": 157,
   "metadata": {},
   "outputs": [
    {
     "data": {
      "image/png": "[encoded data removed]",
      "text/plain": [
       "<Figure size 640x480 with 1 Axes>"
      ]
     },
     "metadata": {},
     "output_type": "display_data"
    }
   ],
   "source": [
    "merged_df.groupby(['Ligand SMILES', 'UniProt (SwissProt) Entry Name of Target Chain']).count().reset_index()['Target Name'].hist(log=True)\n",
    "plt.xlabel('Number of mutants given a ligand/WT-protein pair')\n",
    "plt.ylabel('Count (log-scale)');"
   ]
  },
  {
   "cell_type": "markdown",
   "metadata": {},
   "source": [
    "This histogram shows that most entries correspond to an interaction between a given ligand A and a given WT protein B where no mutants of B were tested against A. We thus have to filter out these interaction to focus on groups that have at least 2 values (the WT protein and a mutant)"
   ]
  },
  {
   "cell_type": "code",
   "execution_count": 209,
   "metadata": {},
   "outputs": [
    {
     "data": {
      "text/html": [
       "<div>\n",
       "<style scoped>\n",
       "    .dataframe tbody tr th:only-of-type {\n",
       "        vertical-align: middle;\n",
       "    }\n",
       "\n",
       "    .dataframe tbody tr th {\n",
       "        vertical-align: top;\n",
       "    }\n",
       "\n",
       "    .dataframe thead th {\n",
       "        text-align: right;\n",
       "    }\n",
       "</style>\n",
       "<table border=\"1\" class=\"dataframe\">\n",
       "  <thead>\n",
       "    <tr style=\"text-align: right;\">\n",
       "      <th></th>\n",
       "      <th>Ligand SMILES</th>\n",
       "      <th>UniProt (SwissProt) Entry Name of Target Chain</th>\n",
       "      <th>Target Names</th>\n",
       "      <th>BindingDB Target Chain Sequence</th>\n",
       "    </tr>\n",
       "  </thead>\n",
       "  <tbody>\n",
       "    <tr>\n",
       "      <th>0</th>\n",
       "      <td>Brc1cc(CN2CCC(CC2)N2CC(CC#N)(C2)n2cc(cn2)-c2nc...</td>\n",
       "      <td>JAK2_HUMAN</td>\n",
       "      <td>[Tyrosine-protein kinase JAK2 [828-1132], Tyro...</td>\n",
       "      <td>[ALGFSGAFEDRDPTQFEERHLKFLQQLGKGNFGSVEMCRYDPLQD...</td>\n",
       "    </tr>\n",
       "    <tr>\n",
       "      <th>1</th>\n",
       "      <td>Brc1cc(CN2CCC(CC2)N2CC(CC#N)(C2)n2cc(cn2)-c2nc...</td>\n",
       "      <td>JAK2_HUMAN</td>\n",
       "      <td>[Tyrosine-protein kinase JAK2 [828-1132], Tyro...</td>\n",
       "      <td>[ALGFSGAFEDRDPTQFEERHLKFLQQLGKGNFGSVEMCRYDPLQD...</td>\n",
       "    </tr>\n",
       "    <tr>\n",
       "      <th>2</th>\n",
       "      <td>Brc1ccc(\\C=C\\CNCCOc2cncc(\\C=C\\c3ccncc3)c2)cc1</td>\n",
       "      <td>AKT1_HUMAN</td>\n",
       "      <td>[RAC-alpha serine/threonine-protein kinase, RA...</td>\n",
       "      <td>[MSDVAIVKEGWLHKRGEYIKTWRPRYFLLKNDGTFIGYKERPQDV...</td>\n",
       "    </tr>\n",
       "    <tr>\n",
       "      <th>3</th>\n",
       "      <td>Brc1ccc2OCc3noc(=O)n3-c2c1</td>\n",
       "      <td>PVDQ_PSEAE</td>\n",
       "      <td>[Acyl-homoserine lactone acylase PvdQ, Acyl-ho...</td>\n",
       "      <td>[MGMRTVLTGLAGMLLGSMMPVQADMPRPTGLAADIRWTAYGVPHI...</td>\n",
       "    </tr>\n",
       "    <tr>\n",
       "      <th>4</th>\n",
       "      <td>Brc1ccc2n(CC(=O)NC3CN(C3)C(=O)C=C)cc(C(=O)N3CC...</td>\n",
       "      <td>RASK_HUMAN</td>\n",
       "      <td>[GTPase KRas, GTPase KRas [1-169,G12C,C118A]]</td>\n",
       "      <td>[MTEYKLVVVGAGGVGKSALTIQLIQNHFVDEYDPTIEDSYRKQVV...</td>\n",
       "    </tr>\n",
       "  </tbody>\n",
       "</table>\n",
       "</div>"
      ],
      "text/plain": [
       "                                       Ligand SMILES  \\\n",
       "0  Brc1cc(CN2CCC(CC2)N2CC(CC#N)(C2)n2cc(cn2)-c2nc...   \n",
       "1  Brc1cc(CN2CCC(CC2)N2CC(CC#N)(C2)n2cc(cn2)-c2nc...   \n",
       "2      Brc1ccc(\\C=C\\CNCCOc2cncc(\\C=C\\c3ccncc3)c2)cc1   \n",
       "3                         Brc1ccc2OCc3noc(=O)n3-c2c1   \n",
       "4  Brc1ccc2n(CC(=O)NC3CN(C3)C(=O)C=C)cc(C(=O)N3CC...   \n",
       "\n",
       "  UniProt (SwissProt) Entry Name of Target Chain  \\\n",
       "0                                     JAK2_HUMAN   \n",
       "1                                     JAK2_HUMAN   \n",
       "2                                     AKT1_HUMAN   \n",
       "3                                     PVDQ_PSEAE   \n",
       "4                                     RASK_HUMAN   \n",
       "\n",
       "                                        Target Names  \\\n",
       "0  [Tyrosine-protein kinase JAK2 [828-1132], Tyro...   \n",
       "1  [Tyrosine-protein kinase JAK2 [828-1132], Tyro...   \n",
       "2  [RAC-alpha serine/threonine-protein kinase, RA...   \n",
       "3  [Acyl-homoserine lactone acylase PvdQ, Acyl-ho...   \n",
       "4      [GTPase KRas, GTPase KRas [1-169,G12C,C118A]]   \n",
       "\n",
       "                     BindingDB Target Chain Sequence  \n",
       "0  [ALGFSGAFEDRDPTQFEERHLKFLQQLGKGNFGSVEMCRYDPLQD...  \n",
       "1  [ALGFSGAFEDRDPTQFEERHLKFLQQLGKGNFGSVEMCRYDPLQD...  \n",
       "2  [MSDVAIVKEGWLHKRGEYIKTWRPRYFLLKNDGTFIGYKERPQDV...  \n",
       "3  [MGMRTVLTGLAGMLLGSMMPVQADMPRPTGLAADIRWTAYGVPHI...  \n",
       "4  [MTEYKLVVVGAGGVGKSALTIQLIQNHFVDEYDPTIEDSYRKQVV...  "
      ]
     },
     "execution_count": 209,
     "metadata": {},
     "output_type": "execute_result"
    }
   ],
   "source": [
    "mutants_filtered_df = merged_df.groupby(['Ligand SMILES', 'UniProt (SwissProt) Entry Name of Target Chain']).filter(lambda x: len(x) >= 2)\n",
    "merged_mutants_filtered_df = mutants_filtered_df.groupby(['Ligand SMILES', 'UniProt (SwissProt) Entry Name of Target Chain']).apply(lambda x: pd.Series({\n",
    "    'Target Names': list(x['Target Name']),\n",
    "    'BindingDB Target Chain Sequence': list(x['BindingDB Target Chain Sequence'])}), include_groups=False).reset_index()\n",
    "merged_mutants_filtered_df.head()"
   ]
  },
  {
   "cell_type": "markdown",
   "metadata": {},
   "source": [
    "For some analysis, we need to know which protein is the WT and which ones are the mutants. To do so, we query UniProt, retrieve the protein name using 'UniProt (SwissProt) Entry Name of Target Chain' and we check if the WT protein was tested against the given ligand. We filter out all the rows for which this is not the case since we can't perform any analysis if we don't have IC50 value for the WT against the given ligand."
   ]
  },
  {
   "cell_type": "code",
   "execution_count": 211,
   "metadata": {},
   "outputs": [
    {
     "data": {
      "text/html": [
       "<div>\n",
       "<style scoped>\n",
       "    .dataframe tbody tr th:only-of-type {\n",
       "        vertical-align: middle;\n",
       "    }\n",
       "\n",
       "    .dataframe tbody tr th {\n",
       "        vertical-align: top;\n",
       "    }\n",
       "\n",
       "    .dataframe thead th {\n",
       "        text-align: right;\n",
       "    }\n",
       "</style>\n",
       "<table border=\"1\" class=\"dataframe\">\n",
       "  <thead>\n",
       "    <tr style=\"text-align: right;\">\n",
       "      <th></th>\n",
       "      <th>Ligand SMILES</th>\n",
       "      <th>UniProt (SwissProt) Entry Name of Target Chain</th>\n",
       "      <th>Target Names</th>\n",
       "      <th>BindingDB Target Chain Sequence</th>\n",
       "      <th>WT Target Name</th>\n",
       "    </tr>\n",
       "  </thead>\n",
       "  <tbody>\n",
       "    <tr>\n",
       "      <th>2</th>\n",
       "      <td>Brc1ccc(\\C=C\\CNCCOc2cncc(\\C=C\\c3ccncc3)c2)cc1</td>\n",
       "      <td>AKT1_HUMAN</td>\n",
       "      <td>[RAC-alpha serine/threonine-protein kinase, RA...</td>\n",
       "      <td>[MSDVAIVKEGWLHKRGEYIKTWRPRYFLLKNDGTFIGYKERPQDV...</td>\n",
       "      <td>RAC-alpha serine/threonine-protein kinase</td>\n",
       "    </tr>\n",
       "    <tr>\n",
       "      <th>3</th>\n",
       "      <td>Brc1ccc2OCc3noc(=O)n3-c2c1</td>\n",
       "      <td>PVDQ_PSEAE</td>\n",
       "      <td>[Acyl-homoserine lactone acylase PvdQ, Acyl-ho...</td>\n",
       "      <td>[MGMRTVLTGLAGMLLGSMMPVQADMPRPTGLAADIRWTAYGVPHI...</td>\n",
       "      <td>Acyl-homoserine lactone acylase PvdQ</td>\n",
       "    </tr>\n",
       "    <tr>\n",
       "      <th>4</th>\n",
       "      <td>Brc1ccc2n(CC(=O)NC3CN(C3)C(=O)C=C)cc(C(=O)N3CC...</td>\n",
       "      <td>RASK_HUMAN</td>\n",
       "      <td>[GTPase KRas, GTPase KRas [1-169,G12C,C118A]]</td>\n",
       "      <td>[MTEYKLVVVGAGGVGKSALTIQLIQNHFVDEYDPTIEDSYRKQVV...</td>\n",
       "      <td>GTPase KRas</td>\n",
       "    </tr>\n",
       "    <tr>\n",
       "      <th>5</th>\n",
       "      <td>Brc1ccc2n(CC(=O)NC3CN(C3)C(=O)C=C)cc(C(=O)NCCc...</td>\n",
       "      <td>RASK_HUMAN</td>\n",
       "      <td>[GTPase KRas, GTPase KRas [1-169,G12C,C118A]]</td>\n",
       "      <td>[MTEYKLVVVGAGGVGKSALTIQLIQNHFVDEYDPTIEDSYRKQVV...</td>\n",
       "      <td>GTPase KRas</td>\n",
       "    </tr>\n",
       "    <tr>\n",
       "      <th>6</th>\n",
       "      <td>Brc1ccc2n(CC(=O)NC3CN(C3)C(=O)C=C)cc(C(=O)NCc3...</td>\n",
       "      <td>RASK_HUMAN</td>\n",
       "      <td>[GTPase KRas, GTPase KRas [1-169,G12C,C118A]]</td>\n",
       "      <td>[MTEYKLVVVGAGGVGKSALTIQLIQNHFVDEYDPTIEDSYRKQVV...</td>\n",
       "      <td>GTPase KRas</td>\n",
       "    </tr>\n",
       "  </tbody>\n",
       "</table>\n",
       "</div>"
      ],
      "text/plain": [
       "                                       Ligand SMILES  \\\n",
       "2      Brc1ccc(\\C=C\\CNCCOc2cncc(\\C=C\\c3ccncc3)c2)cc1   \n",
       "3                         Brc1ccc2OCc3noc(=O)n3-c2c1   \n",
       "4  Brc1ccc2n(CC(=O)NC3CN(C3)C(=O)C=C)cc(C(=O)N3CC...   \n",
       "5  Brc1ccc2n(CC(=O)NC3CN(C3)C(=O)C=C)cc(C(=O)NCCc...   \n",
       "6  Brc1ccc2n(CC(=O)NC3CN(C3)C(=O)C=C)cc(C(=O)NCc3...   \n",
       "\n",
       "  UniProt (SwissProt) Entry Name of Target Chain  \\\n",
       "2                                     AKT1_HUMAN   \n",
       "3                                     PVDQ_PSEAE   \n",
       "4                                     RASK_HUMAN   \n",
       "5                                     RASK_HUMAN   \n",
       "6                                     RASK_HUMAN   \n",
       "\n",
       "                                        Target Names  \\\n",
       "2  [RAC-alpha serine/threonine-protein kinase, RA...   \n",
       "3  [Acyl-homoserine lactone acylase PvdQ, Acyl-ho...   \n",
       "4      [GTPase KRas, GTPase KRas [1-169,G12C,C118A]]   \n",
       "5      [GTPase KRas, GTPase KRas [1-169,G12C,C118A]]   \n",
       "6      [GTPase KRas, GTPase KRas [1-169,G12C,C118A]]   \n",
       "\n",
       "                     BindingDB Target Chain Sequence  \\\n",
       "2  [MSDVAIVKEGWLHKRGEYIKTWRPRYFLLKNDGTFIGYKERPQDV...   \n",
       "3  [MGMRTVLTGLAGMLLGSMMPVQADMPRPTGLAADIRWTAYGVPHI...   \n",
       "4  [MTEYKLVVVGAGGVGKSALTIQLIQNHFVDEYDPTIEDSYRKQVV...   \n",
       "5  [MTEYKLVVVGAGGVGKSALTIQLIQNHFVDEYDPTIEDSYRKQVV...   \n",
       "6  [MTEYKLVVVGAGGVGKSALTIQLIQNHFVDEYDPTIEDSYRKQVV...   \n",
       "\n",
       "                              WT Target Name  \n",
       "2  RAC-alpha serine/threonine-protein kinase  \n",
       "3       Acyl-homoserine lactone acylase PvdQ  \n",
       "4                                GTPase KRas  \n",
       "5                                GTPase KRas  \n",
       "6                                GTPase KRas  "
      ]
     },
     "execution_count": 211,
     "metadata": {},
     "output_type": "execute_result"
    }
   ],
   "source": [
    "def get_protein_name(entry_name):\n",
    "    url = f\"https://rest.uniprot.org/uniprotkb/{entry_name}.json\"\n",
    "    \n",
    "    response = requests.get(url)\n",
    "    \n",
    "    # Check if the response was successful\n",
    "    if response.status_code == 200:\n",
    "        data = response.json()\n",
    "        # Extract the protein name\n",
    "        protein_name = data['proteinDescription']['recommendedName']['fullName']['value']\n",
    "        return protein_name\n",
    "    else:\n",
    "        print(f\"Entry '{entry_name}' not found or an error occurred.\")\n",
    "        return None\n",
    "protein_names = {entry: get_protein_name(entry) for entry in merged_mutants_filtered_df['UniProt (SwissProt) Entry Name of Target Chain'].unique()}\n",
    "merged_mutants_filtered_df['WT Target Name'] = merged_mutants_filtered_df.apply(lambda x: protein_names.get(x['UniProt (SwissProt) Entry Name of Target Chain'], None) \n",
    "                                 if protein_names.get(x['UniProt (SwissProt) Entry Name of Target Chain'], None) in x['Target Names'] else None, axis=1)\n",
    "merged_mutants_filtered_df.dropna(subset=['WT Target Name'], inplace=True)\n",
    "merged_mutants_filtered_df.head()\n"
   ]
  },
  {
   "cell_type": "code",
   "execution_count": 212,
   "metadata": {},
   "outputs": [],
   "source": [
    "merged_mutants_filtered_df.to_csv('mutants_24_11_10_only_exact_values.csv')"
   ]
  },
  {
   "cell_type": "markdown",
   "metadata": {},
   "source": [
    "## 3. Ligand Analysis"
   ]
  },
  {
   "cell_type": "markdown",
   "metadata": {},
   "source": [
    "## 4. Protein Analysis"
   ]
  },
  {
   "cell_type": "code",
   "execution_count": null,
   "metadata": {},
   "outputs": [],
   "source": [
    "import pandas as pd \n",
    "import matplotlib.pyplot as plt\n",
    "import seaborn as sns\n",
    "import numpy as np\n",
    "import re\n",
    "merged_data_path = '../data_nov_10th/merged_df_24_11_10_only_exact_values.csv'\n",
    "merged_data_path = '../data/merged_df.csv'"
   ]
  },
  {
   "cell_type": "markdown",
   "metadata": {},
   "source": [
    "## 4.0. Importing Data"
   ]
  },
  {
   "cell_type": "code",
   "execution_count": null,
   "metadata": {},
   "outputs": [],
   "source": [
    "df_merged = pd.read_csv(merged_data_path)"
   ]
  },
  {
   "cell_type": "code",
   "execution_count": null,
   "metadata": {},
   "outputs": [],
   "source": [
    "# Performing a copy of the dataset and showing columns information\n",
    "df = df_merged.copy(deep=True)\n",
    "df.info()"
   ]
  },
  {
   "cell_type": "markdown",
   "metadata": {},
   "source": [
    "## 4.1. Preprocessing"
   ]
  },
  {
   "cell_type": "markdown",
   "metadata": {},
   "source": [
    "### 4.1.1 Grouping by Protein Group\n",
    " goal is to read the \"Target Name\" entry of each protein to try to label the protein in the major Groups (e.g. kinase, receptor, etc.)"
   ]
  },
  {
   "cell_type": "code",
   "execution_count": null,
   "metadata": {},
   "outputs": [],
   "source": [
    "# Precompile regular expressions and organize them in a dictionary to improve search efficiency\n",
    "categories = {\n",
    "    \"Kinase\": re.compile(r'kinase|akt|mapk|cdk|jak|trk|src'),\n",
    "    \"Receptor\": re.compile(r'receptor|gpcr|serotonin|dopamine|glutamate|adrenergic|opioid'),\n",
    "    \"Synthase\": re.compile(r'synthase|synthetase|carboxylase|dehydratase'),\n",
    "    \"Ligase\": re.compile(r'ligase|carboxylase|dna ligase'),\n",
    "    \"Oxidase\": re.compile(r'oxidase|oxygenase|peroxidase|cytochrome'),\n",
    "    \"Transferase\": re.compile(r'transferase|methyltransferase|phosphotransferase|acetyltransferase'),\n",
    "    \"Hydrolase\": re.compile(r'hydrolase|phosphatase|protease|lipase|esterase|nuclease'),\n",
    "    \"Enzyme\": re.compile(r'enzyme|dehydrogenase|isomerase|lyase'),\n",
    "    \"Ion Channel\": re.compile(r'channel|ion channel|potassium|sodium|calcium|chloride'),\n",
    "    \"Transporter\": re.compile(r'transporter|abc transporter|slc transporter|solute carrier'),\n",
    "    \"Chaperone\": re.compile(r'chaperone|heat shock protein|hsp'),\n",
    "    \"Structural Protein\": re.compile(r'actin|tubulin|collagen|elastin'),\n",
    "    \"Signaling Protein\": re.compile(r'g-protein|adapter protein|scaffold protein'),\n",
    "    \"Antibody\": re.compile(r'antibody|immunoglobulin|igg|igm|iga'),\n",
    "    \"Transcription Factor\": re.compile(r'transcription factor|p53|nf-kb|homeobox|hox|forkhead'),\n",
    "    \"Growth Factor / Cytokine\": re.compile(r'growth factor|cytokine|interleukin|tnf|vegf|egf|fgf'),\n",
    "    \"Protease Inhibitor\": re.compile(r'protease inhibitor|serpin'),\n",
    "    \"Hormone\": re.compile(r'hormone|insulin|glucagon|erythropoietin|epo'),\n",
    "    \"Viral Replicase Polyprotein\": re.compile(r'replicase polyprotein 1ab|replicase polyprotein 1a'),\n",
    "    \"Viral Genome Polyprotein\": re.compile(r'genome polyprotein'),\n",
    "    \"Huntingtin\": re.compile(r'huntingtin')\n",
    "}\n",
    "\n",
    "# Function to categorize based on precompiled regex patterns\n",
    "def categorize_targets(name):\n",
    "    \"\"\"\n",
    "    Categorizes each protein into a group based on its name\n",
    "    :param name (str): target protein name\n",
    "    :return: the category the protein has been labeled \n",
    "    \"\"\"\n",
    "    name = name.lower()\n",
    "    for category, pattern in categories.items():\n",
    "        if pattern.search(name):\n",
    "            return category\n",
    "    return \"Other\"\n",
    "\n",
    "# Creating a new column in the dataframe\n",
    "df['Protein Group'] = df['Target Name'].apply(categorize_targets)\n",
    "\n",
    "# Get counts by category\n",
    "target_counts = df['Protein Group'].value_counts()\n",
    "print(target_counts)\n"
   ]
  },
  {
   "cell_type": "markdown",
   "metadata": {},
   "source": [
    "### 4.1.2 Identifying Unlabelled Proteins"
   ]
  },
  {
   "cell_type": "code",
   "execution_count": null,
   "metadata": {},
   "outputs": [],
   "source": [
    "df[df['Protein Group']== 'Other'][['Target Name', 'UniProt (SwissProt) Entry Name of Target Chain', 'Protein Group',]].sample(10)"
   ]
  },
  {
   "cell_type": "markdown",
   "metadata": {},
   "source": [
    "### 4.1.3 Registering Protein Amino Acid Sequence Length"
   ]
  },
  {
   "cell_type": "code",
   "execution_count": null,
   "metadata": {},
   "outputs": [],
   "source": [
    "df['target_chain_length'] = df['BindingDB Target Chain Sequence'].str.len()"
   ]
  },
  {
   "cell_type": "markdown",
   "metadata": {},
   "source": [
    "## 4.2. Plotting Explorations"
   ]
  },
  {
   "cell_type": "markdown",
   "metadata": {},
   "source": [
    "### 4.2.1 Creating custom color maps for plotting purposes\n",
    "The Group \"Other\" (unclassified proteins) is assigned the lightgrey color for visualization purposes"
   ]
  },
  {
   "cell_type": "code",
   "execution_count": null,
   "metadata": {},
   "outputs": [],
   "source": [
    "import matplotlib.colors as mcolors\n",
    "import matplotlib.patches as mpatches\n",
    "\n",
    "# Retrieve the target families and then create a custom colormap\n",
    "target_group = df['Protein Group'].astype('category').cat.categories\n",
    "index_other = target_group.get_loc('Other')\n",
    "colors = plt.cm.viridis(np.linspace(0, 1, len(target_group)))\n",
    "colors[index_other] = mcolors.to_rgba('lightgrey')  # Set the color for \"Other\" to lightgrey\n",
    "\n",
    "# Create the custom colormap based on the parameters defined above\n",
    "custom_cmap = mcolors.ListedColormap(colors)\n",
    "color_dict = {group: color for group, color in zip(target_group, colors)}\n",
    "\n",
    "# Manual legend creation using patches for each target group\n",
    "patches = [mpatches.Patch(color=colors[i], label=target_group[i]) for i in range(len(target_group))]"
   ]
  },
  {
   "cell_type": "markdown",
   "metadata": {},
   "source": [
    "### 4.2.2 Histogram of Target Chain Lengths grouped by Target Group"
   ]
  },
  {
   "cell_type": "code",
   "execution_count": null,
   "metadata": {},
   "outputs": [],
   "source": [
    "plt.figure(figsize=(10, 7))\n",
    "\n",
    "# Variant A) PLotting that respects the alphabetical order\n",
    "sns.histplot(data=df, x='target_chain_length', bins=10, hue='Protein Group', multiple='dodge', palette=color_dict, hue_order = color_dict.keys())\n",
    "\n",
    "# Variant B) Plotting that respects the frequency order\n",
    "#sns.histplot(data=df, x='target_chain_length', bins=10, hue='target_group', multiple='dodge', palette=color_dict)\n",
    "\n",
    "plt.title('Histogram of Target Chain Lengths by Target Group')\n",
    "plt.xlabel('Target Chain Length')\n",
    "plt.ylabel('Counts')\n",
    "plt.show()"
   ]
  },
  {
   "cell_type": "markdown",
   "metadata": {},
   "source": [
    "### 4.2.3 IC50 vs Target Chain Length"
   ]
  },
  {
   "cell_type": "code",
   "execution_count": null,
   "metadata": {},
   "outputs": [],
   "source": [
    "fig, ax = plt.subplots(figsize=(15, 7))\n",
    "\n",
    "# Scatter plot with the custom colormap\n",
    "scatter = ax.scatter(data=df, x='target_chain_length', y='IC50 (nM)',\n",
    "                     c=df['Protein Group'].astype('category').cat.codes, cmap=custom_cmap)\n",
    "\n",
    "ax.legend(handles=patches, title=\"Target Group\", loc=\"upper right\")\n",
    "\n",
    "# Changing scales for plotting purposes\n",
    "#ax.set_xscale('log')\n",
    "ax.set_xlim([0, 1e4])\n",
    "ax.set_yscale('log')\n",
    "\n",
    "plt.title('Scatter Plot: IC50 vs Target Chain Length')\n",
    "plt.xlabel('Target Chain Length')\n",
    "plt.ylabel('IC50 (nm)')\n",
    "plt.show()"
   ]
  },
  {
   "cell_type": "markdown",
   "metadata": {},
   "source": [
    "### 4.2.3 Boxplots IC50 or Protein Length in each Target Group"
   ]
  },
  {
   "cell_type": "markdown",
   "metadata": {},
   "source": [
    "#### 4.2.3.A IC50"
   ]
  },
  {
   "cell_type": "code",
   "execution_count": null,
   "metadata": {},
   "outputs": [],
   "source": [
    "# Log-transform IC50 values for better scaling\n",
    "df['Log_IC50 (nM)'] = np.log10(df['IC50 (nM)'])\n",
    "\n",
    "plt.figure(figsize=(12, 8))\n",
    "\n",
    "# Boxplot => Log_transformed IC50\n",
    "sns.boxplot(\n",
    "    data=df, x='Protein Group', y='Log_IC50 (nM)',\n",
    "    order=color_dict.keys(), palette=color_dict, hue='Protein Group'\n",
    ")\n",
    "\n",
    "# Plotting param\n",
    "plt.xticks(rotation=90)\n",
    "plt.xlabel(\"Protein Group\")\n",
    "plt.ylabel(\"Log10 IC50 (nM)\")\n",
    "plt.title(\"Distribution of IC50 (nM) by Protein Group (Log Scale)\")\n",
    "plt.tight_layout()  # Used to avoid label overlap\n",
    "\n",
    "plt.show()"
   ]
  },
  {
   "cell_type": "markdown",
   "metadata": {},
   "source": [
    "#### 4.2.4.B Protein Length"
   ]
  },
  {
   "cell_type": "code",
   "execution_count": null,
   "metadata": {},
   "outputs": [],
   "source": [
    "plt.figure(figsize=(12, 8))\n",
    "\n",
    "# Boxplot => Protein Length\n",
    "sns.boxplot(\n",
    "    data=df, x='Protein Group', y='target_chain_length',\n",
    "    order=color_dict.keys(), palette=color_dict, hue='Protein Group'\n",
    ")\n",
    "\n",
    "# Plotting param\n",
    "plt.xticks(rotation=90)\n",
    "plt.xlabel(\"Protein Group\")\n",
    "plt.ylabel(\"Protein Length\")\n",
    "plt.title(\"Distribution of Protein Length by Protein Group\")\n",
    "plt.tight_layout()  # Used to avoid label overlap\n",
    "\n",
    "plt.show()"
   ]
  },
  {
   "cell_type": "markdown",
   "metadata": {},
   "source": [
    "Quantile transformation to compress long protein lengths that are less frequent"
   ]
  },
  {
   "cell_type": "code",
   "execution_count": null,
   "metadata": {},
   "outputs": [],
   "source": [
    "from sklearn.preprocessing import QuantileTransformer\n",
    "\n",
    "transformer = QuantileTransformer(output_distribution='normal')\n",
    "df['Quantile_length'] = transformer.fit_transform(df[['target_chain_length']])\n",
    "\n",
    "plt.figure(figsize=(12, 8))\n",
    "\n",
    "# Boxplot => Quantile-Transformed Protein Length\n",
    "sns.boxplot(\n",
    "    data=df, x='Protein Group', y='Quantile_length',\n",
    "    order=color_dict.keys(), palette=color_dict, hue='Protein Group'\n",
    ")\n",
    "\n",
    "# Plotting param\n",
    "plt.xticks(rotation=90)\n",
    "plt.xlabel(\"Protein Group\")\n",
    "plt.ylabel(\"Protein Length\")\n",
    "plt.title(\"Quantile-Transformed Distribution of Protein Length by Protein Group\")\n",
    "plt.tight_layout()  # Used to avoid label overlap\n",
    "\n",
    "plt.show()"
   ]
  }
 ],
 "metadata": {
  "kernelspec": {
   "display_name": "ada",
   "language": "python",
   "name": "python3"
  },
  "language_info": {
   "codemirror_mode": {
    "name": "ipython",
    "version": 3
   },
   "file_extension": ".py",
   "mimetype": "text/x-python",
   "name": "python",
   "nbconvert_exporter": "python",
   "pygments_lexer": "ipython3",
   "version": "3.11.9"
  }
 },
 "nbformat": 4,
 "nbformat_minor": 2
}
