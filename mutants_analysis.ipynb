{
 "cells": [
  {
   "cell_type": "code",
   "execution_count": 254,
   "metadata": {},
   "outputs": [],
   "source": [
    "import plotly.express as px\n",
    "import ast\n",
    "import pandas as pd\n",
    "from rdkit import Chem\n",
    "from rdkit.Chem import AllChem\n",
    "import py3Dmol\n",
    "import os\n",
    "import nglview as nv"
   ]
  },
  {
   "cell_type": "code",
   "execution_count": 197,
   "metadata": {
    "ExecuteTime": {
     "end_time": "2024-11-30T09:55:14.654Z",
     "start_time": "2024-11-30T09:55:12.621698Z"
    }
   },
   "outputs": [],
   "source": [
    "from src.scripts.mutants_analysis import *"
   ]
  },
  {
   "cell_type": "code",
   "execution_count": null,
   "metadata": {},
   "outputs": [],
   "source": [
    "df_mutants = pd.read_csv('../data/mutants.csv')\n",
    "df_merged = pd.read_csv('../data/merged_df.csv')\n",
    "df_mutants['Target Names'] = df_mutants['Target Names'].apply(lambda x: ast.literal_eval(x))\n",
    "df_mutants['BindingDB Target Chain Sequence'] = df_mutants['BindingDB Target Chain Sequence'].apply(lambda x: ast.literal_eval(x))"
   ]
  },
  {
   "cell_type": "code",
   "execution_count": null,
   "metadata": {
    "ExecuteTime": {
     "end_time": "2024-11-30T09:57:56.406398Z",
     "start_time": "2024-11-30T09:55:15.221708Z"
    }
   },
   "outputs": [
    {
     "name": "stdout",
     "output_type": "stream",
     "text": [
      "Pair information succesfully saved\n",
      "---------------------------------------------------------------------------\n"
     ]
    },
    {
     "name": "stderr",
     "output_type": "stream",
     "text": [
      "[12:53:33] Molecule does not have explicit Hs. Consider calling AddHs()\n",
      "[12:53:33] Molecule does not have explicit Hs. Consider calling AddHs()\n"
     ]
    },
    {
     "name": "stdout",
     "output_type": "stream",
     "text": [
      "Pair information succesfully saved\n"
     ]
    },
    {
     "name": "stderr",
     "output_type": "stream",
     "text": [
      "[12:53:55] Molecule does not have explicit Hs. Consider calling AddHs()\n",
      "[12:53:55] Molecule does not have explicit Hs. Consider calling AddHs()\n"
     ]
    },
    {
     "name": "stdout",
     "output_type": "stream",
     "text": [
      "---------------------------------------------------------------------------\n",
      "For this ligand-protein pair there are multiple values of IC50 and we decided to drop this case.\n",
      "This pair will not be saved due to multiple conflicting values in BindingDB\n",
      "---------------------------------------------------------------------------\n",
      "Pair information succesfully saved\n",
      "---------------------------------------------------------------------------\n"
     ]
    },
    {
     "name": "stderr",
     "output_type": "stream",
     "text": [
      "[12:54:19] Molecule does not have explicit Hs. Consider calling AddHs()\n",
      "[12:54:19] Molecule does not have explicit Hs. Consider calling AddHs()\n"
     ]
    },
    {
     "name": "stdout",
     "output_type": "stream",
     "text": [
      "Pair information succesfully saved\n",
      "---------------------------------------------------------------------------\n"
     ]
    },
    {
     "name": "stderr",
     "output_type": "stream",
     "text": [
      "[12:54:27] Molecule does not have explicit Hs. Consider calling AddHs()\n",
      "[12:54:27] Molecule does not have explicit Hs. Consider calling AddHs()\n"
     ]
    },
    {
     "name": "stdout",
     "output_type": "stream",
     "text": [
      "Pair information succesfully saved\n",
      "---------------------------------------------------------------------------\n"
     ]
    },
    {
     "name": "stderr",
     "output_type": "stream",
     "text": [
      "[12:54:35] Molecule does not have explicit Hs. Consider calling AddHs()\n",
      "[12:54:35] Molecule does not have explicit Hs. Consider calling AddHs()\n"
     ]
    },
    {
     "name": "stdout",
     "output_type": "stream",
     "text": [
      "For this ligand-protein pair there are multiple values of IC50 and we decided to drop this case.\n",
      "This pair will not be saved due to multiple conflicting values in BindingDB\n",
      "---------------------------------------------------------------------------\n"
     ]
    }
   ],
   "source": [
    "saving_folder_dfs = \"src/data/pair_dfs\"\n",
    "saving_folder_ligands = \"src/plots/ligands\"\n",
    "\n",
    "for index, row in df_mutants.iterrows():\n",
    "    if len(row['Target Names']) > 10:\n",
    "        df_pair = compute_variation_ic50(row, df_merged)\n",
    "        wt_name = row['WT Target Name']\n",
    "        smiles = row['Ligand SMILES']\n",
    "        name = smiles + '_' + wt_name\n",
    "        if df_pair is None:\n",
    "            print(\"This pair will not be saved due to multiple conflicting values in BindingDB\") \n",
    "        else: \n",
    "            saving_path_df = saving_folder_dfs + '/' + smiles + '_' + '_'.join(wt_name.split(' ')) +'.csv'\n",
    "            df_pair.to_csv(saving_path_df)\n",
    "            print(\"Pair information succesfully saved\")\n",
    "\n",
    "            # Creating and Saving Ligand Representation\n",
    "            mol = Chem.MolFromSmiles(smiles)\n",
    "\n",
    "            # Generate 3D coordinates for the molecule\n",
    "            AllChem.EmbedMolecule(mol, randomSeed=42)\n",
    "            AllChem.MMFFOptimizeMolecule(mol)\n",
    "\n",
    "            # Get 3D coordinates from the RDKit molecule\n",
    "            conf = mol.GetConformer()\n",
    "            coords = [conf.GetAtomPosition(i) for i in range(mol.GetNumAtoms())]\n",
    "\n",
    "            # Prepare the 3Dmol viewer\n",
    "            viewer = py3Dmol.view(width=800, height=600)\n",
    "\n",
    "            # Add the molecule to the viewer using the 3D coordinates\n",
    "            block = Chem.MolToMolBlock(mol)\n",
    "            viewer.addModel(block, 'mol')\n",
    "\n",
    "            # Set style and show the molecule\n",
    "            viewer.setStyle({'stick': {}})\n",
    "            viewer.setBackgroundColor('white')\n",
    "\n",
    "            saving_path_ligand = os.path.join(saving_folder_ligands, smiles)\n",
    "            viewer.write_html(saving_path_ligand + '.html')\n",
    "\n",
    "        print(\"---------------------------------------------------------------------------\")"
   ]
  },
  {
   "cell_type": "code",
   "execution_count": null,
   "metadata": {},
   "outputs": [
    {
     "data": {
      "application/vnd.plotly.v1+json": {
       "config": {
        "plotlyServerURL": "https://plot.ly"
       },
       "data": [
        {
         "customdata": [
          [
           "Glutamic Acid -> Aspartic Acid",
           "cAMP-dependent protein kinase catalytic subunit alpha [E127D]"
          ]
         ],
         "hovertemplate": "<b>%{hovertext}</b><br><br>Mutation Position=%{x}<br>IC50 Difference=%{y}<br>Mutation=%{customdata[0]}<extra></extra>",
         "hovertext": [
          "cAMP-dependent protein kinase catalytic subunit alpha [E127D]"
         ],
         "legendgroup": "cAMP-dependent protein kinase catalytic subunit alpha [E127D]",
         "marker": {
          "color": "#636efa",
          "symbol": "circle"
         },
         "mode": "markers",
         "name": "cAMP-dependent protein kinase catalytic subunit alpha [E127D]",
         "orientation": "v",
         "showlegend": true,
         "type": "scatter",
         "x": [
          127
         ],
         "xaxis": "x",
         "y": [
          99
         ],
         "yaxis": "y"
        },
        {
         "customdata": [
          [
           "Leucine -> Isoleucine",
           "cAMP-dependent protein kinase catalytic subunit alpha [L49I,Q181K,T183A]"
          ],
          [
           "Glutamine -> Lysine",
           "cAMP-dependent protein kinase catalytic subunit alpha [L49I,Q181K,T183A]"
          ],
          [
           "Threonine -> Alanine",
           "cAMP-dependent protein kinase catalytic subunit alpha [L49I,Q181K,T183A]"
          ]
         ],
         "hovertemplate": "<b>%{hovertext}</b><br><br>Mutation Position=%{x}<br>IC50 Difference=%{y}<br>Mutation=%{customdata[0]}<extra></extra>",
         "hovertext": [
          "cAMP-dependent protein kinase catalytic subunit alpha [L49I,Q181K,T183A]",
          "cAMP-dependent protein kinase catalytic subunit alpha [L49I,Q181K,T183A]",
          "cAMP-dependent protein kinase catalytic subunit alpha [L49I,Q181K,T183A]"
         ],
         "legendgroup": "cAMP-dependent protein kinase catalytic subunit alpha [L49I,Q181K,T183A]",
         "marker": {
          "color": "#EF553B",
          "symbol": "circle"
         },
         "mode": "markers",
         "name": "cAMP-dependent protein kinase catalytic subunit alpha [L49I,Q181K,T183A]",
         "orientation": "v",
         "showlegend": true,
         "type": "scatter",
         "x": [
          49,
          181,
          183
         ],
         "xaxis": "x",
         "y": [
          -336,
          -336,
          -336
         ],
         "yaxis": "y"
        },
        {
         "customdata": [
          [
           "Leucine -> Isoleucine",
           "cAMP-dependent protein kinase catalytic subunit alpha [L49I,V123M,E127D,Q181K,T183A]"
          ],
          [
           "Valine -> Methionine",
           "cAMP-dependent protein kinase catalytic subunit alpha [L49I,V123M,E127D,Q181K,T183A]"
          ],
          [
           "Glutamic Acid -> Aspartic Acid",
           "cAMP-dependent protein kinase catalytic subunit alpha [L49I,V123M,E127D,Q181K,T183A]"
          ],
          [
           "Glutamine -> Lysine",
           "cAMP-dependent protein kinase catalytic subunit alpha [L49I,V123M,E127D,Q181K,T183A]"
          ],
          [
           "Threonine -> Alanine",
           "cAMP-dependent protein kinase catalytic subunit alpha [L49I,V123M,E127D,Q181K,T183A]"
          ]
         ],
         "hovertemplate": "<b>%{hovertext}</b><br><br>Mutation Position=%{x}<br>IC50 Difference=%{y}<br>Mutation=%{customdata[0]}<extra></extra>",
         "hovertext": [
          "cAMP-dependent protein kinase catalytic subunit alpha [L49I,V123M,E127D,Q181K,T183A]",
          "cAMP-dependent protein kinase catalytic subunit alpha [L49I,V123M,E127D,Q181K,T183A]",
          "cAMP-dependent protein kinase catalytic subunit alpha [L49I,V123M,E127D,Q181K,T183A]",
          "cAMP-dependent protein kinase catalytic subunit alpha [L49I,V123M,E127D,Q181K,T183A]",
          "cAMP-dependent protein kinase catalytic subunit alpha [L49I,V123M,E127D,Q181K,T183A]"
         ],
         "legendgroup": "cAMP-dependent protein kinase catalytic subunit alpha [L49I,V123M,E127D,Q181K,T183A]",
         "marker": {
          "color": "#00cc96",
          "symbol": "circle"
         },
         "mode": "markers",
         "name": "cAMP-dependent protein kinase catalytic subunit alpha [L49I,V123M,E127D,Q181K,T183A]",
         "orientation": "v",
         "showlegend": true,
         "type": "scatter",
         "x": [
          49,
          123,
          127,
          181,
          183
         ],
         "xaxis": "x",
         "y": [
          -245,
          -245,
          -245,
          -245,
          -245
         ],
         "yaxis": "y"
        },
        {
         "customdata": [
          [
           "Leucine -> Isoleucine",
           "cAMP-dependent protein kinase catalytic subunit alpha [L49I,V123M,Q181K,T183A]"
          ],
          [
           "Valine -> Methionine",
           "cAMP-dependent protein kinase catalytic subunit alpha [L49I,V123M,Q181K,T183A]"
          ],
          [
           "Glutamine -> Lysine",
           "cAMP-dependent protein kinase catalytic subunit alpha [L49I,V123M,Q181K,T183A]"
          ],
          [
           "Threonine -> Alanine",
           "cAMP-dependent protein kinase catalytic subunit alpha [L49I,V123M,Q181K,T183A]"
          ]
         ],
         "hovertemplate": "<b>%{hovertext}</b><br><br>Mutation Position=%{x}<br>IC50 Difference=%{y}<br>Mutation=%{customdata[0]}<extra></extra>",
         "hovertext": [
          "cAMP-dependent protein kinase catalytic subunit alpha [L49I,V123M,Q181K,T183A]",
          "cAMP-dependent protein kinase catalytic subunit alpha [L49I,V123M,Q181K,T183A]",
          "cAMP-dependent protein kinase catalytic subunit alpha [L49I,V123M,Q181K,T183A]",
          "cAMP-dependent protein kinase catalytic subunit alpha [L49I,V123M,Q181K,T183A]"
         ],
         "legendgroup": "cAMP-dependent protein kinase catalytic subunit alpha [L49I,V123M,Q181K,T183A]",
         "marker": {
          "color": "#ab63fa",
          "symbol": "circle"
         },
         "mode": "markers",
         "name": "cAMP-dependent protein kinase catalytic subunit alpha [L49I,V123M,Q181K,T183A]",
         "orientation": "v",
         "showlegend": true,
         "type": "scatter",
         "x": [
          49,
          123,
          181,
          183
         ],
         "xaxis": "x",
         "y": [
          -305,
          -305,
          -305,
          -305
         ],
         "yaxis": "y"
        },
        {
         "customdata": [
          [
           "Leucine -> Isoleucine",
           "cAMP-dependent protein kinase catalytic subunit alpha [L49I]"
          ]
         ],
         "hovertemplate": "<b>%{hovertext}</b><br><br>Mutation Position=%{x}<br>IC50 Difference=%{y}<br>Mutation=%{customdata[0]}<extra></extra>",
         "hovertext": [
          "cAMP-dependent protein kinase catalytic subunit alpha [L49I]"
         ],
         "legendgroup": "cAMP-dependent protein kinase catalytic subunit alpha [L49I]",
         "marker": {
          "color": "#FFA15A",
          "symbol": "circle"
         },
         "mode": "markers",
         "name": "cAMP-dependent protein kinase catalytic subunit alpha [L49I]",
         "orientation": "v",
         "showlegend": true,
         "type": "scatter",
         "x": [
          49
         ],
         "xaxis": "x",
         "y": [
          32
         ],
         "yaxis": "y"
        },
        {
         "customdata": [
          [
           "Glutamine -> Lysine",
           "cAMP-dependent protein kinase catalytic subunit alpha [Q181K,T183A]"
          ],
          [
           "Threonine -> Alanine",
           "cAMP-dependent protein kinase catalytic subunit alpha [Q181K,T183A]"
          ]
         ],
         "hovertemplate": "<b>%{hovertext}</b><br><br>Mutation Position=%{x}<br>IC50 Difference=%{y}<br>Mutation=%{customdata[0]}<extra></extra>",
         "hovertext": [
          "cAMP-dependent protein kinase catalytic subunit alpha [Q181K,T183A]",
          "cAMP-dependent protein kinase catalytic subunit alpha [Q181K,T183A]"
         ],
         "legendgroup": "cAMP-dependent protein kinase catalytic subunit alpha [Q181K,T183A]",
         "marker": {
          "color": "#19d3f3",
          "symbol": "circle"
         },
         "mode": "markers",
         "name": "cAMP-dependent protein kinase catalytic subunit alpha [Q181K,T183A]",
         "orientation": "v",
         "showlegend": true,
         "type": "scatter",
         "x": [
          181,
          183
         ],
         "xaxis": "x",
         "y": [
          -285,
          -285
         ],
         "yaxis": "y"
        },
        {
         "customdata": [
          [
           "Threonine -> Alanine",
           "cAMP-dependent protein kinase catalytic subunit alpha [T183A]"
          ]
         ],
         "hovertemplate": "<b>%{hovertext}</b><br><br>Mutation Position=%{x}<br>IC50 Difference=%{y}<br>Mutation=%{customdata[0]}<extra></extra>",
         "hovertext": [
          "cAMP-dependent protein kinase catalytic subunit alpha [T183A]"
         ],
         "legendgroup": "cAMP-dependent protein kinase catalytic subunit alpha [T183A]",
         "marker": {
          "color": "#FF6692",
          "symbol": "circle"
         },
         "mode": "markers",
         "name": "cAMP-dependent protein kinase catalytic subunit alpha [T183A]",
         "orientation": "v",
         "showlegend": true,
         "type": "scatter",
         "x": [
          183
         ],
         "xaxis": "x",
         "y": [
          -285
         ],
         "yaxis": "y"
        },
        {
         "customdata": [
          [
           "Valine -> Methionine",
           "cAMP-dependent protein kinase catalytic subunit alpha [V123M,Q181K,T183A]"
          ],
          [
           "Glutamine -> Lysine",
           "cAMP-dependent protein kinase catalytic subunit alpha [V123M,Q181K,T183A]"
          ],
          [
           "Threonine -> Alanine",
           "cAMP-dependent protein kinase catalytic subunit alpha [V123M,Q181K,T183A]"
          ]
         ],
         "hovertemplate": "<b>%{hovertext}</b><br><br>Mutation Position=%{x}<br>IC50 Difference=%{y}<br>Mutation=%{customdata[0]}<extra></extra>",
         "hovertext": [
          "cAMP-dependent protein kinase catalytic subunit alpha [V123M,Q181K,T183A]",
          "cAMP-dependent protein kinase catalytic subunit alpha [V123M,Q181K,T183A]",
          "cAMP-dependent protein kinase catalytic subunit alpha [V123M,Q181K,T183A]"
         ],
         "legendgroup": "cAMP-dependent protein kinase catalytic subunit alpha [V123M,Q181K,T183A]",
         "marker": {
          "color": "#B6E880",
          "symbol": "circle"
         },
         "mode": "markers",
         "name": "cAMP-dependent protein kinase catalytic subunit alpha [V123M,Q181K,T183A]",
         "orientation": "v",
         "showlegend": true,
         "type": "scatter",
         "x": [
          123,
          181,
          183
         ],
         "xaxis": "x",
         "y": [
          -171,
          -171,
          -171
         ],
         "yaxis": "y"
        },
        {
         "customdata": [
          [
           "Valine -> Methionine",
           "cAMP-dependent protein kinase catalytic subunit alpha [V123M,T183A]"
          ],
          [
           "Threonine -> Alanine",
           "cAMP-dependent protein kinase catalytic subunit alpha [V123M,T183A]"
          ]
         ],
         "hovertemplate": "<b>%{hovertext}</b><br><br>Mutation Position=%{x}<br>IC50 Difference=%{y}<br>Mutation=%{customdata[0]}<extra></extra>",
         "hovertext": [
          "cAMP-dependent protein kinase catalytic subunit alpha [V123M,T183A]",
          "cAMP-dependent protein kinase catalytic subunit alpha [V123M,T183A]"
         ],
         "legendgroup": "cAMP-dependent protein kinase catalytic subunit alpha [V123M,T183A]",
         "marker": {
          "color": "#FF97FF",
          "symbol": "circle"
         },
         "mode": "markers",
         "name": "cAMP-dependent protein kinase catalytic subunit alpha [V123M,T183A]",
         "orientation": "v",
         "showlegend": true,
         "type": "scatter",
         "x": [
          123,
          183
         ],
         "xaxis": "x",
         "y": [
          -101,
          -101
         ],
         "yaxis": "y"
        },
        {
         "customdata": [
          [
           "Valine -> Methionine",
           "cAMP-dependent protein kinase catalytic subunit alpha [V123M]"
          ]
         ],
         "hovertemplate": "<b>%{hovertext}</b><br><br>Mutation Position=%{x}<br>IC50 Difference=%{y}<br>Mutation=%{customdata[0]}<extra></extra>",
         "hovertext": [
          "cAMP-dependent protein kinase catalytic subunit alpha [V123M]"
         ],
         "legendgroup": "cAMP-dependent protein kinase catalytic subunit alpha [V123M]",
         "marker": {
          "color": "#FECB52",
          "symbol": "circle"
         },
         "mode": "markers",
         "name": "cAMP-dependent protein kinase catalytic subunit alpha [V123M]",
         "orientation": "v",
         "showlegend": true,
         "type": "scatter",
         "x": [
          123
         ],
         "xaxis": "x",
         "y": [
          1123
         ],
         "yaxis": "y"
        }
       ],
       "layout": {
        "hovermode": "closest",
        "legend": {
         "title": {
          "text": "Mutant Name"
         },
         "tracegroupgap": 0
        },
        "template": {
         "data": {
          "bar": [
           {
            "error_x": {
             "color": "#f2f5fa"
            },
            "error_y": {
             "color": "#f2f5fa"
            },
            "marker": {
             "line": {
              "color": "rgb(17,17,17)",
              "width": 0.5
             },
             "pattern": {
              "fillmode": "overlay",
              "size": 10,
              "solidity": 0.2
             }
            },
            "type": "bar"
           }
          ],
          "barpolar": [
           {
            "marker": {
             "line": {
              "color": "rgb(17,17,17)",
              "width": 0.5
             },
             "pattern": {
              "fillmode": "overlay",
              "size": 10,
              "solidity": 0.2
             }
            },
            "type": "barpolar"
           }
          ],
          "carpet": [
           {
            "aaxis": {
             "endlinecolor": "#A2B1C6",
             "gridcolor": "#506784",
             "linecolor": "#506784",
             "minorgridcolor": "#506784",
             "startlinecolor": "#A2B1C6"
            },
            "baxis": {
             "endlinecolor": "#A2B1C6",
             "gridcolor": "#506784",
             "linecolor": "#506784",
             "minorgridcolor": "#506784",
             "startlinecolor": "#A2B1C6"
            },
            "type": "carpet"
           }
          ],
          "choropleth": [
           {
            "colorbar": {
             "outlinewidth": 0,
             "ticks": ""
            },
            "type": "choropleth"
           }
          ],
          "contour": [
           {
            "colorbar": {
             "outlinewidth": 0,
             "ticks": ""
            },
            "colorscale": [
             [
              0,
              "#0d0887"
             ],
             [
              0.1111111111111111,
              "#46039f"
             ],
             [
              0.2222222222222222,
              "#7201a8"
             ],
             [
              0.3333333333333333,
              "#9c179e"
             ],
             [
              0.4444444444444444,
              "#bd3786"
             ],
             [
              0.5555555555555556,
              "#d8576b"
             ],
             [
              0.6666666666666666,
              "#ed7953"
             ],
             [
              0.7777777777777778,
              "#fb9f3a"
             ],
             [
              0.8888888888888888,
              "#fdca26"
             ],
             [
              1,
              "#f0f921"
             ]
            ],
            "type": "contour"
           }
          ],
          "contourcarpet": [
           {
            "colorbar": {
             "outlinewidth": 0,
             "ticks": ""
            },
            "type": "contourcarpet"
           }
          ],
          "heatmap": [
           {
            "colorbar": {
             "outlinewidth": 0,
             "ticks": ""
            },
            "colorscale": [
             [
              0,
              "#0d0887"
             ],
             [
              0.1111111111111111,
              "#46039f"
             ],
             [
              0.2222222222222222,
              "#7201a8"
             ],
             [
              0.3333333333333333,
              "#9c179e"
             ],
             [
              0.4444444444444444,
              "#bd3786"
             ],
             [
              0.5555555555555556,
              "#d8576b"
             ],
             [
              0.6666666666666666,
              "#ed7953"
             ],
             [
              0.7777777777777778,
              "#fb9f3a"
             ],
             [
              0.8888888888888888,
              "#fdca26"
             ],
             [
              1,
              "#f0f921"
             ]
            ],
            "type": "heatmap"
           }
          ],
          "heatmapgl": [
           {
            "colorbar": {
             "outlinewidth": 0,
             "ticks": ""
            },
            "colorscale": [
             [
              0,
              "#0d0887"
             ],
             [
              0.1111111111111111,
              "#46039f"
             ],
             [
              0.2222222222222222,
              "#7201a8"
             ],
             [
              0.3333333333333333,
              "#9c179e"
             ],
             [
              0.4444444444444444,
              "#bd3786"
             ],
             [
              0.5555555555555556,
              "#d8576b"
             ],
             [
              0.6666666666666666,
              "#ed7953"
             ],
             [
              0.7777777777777778,
              "#fb9f3a"
             ],
             [
              0.8888888888888888,
              "#fdca26"
             ],
             [
              1,
              "#f0f921"
             ]
            ],
            "type": "heatmapgl"
           }
          ],
          "histogram": [
           {
            "marker": {
             "pattern": {
              "fillmode": "overlay",
              "size": 10,
              "solidity": 0.2
             }
            },
            "type": "histogram"
           }
          ],
          "histogram2d": [
           {
            "colorbar": {
             "outlinewidth": 0,
             "ticks": ""
            },
            "colorscale": [
             [
              0,
              "#0d0887"
             ],
             [
              0.1111111111111111,
              "#46039f"
             ],
             [
              0.2222222222222222,
              "#7201a8"
             ],
             [
              0.3333333333333333,
              "#9c179e"
             ],
             [
              0.4444444444444444,
              "#bd3786"
             ],
             [
              0.5555555555555556,
              "#d8576b"
             ],
             [
              0.6666666666666666,
              "#ed7953"
             ],
             [
              0.7777777777777778,
              "#fb9f3a"
             ],
             [
              0.8888888888888888,
              "#fdca26"
             ],
             [
              1,
              "#f0f921"
             ]
            ],
            "type": "histogram2d"
           }
          ],
          "histogram2dcontour": [
           {
            "colorbar": {
             "outlinewidth": 0,
             "ticks": ""
            },
            "colorscale": [
             [
              0,
              "#0d0887"
             ],
             [
              0.1111111111111111,
              "#46039f"
             ],
             [
              0.2222222222222222,
              "#7201a8"
             ],
             [
              0.3333333333333333,
              "#9c179e"
             ],
             [
              0.4444444444444444,
              "#bd3786"
             ],
             [
              0.5555555555555556,
              "#d8576b"
             ],
             [
              0.6666666666666666,
              "#ed7953"
             ],
             [
              0.7777777777777778,
              "#fb9f3a"
             ],
             [
              0.8888888888888888,
              "#fdca26"
             ],
             [
              1,
              "#f0f921"
             ]
            ],
            "type": "histogram2dcontour"
           }
          ],
          "mesh3d": [
           {
            "colorbar": {
             "outlinewidth": 0,
             "ticks": ""
            },
            "type": "mesh3d"
           }
          ],
          "parcoords": [
           {
            "line": {
             "colorbar": {
              "outlinewidth": 0,
              "ticks": ""
             }
            },
            "type": "parcoords"
           }
          ],
          "pie": [
           {
            "automargin": true,
            "type": "pie"
           }
          ],
          "scatter": [
           {
            "marker": {
             "line": {
              "color": "#283442"
             }
            },
            "type": "scatter"
           }
          ],
          "scatter3d": [
           {
            "line": {
             "colorbar": {
              "outlinewidth": 0,
              "ticks": ""
             }
            },
            "marker": {
             "colorbar": {
              "outlinewidth": 0,
              "ticks": ""
             }
            },
            "type": "scatter3d"
           }
          ],
          "scattercarpet": [
           {
            "marker": {
             "colorbar": {
              "outlinewidth": 0,
              "ticks": ""
             }
            },
            "type": "scattercarpet"
           }
          ],
          "scattergeo": [
           {
            "marker": {
             "colorbar": {
              "outlinewidth": 0,
              "ticks": ""
             }
            },
            "type": "scattergeo"
           }
          ],
          "scattergl": [
           {
            "marker": {
             "line": {
              "color": "#283442"
             }
            },
            "type": "scattergl"
           }
          ],
          "scattermapbox": [
           {
            "marker": {
             "colorbar": {
              "outlinewidth": 0,
              "ticks": ""
             }
            },
            "type": "scattermapbox"
           }
          ],
          "scatterpolar": [
           {
            "marker": {
             "colorbar": {
              "outlinewidth": 0,
              "ticks": ""
             }
            },
            "type": "scatterpolar"
           }
          ],
          "scatterpolargl": [
           {
            "marker": {
             "colorbar": {
              "outlinewidth": 0,
              "ticks": ""
             }
            },
            "type": "scatterpolargl"
           }
          ],
          "scatterternary": [
           {
            "marker": {
             "colorbar": {
              "outlinewidth": 0,
              "ticks": ""
             }
            },
            "type": "scatterternary"
           }
          ],
          "surface": [
           {
            "colorbar": {
             "outlinewidth": 0,
             "ticks": ""
            },
            "colorscale": [
             [
              0,
              "#0d0887"
             ],
             [
              0.1111111111111111,
              "#46039f"
             ],
             [
              0.2222222222222222,
              "#7201a8"
             ],
             [
              0.3333333333333333,
              "#9c179e"
             ],
             [
              0.4444444444444444,
              "#bd3786"
             ],
             [
              0.5555555555555556,
              "#d8576b"
             ],
             [
              0.6666666666666666,
              "#ed7953"
             ],
             [
              0.7777777777777778,
              "#fb9f3a"
             ],
             [
              0.8888888888888888,
              "#fdca26"
             ],
             [
              1,
              "#f0f921"
             ]
            ],
            "type": "surface"
           }
          ],
          "table": [
           {
            "cells": {
             "fill": {
              "color": "#506784"
             },
             "line": {
              "color": "rgb(17,17,17)"
             }
            },
            "header": {
             "fill": {
              "color": "#2a3f5f"
             },
             "line": {
              "color": "rgb(17,17,17)"
             }
            },
            "type": "table"
           }
          ]
         },
         "layout": {
          "annotationdefaults": {
           "arrowcolor": "#f2f5fa",
           "arrowhead": 0,
           "arrowwidth": 1
          },
          "autotypenumbers": "strict",
          "coloraxis": {
           "colorbar": {
            "outlinewidth": 0,
            "ticks": ""
           }
          },
          "colorscale": {
           "diverging": [
            [
             0,
             "#8e0152"
            ],
            [
             0.1,
             "#c51b7d"
            ],
            [
             0.2,
             "#de77ae"
            ],
            [
             0.3,
             "#f1b6da"
            ],
            [
             0.4,
             "#fde0ef"
            ],
            [
             0.5,
             "#f7f7f7"
            ],
            [
             0.6,
             "#e6f5d0"
            ],
            [
             0.7,
             "#b8e186"
            ],
            [
             0.8,
             "#7fbc41"
            ],
            [
             0.9,
             "#4d9221"
            ],
            [
             1,
             "#276419"
            ]
           ],
           "sequential": [
            [
             0,
             "#0d0887"
            ],
            [
             0.1111111111111111,
             "#46039f"
            ],
            [
             0.2222222222222222,
             "#7201a8"
            ],
            [
             0.3333333333333333,
             "#9c179e"
            ],
            [
             0.4444444444444444,
             "#bd3786"
            ],
            [
             0.5555555555555556,
             "#d8576b"
            ],
            [
             0.6666666666666666,
             "#ed7953"
            ],
            [
             0.7777777777777778,
             "#fb9f3a"
            ],
            [
             0.8888888888888888,
             "#fdca26"
            ],
            [
             1,
             "#f0f921"
            ]
           ],
           "sequentialminus": [
            [
             0,
             "#0d0887"
            ],
            [
             0.1111111111111111,
             "#46039f"
            ],
            [
             0.2222222222222222,
             "#7201a8"
            ],
            [
             0.3333333333333333,
             "#9c179e"
            ],
            [
             0.4444444444444444,
             "#bd3786"
            ],
            [
             0.5555555555555556,
             "#d8576b"
            ],
            [
             0.6666666666666666,
             "#ed7953"
            ],
            [
             0.7777777777777778,
             "#fb9f3a"
            ],
            [
             0.8888888888888888,
             "#fdca26"
            ],
            [
             1,
             "#f0f921"
            ]
           ]
          },
          "colorway": [
           "#636efa",
           "#EF553B",
           "#00cc96",
           "#ab63fa",
           "#FFA15A",
           "#19d3f3",
           "#FF6692",
           "#B6E880",
           "#FF97FF",
           "#FECB52"
          ],
          "font": {
           "color": "#f2f5fa"
          },
          "geo": {
           "bgcolor": "rgb(17,17,17)",
           "lakecolor": "rgb(17,17,17)",
           "landcolor": "rgb(17,17,17)",
           "showlakes": true,
           "showland": true,
           "subunitcolor": "#506784"
          },
          "hoverlabel": {
           "align": "left"
          },
          "hovermode": "closest",
          "mapbox": {
           "style": "dark"
          },
          "paper_bgcolor": "rgb(17,17,17)",
          "plot_bgcolor": "rgb(17,17,17)",
          "polar": {
           "angularaxis": {
            "gridcolor": "#506784",
            "linecolor": "#506784",
            "ticks": ""
           },
           "bgcolor": "rgb(17,17,17)",
           "radialaxis": {
            "gridcolor": "#506784",
            "linecolor": "#506784",
            "ticks": ""
           }
          },
          "scene": {
           "xaxis": {
            "backgroundcolor": "rgb(17,17,17)",
            "gridcolor": "#506784",
            "gridwidth": 2,
            "linecolor": "#506784",
            "showbackground": true,
            "ticks": "",
            "zerolinecolor": "#C8D4E3"
           },
           "yaxis": {
            "backgroundcolor": "rgb(17,17,17)",
            "gridcolor": "#506784",
            "gridwidth": 2,
            "linecolor": "#506784",
            "showbackground": true,
            "ticks": "",
            "zerolinecolor": "#C8D4E3"
           },
           "zaxis": {
            "backgroundcolor": "rgb(17,17,17)",
            "gridcolor": "#506784",
            "gridwidth": 2,
            "linecolor": "#506784",
            "showbackground": true,
            "ticks": "",
            "zerolinecolor": "#C8D4E3"
           }
          },
          "shapedefaults": {
           "line": {
            "color": "#f2f5fa"
           }
          },
          "sliderdefaults": {
           "bgcolor": "#C8D4E3",
           "bordercolor": "rgb(17,17,17)",
           "borderwidth": 1,
           "tickwidth": 0
          },
          "ternary": {
           "aaxis": {
            "gridcolor": "#506784",
            "linecolor": "#506784",
            "ticks": ""
           },
           "baxis": {
            "gridcolor": "#506784",
            "linecolor": "#506784",
            "ticks": ""
           },
           "bgcolor": "rgb(17,17,17)",
           "caxis": {
            "gridcolor": "#506784",
            "linecolor": "#506784",
            "ticks": ""
           }
          },
          "title": {
           "x": 0.05
          },
          "updatemenudefaults": {
           "bgcolor": "#506784",
           "borderwidth": 0
          },
          "xaxis": {
           "automargin": true,
           "gridcolor": "#283442",
           "linecolor": "#506784",
           "ticks": "",
           "title": {
            "standoff": 15
           },
           "zerolinecolor": "#283442",
           "zerolinewidth": 2
          },
          "yaxis": {
           "automargin": true,
           "gridcolor": "#283442",
           "linecolor": "#506784",
           "ticks": "",
           "title": {
            "standoff": 15
           },
           "zerolinecolor": "#283442",
           "zerolinewidth": 2
          }
         }
        },
        "title": {
         "text": "IC50 Differences of Mutants by Position"
        },
        "xaxis": {
         "anchor": "y",
         "domain": [
          0,
          1
         ],
         "title": {
          "text": "Mutation Position"
         }
        },
        "yaxis": {
         "anchor": "x",
         "domain": [
          0,
          1
         ],
         "title": {
          "text": "IC50 Difference"
         }
        }
       }
      }
     },
     "metadata": {},
     "output_type": "display_data"
    },
    {
     "data": {
      "application/vnd.plotly.v1+json": {
       "config": {
        "plotlyServerURL": "https://plot.ly"
       },
       "data": [
        {
         "customdata": [
          [
           "Deletion",
           "Epidermal growth factor receptor [1-18,20-1210,C797S]"
          ],
          [
           "Cysteine -> Serine",
           "Epidermal growth factor receptor [1-18,20-1210,C797S]"
          ]
         ],
         "hovertemplate": "<b>%{hovertext}</b><br><br>Mutation Position=%{x}<br>IC50 Difference=%{y}<br>Mutation=%{customdata[0]}<extra></extra>",
         "hovertext": [
          "Epidermal growth factor receptor [1-18,20-1210,C797S]",
          "Epidermal growth factor receptor [1-18,20-1210,C797S]"
         ],
         "legendgroup": "Epidermal growth factor receptor [1-18,20-1210,C797S]",
         "marker": {
          "color": "#636efa",
          "symbol": "circle"
         },
         "mode": "markers",
         "name": "Epidermal growth factor receptor [1-18,20-1210,C797S]",
         "orientation": "v",
         "showlegend": true,
         "type": "scatter",
         "x": [
          18,
          796
         ],
         "xaxis": "x",
         "y": [
          -19,
          -19
         ],
         "yaxis": "y"
        },
        {
         "customdata": [
          [
           "Deletion",
           "Epidermal growth factor receptor [1-18,20-1210,T790M,C797S]"
          ],
          [
           "Threonine -> Methionine",
           "Epidermal growth factor receptor [1-18,20-1210,T790M,C797S]"
          ],
          [
           "Cysteine -> Serine",
           "Epidermal growth factor receptor [1-18,20-1210,T790M,C797S]"
          ]
         ],
         "hovertemplate": "<b>%{hovertext}</b><br><br>Mutation Position=%{x}<br>IC50 Difference=%{y}<br>Mutation=%{customdata[0]}<extra></extra>",
         "hovertext": [
          "Epidermal growth factor receptor [1-18,20-1210,T790M,C797S]",
          "Epidermal growth factor receptor [1-18,20-1210,T790M,C797S]",
          "Epidermal growth factor receptor [1-18,20-1210,T790M,C797S]"
         ],
         "legendgroup": "Epidermal growth factor receptor [1-18,20-1210,T790M,C797S]",
         "marker": {
          "color": "#EF553B",
          "symbol": "circle"
         },
         "mode": "markers",
         "name": "Epidermal growth factor receptor [1-18,20-1210,T790M,C797S]",
         "orientation": "v",
         "showlegend": true,
         "type": "scatter",
         "x": [
          18,
          789,
          796
         ],
         "xaxis": "x",
         "y": [
          2069.5,
          2069.5,
          2069.5
         ],
         "yaxis": "y"
        },
        {
         "customdata": [
          [
           "Deletion",
           "Epidermal growth factor receptor [1-18,20-1210,T790M]"
          ],
          [
           "Deletion",
           "Epidermal growth factor receptor [1-18,20-1210,T790M]"
          ],
          [
           "Deletion",
           "Epidermal growth factor receptor [1-18,20-1210,T790M]"
          ],
          [
           "Deletion",
           "Epidermal growth factor receptor [1-18,20-1210,T790M]"
          ],
          [
           "Deletion",
           "Epidermal growth factor receptor [1-18,20-1210,T790M]"
          ],
          [
           "Deletion",
           "Epidermal growth factor receptor [1-18,20-1210,T790M]"
          ],
          [
           "Deletion",
           "Epidermal growth factor receptor [1-18,20-1210,T790M]"
          ],
          [
           "Deletion",
           "Epidermal growth factor receptor [1-18,20-1210,T790M]"
          ],
          [
           "Deletion",
           "Epidermal growth factor receptor [1-18,20-1210,T790M]"
          ],
          [
           "Deletion",
           "Epidermal growth factor receptor [1-18,20-1210,T790M]"
          ],
          [
           "Deletion",
           "Epidermal growth factor receptor [1-18,20-1210,T790M]"
          ],
          [
           "Deletion",
           "Epidermal growth factor receptor [1-18,20-1210,T790M]"
          ],
          [
           "Deletion",
           "Epidermal growth factor receptor [1-18,20-1210,T790M]"
          ],
          [
           "Deletion",
           "Epidermal growth factor receptor [1-18,20-1210,T790M]"
          ],
          [
           "Deletion",
           "Epidermal growth factor receptor [1-18,20-1210,T790M]"
          ],
          [
           "Deletion",
           "Epidermal growth factor receptor [1-18,20-1210,T790M]"
          ],
          [
           "Threonine -> Methionine",
           "Epidermal growth factor receptor [1-18,20-1210,T790M]"
          ]
         ],
         "hovertemplate": "<b>%{hovertext}</b><br><br>Mutation Position=%{x}<br>IC50 Difference=%{y}<br>Mutation=%{customdata[0]}<extra></extra>",
         "hovertext": [
          "Epidermal growth factor receptor [1-18,20-1210,T790M]",
          "Epidermal growth factor receptor [1-18,20-1210,T790M]",
          "Epidermal growth factor receptor [1-18,20-1210,T790M]",
          "Epidermal growth factor receptor [1-18,20-1210,T790M]",
          "Epidermal growth factor receptor [1-18,20-1210,T790M]",
          "Epidermal growth factor receptor [1-18,20-1210,T790M]",
          "Epidermal growth factor receptor [1-18,20-1210,T790M]",
          "Epidermal growth factor receptor [1-18,20-1210,T790M]",
          "Epidermal growth factor receptor [1-18,20-1210,T790M]",
          "Epidermal growth factor receptor [1-18,20-1210,T790M]",
          "Epidermal growth factor receptor [1-18,20-1210,T790M]",
          "Epidermal growth factor receptor [1-18,20-1210,T790M]",
          "Epidermal growth factor receptor [1-18,20-1210,T790M]",
          "Epidermal growth factor receptor [1-18,20-1210,T790M]",
          "Epidermal growth factor receptor [1-18,20-1210,T790M]",
          "Epidermal growth factor receptor [1-18,20-1210,T790M]",
          "Epidermal growth factor receptor [1-18,20-1210,T790M]"
         ],
         "legendgroup": "Epidermal growth factor receptor [1-18,20-1210,T790M]",
         "marker": {
          "color": "#00cc96",
          "symbol": "circle"
         },
         "mode": "markers",
         "name": "Epidermal growth factor receptor [1-18,20-1210,T790M]",
         "orientation": "v",
         "showlegend": true,
         "type": "scatter",
         "x": [
          18,
          500,
          501,
          502,
          503,
          504,
          505,
          506,
          507,
          508,
          509,
          510,
          511,
          512,
          513,
          514,
          804
         ],
         "xaxis": "x",
         "y": [
          831.5,
          831.5,
          831.5,
          831.5,
          831.5,
          831.5,
          831.5,
          831.5,
          831.5,
          831.5,
          831.5,
          831.5,
          831.5,
          831.5,
          831.5,
          831.5,
          831.5
         ],
         "yaxis": "y"
        },
        {
         "customdata": [
          [
           "Deletion",
           "Epidermal growth factor receptor [1-18,20-1210]"
          ]
         ],
         "hovertemplate": "<b>%{hovertext}</b><br><br>Mutation Position=%{x}<br>IC50 Difference=%{y}<br>Mutation=%{customdata[0]}<extra></extra>",
         "hovertext": [
          "Epidermal growth factor receptor [1-18,20-1210]"
         ],
         "legendgroup": "Epidermal growth factor receptor [1-18,20-1210]",
         "marker": {
          "color": "#ab63fa",
          "symbol": "circle"
         },
         "mode": "markers",
         "name": "Epidermal growth factor receptor [1-18,20-1210]",
         "orientation": "v",
         "showlegend": true,
         "type": "scatter",
         "x": [
          18
         ],
         "xaxis": "x",
         "y": [
          -19.7
         ],
         "yaxis": "y"
        },
        {
         "customdata": [
          [
           "Deletion",
           "Epidermal growth factor receptor [1-746,750-1210,A750P]"
          ],
          [
           "Deletion",
           "Epidermal growth factor receptor [1-746,750-1210,A750P]"
          ],
          [
           "Deletion",
           "Epidermal growth factor receptor [1-746,750-1210,A750P]"
          ],
          [
           "Alanine -> Proline",
           "Epidermal growth factor receptor [1-746,750-1210,A750P]"
          ]
         ],
         "hovertemplate": "<b>%{hovertext}</b><br><br>Mutation Position=%{x}<br>IC50 Difference=%{y}<br>Mutation=%{customdata[0]}<extra></extra>",
         "hovertext": [
          "Epidermal growth factor receptor [1-746,750-1210,A750P]",
          "Epidermal growth factor receptor [1-746,750-1210,A750P]",
          "Epidermal growth factor receptor [1-746,750-1210,A750P]",
          "Epidermal growth factor receptor [1-746,750-1210,A750P]"
         ],
         "legendgroup": "Epidermal growth factor receptor [1-746,750-1210,A750P]",
         "marker": {
          "color": "#FFA15A",
          "symbol": "circle"
         },
         "mode": "markers",
         "name": "Epidermal growth factor receptor [1-746,750-1210,A750P]",
         "orientation": "v",
         "showlegend": true,
         "type": "scatter",
         "x": [
          745,
          746,
          747,
          749
         ],
         "xaxis": "x",
         "y": [
          -18.4,
          -18.4,
          -18.4,
          -18.4
         ],
         "yaxis": "y"
        },
        {
         "customdata": [
          [
           "Deletion",
           "Epidermal growth factor receptor [1-746,753-1210,P753S]"
          ],
          [
           "Deletion",
           "Epidermal growth factor receptor [1-746,753-1210,P753S]"
          ],
          [
           "Deletion",
           "Epidermal growth factor receptor [1-746,753-1210,P753S]"
          ],
          [
           "Deletion",
           "Epidermal growth factor receptor [1-746,753-1210,P753S]"
          ],
          [
           "Deletion",
           "Epidermal growth factor receptor [1-746,753-1210,P753S]"
          ],
          [
           "Deletion",
           "Epidermal growth factor receptor [1-746,753-1210,P753S]"
          ]
         ],
         "hovertemplate": "<b>%{hovertext}</b><br><br>Mutation Position=%{x}<br>IC50 Difference=%{y}<br>Mutation=%{customdata[0]}<extra></extra>",
         "hovertext": [
          "Epidermal growth factor receptor [1-746,753-1210,P753S]",
          "Epidermal growth factor receptor [1-746,753-1210,P753S]",
          "Epidermal growth factor receptor [1-746,753-1210,P753S]",
          "Epidermal growth factor receptor [1-746,753-1210,P753S]",
          "Epidermal growth factor receptor [1-746,753-1210,P753S]",
          "Epidermal growth factor receptor [1-746,753-1210,P753S]"
         ],
         "legendgroup": "Epidermal growth factor receptor [1-746,753-1210,P753S]",
         "marker": {
          "color": "#19d3f3",
          "symbol": "circle"
         },
         "mode": "markers",
         "name": "Epidermal growth factor receptor [1-746,753-1210,P753S]",
         "orientation": "v",
         "showlegend": true,
         "type": "scatter",
         "x": [
          746,
          747,
          748,
          749,
          750,
          752
         ],
         "xaxis": "x",
         "y": [
          -19.3,
          -19.3,
          -19.3,
          -19.3,
          -19.3,
          -19.3
         ],
         "yaxis": "y"
        },
        {
         "customdata": [
          [
           "Deletion",
           "Epidermal growth factor receptor [1-751,75360-1210]"
          ],
          [
           "Deletion",
           "Epidermal growth factor receptor [1-751,75360-1210]"
          ],
          [
           "Deletion",
           "Epidermal growth factor receptor [1-751,75360-1210]"
          ],
          [
           "Deletion",
           "Epidermal growth factor receptor [1-751,75360-1210]"
          ],
          [
           "Deletion",
           "Epidermal growth factor receptor [1-751,75360-1210]"
          ],
          [
           "Deletion",
           "Epidermal growth factor receptor [1-751,75360-1210]"
          ],
          [
           "Deletion",
           "Epidermal growth factor receptor [1-751,75360-1210]"
          ],
          [
           "Deletion",
           "Epidermal growth factor receptor [1-751,75360-1210]"
          ]
         ],
         "hovertemplate": "<b>%{hovertext}</b><br><br>Mutation Position=%{x}<br>IC50 Difference=%{y}<br>Mutation=%{customdata[0]}<extra></extra>",
         "hovertext": [
          "Epidermal growth factor receptor [1-751,75360-1210]",
          "Epidermal growth factor receptor [1-751,75360-1210]",
          "Epidermal growth factor receptor [1-751,75360-1210]",
          "Epidermal growth factor receptor [1-751,75360-1210]",
          "Epidermal growth factor receptor [1-751,75360-1210]",
          "Epidermal growth factor receptor [1-751,75360-1210]",
          "Epidermal growth factor receptor [1-751,75360-1210]",
          "Epidermal growth factor receptor [1-751,75360-1210]"
         ],
         "legendgroup": "Epidermal growth factor receptor [1-751,75360-1210]",
         "marker": {
          "color": "#FF6692",
          "symbol": "circle"
         },
         "mode": "markers",
         "name": "Epidermal growth factor receptor [1-751,75360-1210]",
         "orientation": "v",
         "showlegend": true,
         "type": "scatter",
         "x": [
          751,
          752,
          753,
          754,
          755,
          756,
          757,
          758
         ],
         "xaxis": "x",
         "y": [
          -19.4,
          -19.4,
          -19.4,
          -19.4,
          -19.4,
          -19.4,
          -19.4,
          -19.4
         ],
         "yaxis": "y"
        },
        {
         "customdata": [
          [
           "Deletion",
           "Epidermal growth factor receptor [1-973]"
          ],
          [
           "Deletion",
           "Epidermal growth factor receptor [1-973]"
          ],
          [
           "Deletion",
           "Epidermal growth factor receptor [1-973]"
          ],
          [
           "Deletion",
           "Epidermal growth factor receptor [1-973]"
          ],
          [
           "Deletion",
           "Epidermal growth factor receptor [1-973]"
          ],
          [
           "Deletion",
           "Epidermal growth factor receptor [1-973]"
          ],
          [
           "Deletion",
           "Epidermal growth factor receptor [1-973]"
          ],
          [
           "Deletion",
           "Epidermal growth factor receptor [1-973]"
          ],
          [
           "Deletion",
           "Epidermal growth factor receptor [1-973]"
          ],
          [
           "Deletion",
           "Epidermal growth factor receptor [1-973]"
          ],
          [
           "Deletion",
           "Epidermal growth factor receptor [1-973]"
          ],
          [
           "Deletion",
           "Epidermal growth factor receptor [1-973]"
          ],
          [
           "Deletion",
           "Epidermal growth factor receptor [1-973]"
          ],
          [
           "Deletion",
           "Epidermal growth factor receptor [1-973]"
          ],
          [
           "Deletion",
           "Epidermal growth factor receptor [1-973]"
          ],
          [
           "Deletion",
           "Epidermal growth factor receptor [1-973]"
          ],
          [
           "Deletion",
           "Epidermal growth factor receptor [1-973]"
          ],
          [
           "Deletion",
           "Epidermal growth factor receptor [1-973]"
          ],
          [
           "Deletion",
           "Epidermal growth factor receptor [1-973]"
          ],
          [
           "Deletion",
           "Epidermal growth factor receptor [1-973]"
          ],
          [
           "Deletion",
           "Epidermal growth factor receptor [1-973]"
          ],
          [
           "Deletion",
           "Epidermal growth factor receptor [1-973]"
          ],
          [
           "Deletion",
           "Epidermal growth factor receptor [1-973]"
          ],
          [
           "Deletion",
           "Epidermal growth factor receptor [1-973]"
          ],
          [
           "Deletion",
           "Epidermal growth factor receptor [1-973]"
          ],
          [
           "Deletion",
           "Epidermal growth factor receptor [1-973]"
          ],
          [
           "Deletion",
           "Epidermal growth factor receptor [1-973]"
          ],
          [
           "Deletion",
           "Epidermal growth factor receptor [1-973]"
          ],
          [
           "Deletion",
           "Epidermal growth factor receptor [1-973]"
          ],
          [
           "Deletion",
           "Epidermal growth factor receptor [1-973]"
          ],
          [
           "Deletion",
           "Epidermal growth factor receptor [1-973]"
          ],
          [
           "Deletion",
           "Epidermal growth factor receptor [1-973]"
          ],
          [
           "Deletion",
           "Epidermal growth factor receptor [1-973]"
          ],
          [
           "Deletion",
           "Epidermal growth factor receptor [1-973]"
          ],
          [
           "Deletion",
           "Epidermal growth factor receptor [1-973]"
          ],
          [
           "Deletion",
           "Epidermal growth factor receptor [1-973]"
          ],
          [
           "Deletion",
           "Epidermal growth factor receptor [1-973]"
          ],
          [
           "Deletion",
           "Epidermal growth factor receptor [1-973]"
          ],
          [
           "Deletion",
           "Epidermal growth factor receptor [1-973]"
          ],
          [
           "Deletion",
           "Epidermal growth factor receptor [1-973]"
          ],
          [
           "Deletion",
           "Epidermal growth factor receptor [1-973]"
          ],
          [
           "Deletion",
           "Epidermal growth factor receptor [1-973]"
          ],
          [
           "Deletion",
           "Epidermal growth factor receptor [1-973]"
          ],
          [
           "Deletion",
           "Epidermal growth factor receptor [1-973]"
          ],
          [
           "Deletion",
           "Epidermal growth factor receptor [1-973]"
          ],
          [
           "Deletion",
           "Epidermal growth factor receptor [1-973]"
          ],
          [
           "Deletion",
           "Epidermal growth factor receptor [1-973]"
          ],
          [
           "Deletion",
           "Epidermal growth factor receptor [1-973]"
          ],
          [
           "Deletion",
           "Epidermal growth factor receptor [1-973]"
          ],
          [
           "Deletion",
           "Epidermal growth factor receptor [1-973]"
          ],
          [
           "Deletion",
           "Epidermal growth factor receptor [1-973]"
          ],
          [
           "Deletion",
           "Epidermal growth factor receptor [1-973]"
          ],
          [
           "Deletion",
           "Epidermal growth factor receptor [1-973]"
          ],
          [
           "Deletion",
           "Epidermal growth factor receptor [1-973]"
          ],
          [
           "Deletion",
           "Epidermal growth factor receptor [1-973]"
          ],
          [
           "Deletion",
           "Epidermal growth factor receptor [1-973]"
          ],
          [
           "Deletion",
           "Epidermal growth factor receptor [1-973]"
          ],
          [
           "Deletion",
           "Epidermal growth factor receptor [1-973]"
          ],
          [
           "Deletion",
           "Epidermal growth factor receptor [1-973]"
          ],
          [
           "Deletion",
           "Epidermal growth factor receptor [1-973]"
          ],
          [
           "Deletion",
           "Epidermal growth factor receptor [1-973]"
          ],
          [
           "Deletion",
           "Epidermal growth factor receptor [1-973]"
          ],
          [
           "Deletion",
           "Epidermal growth factor receptor [1-973]"
          ],
          [
           "Deletion",
           "Epidermal growth factor receptor [1-973]"
          ],
          [
           "Deletion",
           "Epidermal growth factor receptor [1-973]"
          ],
          [
           "Deletion",
           "Epidermal growth factor receptor [1-973]"
          ],
          [
           "Deletion",
           "Epidermal growth factor receptor [1-973]"
          ],
          [
           "Deletion",
           "Epidermal growth factor receptor [1-973]"
          ],
          [
           "Deletion",
           "Epidermal growth factor receptor [1-973]"
          ],
          [
           "Deletion",
           "Epidermal growth factor receptor [1-973]"
          ],
          [
           "Deletion",
           "Epidermal growth factor receptor [1-973]"
          ],
          [
           "Deletion",
           "Epidermal growth factor receptor [1-973]"
          ],
          [
           "Deletion",
           "Epidermal growth factor receptor [1-973]"
          ],
          [
           "Deletion",
           "Epidermal growth factor receptor [1-973]"
          ],
          [
           "Deletion",
           "Epidermal growth factor receptor [1-973]"
          ],
          [
           "Deletion",
           "Epidermal growth factor receptor [1-973]"
          ],
          [
           "Deletion",
           "Epidermal growth factor receptor [1-973]"
          ],
          [
           "Deletion",
           "Epidermal growth factor receptor [1-973]"
          ],
          [
           "Deletion",
           "Epidermal growth factor receptor [1-973]"
          ],
          [
           "Deletion",
           "Epidermal growth factor receptor [1-973]"
          ],
          [
           "Deletion",
           "Epidermal growth factor receptor [1-973]"
          ],
          [
           "Deletion",
           "Epidermal growth factor receptor [1-973]"
          ],
          [
           "Deletion",
           "Epidermal growth factor receptor [1-973]"
          ],
          [
           "Deletion",
           "Epidermal growth factor receptor [1-973]"
          ],
          [
           "Deletion",
           "Epidermal growth factor receptor [1-973]"
          ],
          [
           "Deletion",
           "Epidermal growth factor receptor [1-973]"
          ],
          [
           "Deletion",
           "Epidermal growth factor receptor [1-973]"
          ],
          [
           "Deletion",
           "Epidermal growth factor receptor [1-973]"
          ],
          [
           "Deletion",
           "Epidermal growth factor receptor [1-973]"
          ],
          [
           "Deletion",
           "Epidermal growth factor receptor [1-973]"
          ],
          [
           "Deletion",
           "Epidermal growth factor receptor [1-973]"
          ],
          [
           "Deletion",
           "Epidermal growth factor receptor [1-973]"
          ],
          [
           "Deletion",
           "Epidermal growth factor receptor [1-973]"
          ],
          [
           "Deletion",
           "Epidermal growth factor receptor [1-973]"
          ],
          [
           "Deletion",
           "Epidermal growth factor receptor [1-973]"
          ],
          [
           "Deletion",
           "Epidermal growth factor receptor [1-973]"
          ],
          [
           "Deletion",
           "Epidermal growth factor receptor [1-973]"
          ],
          [
           "Deletion",
           "Epidermal growth factor receptor [1-973]"
          ],
          [
           "Deletion",
           "Epidermal growth factor receptor [1-973]"
          ],
          [
           "Deletion",
           "Epidermal growth factor receptor [1-973]"
          ],
          [
           "Deletion",
           "Epidermal growth factor receptor [1-973]"
          ],
          [
           "Deletion",
           "Epidermal growth factor receptor [1-973]"
          ],
          [
           "Deletion",
           "Epidermal growth factor receptor [1-973]"
          ],
          [
           "Deletion",
           "Epidermal growth factor receptor [1-973]"
          ],
          [
           "Deletion",
           "Epidermal growth factor receptor [1-973]"
          ],
          [
           "Deletion",
           "Epidermal growth factor receptor [1-973]"
          ],
          [
           "Deletion",
           "Epidermal growth factor receptor [1-973]"
          ],
          [
           "Deletion",
           "Epidermal growth factor receptor [1-973]"
          ],
          [
           "Deletion",
           "Epidermal growth factor receptor [1-973]"
          ],
          [
           "Deletion",
           "Epidermal growth factor receptor [1-973]"
          ],
          [
           "Deletion",
           "Epidermal growth factor receptor [1-973]"
          ],
          [
           "Deletion",
           "Epidermal growth factor receptor [1-973]"
          ],
          [
           "Deletion",
           "Epidermal growth factor receptor [1-973]"
          ],
          [
           "Deletion",
           "Epidermal growth factor receptor [1-973]"
          ],
          [
           "Deletion",
           "Epidermal growth factor receptor [1-973]"
          ],
          [
           "Deletion",
           "Epidermal growth factor receptor [1-973]"
          ],
          [
           "Deletion",
           "Epidermal growth factor receptor [1-973]"
          ],
          [
           "Deletion",
           "Epidermal growth factor receptor [1-973]"
          ],
          [
           "Deletion",
           "Epidermal growth factor receptor [1-973]"
          ],
          [
           "Deletion",
           "Epidermal growth factor receptor [1-973]"
          ],
          [
           "Deletion",
           "Epidermal growth factor receptor [1-973]"
          ],
          [
           "Deletion",
           "Epidermal growth factor receptor [1-973]"
          ],
          [
           "Deletion",
           "Epidermal growth factor receptor [1-973]"
          ],
          [
           "Deletion",
           "Epidermal growth factor receptor [1-973]"
          ],
          [
           "Deletion",
           "Epidermal growth factor receptor [1-973]"
          ],
          [
           "Deletion",
           "Epidermal growth factor receptor [1-973]"
          ],
          [
           "Deletion",
           "Epidermal growth factor receptor [1-973]"
          ],
          [
           "Deletion",
           "Epidermal growth factor receptor [1-973]"
          ],
          [
           "Deletion",
           "Epidermal growth factor receptor [1-973]"
          ],
          [
           "Deletion",
           "Epidermal growth factor receptor [1-973]"
          ],
          [
           "Deletion",
           "Epidermal growth factor receptor [1-973]"
          ],
          [
           "Deletion",
           "Epidermal growth factor receptor [1-973]"
          ],
          [
           "Deletion",
           "Epidermal growth factor receptor [1-973]"
          ],
          [
           "Deletion",
           "Epidermal growth factor receptor [1-973]"
          ],
          [
           "Deletion",
           "Epidermal growth factor receptor [1-973]"
          ],
          [
           "Deletion",
           "Epidermal growth factor receptor [1-973]"
          ],
          [
           "Deletion",
           "Epidermal growth factor receptor [1-973]"
          ],
          [
           "Deletion",
           "Epidermal growth factor receptor [1-973]"
          ],
          [
           "Deletion",
           "Epidermal growth factor receptor [1-973]"
          ],
          [
           "Deletion",
           "Epidermal growth factor receptor [1-973]"
          ],
          [
           "Deletion",
           "Epidermal growth factor receptor [1-973]"
          ],
          [
           "Deletion",
           "Epidermal growth factor receptor [1-973]"
          ],
          [
           "Deletion",
           "Epidermal growth factor receptor [1-973]"
          ],
          [
           "Deletion",
           "Epidermal growth factor receptor [1-973]"
          ],
          [
           "Deletion",
           "Epidermal growth factor receptor [1-973]"
          ],
          [
           "Deletion",
           "Epidermal growth factor receptor [1-973]"
          ],
          [
           "Deletion",
           "Epidermal growth factor receptor [1-973]"
          ],
          [
           "Deletion",
           "Epidermal growth factor receptor [1-973]"
          ],
          [
           "Deletion",
           "Epidermal growth factor receptor [1-973]"
          ],
          [
           "Deletion",
           "Epidermal growth factor receptor [1-973]"
          ],
          [
           "Deletion",
           "Epidermal growth factor receptor [1-973]"
          ],
          [
           "Deletion",
           "Epidermal growth factor receptor [1-973]"
          ],
          [
           "Deletion",
           "Epidermal growth factor receptor [1-973]"
          ],
          [
           "Deletion",
           "Epidermal growth factor receptor [1-973]"
          ],
          [
           "Deletion",
           "Epidermal growth factor receptor [1-973]"
          ],
          [
           "Deletion",
           "Epidermal growth factor receptor [1-973]"
          ],
          [
           "Deletion",
           "Epidermal growth factor receptor [1-973]"
          ],
          [
           "Deletion",
           "Epidermal growth factor receptor [1-973]"
          ],
          [
           "Deletion",
           "Epidermal growth factor receptor [1-973]"
          ],
          [
           "Deletion",
           "Epidermal growth factor receptor [1-973]"
          ],
          [
           "Deletion",
           "Epidermal growth factor receptor [1-973]"
          ],
          [
           "Deletion",
           "Epidermal growth factor receptor [1-973]"
          ],
          [
           "Deletion",
           "Epidermal growth factor receptor [1-973]"
          ],
          [
           "Deletion",
           "Epidermal growth factor receptor [1-973]"
          ],
          [
           "Deletion",
           "Epidermal growth factor receptor [1-973]"
          ],
          [
           "Deletion",
           "Epidermal growth factor receptor [1-973]"
          ],
          [
           "Deletion",
           "Epidermal growth factor receptor [1-973]"
          ],
          [
           "Deletion",
           "Epidermal growth factor receptor [1-973]"
          ],
          [
           "Deletion",
           "Epidermal growth factor receptor [1-973]"
          ],
          [
           "Deletion",
           "Epidermal growth factor receptor [1-973]"
          ],
          [
           "Deletion",
           "Epidermal growth factor receptor [1-973]"
          ],
          [
           "Deletion",
           "Epidermal growth factor receptor [1-973]"
          ],
          [
           "Deletion",
           "Epidermal growth factor receptor [1-973]"
          ],
          [
           "Deletion",
           "Epidermal growth factor receptor [1-973]"
          ],
          [
           "Deletion",
           "Epidermal growth factor receptor [1-973]"
          ],
          [
           "Deletion",
           "Epidermal growth factor receptor [1-973]"
          ],
          [
           "Deletion",
           "Epidermal growth factor receptor [1-973]"
          ],
          [
           "Deletion",
           "Epidermal growth factor receptor [1-973]"
          ],
          [
           "Deletion",
           "Epidermal growth factor receptor [1-973]"
          ],
          [
           "Deletion",
           "Epidermal growth factor receptor [1-973]"
          ],
          [
           "Deletion",
           "Epidermal growth factor receptor [1-973]"
          ],
          [
           "Deletion",
           "Epidermal growth factor receptor [1-973]"
          ],
          [
           "Deletion",
           "Epidermal growth factor receptor [1-973]"
          ],
          [
           "Deletion",
           "Epidermal growth factor receptor [1-973]"
          ],
          [
           "Deletion",
           "Epidermal growth factor receptor [1-973]"
          ],
          [
           "Deletion",
           "Epidermal growth factor receptor [1-973]"
          ],
          [
           "Deletion",
           "Epidermal growth factor receptor [1-973]"
          ],
          [
           "Deletion",
           "Epidermal growth factor receptor [1-973]"
          ],
          [
           "Deletion",
           "Epidermal growth factor receptor [1-973]"
          ],
          [
           "Deletion",
           "Epidermal growth factor receptor [1-973]"
          ],
          [
           "Deletion",
           "Epidermal growth factor receptor [1-973]"
          ],
          [
           "Deletion",
           "Epidermal growth factor receptor [1-973]"
          ],
          [
           "Deletion",
           "Epidermal growth factor receptor [1-973]"
          ],
          [
           "Deletion",
           "Epidermal growth factor receptor [1-973]"
          ],
          [
           "Deletion",
           "Epidermal growth factor receptor [1-973]"
          ],
          [
           "Deletion",
           "Epidermal growth factor receptor [1-973]"
          ],
          [
           "Deletion",
           "Epidermal growth factor receptor [1-973]"
          ],
          [
           "Deletion",
           "Epidermal growth factor receptor [1-973]"
          ],
          [
           "Deletion",
           "Epidermal growth factor receptor [1-973]"
          ],
          [
           "Deletion",
           "Epidermal growth factor receptor [1-973]"
          ],
          [
           "Deletion",
           "Epidermal growth factor receptor [1-973]"
          ],
          [
           "Deletion",
           "Epidermal growth factor receptor [1-973]"
          ],
          [
           "Deletion",
           "Epidermal growth factor receptor [1-973]"
          ],
          [
           "Deletion",
           "Epidermal growth factor receptor [1-973]"
          ],
          [
           "Deletion",
           "Epidermal growth factor receptor [1-973]"
          ],
          [
           "Deletion",
           "Epidermal growth factor receptor [1-973]"
          ],
          [
           "Deletion",
           "Epidermal growth factor receptor [1-973]"
          ],
          [
           "Deletion",
           "Epidermal growth factor receptor [1-973]"
          ],
          [
           "Deletion",
           "Epidermal growth factor receptor [1-973]"
          ],
          [
           "Deletion",
           "Epidermal growth factor receptor [1-973]"
          ],
          [
           "Deletion",
           "Epidermal growth factor receptor [1-973]"
          ],
          [
           "Deletion",
           "Epidermal growth factor receptor [1-973]"
          ],
          [
           "Deletion",
           "Epidermal growth factor receptor [1-973]"
          ],
          [
           "Deletion",
           "Epidermal growth factor receptor [1-973]"
          ],
          [
           "Deletion",
           "Epidermal growth factor receptor [1-973]"
          ],
          [
           "Deletion",
           "Epidermal growth factor receptor [1-973]"
          ],
          [
           "Deletion",
           "Epidermal growth factor receptor [1-973]"
          ],
          [
           "Deletion",
           "Epidermal growth factor receptor [1-973]"
          ],
          [
           "Deletion",
           "Epidermal growth factor receptor [1-973]"
          ],
          [
           "Deletion",
           "Epidermal growth factor receptor [1-973]"
          ],
          [
           "Deletion",
           "Epidermal growth factor receptor [1-973]"
          ],
          [
           "Deletion",
           "Epidermal growth factor receptor [1-973]"
          ],
          [
           "Deletion",
           "Epidermal growth factor receptor [1-973]"
          ],
          [
           "Deletion",
           "Epidermal growth factor receptor [1-973]"
          ],
          [
           "Deletion",
           "Epidermal growth factor receptor [1-973]"
          ],
          [
           "Deletion",
           "Epidermal growth factor receptor [1-973]"
          ],
          [
           "Deletion",
           "Epidermal growth factor receptor [1-973]"
          ],
          [
           "Deletion",
           "Epidermal growth factor receptor [1-973]"
          ],
          [
           "Deletion",
           "Epidermal growth factor receptor [1-973]"
          ],
          [
           "Deletion",
           "Epidermal growth factor receptor [1-973]"
          ],
          [
           "Deletion",
           "Epidermal growth factor receptor [1-973]"
          ],
          [
           "Deletion",
           "Epidermal growth factor receptor [1-973]"
          ],
          [
           "Deletion",
           "Epidermal growth factor receptor [1-973]"
          ],
          [
           "Deletion",
           "Epidermal growth factor receptor [1-973]"
          ],
          [
           "Deletion",
           "Epidermal growth factor receptor [1-973]"
          ],
          [
           "Deletion",
           "Epidermal growth factor receptor [1-973]"
          ],
          [
           "Deletion",
           "Epidermal growth factor receptor [1-973]"
          ]
         ],
         "hovertemplate": "<b>%{hovertext}</b><br><br>Mutation Position=%{x}<br>IC50 Difference=%{y}<br>Mutation=%{customdata[0]}<extra></extra>",
         "hovertext": [
          "Epidermal growth factor receptor [1-973]",
          "Epidermal growth factor receptor [1-973]",
          "Epidermal growth factor receptor [1-973]",
          "Epidermal growth factor receptor [1-973]",
          "Epidermal growth factor receptor [1-973]",
          "Epidermal growth factor receptor [1-973]",
          "Epidermal growth factor receptor [1-973]",
          "Epidermal growth factor receptor [1-973]",
          "Epidermal growth factor receptor [1-973]",
          "Epidermal growth factor receptor [1-973]",
          "Epidermal growth factor receptor [1-973]",
          "Epidermal growth factor receptor [1-973]",
          "Epidermal growth factor receptor [1-973]",
          "Epidermal growth factor receptor [1-973]",
          "Epidermal growth factor receptor [1-973]",
          "Epidermal growth factor receptor [1-973]",
          "Epidermal growth factor receptor [1-973]",
          "Epidermal growth factor receptor [1-973]",
          "Epidermal growth factor receptor [1-973]",
          "Epidermal growth factor receptor [1-973]",
          "Epidermal growth factor receptor [1-973]",
          "Epidermal growth factor receptor [1-973]",
          "Epidermal growth factor receptor [1-973]",
          "Epidermal growth factor receptor [1-973]",
          "Epidermal growth factor receptor [1-973]",
          "Epidermal growth factor receptor [1-973]",
          "Epidermal growth factor receptor [1-973]",
          "Epidermal growth factor receptor [1-973]",
          "Epidermal growth factor receptor [1-973]",
          "Epidermal growth factor receptor [1-973]",
          "Epidermal growth factor receptor [1-973]",
          "Epidermal growth factor receptor [1-973]",
          "Epidermal growth factor receptor [1-973]",
          "Epidermal growth factor receptor [1-973]",
          "Epidermal growth factor receptor [1-973]",
          "Epidermal growth factor receptor [1-973]",
          "Epidermal growth factor receptor [1-973]",
          "Epidermal growth factor receptor [1-973]",
          "Epidermal growth factor receptor [1-973]",
          "Epidermal growth factor receptor [1-973]",
          "Epidermal growth factor receptor [1-973]",
          "Epidermal growth factor receptor [1-973]",
          "Epidermal growth factor receptor [1-973]",
          "Epidermal growth factor receptor [1-973]",
          "Epidermal growth factor receptor [1-973]",
          "Epidermal growth factor receptor [1-973]",
          "Epidermal growth factor receptor [1-973]",
          "Epidermal growth factor receptor [1-973]",
          "Epidermal growth factor receptor [1-973]",
          "Epidermal growth factor receptor [1-973]",
          "Epidermal growth factor receptor [1-973]",
          "Epidermal growth factor receptor [1-973]",
          "Epidermal growth factor receptor [1-973]",
          "Epidermal growth factor receptor [1-973]",
          "Epidermal growth factor receptor [1-973]",
          "Epidermal growth factor receptor [1-973]",
          "Epidermal growth factor receptor [1-973]",
          "Epidermal growth factor receptor [1-973]",
          "Epidermal growth factor receptor [1-973]",
          "Epidermal growth factor receptor [1-973]",
          "Epidermal growth factor receptor [1-973]",
          "Epidermal growth factor receptor [1-973]",
          "Epidermal growth factor receptor [1-973]",
          "Epidermal growth factor receptor [1-973]",
          "Epidermal growth factor receptor [1-973]",
          "Epidermal growth factor receptor [1-973]",
          "Epidermal growth factor receptor [1-973]",
          "Epidermal growth factor receptor [1-973]",
          "Epidermal growth factor receptor [1-973]",
          "Epidermal growth factor receptor [1-973]",
          "Epidermal growth factor receptor [1-973]",
          "Epidermal growth factor receptor [1-973]",
          "Epidermal growth factor receptor [1-973]",
          "Epidermal growth factor receptor [1-973]",
          "Epidermal growth factor receptor [1-973]",
          "Epidermal growth factor receptor [1-973]",
          "Epidermal growth factor receptor [1-973]",
          "Epidermal growth factor receptor [1-973]",
          "Epidermal growth factor receptor [1-973]",
          "Epidermal growth factor receptor [1-973]",
          "Epidermal growth factor receptor [1-973]",
          "Epidermal growth factor receptor [1-973]",
          "Epidermal growth factor receptor [1-973]",
          "Epidermal growth factor receptor [1-973]",
          "Epidermal growth factor receptor [1-973]",
          "Epidermal growth factor receptor [1-973]",
          "Epidermal growth factor receptor [1-973]",
          "Epidermal growth factor receptor [1-973]",
          "Epidermal growth factor receptor [1-973]",
          "Epidermal growth factor receptor [1-973]",
          "Epidermal growth factor receptor [1-973]",
          "Epidermal growth factor receptor [1-973]",
          "Epidermal growth factor receptor [1-973]",
          "Epidermal growth factor receptor [1-973]",
          "Epidermal growth factor receptor [1-973]",
          "Epidermal growth factor receptor [1-973]",
          "Epidermal growth factor receptor [1-973]",
          "Epidermal growth factor receptor [1-973]",
          "Epidermal growth factor receptor [1-973]",
          "Epidermal growth factor receptor [1-973]",
          "Epidermal growth factor receptor [1-973]",
          "Epidermal growth factor receptor [1-973]",
          "Epidermal growth factor receptor [1-973]",
          "Epidermal growth factor receptor [1-973]",
          "Epidermal growth factor receptor [1-973]",
          "Epidermal growth factor receptor [1-973]",
          "Epidermal growth factor receptor [1-973]",
          "Epidermal growth factor receptor [1-973]",
          "Epidermal growth factor receptor [1-973]",
          "Epidermal growth factor receptor [1-973]",
          "Epidermal growth factor receptor [1-973]",
          "Epidermal growth factor receptor [1-973]",
          "Epidermal growth factor receptor [1-973]",
          "Epidermal growth factor receptor [1-973]",
          "Epidermal growth factor receptor [1-973]",
          "Epidermal growth factor receptor [1-973]",
          "Epidermal growth factor receptor [1-973]",
          "Epidermal growth factor receptor [1-973]",
          "Epidermal growth factor receptor [1-973]",
          "Epidermal growth factor receptor [1-973]",
          "Epidermal growth factor receptor [1-973]",
          "Epidermal growth factor receptor [1-973]",
          "Epidermal growth factor receptor [1-973]",
          "Epidermal growth factor receptor [1-973]",
          "Epidermal growth factor receptor [1-973]",
          "Epidermal growth factor receptor [1-973]",
          "Epidermal growth factor receptor [1-973]",
          "Epidermal growth factor receptor [1-973]",
          "Epidermal growth factor receptor [1-973]",
          "Epidermal growth factor receptor [1-973]",
          "Epidermal growth factor receptor [1-973]",
          "Epidermal growth factor receptor [1-973]",
          "Epidermal growth factor receptor [1-973]",
          "Epidermal growth factor receptor [1-973]",
          "Epidermal growth factor receptor [1-973]",
          "Epidermal growth factor receptor [1-973]",
          "Epidermal growth factor receptor [1-973]",
          "Epidermal growth factor receptor [1-973]",
          "Epidermal growth factor receptor [1-973]",
          "Epidermal growth factor receptor [1-973]",
          "Epidermal growth factor receptor [1-973]",
          "Epidermal growth factor receptor [1-973]",
          "Epidermal growth factor receptor [1-973]",
          "Epidermal growth factor receptor [1-973]",
          "Epidermal growth factor receptor [1-973]",
          "Epidermal growth factor receptor [1-973]",
          "Epidermal growth factor receptor [1-973]",
          "Epidermal growth factor receptor [1-973]",
          "Epidermal growth factor receptor [1-973]",
          "Epidermal growth factor receptor [1-973]",
          "Epidermal growth factor receptor [1-973]",
          "Epidermal growth factor receptor [1-973]",
          "Epidermal growth factor receptor [1-973]",
          "Epidermal growth factor receptor [1-973]",
          "Epidermal growth factor receptor [1-973]",
          "Epidermal growth factor receptor [1-973]",
          "Epidermal growth factor receptor [1-973]",
          "Epidermal growth factor receptor [1-973]",
          "Epidermal growth factor receptor [1-973]",
          "Epidermal growth factor receptor [1-973]",
          "Epidermal growth factor receptor [1-973]",
          "Epidermal growth factor receptor [1-973]",
          "Epidermal growth factor receptor [1-973]",
          "Epidermal growth factor receptor [1-973]",
          "Epidermal growth factor receptor [1-973]",
          "Epidermal growth factor receptor [1-973]",
          "Epidermal growth factor receptor [1-973]",
          "Epidermal growth factor receptor [1-973]",
          "Epidermal growth factor receptor [1-973]",
          "Epidermal growth factor receptor [1-973]",
          "Epidermal growth factor receptor [1-973]",
          "Epidermal growth factor receptor [1-973]",
          "Epidermal growth factor receptor [1-973]",
          "Epidermal growth factor receptor [1-973]",
          "Epidermal growth factor receptor [1-973]",
          "Epidermal growth factor receptor [1-973]",
          "Epidermal growth factor receptor [1-973]",
          "Epidermal growth factor receptor [1-973]",
          "Epidermal growth factor receptor [1-973]",
          "Epidermal growth factor receptor [1-973]",
          "Epidermal growth factor receptor [1-973]",
          "Epidermal growth factor receptor [1-973]",
          "Epidermal growth factor receptor [1-973]",
          "Epidermal growth factor receptor [1-973]",
          "Epidermal growth factor receptor [1-973]",
          "Epidermal growth factor receptor [1-973]",
          "Epidermal growth factor receptor [1-973]",
          "Epidermal growth factor receptor [1-973]",
          "Epidermal growth factor receptor [1-973]",
          "Epidermal growth factor receptor [1-973]",
          "Epidermal growth factor receptor [1-973]",
          "Epidermal growth factor receptor [1-973]",
          "Epidermal growth factor receptor [1-973]",
          "Epidermal growth factor receptor [1-973]",
          "Epidermal growth factor receptor [1-973]",
          "Epidermal growth factor receptor [1-973]",
          "Epidermal growth factor receptor [1-973]",
          "Epidermal growth factor receptor [1-973]",
          "Epidermal growth factor receptor [1-973]",
          "Epidermal growth factor receptor [1-973]",
          "Epidermal growth factor receptor [1-973]",
          "Epidermal growth factor receptor [1-973]",
          "Epidermal growth factor receptor [1-973]",
          "Epidermal growth factor receptor [1-973]",
          "Epidermal growth factor receptor [1-973]",
          "Epidermal growth factor receptor [1-973]",
          "Epidermal growth factor receptor [1-973]",
          "Epidermal growth factor receptor [1-973]",
          "Epidermal growth factor receptor [1-973]",
          "Epidermal growth factor receptor [1-973]",
          "Epidermal growth factor receptor [1-973]",
          "Epidermal growth factor receptor [1-973]",
          "Epidermal growth factor receptor [1-973]",
          "Epidermal growth factor receptor [1-973]",
          "Epidermal growth factor receptor [1-973]",
          "Epidermal growth factor receptor [1-973]",
          "Epidermal growth factor receptor [1-973]",
          "Epidermal growth factor receptor [1-973]",
          "Epidermal growth factor receptor [1-973]",
          "Epidermal growth factor receptor [1-973]",
          "Epidermal growth factor receptor [1-973]",
          "Epidermal growth factor receptor [1-973]",
          "Epidermal growth factor receptor [1-973]",
          "Epidermal growth factor receptor [1-973]",
          "Epidermal growth factor receptor [1-973]",
          "Epidermal growth factor receptor [1-973]",
          "Epidermal growth factor receptor [1-973]",
          "Epidermal growth factor receptor [1-973]",
          "Epidermal growth factor receptor [1-973]",
          "Epidermal growth factor receptor [1-973]",
          "Epidermal growth factor receptor [1-973]",
          "Epidermal growth factor receptor [1-973]",
          "Epidermal growth factor receptor [1-973]",
          "Epidermal growth factor receptor [1-973]",
          "Epidermal growth factor receptor [1-973]",
          "Epidermal growth factor receptor [1-973]",
          "Epidermal growth factor receptor [1-973]"
         ],
         "legendgroup": "Epidermal growth factor receptor [1-973]",
         "marker": {
          "color": "#B6E880",
          "symbol": "circle"
         },
         "mode": "markers",
         "name": "Epidermal growth factor receptor [1-973]",
         "orientation": "v",
         "showlegend": true,
         "type": "scatter",
         "x": [
          973,
          974,
          975,
          976,
          977,
          978,
          979,
          980,
          981,
          982,
          983,
          984,
          985,
          986,
          987,
          988,
          989,
          990,
          991,
          992,
          993,
          994,
          995,
          996,
          997,
          998,
          999,
          1000,
          1001,
          1002,
          1003,
          1004,
          1005,
          1006,
          1007,
          1008,
          1009,
          1010,
          1011,
          1012,
          1013,
          1014,
          1015,
          1016,
          1017,
          1018,
          1019,
          1020,
          1021,
          1022,
          1023,
          1024,
          1025,
          1026,
          1027,
          1028,
          1029,
          1030,
          1031,
          1032,
          1033,
          1034,
          1035,
          1036,
          1037,
          1038,
          1039,
          1040,
          1041,
          1042,
          1043,
          1044,
          1045,
          1046,
          1047,
          1048,
          1049,
          1050,
          1051,
          1052,
          1053,
          1054,
          1055,
          1056,
          1057,
          1058,
          1059,
          1060,
          1061,
          1062,
          1063,
          1064,
          1065,
          1066,
          1067,
          1068,
          1069,
          1070,
          1071,
          1072,
          1073,
          1074,
          1075,
          1076,
          1077,
          1078,
          1079,
          1080,
          1081,
          1082,
          1083,
          1084,
          1085,
          1086,
          1087,
          1088,
          1089,
          1090,
          1091,
          1092,
          1093,
          1094,
          1095,
          1096,
          1097,
          1098,
          1099,
          1100,
          1101,
          1102,
          1103,
          1104,
          1105,
          1106,
          1107,
          1108,
          1109,
          1110,
          1111,
          1112,
          1113,
          1114,
          1115,
          1116,
          1117,
          1118,
          1119,
          1120,
          1121,
          1122,
          1123,
          1124,
          1125,
          1126,
          1127,
          1128,
          1129,
          1130,
          1131,
          1132,
          1133,
          1134,
          1135,
          1136,
          1137,
          1138,
          1139,
          1140,
          1141,
          1142,
          1143,
          1144,
          1145,
          1146,
          1147,
          1148,
          1149,
          1150,
          1151,
          1152,
          1153,
          1154,
          1155,
          1156,
          1157,
          1158,
          1159,
          1160,
          1161,
          1162,
          1163,
          1164,
          1165,
          1166,
          1167,
          1168,
          1169,
          1170,
          1171,
          1172,
          1173,
          1174,
          1175,
          1176,
          1177,
          1178,
          1179,
          1180,
          1181,
          1182,
          1183,
          1184,
          1185,
          1186,
          1187,
          1188,
          1189,
          1190,
          1191,
          1192,
          1193,
          1194,
          1195,
          1196,
          1197,
          1198,
          1199,
          1200,
          1201,
          1202,
          1203,
          1204,
          1205,
          1206,
          1207,
          1208,
          1209
         ],
         "xaxis": "x",
         "y": [
          -9.4,
          -9.4,
          -9.4,
          -9.4,
          -9.4,
          -9.4,
          -9.4,
          -9.4,
          -9.4,
          -9.4,
          -9.4,
          -9.4,
          -9.4,
          -9.4,
          -9.4,
          -9.4,
          -9.4,
          -9.4,
          -9.4,
          -9.4,
          -9.4,
          -9.4,
          -9.4,
          -9.4,
          -9.4,
          -9.4,
          -9.4,
          -9.4,
          -9.4,
          -9.4,
          -9.4,
          -9.4,
          -9.4,
          -9.4,
          -9.4,
          -9.4,
          -9.4,
          -9.4,
          -9.4,
          -9.4,
          -9.4,
          -9.4,
          -9.4,
          -9.4,
          -9.4,
          -9.4,
          -9.4,
          -9.4,
          -9.4,
          -9.4,
          -9.4,
          -9.4,
          -9.4,
          -9.4,
          -9.4,
          -9.4,
          -9.4,
          -9.4,
          -9.4,
          -9.4,
          -9.4,
          -9.4,
          -9.4,
          -9.4,
          -9.4,
          -9.4,
          -9.4,
          -9.4,
          -9.4,
          -9.4,
          -9.4,
          -9.4,
          -9.4,
          -9.4,
          -9.4,
          -9.4,
          -9.4,
          -9.4,
          -9.4,
          -9.4,
          -9.4,
          -9.4,
          -9.4,
          -9.4,
          -9.4,
          -9.4,
          -9.4,
          -9.4,
          -9.4,
          -9.4,
          -9.4,
          -9.4,
          -9.4,
          -9.4,
          -9.4,
          -9.4,
          -9.4,
          -9.4,
          -9.4,
          -9.4,
          -9.4,
          -9.4,
          -9.4,
          -9.4,
          -9.4,
          -9.4,
          -9.4,
          -9.4,
          -9.4,
          -9.4,
          -9.4,
          -9.4,
          -9.4,
          -9.4,
          -9.4,
          -9.4,
          -9.4,
          -9.4,
          -9.4,
          -9.4,
          -9.4,
          -9.4,
          -9.4,
          -9.4,
          -9.4,
          -9.4,
          -9.4,
          -9.4,
          -9.4,
          -9.4,
          -9.4,
          -9.4,
          -9.4,
          -9.4,
          -9.4,
          -9.4,
          -9.4,
          -9.4,
          -9.4,
          -9.4,
          -9.4,
          -9.4,
          -9.4,
          -9.4,
          -9.4,
          -9.4,
          -9.4,
          -9.4,
          -9.4,
          -9.4,
          -9.4,
          -9.4,
          -9.4,
          -9.4,
          -9.4,
          -9.4,
          -9.4,
          -9.4,
          -9.4,
          -9.4,
          -9.4,
          -9.4,
          -9.4,
          -9.4,
          -9.4,
          -9.4,
          -9.4,
          -9.4,
          -9.4,
          -9.4,
          -9.4,
          -9.4,
          -9.4,
          -9.4,
          -9.4,
          -9.4,
          -9.4,
          -9.4,
          -9.4,
          -9.4,
          -9.4,
          -9.4,
          -9.4,
          -9.4,
          -9.4,
          -9.4,
          -9.4,
          -9.4,
          -9.4,
          -9.4,
          -9.4,
          -9.4,
          -9.4,
          -9.4,
          -9.4,
          -9.4,
          -9.4,
          -9.4,
          -9.4,
          -9.4,
          -9.4,
          -9.4,
          -9.4,
          -9.4,
          -9.4,
          -9.4,
          -9.4,
          -9.4,
          -9.4,
          -9.4,
          -9.4,
          -9.4,
          -9.4,
          -9.4,
          -9.4,
          -9.4,
          -9.4,
          -9.4,
          -9.4,
          -9.4,
          -9.4,
          -9.4,
          -9.4,
          -9.4,
          -9.4,
          -9.4,
          -9.4,
          -9.4,
          -9.4,
          -9.4,
          -9.4,
          -9.4,
          -9.4,
          -9.4,
          -9.4,
          -9.4,
          -9.4
         ],
         "yaxis": "y"
        },
        {
         "customdata": [
          [
           "Glycine -> Cysteine",
           "Epidermal growth factor receptor [G719C]"
          ]
         ],
         "hovertemplate": "<b>%{hovertext}</b><br><br>Mutation Position=%{x}<br>IC50 Difference=%{y}<br>Mutation=%{customdata[0]}<extra></extra>",
         "hovertext": [
          "Epidermal growth factor receptor [G719C]"
         ],
         "legendgroup": "Epidermal growth factor receptor [G719C]",
         "marker": {
          "color": "#FF97FF",
          "symbol": "circle"
         },
         "mode": "markers",
         "name": "Epidermal growth factor receptor [G719C]",
         "orientation": "v",
         "showlegend": true,
         "type": "scatter",
         "x": [
          718
         ],
         "xaxis": "x",
         "y": [
          -17.5
         ],
         "yaxis": "y"
        },
        {
         "customdata": [
          [
           "Glycine -> Serine",
           "Epidermal growth factor receptor [G719S]"
          ]
         ],
         "hovertemplate": "<b>%{hovertext}</b><br><br>Mutation Position=%{x}<br>IC50 Difference=%{y}<br>Mutation=%{customdata[0]}<extra></extra>",
         "hovertext": [
          "Epidermal growth factor receptor [G719S]"
         ],
         "legendgroup": "Epidermal growth factor receptor [G719S]",
         "marker": {
          "color": "#FECB52",
          "symbol": "circle"
         },
         "mode": "markers",
         "name": "Epidermal growth factor receptor [G719S]",
         "orientation": "v",
         "showlegend": true,
         "type": "scatter",
         "x": [
          718
         ],
         "xaxis": "x",
         "y": [
          -14.8
         ],
         "yaxis": "y"
        },
        {
         "customdata": [
          [
           "Cysteine -> Serine",
           "Epidermal growth factor receptor [L858R,C797S]"
          ],
          [
           "Leucine -> Arginine",
           "Epidermal growth factor receptor [L858R,C797S]"
          ]
         ],
         "hovertemplate": "<b>%{hovertext}</b><br><br>Mutation Position=%{x}<br>IC50 Difference=%{y}<br>Mutation=%{customdata[0]}<extra></extra>",
         "hovertext": [
          "Epidermal growth factor receptor [L858R,C797S]",
          "Epidermal growth factor receptor [L858R,C797S]"
         ],
         "legendgroup": "Epidermal growth factor receptor [L858R,C797S]",
         "marker": {
          "color": "#636efa",
          "symbol": "circle"
         },
         "mode": "markers",
         "name": "Epidermal growth factor receptor [L858R,C797S]",
         "orientation": "v",
         "showlegend": true,
         "type": "scatter",
         "x": [
          796,
          857
         ],
         "xaxis": "x",
         "y": [
          -9.5,
          -9.5
         ],
         "yaxis": "y"
        },
        {
         "customdata": [
          [
           "Leucine -> Arginine",
           "Epidermal growth factor receptor [L858R]"
          ]
         ],
         "hovertemplate": "<b>%{hovertext}</b><br><br>Mutation Position=%{x}<br>IC50 Difference=%{y}<br>Mutation=%{customdata[0]}<extra></extra>",
         "hovertext": [
          "Epidermal growth factor receptor [L858R]"
         ],
         "legendgroup": "Epidermal growth factor receptor [L858R]",
         "marker": {
          "color": "#EF553B",
          "symbol": "circle"
         },
         "mode": "markers",
         "name": "Epidermal growth factor receptor [L858R]",
         "orientation": "v",
         "showlegend": true,
         "type": "scatter",
         "x": [
          857
         ],
         "xaxis": "x",
         "y": [
          -19.9
         ],
         "yaxis": "y"
        },
        {
         "customdata": [
          [
           "Leucine -> Glutamine",
           "Epidermal growth factor receptor [L861Q]"
          ]
         ],
         "hovertemplate": "<b>%{hovertext}</b><br><br>Mutation Position=%{x}<br>IC50 Difference=%{y}<br>Mutation=%{customdata[0]}<extra></extra>",
         "hovertext": [
          "Epidermal growth factor receptor [L861Q]"
         ],
         "legendgroup": "Epidermal growth factor receptor [L861Q]",
         "marker": {
          "color": "#00cc96",
          "symbol": "circle"
         },
         "mode": "markers",
         "name": "Epidermal growth factor receptor [L861Q]",
         "orientation": "v",
         "showlegend": true,
         "type": "scatter",
         "x": [
          860
         ],
         "xaxis": "x",
         "y": [
          -19.3
         ],
         "yaxis": "y"
        },
        {
         "customdata": [
          [
           "Threonine -> Methionine",
           "Epidermal growth factor receptor [T790M,L858R]"
          ],
          [
           "Leucine -> Arginine",
           "Epidermal growth factor receptor [T790M,L858R]"
          ]
         ],
         "hovertemplate": "<b>%{hovertext}</b><br><br>Mutation Position=%{x}<br>IC50 Difference=%{y}<br>Mutation=%{customdata[0]}<extra></extra>",
         "hovertext": [
          "Epidermal growth factor receptor [T790M,L858R]",
          "Epidermal growth factor receptor [T790M,L858R]"
         ],
         "legendgroup": "Epidermal growth factor receptor [T790M,L858R]",
         "marker": {
          "color": "#ab63fa",
          "symbol": "circle"
         },
         "mode": "markers",
         "name": "Epidermal growth factor receptor [T790M,L858R]",
         "orientation": "v",
         "showlegend": true,
         "type": "scatter",
         "x": [
          789,
          857
         ],
         "xaxis": "x",
         "y": [
          3078.5,
          3078.5
         ],
         "yaxis": "y"
        },
        {
         "customdata": [
          [
           "Threonine -> Methionine",
           "Epidermal growth factor receptor [T790M]"
          ]
         ],
         "hovertemplate": "<b>%{hovertext}</b><br><br>Mutation Position=%{x}<br>IC50 Difference=%{y}<br>Mutation=%{customdata[0]}<extra></extra>",
         "hovertext": [
          "Epidermal growth factor receptor [T790M]"
         ],
         "legendgroup": "Epidermal growth factor receptor [T790M]",
         "marker": {
          "color": "#FFA15A",
          "symbol": "circle"
         },
         "mode": "markers",
         "name": "Epidermal growth factor receptor [T790M]",
         "orientation": "v",
         "showlegend": true,
         "type": "scatter",
         "x": [
          789
         ],
         "xaxis": "x",
         "y": [
          129.75
         ],
         "yaxis": "y"
        }
       ],
       "layout": {
        "hovermode": "closest",
        "legend": {
         "title": {
          "text": "Mutant Name"
         },
         "tracegroupgap": 0
        },
        "template": {
         "data": {
          "bar": [
           {
            "error_x": {
             "color": "#f2f5fa"
            },
            "error_y": {
             "color": "#f2f5fa"
            },
            "marker": {
             "line": {
              "color": "rgb(17,17,17)",
              "width": 0.5
             },
             "pattern": {
              "fillmode": "overlay",
              "size": 10,
              "solidity": 0.2
             }
            },
            "type": "bar"
           }
          ],
          "barpolar": [
           {
            "marker": {
             "line": {
              "color": "rgb(17,17,17)",
              "width": 0.5
             },
             "pattern": {
              "fillmode": "overlay",
              "size": 10,
              "solidity": 0.2
             }
            },
            "type": "barpolar"
           }
          ],
          "carpet": [
           {
            "aaxis": {
             "endlinecolor": "#A2B1C6",
             "gridcolor": "#506784",
             "linecolor": "#506784",
             "minorgridcolor": "#506784",
             "startlinecolor": "#A2B1C6"
            },
            "baxis": {
             "endlinecolor": "#A2B1C6",
             "gridcolor": "#506784",
             "linecolor": "#506784",
             "minorgridcolor": "#506784",
             "startlinecolor": "#A2B1C6"
            },
            "type": "carpet"
           }
          ],
          "choropleth": [
           {
            "colorbar": {
             "outlinewidth": 0,
             "ticks": ""
            },
            "type": "choropleth"
           }
          ],
          "contour": [
           {
            "colorbar": {
             "outlinewidth": 0,
             "ticks": ""
            },
            "colorscale": [
             [
              0,
              "#0d0887"
             ],
             [
              0.1111111111111111,
              "#46039f"
             ],
             [
              0.2222222222222222,
              "#7201a8"
             ],
             [
              0.3333333333333333,
              "#9c179e"
             ],
             [
              0.4444444444444444,
              "#bd3786"
             ],
             [
              0.5555555555555556,
              "#d8576b"
             ],
             [
              0.6666666666666666,
              "#ed7953"
             ],
             [
              0.7777777777777778,
              "#fb9f3a"
             ],
             [
              0.8888888888888888,
              "#fdca26"
             ],
             [
              1,
              "#f0f921"
             ]
            ],
            "type": "contour"
           }
          ],
          "contourcarpet": [
           {
            "colorbar": {
             "outlinewidth": 0,
             "ticks": ""
            },
            "type": "contourcarpet"
           }
          ],
          "heatmap": [
           {
            "colorbar": {
             "outlinewidth": 0,
             "ticks": ""
            },
            "colorscale": [
             [
              0,
              "#0d0887"
             ],
             [
              0.1111111111111111,
              "#46039f"
             ],
             [
              0.2222222222222222,
              "#7201a8"
             ],
             [
              0.3333333333333333,
              "#9c179e"
             ],
             [
              0.4444444444444444,
              "#bd3786"
             ],
             [
              0.5555555555555556,
              "#d8576b"
             ],
             [
              0.6666666666666666,
              "#ed7953"
             ],
             [
              0.7777777777777778,
              "#fb9f3a"
             ],
             [
              0.8888888888888888,
              "#fdca26"
             ],
             [
              1,
              "#f0f921"
             ]
            ],
            "type": "heatmap"
           }
          ],
          "heatmapgl": [
           {
            "colorbar": {
             "outlinewidth": 0,
             "ticks": ""
            },
            "colorscale": [
             [
              0,
              "#0d0887"
             ],
             [
              0.1111111111111111,
              "#46039f"
             ],
             [
              0.2222222222222222,
              "#7201a8"
             ],
             [
              0.3333333333333333,
              "#9c179e"
             ],
             [
              0.4444444444444444,
              "#bd3786"
             ],
             [
              0.5555555555555556,
              "#d8576b"
             ],
             [
              0.6666666666666666,
              "#ed7953"
             ],
             [
              0.7777777777777778,
              "#fb9f3a"
             ],
             [
              0.8888888888888888,
              "#fdca26"
             ],
             [
              1,
              "#f0f921"
             ]
            ],
            "type": "heatmapgl"
           }
          ],
          "histogram": [
           {
            "marker": {
             "pattern": {
              "fillmode": "overlay",
              "size": 10,
              "solidity": 0.2
             }
            },
            "type": "histogram"
           }
          ],
          "histogram2d": [
           {
            "colorbar": {
             "outlinewidth": 0,
             "ticks": ""
            },
            "colorscale": [
             [
              0,
              "#0d0887"
             ],
             [
              0.1111111111111111,
              "#46039f"
             ],
             [
              0.2222222222222222,
              "#7201a8"
             ],
             [
              0.3333333333333333,
              "#9c179e"
             ],
             [
              0.4444444444444444,
              "#bd3786"
             ],
             [
              0.5555555555555556,
              "#d8576b"
             ],
             [
              0.6666666666666666,
              "#ed7953"
             ],
             [
              0.7777777777777778,
              "#fb9f3a"
             ],
             [
              0.8888888888888888,
              "#fdca26"
             ],
             [
              1,
              "#f0f921"
             ]
            ],
            "type": "histogram2d"
           }
          ],
          "histogram2dcontour": [
           {
            "colorbar": {
             "outlinewidth": 0,
             "ticks": ""
            },
            "colorscale": [
             [
              0,
              "#0d0887"
             ],
             [
              0.1111111111111111,
              "#46039f"
             ],
             [
              0.2222222222222222,
              "#7201a8"
             ],
             [
              0.3333333333333333,
              "#9c179e"
             ],
             [
              0.4444444444444444,
              "#bd3786"
             ],
             [
              0.5555555555555556,
              "#d8576b"
             ],
             [
              0.6666666666666666,
              "#ed7953"
             ],
             [
              0.7777777777777778,
              "#fb9f3a"
             ],
             [
              0.8888888888888888,
              "#fdca26"
             ],
             [
              1,
              "#f0f921"
             ]
            ],
            "type": "histogram2dcontour"
           }
          ],
          "mesh3d": [
           {
            "colorbar": {
             "outlinewidth": 0,
             "ticks": ""
            },
            "type": "mesh3d"
           }
          ],
          "parcoords": [
           {
            "line": {
             "colorbar": {
              "outlinewidth": 0,
              "ticks": ""
             }
            },
            "type": "parcoords"
           }
          ],
          "pie": [
           {
            "automargin": true,
            "type": "pie"
           }
          ],
          "scatter": [
           {
            "marker": {
             "line": {
              "color": "#283442"
             }
            },
            "type": "scatter"
           }
          ],
          "scatter3d": [
           {
            "line": {
             "colorbar": {
              "outlinewidth": 0,
              "ticks": ""
             }
            },
            "marker": {
             "colorbar": {
              "outlinewidth": 0,
              "ticks": ""
             }
            },
            "type": "scatter3d"
           }
          ],
          "scattercarpet": [
           {
            "marker": {
             "colorbar": {
              "outlinewidth": 0,
              "ticks": ""
             }
            },
            "type": "scattercarpet"
           }
          ],
          "scattergeo": [
           {
            "marker": {
             "colorbar": {
              "outlinewidth": 0,
              "ticks": ""
             }
            },
            "type": "scattergeo"
           }
          ],
          "scattergl": [
           {
            "marker": {
             "line": {
              "color": "#283442"
             }
            },
            "type": "scattergl"
           }
          ],
          "scattermapbox": [
           {
            "marker": {
             "colorbar": {
              "outlinewidth": 0,
              "ticks": ""
             }
            },
            "type": "scattermapbox"
           }
          ],
          "scatterpolar": [
           {
            "marker": {
             "colorbar": {
              "outlinewidth": 0,
              "ticks": ""
             }
            },
            "type": "scatterpolar"
           }
          ],
          "scatterpolargl": [
           {
            "marker": {
             "colorbar": {
              "outlinewidth": 0,
              "ticks": ""
             }
            },
            "type": "scatterpolargl"
           }
          ],
          "scatterternary": [
           {
            "marker": {
             "colorbar": {
              "outlinewidth": 0,
              "ticks": ""
             }
            },
            "type": "scatterternary"
           }
          ],
          "surface": [
           {
            "colorbar": {
             "outlinewidth": 0,
             "ticks": ""
            },
            "colorscale": [
             [
              0,
              "#0d0887"
             ],
             [
              0.1111111111111111,
              "#46039f"
             ],
             [
              0.2222222222222222,
              "#7201a8"
             ],
             [
              0.3333333333333333,
              "#9c179e"
             ],
             [
              0.4444444444444444,
              "#bd3786"
             ],
             [
              0.5555555555555556,
              "#d8576b"
             ],
             [
              0.6666666666666666,
              "#ed7953"
             ],
             [
              0.7777777777777778,
              "#fb9f3a"
             ],
             [
              0.8888888888888888,
              "#fdca26"
             ],
             [
              1,
              "#f0f921"
             ]
            ],
            "type": "surface"
           }
          ],
          "table": [
           {
            "cells": {
             "fill": {
              "color": "#506784"
             },
             "line": {
              "color": "rgb(17,17,17)"
             }
            },
            "header": {
             "fill": {
              "color": "#2a3f5f"
             },
             "line": {
              "color": "rgb(17,17,17)"
             }
            },
            "type": "table"
           }
          ]
         },
         "layout": {
          "annotationdefaults": {
           "arrowcolor": "#f2f5fa",
           "arrowhead": 0,
           "arrowwidth": 1
          },
          "autotypenumbers": "strict",
          "coloraxis": {
           "colorbar": {
            "outlinewidth": 0,
            "ticks": ""
           }
          },
          "colorscale": {
           "diverging": [
            [
             0,
             "#8e0152"
            ],
            [
             0.1,
             "#c51b7d"
            ],
            [
             0.2,
             "#de77ae"
            ],
            [
             0.3,
             "#f1b6da"
            ],
            [
             0.4,
             "#fde0ef"
            ],
            [
             0.5,
             "#f7f7f7"
            ],
            [
             0.6,
             "#e6f5d0"
            ],
            [
             0.7,
             "#b8e186"
            ],
            [
             0.8,
             "#7fbc41"
            ],
            [
             0.9,
             "#4d9221"
            ],
            [
             1,
             "#276419"
            ]
           ],
           "sequential": [
            [
             0,
             "#0d0887"
            ],
            [
             0.1111111111111111,
             "#46039f"
            ],
            [
             0.2222222222222222,
             "#7201a8"
            ],
            [
             0.3333333333333333,
             "#9c179e"
            ],
            [
             0.4444444444444444,
             "#bd3786"
            ],
            [
             0.5555555555555556,
             "#d8576b"
            ],
            [
             0.6666666666666666,
             "#ed7953"
            ],
            [
             0.7777777777777778,
             "#fb9f3a"
            ],
            [
             0.8888888888888888,
             "#fdca26"
            ],
            [
             1,
             "#f0f921"
            ]
           ],
           "sequentialminus": [
            [
             0,
             "#0d0887"
            ],
            [
             0.1111111111111111,
             "#46039f"
            ],
            [
             0.2222222222222222,
             "#7201a8"
            ],
            [
             0.3333333333333333,
             "#9c179e"
            ],
            [
             0.4444444444444444,
             "#bd3786"
            ],
            [
             0.5555555555555556,
             "#d8576b"
            ],
            [
             0.6666666666666666,
             "#ed7953"
            ],
            [
             0.7777777777777778,
             "#fb9f3a"
            ],
            [
             0.8888888888888888,
             "#fdca26"
            ],
            [
             1,
             "#f0f921"
            ]
           ]
          },
          "colorway": [
           "#636efa",
           "#EF553B",
           "#00cc96",
           "#ab63fa",
           "#FFA15A",
           "#19d3f3",
           "#FF6692",
           "#B6E880",
           "#FF97FF",
           "#FECB52"
          ],
          "font": {
           "color": "#f2f5fa"
          },
          "geo": {
           "bgcolor": "rgb(17,17,17)",
           "lakecolor": "rgb(17,17,17)",
           "landcolor": "rgb(17,17,17)",
           "showlakes": true,
           "showland": true,
           "subunitcolor": "#506784"
          },
          "hoverlabel": {
           "align": "left"
          },
          "hovermode": "closest",
          "mapbox": {
           "style": "dark"
          },
          "paper_bgcolor": "rgb(17,17,17)",
          "plot_bgcolor": "rgb(17,17,17)",
          "polar": {
           "angularaxis": {
            "gridcolor": "#506784",
            "linecolor": "#506784",
            "ticks": ""
           },
           "bgcolor": "rgb(17,17,17)",
           "radialaxis": {
            "gridcolor": "#506784",
            "linecolor": "#506784",
            "ticks": ""
           }
          },
          "scene": {
           "xaxis": {
            "backgroundcolor": "rgb(17,17,17)",
            "gridcolor": "#506784",
            "gridwidth": 2,
            "linecolor": "#506784",
            "showbackground": true,
            "ticks": "",
            "zerolinecolor": "#C8D4E3"
           },
           "yaxis": {
            "backgroundcolor": "rgb(17,17,17)",
            "gridcolor": "#506784",
            "gridwidth": 2,
            "linecolor": "#506784",
            "showbackground": true,
            "ticks": "",
            "zerolinecolor": "#C8D4E3"
           },
           "zaxis": {
            "backgroundcolor": "rgb(17,17,17)",
            "gridcolor": "#506784",
            "gridwidth": 2,
            "linecolor": "#506784",
            "showbackground": true,
            "ticks": "",
            "zerolinecolor": "#C8D4E3"
           }
          },
          "shapedefaults": {
           "line": {
            "color": "#f2f5fa"
           }
          },
          "sliderdefaults": {
           "bgcolor": "#C8D4E3",
           "bordercolor": "rgb(17,17,17)",
           "borderwidth": 1,
           "tickwidth": 0
          },
          "ternary": {
           "aaxis": {
            "gridcolor": "#506784",
            "linecolor": "#506784",
            "ticks": ""
           },
           "baxis": {
            "gridcolor": "#506784",
            "linecolor": "#506784",
            "ticks": ""
           },
           "bgcolor": "rgb(17,17,17)",
           "caxis": {
            "gridcolor": "#506784",
            "linecolor": "#506784",
            "ticks": ""
           }
          },
          "title": {
           "x": 0.05
          },
          "updatemenudefaults": {
           "bgcolor": "#506784",
           "borderwidth": 0
          },
          "xaxis": {
           "automargin": true,
           "gridcolor": "#283442",
           "linecolor": "#506784",
           "ticks": "",
           "title": {
            "standoff": 15
           },
           "zerolinecolor": "#283442",
           "zerolinewidth": 2
          },
          "yaxis": {
           "automargin": true,
           "gridcolor": "#283442",
           "linecolor": "#506784",
           "ticks": "",
           "title": {
            "standoff": 15
           },
           "zerolinecolor": "#283442",
           "zerolinewidth": 2
          }
         }
        },
        "title": {
         "text": "IC50 Differences of Mutants by Position"
        },
        "xaxis": {
         "anchor": "y",
         "domain": [
          0,
          1
         ],
         "title": {
          "text": "Mutation Position"
         }
        },
        "yaxis": {
         "anchor": "x",
         "domain": [
          0,
          1
         ],
         "title": {
          "text": "IC50 Difference"
         }
        }
       }
      }
     },
     "metadata": {},
     "output_type": "display_data"
    },
    {
     "data": {
      "application/vnd.plotly.v1+json": {
       "config": {
        "plotlyServerURL": "https://plot.ly"
       },
       "data": [
        {
         "customdata": [
          [
           "Glutamic Acid -> Aspartic Acid",
           "cAMP-dependent protein kinase catalytic subunit alpha [E127D]"
          ]
         ],
         "hovertemplate": "<b>%{hovertext}</b><br><br>Mutation Position=%{x}<br>IC50 Difference=%{y}<br>Mutation=%{customdata[0]}<extra></extra>",
         "hovertext": [
          "cAMP-dependent protein kinase catalytic subunit alpha [E127D]"
         ],
         "legendgroup": "cAMP-dependent protein kinase catalytic subunit alpha [E127D]",
         "marker": {
          "color": "#636efa",
          "symbol": "circle"
         },
         "mode": "markers",
         "name": "cAMP-dependent protein kinase catalytic subunit alpha [E127D]",
         "orientation": "v",
         "showlegend": true,
         "type": "scatter",
         "x": [
          127
         ],
         "xaxis": "x",
         "y": [
          -26000
         ],
         "yaxis": "y"
        },
        {
         "customdata": [
          [
           "Leucine -> Isoleucine",
           "cAMP-dependent protein kinase catalytic subunit alpha [L49I,Q181K,T183A]"
          ],
          [
           "Glutamine -> Lysine",
           "cAMP-dependent protein kinase catalytic subunit alpha [L49I,Q181K,T183A]"
          ],
          [
           "Threonine -> Alanine",
           "cAMP-dependent protein kinase catalytic subunit alpha [L49I,Q181K,T183A]"
          ]
         ],
         "hovertemplate": "<b>%{hovertext}</b><br><br>Mutation Position=%{x}<br>IC50 Difference=%{y}<br>Mutation=%{customdata[0]}<extra></extra>",
         "hovertext": [
          "cAMP-dependent protein kinase catalytic subunit alpha [L49I,Q181K,T183A]",
          "cAMP-dependent protein kinase catalytic subunit alpha [L49I,Q181K,T183A]",
          "cAMP-dependent protein kinase catalytic subunit alpha [L49I,Q181K,T183A]"
         ],
         "legendgroup": "cAMP-dependent protein kinase catalytic subunit alpha [L49I,Q181K,T183A]",
         "marker": {
          "color": "#EF553B",
          "symbol": "circle"
         },
         "mode": "markers",
         "name": "cAMP-dependent protein kinase catalytic subunit alpha [L49I,Q181K,T183A]",
         "orientation": "v",
         "showlegend": true,
         "type": "scatter",
         "x": [
          49,
          181,
          183
         ],
         "xaxis": "x",
         "y": [
          -36000,
          -36000,
          -36000
         ],
         "yaxis": "y"
        },
        {
         "customdata": [
          [
           "Leucine -> Isoleucine",
           "cAMP-dependent protein kinase catalytic subunit alpha [L49I,T183A]"
          ],
          [
           "Threonine -> Alanine",
           "cAMP-dependent protein kinase catalytic subunit alpha [L49I,T183A]"
          ]
         ],
         "hovertemplate": "<b>%{hovertext}</b><br><br>Mutation Position=%{x}<br>IC50 Difference=%{y}<br>Mutation=%{customdata[0]}<extra></extra>",
         "hovertext": [
          "cAMP-dependent protein kinase catalytic subunit alpha [L49I,T183A]",
          "cAMP-dependent protein kinase catalytic subunit alpha [L49I,T183A]"
         ],
         "legendgroup": "cAMP-dependent protein kinase catalytic subunit alpha [L49I,T183A]",
         "marker": {
          "color": "#00cc96",
          "symbol": "circle"
         },
         "mode": "markers",
         "name": "cAMP-dependent protein kinase catalytic subunit alpha [L49I,T183A]",
         "orientation": "v",
         "showlegend": true,
         "type": "scatter",
         "x": [
          49,
          183
         ],
         "xaxis": "x",
         "y": [
          -30000,
          -30000
         ],
         "yaxis": "y"
        },
        {
         "customdata": [
          [
           "Leucine -> Isoleucine",
           "cAMP-dependent protein kinase catalytic subunit alpha [L49I,V123M,E127D,Q181K,T183A]"
          ],
          [
           "Valine -> Methionine",
           "cAMP-dependent protein kinase catalytic subunit alpha [L49I,V123M,E127D,Q181K,T183A]"
          ],
          [
           "Glutamic Acid -> Aspartic Acid",
           "cAMP-dependent protein kinase catalytic subunit alpha [L49I,V123M,E127D,Q181K,T183A]"
          ],
          [
           "Glutamine -> Lysine",
           "cAMP-dependent protein kinase catalytic subunit alpha [L49I,V123M,E127D,Q181K,T183A]"
          ],
          [
           "Threonine -> Alanine",
           "cAMP-dependent protein kinase catalytic subunit alpha [L49I,V123M,E127D,Q181K,T183A]"
          ]
         ],
         "hovertemplate": "<b>%{hovertext}</b><br><br>Mutation Position=%{x}<br>IC50 Difference=%{y}<br>Mutation=%{customdata[0]}<extra></extra>",
         "hovertext": [
          "cAMP-dependent protein kinase catalytic subunit alpha [L49I,V123M,E127D,Q181K,T183A]",
          "cAMP-dependent protein kinase catalytic subunit alpha [L49I,V123M,E127D,Q181K,T183A]",
          "cAMP-dependent protein kinase catalytic subunit alpha [L49I,V123M,E127D,Q181K,T183A]",
          "cAMP-dependent protein kinase catalytic subunit alpha [L49I,V123M,E127D,Q181K,T183A]",
          "cAMP-dependent protein kinase catalytic subunit alpha [L49I,V123M,E127D,Q181K,T183A]"
         ],
         "legendgroup": "cAMP-dependent protein kinase catalytic subunit alpha [L49I,V123M,E127D,Q181K,T183A]",
         "marker": {
          "color": "#ab63fa",
          "symbol": "circle"
         },
         "mode": "markers",
         "name": "cAMP-dependent protein kinase catalytic subunit alpha [L49I,V123M,E127D,Q181K,T183A]",
         "orientation": "v",
         "showlegend": true,
         "type": "scatter",
         "x": [
          49,
          123,
          127,
          181,
          183
         ],
         "xaxis": "x",
         "y": [
          -36000,
          -36000,
          -36000,
          -36000,
          -36000
         ],
         "yaxis": "y"
        },
        {
         "customdata": [
          [
           "Leucine -> Isoleucine",
           "cAMP-dependent protein kinase catalytic subunit alpha [L49I,V123M,Q181K,T183A]"
          ],
          [
           "Valine -> Methionine",
           "cAMP-dependent protein kinase catalytic subunit alpha [L49I,V123M,Q181K,T183A]"
          ],
          [
           "Glutamine -> Lysine",
           "cAMP-dependent protein kinase catalytic subunit alpha [L49I,V123M,Q181K,T183A]"
          ],
          [
           "Threonine -> Alanine",
           "cAMP-dependent protein kinase catalytic subunit alpha [L49I,V123M,Q181K,T183A]"
          ]
         ],
         "hovertemplate": "<b>%{hovertext}</b><br><br>Mutation Position=%{x}<br>IC50 Difference=%{y}<br>Mutation=%{customdata[0]}<extra></extra>",
         "hovertext": [
          "cAMP-dependent protein kinase catalytic subunit alpha [L49I,V123M,Q181K,T183A]",
          "cAMP-dependent protein kinase catalytic subunit alpha [L49I,V123M,Q181K,T183A]",
          "cAMP-dependent protein kinase catalytic subunit alpha [L49I,V123M,Q181K,T183A]",
          "cAMP-dependent protein kinase catalytic subunit alpha [L49I,V123M,Q181K,T183A]"
         ],
         "legendgroup": "cAMP-dependent protein kinase catalytic subunit alpha [L49I,V123M,Q181K,T183A]",
         "marker": {
          "color": "#FFA15A",
          "symbol": "circle"
         },
         "mode": "markers",
         "name": "cAMP-dependent protein kinase catalytic subunit alpha [L49I,V123M,Q181K,T183A]",
         "orientation": "v",
         "showlegend": true,
         "type": "scatter",
         "x": [
          49,
          123,
          181,
          183
         ],
         "xaxis": "x",
         "y": [
          -24000,
          -24000,
          -24000,
          -24000
         ],
         "yaxis": "y"
        },
        {
         "customdata": [
          [
           "Leucine -> Isoleucine",
           "cAMP-dependent protein kinase catalytic subunit alpha [L49I]"
          ]
         ],
         "hovertemplate": "<b>%{hovertext}</b><br><br>Mutation Position=%{x}<br>IC50 Difference=%{y}<br>Mutation=%{customdata[0]}<extra></extra>",
         "hovertext": [
          "cAMP-dependent protein kinase catalytic subunit alpha [L49I]"
         ],
         "legendgroup": "cAMP-dependent protein kinase catalytic subunit alpha [L49I]",
         "marker": {
          "color": "#19d3f3",
          "symbol": "circle"
         },
         "mode": "markers",
         "name": "cAMP-dependent protein kinase catalytic subunit alpha [L49I]",
         "orientation": "v",
         "showlegend": true,
         "type": "scatter",
         "x": [
          49
         ],
         "xaxis": "x",
         "y": [
          -14000
         ],
         "yaxis": "y"
        },
        {
         "customdata": [
          [
           "Glutamine -> Lysine",
           "cAMP-dependent protein kinase catalytic subunit alpha [Q181K,T183A]"
          ],
          [
           "Threonine -> Alanine",
           "cAMP-dependent protein kinase catalytic subunit alpha [Q181K,T183A]"
          ]
         ],
         "hovertemplate": "<b>%{hovertext}</b><br><br>Mutation Position=%{x}<br>IC50 Difference=%{y}<br>Mutation=%{customdata[0]}<extra></extra>",
         "hovertext": [
          "cAMP-dependent protein kinase catalytic subunit alpha [Q181K,T183A]",
          "cAMP-dependent protein kinase catalytic subunit alpha [Q181K,T183A]"
         ],
         "legendgroup": "cAMP-dependent protein kinase catalytic subunit alpha [Q181K,T183A]",
         "marker": {
          "color": "#FF6692",
          "symbol": "circle"
         },
         "mode": "markers",
         "name": "cAMP-dependent protein kinase catalytic subunit alpha [Q181K,T183A]",
         "orientation": "v",
         "showlegend": true,
         "type": "scatter",
         "x": [
          181,
          183
         ],
         "xaxis": "x",
         "y": [
          -33000,
          -33000
         ],
         "yaxis": "y"
        },
        {
         "customdata": [
          [
           "Threonine -> Alanine",
           "cAMP-dependent protein kinase catalytic subunit alpha [T183A]"
          ]
         ],
         "hovertemplate": "<b>%{hovertext}</b><br><br>Mutation Position=%{x}<br>IC50 Difference=%{y}<br>Mutation=%{customdata[0]}<extra></extra>",
         "hovertext": [
          "cAMP-dependent protein kinase catalytic subunit alpha [T183A]"
         ],
         "legendgroup": "cAMP-dependent protein kinase catalytic subunit alpha [T183A]",
         "marker": {
          "color": "#B6E880",
          "symbol": "circle"
         },
         "mode": "markers",
         "name": "cAMP-dependent protein kinase catalytic subunit alpha [T183A]",
         "orientation": "v",
         "showlegend": true,
         "type": "scatter",
         "x": [
          183
         ],
         "xaxis": "x",
         "y": [
          -33000
         ],
         "yaxis": "y"
        },
        {
         "customdata": [
          [
           "Valine -> Methionine",
           "cAMP-dependent protein kinase catalytic subunit alpha [V123M,Q181K,T183A]"
          ],
          [
           "Glutamine -> Lysine",
           "cAMP-dependent protein kinase catalytic subunit alpha [V123M,Q181K,T183A]"
          ],
          [
           "Threonine -> Alanine",
           "cAMP-dependent protein kinase catalytic subunit alpha [V123M,Q181K,T183A]"
          ]
         ],
         "hovertemplate": "<b>%{hovertext}</b><br><br>Mutation Position=%{x}<br>IC50 Difference=%{y}<br>Mutation=%{customdata[0]}<extra></extra>",
         "hovertext": [
          "cAMP-dependent protein kinase catalytic subunit alpha [V123M,Q181K,T183A]",
          "cAMP-dependent protein kinase catalytic subunit alpha [V123M,Q181K,T183A]",
          "cAMP-dependent protein kinase catalytic subunit alpha [V123M,Q181K,T183A]"
         ],
         "legendgroup": "cAMP-dependent protein kinase catalytic subunit alpha [V123M,Q181K,T183A]",
         "marker": {
          "color": "#FF97FF",
          "symbol": "circle"
         },
         "mode": "markers",
         "name": "cAMP-dependent protein kinase catalytic subunit alpha [V123M,Q181K,T183A]",
         "orientation": "v",
         "showlegend": true,
         "type": "scatter",
         "x": [
          123,
          181,
          183
         ],
         "xaxis": "x",
         "y": [
          -17000,
          -17000,
          -17000
         ],
         "yaxis": "y"
        },
        {
         "customdata": [
          [
           "Valine -> Methionine",
           "cAMP-dependent protein kinase catalytic subunit alpha [V123M,T183A]"
          ],
          [
           "Threonine -> Alanine",
           "cAMP-dependent protein kinase catalytic subunit alpha [V123M,T183A]"
          ]
         ],
         "hovertemplate": "<b>%{hovertext}</b><br><br>Mutation Position=%{x}<br>IC50 Difference=%{y}<br>Mutation=%{customdata[0]}<extra></extra>",
         "hovertext": [
          "cAMP-dependent protein kinase catalytic subunit alpha [V123M,T183A]",
          "cAMP-dependent protein kinase catalytic subunit alpha [V123M,T183A]"
         ],
         "legendgroup": "cAMP-dependent protein kinase catalytic subunit alpha [V123M,T183A]",
         "marker": {
          "color": "#FECB52",
          "symbol": "circle"
         },
         "mode": "markers",
         "name": "cAMP-dependent protein kinase catalytic subunit alpha [V123M,T183A]",
         "orientation": "v",
         "showlegend": true,
         "type": "scatter",
         "x": [
          123,
          183
         ],
         "xaxis": "x",
         "y": [
          -11000,
          -11000
         ],
         "yaxis": "y"
        },
        {
         "customdata": [
          [
           "Valine -> Methionine",
           "cAMP-dependent protein kinase catalytic subunit alpha [V123M]"
          ]
         ],
         "hovertemplate": "<b>%{hovertext}</b><br><br>Mutation Position=%{x}<br>IC50 Difference=%{y}<br>Mutation=%{customdata[0]}<extra></extra>",
         "hovertext": [
          "cAMP-dependent protein kinase catalytic subunit alpha [V123M]"
         ],
         "legendgroup": "cAMP-dependent protein kinase catalytic subunit alpha [V123M]",
         "marker": {
          "color": "#636efa",
          "symbol": "circle"
         },
         "mode": "markers",
         "name": "cAMP-dependent protein kinase catalytic subunit alpha [V123M]",
         "orientation": "v",
         "showlegend": true,
         "type": "scatter",
         "x": [
          123
         ],
         "xaxis": "x",
         "y": [
          18000
         ],
         "yaxis": "y"
        }
       ],
       "layout": {
        "hovermode": "closest",
        "legend": {
         "title": {
          "text": "Mutant Name"
         },
         "tracegroupgap": 0
        },
        "template": {
         "data": {
          "bar": [
           {
            "error_x": {
             "color": "#f2f5fa"
            },
            "error_y": {
             "color": "#f2f5fa"
            },
            "marker": {
             "line": {
              "color": "rgb(17,17,17)",
              "width": 0.5
             },
             "pattern": {
              "fillmode": "overlay",
              "size": 10,
              "solidity": 0.2
             }
            },
            "type": "bar"
           }
          ],
          "barpolar": [
           {
            "marker": {
             "line": {
              "color": "rgb(17,17,17)",
              "width": 0.5
             },
             "pattern": {
              "fillmode": "overlay",
              "size": 10,
              "solidity": 0.2
             }
            },
            "type": "barpolar"
           }
          ],
          "carpet": [
           {
            "aaxis": {
             "endlinecolor": "#A2B1C6",
             "gridcolor": "#506784",
             "linecolor": "#506784",
             "minorgridcolor": "#506784",
             "startlinecolor": "#A2B1C6"
            },
            "baxis": {
             "endlinecolor": "#A2B1C6",
             "gridcolor": "#506784",
             "linecolor": "#506784",
             "minorgridcolor": "#506784",
             "startlinecolor": "#A2B1C6"
            },
            "type": "carpet"
           }
          ],
          "choropleth": [
           {
            "colorbar": {
             "outlinewidth": 0,
             "ticks": ""
            },
            "type": "choropleth"
           }
          ],
          "contour": [
           {
            "colorbar": {
             "outlinewidth": 0,
             "ticks": ""
            },
            "colorscale": [
             [
              0,
              "#0d0887"
             ],
             [
              0.1111111111111111,
              "#46039f"
             ],
             [
              0.2222222222222222,
              "#7201a8"
             ],
             [
              0.3333333333333333,
              "#9c179e"
             ],
             [
              0.4444444444444444,
              "#bd3786"
             ],
             [
              0.5555555555555556,
              "#d8576b"
             ],
             [
              0.6666666666666666,
              "#ed7953"
             ],
             [
              0.7777777777777778,
              "#fb9f3a"
             ],
             [
              0.8888888888888888,
              "#fdca26"
             ],
             [
              1,
              "#f0f921"
             ]
            ],
            "type": "contour"
           }
          ],
          "contourcarpet": [
           {
            "colorbar": {
             "outlinewidth": 0,
             "ticks": ""
            },
            "type": "contourcarpet"
           }
          ],
          "heatmap": [
           {
            "colorbar": {
             "outlinewidth": 0,
             "ticks": ""
            },
            "colorscale": [
             [
              0,
              "#0d0887"
             ],
             [
              0.1111111111111111,
              "#46039f"
             ],
             [
              0.2222222222222222,
              "#7201a8"
             ],
             [
              0.3333333333333333,
              "#9c179e"
             ],
             [
              0.4444444444444444,
              "#bd3786"
             ],
             [
              0.5555555555555556,
              "#d8576b"
             ],
             [
              0.6666666666666666,
              "#ed7953"
             ],
             [
              0.7777777777777778,
              "#fb9f3a"
             ],
             [
              0.8888888888888888,
              "#fdca26"
             ],
             [
              1,
              "#f0f921"
             ]
            ],
            "type": "heatmap"
           }
          ],
          "heatmapgl": [
           {
            "colorbar": {
             "outlinewidth": 0,
             "ticks": ""
            },
            "colorscale": [
             [
              0,
              "#0d0887"
             ],
             [
              0.1111111111111111,
              "#46039f"
             ],
             [
              0.2222222222222222,
              "#7201a8"
             ],
             [
              0.3333333333333333,
              "#9c179e"
             ],
             [
              0.4444444444444444,
              "#bd3786"
             ],
             [
              0.5555555555555556,
              "#d8576b"
             ],
             [
              0.6666666666666666,
              "#ed7953"
             ],
             [
              0.7777777777777778,
              "#fb9f3a"
             ],
             [
              0.8888888888888888,
              "#fdca26"
             ],
             [
              1,
              "#f0f921"
             ]
            ],
            "type": "heatmapgl"
           }
          ],
          "histogram": [
           {
            "marker": {
             "pattern": {
              "fillmode": "overlay",
              "size": 10,
              "solidity": 0.2
             }
            },
            "type": "histogram"
           }
          ],
          "histogram2d": [
           {
            "colorbar": {
             "outlinewidth": 0,
             "ticks": ""
            },
            "colorscale": [
             [
              0,
              "#0d0887"
             ],
             [
              0.1111111111111111,
              "#46039f"
             ],
             [
              0.2222222222222222,
              "#7201a8"
             ],
             [
              0.3333333333333333,
              "#9c179e"
             ],
             [
              0.4444444444444444,
              "#bd3786"
             ],
             [
              0.5555555555555556,
              "#d8576b"
             ],
             [
              0.6666666666666666,
              "#ed7953"
             ],
             [
              0.7777777777777778,
              "#fb9f3a"
             ],
             [
              0.8888888888888888,
              "#fdca26"
             ],
             [
              1,
              "#f0f921"
             ]
            ],
            "type": "histogram2d"
           }
          ],
          "histogram2dcontour": [
           {
            "colorbar": {
             "outlinewidth": 0,
             "ticks": ""
            },
            "colorscale": [
             [
              0,
              "#0d0887"
             ],
             [
              0.1111111111111111,
              "#46039f"
             ],
             [
              0.2222222222222222,
              "#7201a8"
             ],
             [
              0.3333333333333333,
              "#9c179e"
             ],
             [
              0.4444444444444444,
              "#bd3786"
             ],
             [
              0.5555555555555556,
              "#d8576b"
             ],
             [
              0.6666666666666666,
              "#ed7953"
             ],
             [
              0.7777777777777778,
              "#fb9f3a"
             ],
             [
              0.8888888888888888,
              "#fdca26"
             ],
             [
              1,
              "#f0f921"
             ]
            ],
            "type": "histogram2dcontour"
           }
          ],
          "mesh3d": [
           {
            "colorbar": {
             "outlinewidth": 0,
             "ticks": ""
            },
            "type": "mesh3d"
           }
          ],
          "parcoords": [
           {
            "line": {
             "colorbar": {
              "outlinewidth": 0,
              "ticks": ""
             }
            },
            "type": "parcoords"
           }
          ],
          "pie": [
           {
            "automargin": true,
            "type": "pie"
           }
          ],
          "scatter": [
           {
            "marker": {
             "line": {
              "color": "#283442"
             }
            },
            "type": "scatter"
           }
          ],
          "scatter3d": [
           {
            "line": {
             "colorbar": {
              "outlinewidth": 0,
              "ticks": ""
             }
            },
            "marker": {
             "colorbar": {
              "outlinewidth": 0,
              "ticks": ""
             }
            },
            "type": "scatter3d"
           }
          ],
          "scattercarpet": [
           {
            "marker": {
             "colorbar": {
              "outlinewidth": 0,
              "ticks": ""
             }
            },
            "type": "scattercarpet"
           }
          ],
          "scattergeo": [
           {
            "marker": {
             "colorbar": {
              "outlinewidth": 0,
              "ticks": ""
             }
            },
            "type": "scattergeo"
           }
          ],
          "scattergl": [
           {
            "marker": {
             "line": {
              "color": "#283442"
             }
            },
            "type": "scattergl"
           }
          ],
          "scattermapbox": [
           {
            "marker": {
             "colorbar": {
              "outlinewidth": 0,
              "ticks": ""
             }
            },
            "type": "scattermapbox"
           }
          ],
          "scatterpolar": [
           {
            "marker": {
             "colorbar": {
              "outlinewidth": 0,
              "ticks": ""
             }
            },
            "type": "scatterpolar"
           }
          ],
          "scatterpolargl": [
           {
            "marker": {
             "colorbar": {
              "outlinewidth": 0,
              "ticks": ""
             }
            },
            "type": "scatterpolargl"
           }
          ],
          "scatterternary": [
           {
            "marker": {
             "colorbar": {
              "outlinewidth": 0,
              "ticks": ""
             }
            },
            "type": "scatterternary"
           }
          ],
          "surface": [
           {
            "colorbar": {
             "outlinewidth": 0,
             "ticks": ""
            },
            "colorscale": [
             [
              0,
              "#0d0887"
             ],
             [
              0.1111111111111111,
              "#46039f"
             ],
             [
              0.2222222222222222,
              "#7201a8"
             ],
             [
              0.3333333333333333,
              "#9c179e"
             ],
             [
              0.4444444444444444,
              "#bd3786"
             ],
             [
              0.5555555555555556,
              "#d8576b"
             ],
             [
              0.6666666666666666,
              "#ed7953"
             ],
             [
              0.7777777777777778,
              "#fb9f3a"
             ],
             [
              0.8888888888888888,
              "#fdca26"
             ],
             [
              1,
              "#f0f921"
             ]
            ],
            "type": "surface"
           }
          ],
          "table": [
           {
            "cells": {
             "fill": {
              "color": "#506784"
             },
             "line": {
              "color": "rgb(17,17,17)"
             }
            },
            "header": {
             "fill": {
              "color": "#2a3f5f"
             },
             "line": {
              "color": "rgb(17,17,17)"
             }
            },
            "type": "table"
           }
          ]
         },
         "layout": {
          "annotationdefaults": {
           "arrowcolor": "#f2f5fa",
           "arrowhead": 0,
           "arrowwidth": 1
          },
          "autotypenumbers": "strict",
          "coloraxis": {
           "colorbar": {
            "outlinewidth": 0,
            "ticks": ""
           }
          },
          "colorscale": {
           "diverging": [
            [
             0,
             "#8e0152"
            ],
            [
             0.1,
             "#c51b7d"
            ],
            [
             0.2,
             "#de77ae"
            ],
            [
             0.3,
             "#f1b6da"
            ],
            [
             0.4,
             "#fde0ef"
            ],
            [
             0.5,
             "#f7f7f7"
            ],
            [
             0.6,
             "#e6f5d0"
            ],
            [
             0.7,
             "#b8e186"
            ],
            [
             0.8,
             "#7fbc41"
            ],
            [
             0.9,
             "#4d9221"
            ],
            [
             1,
             "#276419"
            ]
           ],
           "sequential": [
            [
             0,
             "#0d0887"
            ],
            [
             0.1111111111111111,
             "#46039f"
            ],
            [
             0.2222222222222222,
             "#7201a8"
            ],
            [
             0.3333333333333333,
             "#9c179e"
            ],
            [
             0.4444444444444444,
             "#bd3786"
            ],
            [
             0.5555555555555556,
             "#d8576b"
            ],
            [
             0.6666666666666666,
             "#ed7953"
            ],
            [
             0.7777777777777778,
             "#fb9f3a"
            ],
            [
             0.8888888888888888,
             "#fdca26"
            ],
            [
             1,
             "#f0f921"
            ]
           ],
           "sequentialminus": [
            [
             0,
             "#0d0887"
            ],
            [
             0.1111111111111111,
             "#46039f"
            ],
            [
             0.2222222222222222,
             "#7201a8"
            ],
            [
             0.3333333333333333,
             "#9c179e"
            ],
            [
             0.4444444444444444,
             "#bd3786"
            ],
            [
             0.5555555555555556,
             "#d8576b"
            ],
            [
             0.6666666666666666,
             "#ed7953"
            ],
            [
             0.7777777777777778,
             "#fb9f3a"
            ],
            [
             0.8888888888888888,
             "#fdca26"
            ],
            [
             1,
             "#f0f921"
            ]
           ]
          },
          "colorway": [
           "#636efa",
           "#EF553B",
           "#00cc96",
           "#ab63fa",
           "#FFA15A",
           "#19d3f3",
           "#FF6692",
           "#B6E880",
           "#FF97FF",
           "#FECB52"
          ],
          "font": {
           "color": "#f2f5fa"
          },
          "geo": {
           "bgcolor": "rgb(17,17,17)",
           "lakecolor": "rgb(17,17,17)",
           "landcolor": "rgb(17,17,17)",
           "showlakes": true,
           "showland": true,
           "subunitcolor": "#506784"
          },
          "hoverlabel": {
           "align": "left"
          },
          "hovermode": "closest",
          "mapbox": {
           "style": "dark"
          },
          "paper_bgcolor": "rgb(17,17,17)",
          "plot_bgcolor": "rgb(17,17,17)",
          "polar": {
           "angularaxis": {
            "gridcolor": "#506784",
            "linecolor": "#506784",
            "ticks": ""
           },
           "bgcolor": "rgb(17,17,17)",
           "radialaxis": {
            "gridcolor": "#506784",
            "linecolor": "#506784",
            "ticks": ""
           }
          },
          "scene": {
           "xaxis": {
            "backgroundcolor": "rgb(17,17,17)",
            "gridcolor": "#506784",
            "gridwidth": 2,
            "linecolor": "#506784",
            "showbackground": true,
            "ticks": "",
            "zerolinecolor": "#C8D4E3"
           },
           "yaxis": {
            "backgroundcolor": "rgb(17,17,17)",
            "gridcolor": "#506784",
            "gridwidth": 2,
            "linecolor": "#506784",
            "showbackground": true,
            "ticks": "",
            "zerolinecolor": "#C8D4E3"
           },
           "zaxis": {
            "backgroundcolor": "rgb(17,17,17)",
            "gridcolor": "#506784",
            "gridwidth": 2,
            "linecolor": "#506784",
            "showbackground": true,
            "ticks": "",
            "zerolinecolor": "#C8D4E3"
           }
          },
          "shapedefaults": {
           "line": {
            "color": "#f2f5fa"
           }
          },
          "sliderdefaults": {
           "bgcolor": "#C8D4E3",
           "bordercolor": "rgb(17,17,17)",
           "borderwidth": 1,
           "tickwidth": 0
          },
          "ternary": {
           "aaxis": {
            "gridcolor": "#506784",
            "linecolor": "#506784",
            "ticks": ""
           },
           "baxis": {
            "gridcolor": "#506784",
            "linecolor": "#506784",
            "ticks": ""
           },
           "bgcolor": "rgb(17,17,17)",
           "caxis": {
            "gridcolor": "#506784",
            "linecolor": "#506784",
            "ticks": ""
           }
          },
          "title": {
           "x": 0.05
          },
          "updatemenudefaults": {
           "bgcolor": "#506784",
           "borderwidth": 0
          },
          "xaxis": {
           "automargin": true,
           "gridcolor": "#283442",
           "linecolor": "#506784",
           "ticks": "",
           "title": {
            "standoff": 15
           },
           "zerolinecolor": "#283442",
           "zerolinewidth": 2
          },
          "yaxis": {
           "automargin": true,
           "gridcolor": "#283442",
           "linecolor": "#506784",
           "ticks": "",
           "title": {
            "standoff": 15
           },
           "zerolinecolor": "#283442",
           "zerolinewidth": 2
          }
         }
        },
        "title": {
         "text": "IC50 Differences of Mutants by Position"
        },
        "xaxis": {
         "anchor": "y",
         "domain": [
          0,
          1
         ],
         "title": {
          "text": "Mutation Position"
         }
        },
        "yaxis": {
         "anchor": "x",
         "domain": [
          0,
          1
         ],
         "title": {
          "text": "IC50 Difference"
         }
        }
       }
      }
     },
     "metadata": {},
     "output_type": "display_data"
    },
    {
     "data": {
      "application/vnd.plotly.v1+json": {
       "config": {
        "plotlyServerURL": "https://plot.ly"
       },
       "data": [
        {
         "customdata": [
          [
           "Deletion",
           "Epidermal growth factor receptor [1-18,20-1210,C797S]"
          ],
          [
           "Cysteine -> Serine",
           "Epidermal growth factor receptor [1-18,20-1210,C797S]"
          ]
         ],
         "hovertemplate": "<b>%{hovertext}</b><br><br>Mutation Position=%{x}<br>IC50 Difference=%{y}<br>Mutation=%{customdata[0]}<extra></extra>",
         "hovertext": [
          "Epidermal growth factor receptor [1-18,20-1210,C797S]",
          "Epidermal growth factor receptor [1-18,20-1210,C797S]"
         ],
         "legendgroup": "Epidermal growth factor receptor [1-18,20-1210,C797S]",
         "marker": {
          "color": "#636efa",
          "symbol": "circle"
         },
         "mode": "markers",
         "name": "Epidermal growth factor receptor [1-18,20-1210,C797S]",
         "orientation": "v",
         "showlegend": true,
         "type": "scatter",
         "x": [
          18,
          796
         ],
         "xaxis": "x",
         "y": [
          650,
          650
         ],
         "yaxis": "y"
        },
        {
         "customdata": [
          [
           "Deletion",
           "Epidermal growth factor receptor [1-18,20-1210,T790M,C797S]"
          ],
          [
           "Threonine -> Methionine",
           "Epidermal growth factor receptor [1-18,20-1210,T790M,C797S]"
          ],
          [
           "Cysteine -> Serine",
           "Epidermal growth factor receptor [1-18,20-1210,T790M,C797S]"
          ]
         ],
         "hovertemplate": "<b>%{hovertext}</b><br><br>Mutation Position=%{x}<br>IC50 Difference=%{y}<br>Mutation=%{customdata[0]}<extra></extra>",
         "hovertext": [
          "Epidermal growth factor receptor [1-18,20-1210,T790M,C797S]",
          "Epidermal growth factor receptor [1-18,20-1210,T790M,C797S]",
          "Epidermal growth factor receptor [1-18,20-1210,T790M,C797S]"
         ],
         "legendgroup": "Epidermal growth factor receptor [1-18,20-1210,T790M,C797S]",
         "marker": {
          "color": "#EF553B",
          "symbol": "circle"
         },
         "mode": "markers",
         "name": "Epidermal growth factor receptor [1-18,20-1210,T790M,C797S]",
         "orientation": "v",
         "showlegend": true,
         "type": "scatter",
         "x": [
          18,
          789,
          796
         ],
         "xaxis": "x",
         "y": [
          360,
          360,
          360
         ],
         "yaxis": "y"
        },
        {
         "customdata": [
          [
           "Deletion",
           "Epidermal growth factor receptor [1-18,20-1210,T790M]"
          ],
          [
           "Deletion",
           "Epidermal growth factor receptor [1-18,20-1210,T790M]"
          ],
          [
           "Deletion",
           "Epidermal growth factor receptor [1-18,20-1210,T790M]"
          ],
          [
           "Deletion",
           "Epidermal growth factor receptor [1-18,20-1210,T790M]"
          ],
          [
           "Deletion",
           "Epidermal growth factor receptor [1-18,20-1210,T790M]"
          ],
          [
           "Deletion",
           "Epidermal growth factor receptor [1-18,20-1210,T790M]"
          ],
          [
           "Deletion",
           "Epidermal growth factor receptor [1-18,20-1210,T790M]"
          ],
          [
           "Deletion",
           "Epidermal growth factor receptor [1-18,20-1210,T790M]"
          ],
          [
           "Deletion",
           "Epidermal growth factor receptor [1-18,20-1210,T790M]"
          ],
          [
           "Deletion",
           "Epidermal growth factor receptor [1-18,20-1210,T790M]"
          ],
          [
           "Deletion",
           "Epidermal growth factor receptor [1-18,20-1210,T790M]"
          ],
          [
           "Deletion",
           "Epidermal growth factor receptor [1-18,20-1210,T790M]"
          ],
          [
           "Deletion",
           "Epidermal growth factor receptor [1-18,20-1210,T790M]"
          ],
          [
           "Deletion",
           "Epidermal growth factor receptor [1-18,20-1210,T790M]"
          ],
          [
           "Deletion",
           "Epidermal growth factor receptor [1-18,20-1210,T790M]"
          ],
          [
           "Deletion",
           "Epidermal growth factor receptor [1-18,20-1210,T790M]"
          ],
          [
           "Threonine -> Methionine",
           "Epidermal growth factor receptor [1-18,20-1210,T790M]"
          ]
         ],
         "hovertemplate": "<b>%{hovertext}</b><br><br>Mutation Position=%{x}<br>IC50 Difference=%{y}<br>Mutation=%{customdata[0]}<extra></extra>",
         "hovertext": [
          "Epidermal growth factor receptor [1-18,20-1210,T790M]",
          "Epidermal growth factor receptor [1-18,20-1210,T790M]",
          "Epidermal growth factor receptor [1-18,20-1210,T790M]",
          "Epidermal growth factor receptor [1-18,20-1210,T790M]",
          "Epidermal growth factor receptor [1-18,20-1210,T790M]",
          "Epidermal growth factor receptor [1-18,20-1210,T790M]",
          "Epidermal growth factor receptor [1-18,20-1210,T790M]",
          "Epidermal growth factor receptor [1-18,20-1210,T790M]",
          "Epidermal growth factor receptor [1-18,20-1210,T790M]",
          "Epidermal growth factor receptor [1-18,20-1210,T790M]",
          "Epidermal growth factor receptor [1-18,20-1210,T790M]",
          "Epidermal growth factor receptor [1-18,20-1210,T790M]",
          "Epidermal growth factor receptor [1-18,20-1210,T790M]",
          "Epidermal growth factor receptor [1-18,20-1210,T790M]",
          "Epidermal growth factor receptor [1-18,20-1210,T790M]",
          "Epidermal growth factor receptor [1-18,20-1210,T790M]",
          "Epidermal growth factor receptor [1-18,20-1210,T790M]"
         ],
         "legendgroup": "Epidermal growth factor receptor [1-18,20-1210,T790M]",
         "marker": {
          "color": "#00cc96",
          "symbol": "circle"
         },
         "mode": "markers",
         "name": "Epidermal growth factor receptor [1-18,20-1210,T790M]",
         "orientation": "v",
         "showlegend": true,
         "type": "scatter",
         "x": [
          18,
          500,
          501,
          502,
          503,
          504,
          505,
          506,
          507,
          508,
          509,
          510,
          511,
          512,
          513,
          514,
          804
         ],
         "xaxis": "x",
         "y": [
          -90.9,
          -90.9,
          -90.9,
          -90.9,
          -90.9,
          -90.9,
          -90.9,
          -90.9,
          -90.9,
          -90.9,
          -90.9,
          -90.9,
          -90.9,
          -90.9,
          -90.9,
          -90.9,
          -90.9
         ],
         "yaxis": "y"
        },
        {
         "customdata": [
          [
           "Deletion",
           "Epidermal growth factor receptor [1-18,20-1210]"
          ]
         ],
         "hovertemplate": "<b>%{hovertext}</b><br><br>Mutation Position=%{x}<br>IC50 Difference=%{y}<br>Mutation=%{customdata[0]}<extra></extra>",
         "hovertext": [
          "Epidermal growth factor receptor [1-18,20-1210]"
         ],
         "legendgroup": "Epidermal growth factor receptor [1-18,20-1210]",
         "marker": {
          "color": "#ab63fa",
          "symbol": "circle"
         },
         "mode": "markers",
         "name": "Epidermal growth factor receptor [1-18,20-1210]",
         "orientation": "v",
         "showlegend": true,
         "type": "scatter",
         "x": [
          18
         ],
         "xaxis": "x",
         "y": [
          -93.9
         ],
         "yaxis": "y"
        },
        {
         "customdata": [
          [
           "Deletion",
           "Epidermal growth factor receptor [1-769,'ASV',770-1210]"
          ],
          [
           "Deletion",
           "Epidermal growth factor receptor [1-769,'ASV',770-1210]"
          ],
          [
           "Deletion",
           "Epidermal growth factor receptor [1-769,'ASV',770-1210]"
          ]
         ],
         "hovertemplate": "<b>%{hovertext}</b><br><br>Mutation Position=%{x}<br>IC50 Difference=%{y}<br>Mutation=%{customdata[0]}<extra></extra>",
         "hovertext": [
          "Epidermal growth factor receptor [1-769,'ASV',770-1210]",
          "Epidermal growth factor receptor [1-769,'ASV',770-1210]",
          "Epidermal growth factor receptor [1-769,'ASV',770-1210]"
         ],
         "legendgroup": "Epidermal growth factor receptor [1-769,'ASV',770-1210]",
         "marker": {
          "color": "#FFA15A",
          "symbol": "circle"
         },
         "mode": "markers",
         "name": "Epidermal growth factor receptor [1-769,'ASV',770-1210]",
         "orientation": "v",
         "showlegend": true,
         "type": "scatter",
         "x": [
          766,
          767,
          768
         ],
         "xaxis": "x",
         "y": [
          196,
          196,
          196
         ],
         "yaxis": "y"
        },
        {
         "customdata": [
          [
           "Deletion",
           "Epidermal growth factor receptor [1-773,'NPH',774-1210]"
          ],
          [
           "Deletion",
           "Epidermal growth factor receptor [1-773,'NPH',774-1210]"
          ],
          [
           "Deletion",
           "Epidermal growth factor receptor [1-773,'NPH',774-1210]"
          ]
         ],
         "hovertemplate": "<b>%{hovertext}</b><br><br>Mutation Position=%{x}<br>IC50 Difference=%{y}<br>Mutation=%{customdata[0]}<extra></extra>",
         "hovertext": [
          "Epidermal growth factor receptor [1-773,'NPH',774-1210]",
          "Epidermal growth factor receptor [1-773,'NPH',774-1210]",
          "Epidermal growth factor receptor [1-773,'NPH',774-1210]"
         ],
         "legendgroup": "Epidermal growth factor receptor [1-773,'NPH',774-1210]",
         "marker": {
          "color": "#19d3f3",
          "symbol": "circle"
         },
         "mode": "markers",
         "name": "Epidermal growth factor receptor [1-773,'NPH',774-1210]",
         "orientation": "v",
         "showlegend": true,
         "type": "scatter",
         "x": [
          770,
          771,
          772
         ],
         "xaxis": "x",
         "y": [
          273,
          273,
          273
         ],
         "yaxis": "y"
        },
        {
         "customdata": [
          [
           "Cysteine -> Serine",
           "Epidermal growth factor receptor [L858R,C797S]"
          ],
          [
           "Leucine -> Arginine",
           "Epidermal growth factor receptor [L858R,C797S]"
          ]
         ],
         "hovertemplate": "<b>%{hovertext}</b><br><br>Mutation Position=%{x}<br>IC50 Difference=%{y}<br>Mutation=%{customdata[0]}<extra></extra>",
         "hovertext": [
          "Epidermal growth factor receptor [L858R,C797S]",
          "Epidermal growth factor receptor [L858R,C797S]"
         ],
         "legendgroup": "Epidermal growth factor receptor [L858R,C797S]",
         "marker": {
          "color": "#FF6692",
          "symbol": "circle"
         },
         "mode": "markers",
         "name": "Epidermal growth factor receptor [L858R,C797S]",
         "orientation": "v",
         "showlegend": true,
         "type": "scatter",
         "x": [
          796,
          857
         ],
         "xaxis": "x",
         "y": [
          1890,
          1890
         ],
         "yaxis": "y"
        },
        {
         "customdata": [
          [
           "Threonine -> Methionine",
           "Epidermal growth factor receptor [L858R,T790M,C797S]"
          ],
          [
           "Cysteine -> Serine",
           "Epidermal growth factor receptor [L858R,T790M,C797S]"
          ],
          [
           "Leucine -> Arginine",
           "Epidermal growth factor receptor [L858R,T790M,C797S]"
          ]
         ],
         "hovertemplate": "<b>%{hovertext}</b><br><br>Mutation Position=%{x}<br>IC50 Difference=%{y}<br>Mutation=%{customdata[0]}<extra></extra>",
         "hovertext": [
          "Epidermal growth factor receptor [L858R,T790M,C797S]",
          "Epidermal growth factor receptor [L858R,T790M,C797S]",
          "Epidermal growth factor receptor [L858R,T790M,C797S]"
         ],
         "legendgroup": "Epidermal growth factor receptor [L858R,T790M,C797S]",
         "marker": {
          "color": "#B6E880",
          "symbol": "circle"
         },
         "mode": "markers",
         "name": "Epidermal growth factor receptor [L858R,T790M,C797S]",
         "orientation": "v",
         "showlegend": true,
         "type": "scatter",
         "x": [
          789,
          796,
          857
         ],
         "xaxis": "x",
         "y": [
          664,
          664,
          664
         ],
         "yaxis": "y"
        },
        {
         "customdata": [
          [
           "Leucine -> Arginine",
           "Epidermal growth factor receptor [L858R]"
          ]
         ],
         "hovertemplate": "<b>%{hovertext}</b><br><br>Mutation Position=%{x}<br>IC50 Difference=%{y}<br>Mutation=%{customdata[0]}<extra></extra>",
         "hovertext": [
          "Epidermal growth factor receptor [L858R]"
         ],
         "legendgroup": "Epidermal growth factor receptor [L858R]",
         "marker": {
          "color": "#FF97FF",
          "symbol": "circle"
         },
         "mode": "markers",
         "name": "Epidermal growth factor receptor [L858R]",
         "orientation": "v",
         "showlegend": true,
         "type": "scatter",
         "x": [
          857
         ],
         "xaxis": "x",
         "y": [
          -89.9
         ],
         "yaxis": "y"
        },
        {
         "customdata": [
          [
           "Threonine -> Methionine",
           "Epidermal growth factor receptor [T790M,L858R]"
          ],
          [
           "Leucine -> Arginine",
           "Epidermal growth factor receptor [T790M,L858R]"
          ]
         ],
         "hovertemplate": "<b>%{hovertext}</b><br><br>Mutation Position=%{x}<br>IC50 Difference=%{y}<br>Mutation=%{customdata[0]}<extra></extra>",
         "hovertext": [
          "Epidermal growth factor receptor [T790M,L858R]",
          "Epidermal growth factor receptor [T790M,L858R]"
         ],
         "legendgroup": "Epidermal growth factor receptor [T790M,L858R]",
         "marker": {
          "color": "#FECB52",
          "symbol": "circle"
         },
         "mode": "markers",
         "name": "Epidermal growth factor receptor [T790M,L858R]",
         "orientation": "v",
         "showlegend": true,
         "type": "scatter",
         "x": [
          789,
          857
         ],
         "xaxis": "x",
         "y": [
          -88.85,
          -88.85
         ],
         "yaxis": "y"
        }
       ],
       "layout": {
        "hovermode": "closest",
        "legend": {
         "title": {
          "text": "Mutant Name"
         },
         "tracegroupgap": 0
        },
        "template": {
         "data": {
          "bar": [
           {
            "error_x": {
             "color": "#f2f5fa"
            },
            "error_y": {
             "color": "#f2f5fa"
            },
            "marker": {
             "line": {
              "color": "rgb(17,17,17)",
              "width": 0.5
             },
             "pattern": {
              "fillmode": "overlay",
              "size": 10,
              "solidity": 0.2
             }
            },
            "type": "bar"
           }
          ],
          "barpolar": [
           {
            "marker": {
             "line": {
              "color": "rgb(17,17,17)",
              "width": 0.5
             },
             "pattern": {
              "fillmode": "overlay",
              "size": 10,
              "solidity": 0.2
             }
            },
            "type": "barpolar"
           }
          ],
          "carpet": [
           {
            "aaxis": {
             "endlinecolor": "#A2B1C6",
             "gridcolor": "#506784",
             "linecolor": "#506784",
             "minorgridcolor": "#506784",
             "startlinecolor": "#A2B1C6"
            },
            "baxis": {
             "endlinecolor": "#A2B1C6",
             "gridcolor": "#506784",
             "linecolor": "#506784",
             "minorgridcolor": "#506784",
             "startlinecolor": "#A2B1C6"
            },
            "type": "carpet"
           }
          ],
          "choropleth": [
           {
            "colorbar": {
             "outlinewidth": 0,
             "ticks": ""
            },
            "type": "choropleth"
           }
          ],
          "contour": [
           {
            "colorbar": {
             "outlinewidth": 0,
             "ticks": ""
            },
            "colorscale": [
             [
              0,
              "#0d0887"
             ],
             [
              0.1111111111111111,
              "#46039f"
             ],
             [
              0.2222222222222222,
              "#7201a8"
             ],
             [
              0.3333333333333333,
              "#9c179e"
             ],
             [
              0.4444444444444444,
              "#bd3786"
             ],
             [
              0.5555555555555556,
              "#d8576b"
             ],
             [
              0.6666666666666666,
              "#ed7953"
             ],
             [
              0.7777777777777778,
              "#fb9f3a"
             ],
             [
              0.8888888888888888,
              "#fdca26"
             ],
             [
              1,
              "#f0f921"
             ]
            ],
            "type": "contour"
           }
          ],
          "contourcarpet": [
           {
            "colorbar": {
             "outlinewidth": 0,
             "ticks": ""
            },
            "type": "contourcarpet"
           }
          ],
          "heatmap": [
           {
            "colorbar": {
             "outlinewidth": 0,
             "ticks": ""
            },
            "colorscale": [
             [
              0,
              "#0d0887"
             ],
             [
              0.1111111111111111,
              "#46039f"
             ],
             [
              0.2222222222222222,
              "#7201a8"
             ],
             [
              0.3333333333333333,
              "#9c179e"
             ],
             [
              0.4444444444444444,
              "#bd3786"
             ],
             [
              0.5555555555555556,
              "#d8576b"
             ],
             [
              0.6666666666666666,
              "#ed7953"
             ],
             [
              0.7777777777777778,
              "#fb9f3a"
             ],
             [
              0.8888888888888888,
              "#fdca26"
             ],
             [
              1,
              "#f0f921"
             ]
            ],
            "type": "heatmap"
           }
          ],
          "heatmapgl": [
           {
            "colorbar": {
             "outlinewidth": 0,
             "ticks": ""
            },
            "colorscale": [
             [
              0,
              "#0d0887"
             ],
             [
              0.1111111111111111,
              "#46039f"
             ],
             [
              0.2222222222222222,
              "#7201a8"
             ],
             [
              0.3333333333333333,
              "#9c179e"
             ],
             [
              0.4444444444444444,
              "#bd3786"
             ],
             [
              0.5555555555555556,
              "#d8576b"
             ],
             [
              0.6666666666666666,
              "#ed7953"
             ],
             [
              0.7777777777777778,
              "#fb9f3a"
             ],
             [
              0.8888888888888888,
              "#fdca26"
             ],
             [
              1,
              "#f0f921"
             ]
            ],
            "type": "heatmapgl"
           }
          ],
          "histogram": [
           {
            "marker": {
             "pattern": {
              "fillmode": "overlay",
              "size": 10,
              "solidity": 0.2
             }
            },
            "type": "histogram"
           }
          ],
          "histogram2d": [
           {
            "colorbar": {
             "outlinewidth": 0,
             "ticks": ""
            },
            "colorscale": [
             [
              0,
              "#0d0887"
             ],
             [
              0.1111111111111111,
              "#46039f"
             ],
             [
              0.2222222222222222,
              "#7201a8"
             ],
             [
              0.3333333333333333,
              "#9c179e"
             ],
             [
              0.4444444444444444,
              "#bd3786"
             ],
             [
              0.5555555555555556,
              "#d8576b"
             ],
             [
              0.6666666666666666,
              "#ed7953"
             ],
             [
              0.7777777777777778,
              "#fb9f3a"
             ],
             [
              0.8888888888888888,
              "#fdca26"
             ],
             [
              1,
              "#f0f921"
             ]
            ],
            "type": "histogram2d"
           }
          ],
          "histogram2dcontour": [
           {
            "colorbar": {
             "outlinewidth": 0,
             "ticks": ""
            },
            "colorscale": [
             [
              0,
              "#0d0887"
             ],
             [
              0.1111111111111111,
              "#46039f"
             ],
             [
              0.2222222222222222,
              "#7201a8"
             ],
             [
              0.3333333333333333,
              "#9c179e"
             ],
             [
              0.4444444444444444,
              "#bd3786"
             ],
             [
              0.5555555555555556,
              "#d8576b"
             ],
             [
              0.6666666666666666,
              "#ed7953"
             ],
             [
              0.7777777777777778,
              "#fb9f3a"
             ],
             [
              0.8888888888888888,
              "#fdca26"
             ],
             [
              1,
              "#f0f921"
             ]
            ],
            "type": "histogram2dcontour"
           }
          ],
          "mesh3d": [
           {
            "colorbar": {
             "outlinewidth": 0,
             "ticks": ""
            },
            "type": "mesh3d"
           }
          ],
          "parcoords": [
           {
            "line": {
             "colorbar": {
              "outlinewidth": 0,
              "ticks": ""
             }
            },
            "type": "parcoords"
           }
          ],
          "pie": [
           {
            "automargin": true,
            "type": "pie"
           }
          ],
          "scatter": [
           {
            "marker": {
             "line": {
              "color": "#283442"
             }
            },
            "type": "scatter"
           }
          ],
          "scatter3d": [
           {
            "line": {
             "colorbar": {
              "outlinewidth": 0,
              "ticks": ""
             }
            },
            "marker": {
             "colorbar": {
              "outlinewidth": 0,
              "ticks": ""
             }
            },
            "type": "scatter3d"
           }
          ],
          "scattercarpet": [
           {
            "marker": {
             "colorbar": {
              "outlinewidth": 0,
              "ticks": ""
             }
            },
            "type": "scattercarpet"
           }
          ],
          "scattergeo": [
           {
            "marker": {
             "colorbar": {
              "outlinewidth": 0,
              "ticks": ""
             }
            },
            "type": "scattergeo"
           }
          ],
          "scattergl": [
           {
            "marker": {
             "line": {
              "color": "#283442"
             }
            },
            "type": "scattergl"
           }
          ],
          "scattermapbox": [
           {
            "marker": {
             "colorbar": {
              "outlinewidth": 0,
              "ticks": ""
             }
            },
            "type": "scattermapbox"
           }
          ],
          "scatterpolar": [
           {
            "marker": {
             "colorbar": {
              "outlinewidth": 0,
              "ticks": ""
             }
            },
            "type": "scatterpolar"
           }
          ],
          "scatterpolargl": [
           {
            "marker": {
             "colorbar": {
              "outlinewidth": 0,
              "ticks": ""
             }
            },
            "type": "scatterpolargl"
           }
          ],
          "scatterternary": [
           {
            "marker": {
             "colorbar": {
              "outlinewidth": 0,
              "ticks": ""
             }
            },
            "type": "scatterternary"
           }
          ],
          "surface": [
           {
            "colorbar": {
             "outlinewidth": 0,
             "ticks": ""
            },
            "colorscale": [
             [
              0,
              "#0d0887"
             ],
             [
              0.1111111111111111,
              "#46039f"
             ],
             [
              0.2222222222222222,
              "#7201a8"
             ],
             [
              0.3333333333333333,
              "#9c179e"
             ],
             [
              0.4444444444444444,
              "#bd3786"
             ],
             [
              0.5555555555555556,
              "#d8576b"
             ],
             [
              0.6666666666666666,
              "#ed7953"
             ],
             [
              0.7777777777777778,
              "#fb9f3a"
             ],
             [
              0.8888888888888888,
              "#fdca26"
             ],
             [
              1,
              "#f0f921"
             ]
            ],
            "type": "surface"
           }
          ],
          "table": [
           {
            "cells": {
             "fill": {
              "color": "#506784"
             },
             "line": {
              "color": "rgb(17,17,17)"
             }
            },
            "header": {
             "fill": {
              "color": "#2a3f5f"
             },
             "line": {
              "color": "rgb(17,17,17)"
             }
            },
            "type": "table"
           }
          ]
         },
         "layout": {
          "annotationdefaults": {
           "arrowcolor": "#f2f5fa",
           "arrowhead": 0,
           "arrowwidth": 1
          },
          "autotypenumbers": "strict",
          "coloraxis": {
           "colorbar": {
            "outlinewidth": 0,
            "ticks": ""
           }
          },
          "colorscale": {
           "diverging": [
            [
             0,
             "#8e0152"
            ],
            [
             0.1,
             "#c51b7d"
            ],
            [
             0.2,
             "#de77ae"
            ],
            [
             0.3,
             "#f1b6da"
            ],
            [
             0.4,
             "#fde0ef"
            ],
            [
             0.5,
             "#f7f7f7"
            ],
            [
             0.6,
             "#e6f5d0"
            ],
            [
             0.7,
             "#b8e186"
            ],
            [
             0.8,
             "#7fbc41"
            ],
            [
             0.9,
             "#4d9221"
            ],
            [
             1,
             "#276419"
            ]
           ],
           "sequential": [
            [
             0,
             "#0d0887"
            ],
            [
             0.1111111111111111,
             "#46039f"
            ],
            [
             0.2222222222222222,
             "#7201a8"
            ],
            [
             0.3333333333333333,
             "#9c179e"
            ],
            [
             0.4444444444444444,
             "#bd3786"
            ],
            [
             0.5555555555555556,
             "#d8576b"
            ],
            [
             0.6666666666666666,
             "#ed7953"
            ],
            [
             0.7777777777777778,
             "#fb9f3a"
            ],
            [
             0.8888888888888888,
             "#fdca26"
            ],
            [
             1,
             "#f0f921"
            ]
           ],
           "sequentialminus": [
            [
             0,
             "#0d0887"
            ],
            [
             0.1111111111111111,
             "#46039f"
            ],
            [
             0.2222222222222222,
             "#7201a8"
            ],
            [
             0.3333333333333333,
             "#9c179e"
            ],
            [
             0.4444444444444444,
             "#bd3786"
            ],
            [
             0.5555555555555556,
             "#d8576b"
            ],
            [
             0.6666666666666666,
             "#ed7953"
            ],
            [
             0.7777777777777778,
             "#fb9f3a"
            ],
            [
             0.8888888888888888,
             "#fdca26"
            ],
            [
             1,
             "#f0f921"
            ]
           ]
          },
          "colorway": [
           "#636efa",
           "#EF553B",
           "#00cc96",
           "#ab63fa",
           "#FFA15A",
           "#19d3f3",
           "#FF6692",
           "#B6E880",
           "#FF97FF",
           "#FECB52"
          ],
          "font": {
           "color": "#f2f5fa"
          },
          "geo": {
           "bgcolor": "rgb(17,17,17)",
           "lakecolor": "rgb(17,17,17)",
           "landcolor": "rgb(17,17,17)",
           "showlakes": true,
           "showland": true,
           "subunitcolor": "#506784"
          },
          "hoverlabel": {
           "align": "left"
          },
          "hovermode": "closest",
          "mapbox": {
           "style": "dark"
          },
          "paper_bgcolor": "rgb(17,17,17)",
          "plot_bgcolor": "rgb(17,17,17)",
          "polar": {
           "angularaxis": {
            "gridcolor": "#506784",
            "linecolor": "#506784",
            "ticks": ""
           },
           "bgcolor": "rgb(17,17,17)",
           "radialaxis": {
            "gridcolor": "#506784",
            "linecolor": "#506784",
            "ticks": ""
           }
          },
          "scene": {
           "xaxis": {
            "backgroundcolor": "rgb(17,17,17)",
            "gridcolor": "#506784",
            "gridwidth": 2,
            "linecolor": "#506784",
            "showbackground": true,
            "ticks": "",
            "zerolinecolor": "#C8D4E3"
           },
           "yaxis": {
            "backgroundcolor": "rgb(17,17,17)",
            "gridcolor": "#506784",
            "gridwidth": 2,
            "linecolor": "#506784",
            "showbackground": true,
            "ticks": "",
            "zerolinecolor": "#C8D4E3"
           },
           "zaxis": {
            "backgroundcolor": "rgb(17,17,17)",
            "gridcolor": "#506784",
            "gridwidth": 2,
            "linecolor": "#506784",
            "showbackground": true,
            "ticks": "",
            "zerolinecolor": "#C8D4E3"
           }
          },
          "shapedefaults": {
           "line": {
            "color": "#f2f5fa"
           }
          },
          "sliderdefaults": {
           "bgcolor": "#C8D4E3",
           "bordercolor": "rgb(17,17,17)",
           "borderwidth": 1,
           "tickwidth": 0
          },
          "ternary": {
           "aaxis": {
            "gridcolor": "#506784",
            "linecolor": "#506784",
            "ticks": ""
           },
           "baxis": {
            "gridcolor": "#506784",
            "linecolor": "#506784",
            "ticks": ""
           },
           "bgcolor": "rgb(17,17,17)",
           "caxis": {
            "gridcolor": "#506784",
            "linecolor": "#506784",
            "ticks": ""
           }
          },
          "title": {
           "x": 0.05
          },
          "updatemenudefaults": {
           "bgcolor": "#506784",
           "borderwidth": 0
          },
          "xaxis": {
           "automargin": true,
           "gridcolor": "#283442",
           "linecolor": "#506784",
           "ticks": "",
           "title": {
            "standoff": 15
           },
           "zerolinecolor": "#283442",
           "zerolinewidth": 2
          },
          "yaxis": {
           "automargin": true,
           "gridcolor": "#283442",
           "linecolor": "#506784",
           "ticks": "",
           "title": {
            "standoff": 15
           },
           "zerolinecolor": "#283442",
           "zerolinewidth": 2
          }
         }
        },
        "title": {
         "text": "IC50 Differences of Mutants by Position"
        },
        "xaxis": {
         "anchor": "y",
         "domain": [
          0,
          1
         ],
         "title": {
          "text": "Mutation Position"
         }
        },
        "yaxis": {
         "anchor": "x",
         "domain": [
          0,
          1
         ],
         "title": {
          "text": "IC50 Difference"
         }
        }
       }
      }
     },
     "metadata": {},
     "output_type": "display_data"
    },
    {
     "data": {
      "application/vnd.plotly.v1+json": {
       "config": {
        "plotlyServerURL": "https://plot.ly"
       },
       "data": [
        {
         "customdata": [
          [
           "Deletion",
           "Epidermal growth factor receptor [1-18,20-1210,C797S]"
          ],
          [
           "Cysteine -> Serine",
           "Epidermal growth factor receptor [1-18,20-1210,C797S]"
          ]
         ],
         "hovertemplate": "<b>%{hovertext}</b><br><br>Mutation Position=%{x}<br>IC50 Difference=%{y}<br>Mutation=%{customdata[0]}<extra></extra>",
         "hovertext": [
          "Epidermal growth factor receptor [1-18,20-1210,C797S]",
          "Epidermal growth factor receptor [1-18,20-1210,C797S]"
         ],
         "legendgroup": "Epidermal growth factor receptor [1-18,20-1210,C797S]",
         "marker": {
          "color": "#636efa",
          "symbol": "circle"
         },
         "mode": "markers",
         "name": "Epidermal growth factor receptor [1-18,20-1210,C797S]",
         "orientation": "v",
         "showlegend": true,
         "type": "scatter",
         "x": [
          18,
          796
         ],
         "xaxis": "x",
         "y": [
          0.8999999999999999,
          0.8999999999999999
         ],
         "yaxis": "y"
        },
        {
         "customdata": [
          [
           "Deletion",
           "Epidermal growth factor receptor [1-18,20-1210,T790M,C797S]"
          ],
          [
           "Threonine -> Methionine",
           "Epidermal growth factor receptor [1-18,20-1210,T790M,C797S]"
          ],
          [
           "Cysteine -> Serine",
           "Epidermal growth factor receptor [1-18,20-1210,T790M,C797S]"
          ]
         ],
         "hovertemplate": "<b>%{hovertext}</b><br><br>Mutation Position=%{x}<br>IC50 Difference=%{y}<br>Mutation=%{customdata[0]}<extra></extra>",
         "hovertext": [
          "Epidermal growth factor receptor [1-18,20-1210,T790M,C797S]",
          "Epidermal growth factor receptor [1-18,20-1210,T790M,C797S]",
          "Epidermal growth factor receptor [1-18,20-1210,T790M,C797S]"
         ],
         "legendgroup": "Epidermal growth factor receptor [1-18,20-1210,T790M,C797S]",
         "marker": {
          "color": "#EF553B",
          "symbol": "circle"
         },
         "mode": "markers",
         "name": "Epidermal growth factor receptor [1-18,20-1210,T790M,C797S]",
         "orientation": "v",
         "showlegend": true,
         "type": "scatter",
         "x": [
          18,
          789,
          796
         ],
         "xaxis": "x",
         "y": [
          806,
          806,
          806
         ],
         "yaxis": "y"
        },
        {
         "customdata": [
          [
           "Deletion",
           "Epidermal growth factor receptor [1-18,20-1210,T790M]"
          ],
          [
           "Deletion",
           "Epidermal growth factor receptor [1-18,20-1210,T790M]"
          ],
          [
           "Deletion",
           "Epidermal growth factor receptor [1-18,20-1210,T790M]"
          ],
          [
           "Deletion",
           "Epidermal growth factor receptor [1-18,20-1210,T790M]"
          ],
          [
           "Deletion",
           "Epidermal growth factor receptor [1-18,20-1210,T790M]"
          ],
          [
           "Deletion",
           "Epidermal growth factor receptor [1-18,20-1210,T790M]"
          ],
          [
           "Deletion",
           "Epidermal growth factor receptor [1-18,20-1210,T790M]"
          ],
          [
           "Deletion",
           "Epidermal growth factor receptor [1-18,20-1210,T790M]"
          ],
          [
           "Deletion",
           "Epidermal growth factor receptor [1-18,20-1210,T790M]"
          ],
          [
           "Deletion",
           "Epidermal growth factor receptor [1-18,20-1210,T790M]"
          ],
          [
           "Deletion",
           "Epidermal growth factor receptor [1-18,20-1210,T790M]"
          ],
          [
           "Deletion",
           "Epidermal growth factor receptor [1-18,20-1210,T790M]"
          ],
          [
           "Deletion",
           "Epidermal growth factor receptor [1-18,20-1210,T790M]"
          ],
          [
           "Deletion",
           "Epidermal growth factor receptor [1-18,20-1210,T790M]"
          ],
          [
           "Deletion",
           "Epidermal growth factor receptor [1-18,20-1210,T790M]"
          ],
          [
           "Deletion",
           "Epidermal growth factor receptor [1-18,20-1210,T790M]"
          ],
          [
           "Threonine -> Methionine",
           "Epidermal growth factor receptor [1-18,20-1210,T790M]"
          ]
         ],
         "hovertemplate": "<b>%{hovertext}</b><br><br>Mutation Position=%{x}<br>IC50 Difference=%{y}<br>Mutation=%{customdata[0]}<extra></extra>",
         "hovertext": [
          "Epidermal growth factor receptor [1-18,20-1210,T790M]",
          "Epidermal growth factor receptor [1-18,20-1210,T790M]",
          "Epidermal growth factor receptor [1-18,20-1210,T790M]",
          "Epidermal growth factor receptor [1-18,20-1210,T790M]",
          "Epidermal growth factor receptor [1-18,20-1210,T790M]",
          "Epidermal growth factor receptor [1-18,20-1210,T790M]",
          "Epidermal growth factor receptor [1-18,20-1210,T790M]",
          "Epidermal growth factor receptor [1-18,20-1210,T790M]",
          "Epidermal growth factor receptor [1-18,20-1210,T790M]",
          "Epidermal growth factor receptor [1-18,20-1210,T790M]",
          "Epidermal growth factor receptor [1-18,20-1210,T790M]",
          "Epidermal growth factor receptor [1-18,20-1210,T790M]",
          "Epidermal growth factor receptor [1-18,20-1210,T790M]",
          "Epidermal growth factor receptor [1-18,20-1210,T790M]",
          "Epidermal growth factor receptor [1-18,20-1210,T790M]",
          "Epidermal growth factor receptor [1-18,20-1210,T790M]",
          "Epidermal growth factor receptor [1-18,20-1210,T790M]"
         ],
         "legendgroup": "Epidermal growth factor receptor [1-18,20-1210,T790M]",
         "marker": {
          "color": "#00cc96",
          "symbol": "circle"
         },
         "mode": "markers",
         "name": "Epidermal growth factor receptor [1-18,20-1210,T790M]",
         "orientation": "v",
         "showlegend": true,
         "type": "scatter",
         "x": [
          18,
          500,
          501,
          502,
          503,
          504,
          505,
          506,
          507,
          508,
          509,
          510,
          511,
          512,
          513,
          514,
          804
         ],
         "xaxis": "x",
         "y": [
          30,
          30,
          30,
          30,
          30,
          30,
          30,
          30,
          30,
          30,
          30,
          30,
          30,
          30,
          30,
          30,
          30
         ],
         "yaxis": "y"
        },
        {
         "customdata": [
          [
           "Deletion",
           "Epidermal growth factor receptor [1-18,20-1210]"
          ]
         ],
         "hovertemplate": "<b>%{hovertext}</b><br><br>Mutation Position=%{x}<br>IC50 Difference=%{y}<br>Mutation=%{customdata[0]}<extra></extra>",
         "hovertext": [
          "Epidermal growth factor receptor [1-18,20-1210]"
         ],
         "legendgroup": "Epidermal growth factor receptor [1-18,20-1210]",
         "marker": {
          "color": "#ab63fa",
          "symbol": "circle"
         },
         "mode": "markers",
         "name": "Epidermal growth factor receptor [1-18,20-1210]",
         "orientation": "v",
         "showlegend": true,
         "type": "scatter",
         "x": [
          18
         ],
         "xaxis": "x",
         "y": [
          -0.98
         ],
         "yaxis": "y"
        },
        {
         "customdata": [
          [
           "Deletion",
           "Epidermal growth factor receptor [1-769,'ASV',770-1210]"
          ],
          [
           "Deletion",
           "Epidermal growth factor receptor [1-769,'ASV',770-1210]"
          ],
          [
           "Deletion",
           "Epidermal growth factor receptor [1-769,'ASV',770-1210]"
          ]
         ],
         "hovertemplate": "<b>%{hovertext}</b><br><br>Mutation Position=%{x}<br>IC50 Difference=%{y}<br>Mutation=%{customdata[0]}<extra></extra>",
         "hovertext": [
          "Epidermal growth factor receptor [1-769,'ASV',770-1210]",
          "Epidermal growth factor receptor [1-769,'ASV',770-1210]",
          "Epidermal growth factor receptor [1-769,'ASV',770-1210]"
         ],
         "legendgroup": "Epidermal growth factor receptor [1-769,'ASV',770-1210]",
         "marker": {
          "color": "#FFA15A",
          "symbol": "circle"
         },
         "mode": "markers",
         "name": "Epidermal growth factor receptor [1-769,'ASV',770-1210]",
         "orientation": "v",
         "showlegend": true,
         "type": "scatter",
         "x": [
          766,
          767,
          768
         ],
         "xaxis": "x",
         "y": [
          13,
          13,
          13
         ],
         "yaxis": "y"
        },
        {
         "customdata": [
          [
           "Deletion",
           "Epidermal growth factor receptor [1-773,'NPH',774-1210]"
          ],
          [
           "Deletion",
           "Epidermal growth factor receptor [1-773,'NPH',774-1210]"
          ],
          [
           "Deletion",
           "Epidermal growth factor receptor [1-773,'NPH',774-1210]"
          ]
         ],
         "hovertemplate": "<b>%{hovertext}</b><br><br>Mutation Position=%{x}<br>IC50 Difference=%{y}<br>Mutation=%{customdata[0]}<extra></extra>",
         "hovertext": [
          "Epidermal growth factor receptor [1-773,'NPH',774-1210]",
          "Epidermal growth factor receptor [1-773,'NPH',774-1210]",
          "Epidermal growth factor receptor [1-773,'NPH',774-1210]"
         ],
         "legendgroup": "Epidermal growth factor receptor [1-773,'NPH',774-1210]",
         "marker": {
          "color": "#19d3f3",
          "symbol": "circle"
         },
         "mode": "markers",
         "name": "Epidermal growth factor receptor [1-773,'NPH',774-1210]",
         "orientation": "v",
         "showlegend": true,
         "type": "scatter",
         "x": [
          770,
          771,
          772
         ],
         "xaxis": "x",
         "y": [
          19.8,
          19.8,
          19.8
         ],
         "yaxis": "y"
        },
        {
         "customdata": [
          [
           "Deletion",
           "Epidermal growth factor receptor [668-1210,T790M,L858R]"
          ],
          [
           "Deletion",
           "Epidermal growth factor receptor [668-1210,T790M,L858R]"
          ],
          [
           "Deletion",
           "Epidermal growth factor receptor [668-1210,T790M,L858R]"
          ],
          [
           "Deletion",
           "Epidermal growth factor receptor [668-1210,T790M,L858R]"
          ],
          [
           "Deletion",
           "Epidermal growth factor receptor [668-1210,T790M,L858R]"
          ],
          [
           "Deletion",
           "Epidermal growth factor receptor [668-1210,T790M,L858R]"
          ],
          [
           "Deletion",
           "Epidermal growth factor receptor [668-1210,T790M,L858R]"
          ],
          [
           "Deletion",
           "Epidermal growth factor receptor [668-1210,T790M,L858R]"
          ],
          [
           "Deletion",
           "Epidermal growth factor receptor [668-1210,T790M,L858R]"
          ],
          [
           "Deletion",
           "Epidermal growth factor receptor [668-1210,T790M,L858R]"
          ],
          [
           "Deletion",
           "Epidermal growth factor receptor [668-1210,T790M,L858R]"
          ],
          [
           "Deletion",
           "Epidermal growth factor receptor [668-1210,T790M,L858R]"
          ],
          [
           "Deletion",
           "Epidermal growth factor receptor [668-1210,T790M,L858R]"
          ],
          [
           "Deletion",
           "Epidermal growth factor receptor [668-1210,T790M,L858R]"
          ],
          [
           "Deletion",
           "Epidermal growth factor receptor [668-1210,T790M,L858R]"
          ],
          [
           "Deletion",
           "Epidermal growth factor receptor [668-1210,T790M,L858R]"
          ],
          [
           "Deletion",
           "Epidermal growth factor receptor [668-1210,T790M,L858R]"
          ],
          [
           "Deletion",
           "Epidermal growth factor receptor [668-1210,T790M,L858R]"
          ],
          [
           "Deletion",
           "Epidermal growth factor receptor [668-1210,T790M,L858R]"
          ],
          [
           "Deletion",
           "Epidermal growth factor receptor [668-1210,T790M,L858R]"
          ],
          [
           "Deletion",
           "Epidermal growth factor receptor [668-1210,T790M,L858R]"
          ],
          [
           "Deletion",
           "Epidermal growth factor receptor [668-1210,T790M,L858R]"
          ],
          [
           "Deletion",
           "Epidermal growth factor receptor [668-1210,T790M,L858R]"
          ],
          [
           "Deletion",
           "Epidermal growth factor receptor [668-1210,T790M,L858R]"
          ],
          [
           "Deletion",
           "Epidermal growth factor receptor [668-1210,T790M,L858R]"
          ],
          [
           "Deletion",
           "Epidermal growth factor receptor [668-1210,T790M,L858R]"
          ],
          [
           "Deletion",
           "Epidermal growth factor receptor [668-1210,T790M,L858R]"
          ],
          [
           "Deletion",
           "Epidermal growth factor receptor [668-1210,T790M,L858R]"
          ],
          [
           "Deletion",
           "Epidermal growth factor receptor [668-1210,T790M,L858R]"
          ],
          [
           "Deletion",
           "Epidermal growth factor receptor [668-1210,T790M,L858R]"
          ],
          [
           "Deletion",
           "Epidermal growth factor receptor [668-1210,T790M,L858R]"
          ],
          [
           "Deletion",
           "Epidermal growth factor receptor [668-1210,T790M,L858R]"
          ],
          [
           "Deletion",
           "Epidermal growth factor receptor [668-1210,T790M,L858R]"
          ],
          [
           "Deletion",
           "Epidermal growth factor receptor [668-1210,T790M,L858R]"
          ],
          [
           "Deletion",
           "Epidermal growth factor receptor [668-1210,T790M,L858R]"
          ],
          [
           "Deletion",
           "Epidermal growth factor receptor [668-1210,T790M,L858R]"
          ],
          [
           "Deletion",
           "Epidermal growth factor receptor [668-1210,T790M,L858R]"
          ],
          [
           "Deletion",
           "Epidermal growth factor receptor [668-1210,T790M,L858R]"
          ],
          [
           "Deletion",
           "Epidermal growth factor receptor [668-1210,T790M,L858R]"
          ],
          [
           "Deletion",
           "Epidermal growth factor receptor [668-1210,T790M,L858R]"
          ],
          [
           "Deletion",
           "Epidermal growth factor receptor [668-1210,T790M,L858R]"
          ],
          [
           "Deletion",
           "Epidermal growth factor receptor [668-1210,T790M,L858R]"
          ],
          [
           "Deletion",
           "Epidermal growth factor receptor [668-1210,T790M,L858R]"
          ],
          [
           "Deletion",
           "Epidermal growth factor receptor [668-1210,T790M,L858R]"
          ],
          [
           "Deletion",
           "Epidermal growth factor receptor [668-1210,T790M,L858R]"
          ],
          [
           "Deletion",
           "Epidermal growth factor receptor [668-1210,T790M,L858R]"
          ],
          [
           "Deletion",
           "Epidermal growth factor receptor [668-1210,T790M,L858R]"
          ],
          [
           "Deletion",
           "Epidermal growth factor receptor [668-1210,T790M,L858R]"
          ],
          [
           "Deletion",
           "Epidermal growth factor receptor [668-1210,T790M,L858R]"
          ],
          [
           "Deletion",
           "Epidermal growth factor receptor [668-1210,T790M,L858R]"
          ],
          [
           "Deletion",
           "Epidermal growth factor receptor [668-1210,T790M,L858R]"
          ],
          [
           "Deletion",
           "Epidermal growth factor receptor [668-1210,T790M,L858R]"
          ],
          [
           "Deletion",
           "Epidermal growth factor receptor [668-1210,T790M,L858R]"
          ],
          [
           "Deletion",
           "Epidermal growth factor receptor [668-1210,T790M,L858R]"
          ],
          [
           "Deletion",
           "Epidermal growth factor receptor [668-1210,T790M,L858R]"
          ],
          [
           "Deletion",
           "Epidermal growth factor receptor [668-1210,T790M,L858R]"
          ],
          [
           "Deletion",
           "Epidermal growth factor receptor [668-1210,T790M,L858R]"
          ],
          [
           "Deletion",
           "Epidermal growth factor receptor [668-1210,T790M,L858R]"
          ],
          [
           "Deletion",
           "Epidermal growth factor receptor [668-1210,T790M,L858R]"
          ],
          [
           "Deletion",
           "Epidermal growth factor receptor [668-1210,T790M,L858R]"
          ],
          [
           "Deletion",
           "Epidermal growth factor receptor [668-1210,T790M,L858R]"
          ],
          [
           "Deletion",
           "Epidermal growth factor receptor [668-1210,T790M,L858R]"
          ],
          [
           "Deletion",
           "Epidermal growth factor receptor [668-1210,T790M,L858R]"
          ],
          [
           "Deletion",
           "Epidermal growth factor receptor [668-1210,T790M,L858R]"
          ],
          [
           "Deletion",
           "Epidermal growth factor receptor [668-1210,T790M,L858R]"
          ],
          [
           "Deletion",
           "Epidermal growth factor receptor [668-1210,T790M,L858R]"
          ],
          [
           "Deletion",
           "Epidermal growth factor receptor [668-1210,T790M,L858R]"
          ],
          [
           "Deletion",
           "Epidermal growth factor receptor [668-1210,T790M,L858R]"
          ],
          [
           "Deletion",
           "Epidermal growth factor receptor [668-1210,T790M,L858R]"
          ],
          [
           "Deletion",
           "Epidermal growth factor receptor [668-1210,T790M,L858R]"
          ],
          [
           "Deletion",
           "Epidermal growth factor receptor [668-1210,T790M,L858R]"
          ],
          [
           "Deletion",
           "Epidermal growth factor receptor [668-1210,T790M,L858R]"
          ],
          [
           "Deletion",
           "Epidermal growth factor receptor [668-1210,T790M,L858R]"
          ],
          [
           "Deletion",
           "Epidermal growth factor receptor [668-1210,T790M,L858R]"
          ],
          [
           "Deletion",
           "Epidermal growth factor receptor [668-1210,T790M,L858R]"
          ],
          [
           "Deletion",
           "Epidermal growth factor receptor [668-1210,T790M,L858R]"
          ],
          [
           "Deletion",
           "Epidermal growth factor receptor [668-1210,T790M,L858R]"
          ],
          [
           "Deletion",
           "Epidermal growth factor receptor [668-1210,T790M,L858R]"
          ],
          [
           "Deletion",
           "Epidermal growth factor receptor [668-1210,T790M,L858R]"
          ],
          [
           "Deletion",
           "Epidermal growth factor receptor [668-1210,T790M,L858R]"
          ],
          [
           "Deletion",
           "Epidermal growth factor receptor [668-1210,T790M,L858R]"
          ],
          [
           "Deletion",
           "Epidermal growth factor receptor [668-1210,T790M,L858R]"
          ],
          [
           "Deletion",
           "Epidermal growth factor receptor [668-1210,T790M,L858R]"
          ],
          [
           "Deletion",
           "Epidermal growth factor receptor [668-1210,T790M,L858R]"
          ],
          [
           "Deletion",
           "Epidermal growth factor receptor [668-1210,T790M,L858R]"
          ],
          [
           "Deletion",
           "Epidermal growth factor receptor [668-1210,T790M,L858R]"
          ],
          [
           "Deletion",
           "Epidermal growth factor receptor [668-1210,T790M,L858R]"
          ],
          [
           "Deletion",
           "Epidermal growth factor receptor [668-1210,T790M,L858R]"
          ],
          [
           "Deletion",
           "Epidermal growth factor receptor [668-1210,T790M,L858R]"
          ],
          [
           "Deletion",
           "Epidermal growth factor receptor [668-1210,T790M,L858R]"
          ],
          [
           "Deletion",
           "Epidermal growth factor receptor [668-1210,T790M,L858R]"
          ],
          [
           "Deletion",
           "Epidermal growth factor receptor [668-1210,T790M,L858R]"
          ],
          [
           "Deletion",
           "Epidermal growth factor receptor [668-1210,T790M,L858R]"
          ],
          [
           "Deletion",
           "Epidermal growth factor receptor [668-1210,T790M,L858R]"
          ],
          [
           "Deletion",
           "Epidermal growth factor receptor [668-1210,T790M,L858R]"
          ],
          [
           "Deletion",
           "Epidermal growth factor receptor [668-1210,T790M,L858R]"
          ],
          [
           "Deletion",
           "Epidermal growth factor receptor [668-1210,T790M,L858R]"
          ],
          [
           "Deletion",
           "Epidermal growth factor receptor [668-1210,T790M,L858R]"
          ],
          [
           "Deletion",
           "Epidermal growth factor receptor [668-1210,T790M,L858R]"
          ],
          [
           "Deletion",
           "Epidermal growth factor receptor [668-1210,T790M,L858R]"
          ],
          [
           "Deletion",
           "Epidermal growth factor receptor [668-1210,T790M,L858R]"
          ],
          [
           "Deletion",
           "Epidermal growth factor receptor [668-1210,T790M,L858R]"
          ],
          [
           "Deletion",
           "Epidermal growth factor receptor [668-1210,T790M,L858R]"
          ],
          [
           "Deletion",
           "Epidermal growth factor receptor [668-1210,T790M,L858R]"
          ],
          [
           "Deletion",
           "Epidermal growth factor receptor [668-1210,T790M,L858R]"
          ],
          [
           "Deletion",
           "Epidermal growth factor receptor [668-1210,T790M,L858R]"
          ],
          [
           "Deletion",
           "Epidermal growth factor receptor [668-1210,T790M,L858R]"
          ],
          [
           "Deletion",
           "Epidermal growth factor receptor [668-1210,T790M,L858R]"
          ],
          [
           "Deletion",
           "Epidermal growth factor receptor [668-1210,T790M,L858R]"
          ],
          [
           "Deletion",
           "Epidermal growth factor receptor [668-1210,T790M,L858R]"
          ],
          [
           "Deletion",
           "Epidermal growth factor receptor [668-1210,T790M,L858R]"
          ],
          [
           "Deletion",
           "Epidermal growth factor receptor [668-1210,T790M,L858R]"
          ],
          [
           "Deletion",
           "Epidermal growth factor receptor [668-1210,T790M,L858R]"
          ],
          [
           "Deletion",
           "Epidermal growth factor receptor [668-1210,T790M,L858R]"
          ],
          [
           "Deletion",
           "Epidermal growth factor receptor [668-1210,T790M,L858R]"
          ],
          [
           "Deletion",
           "Epidermal growth factor receptor [668-1210,T790M,L858R]"
          ],
          [
           "Deletion",
           "Epidermal growth factor receptor [668-1210,T790M,L858R]"
          ],
          [
           "Deletion",
           "Epidermal growth factor receptor [668-1210,T790M,L858R]"
          ],
          [
           "Deletion",
           "Epidermal growth factor receptor [668-1210,T790M,L858R]"
          ],
          [
           "Deletion",
           "Epidermal growth factor receptor [668-1210,T790M,L858R]"
          ],
          [
           "Deletion",
           "Epidermal growth factor receptor [668-1210,T790M,L858R]"
          ],
          [
           "Deletion",
           "Epidermal growth factor receptor [668-1210,T790M,L858R]"
          ],
          [
           "Deletion",
           "Epidermal growth factor receptor [668-1210,T790M,L858R]"
          ],
          [
           "Deletion",
           "Epidermal growth factor receptor [668-1210,T790M,L858R]"
          ],
          [
           "Deletion",
           "Epidermal growth factor receptor [668-1210,T790M,L858R]"
          ],
          [
           "Deletion",
           "Epidermal growth factor receptor [668-1210,T790M,L858R]"
          ],
          [
           "Deletion",
           "Epidermal growth factor receptor [668-1210,T790M,L858R]"
          ],
          [
           "Deletion",
           "Epidermal growth factor receptor [668-1210,T790M,L858R]"
          ],
          [
           "Deletion",
           "Epidermal growth factor receptor [668-1210,T790M,L858R]"
          ],
          [
           "Deletion",
           "Epidermal growth factor receptor [668-1210,T790M,L858R]"
          ],
          [
           "Deletion",
           "Epidermal growth factor receptor [668-1210,T790M,L858R]"
          ],
          [
           "Deletion",
           "Epidermal growth factor receptor [668-1210,T790M,L858R]"
          ],
          [
           "Deletion",
           "Epidermal growth factor receptor [668-1210,T790M,L858R]"
          ],
          [
           "Deletion",
           "Epidermal growth factor receptor [668-1210,T790M,L858R]"
          ],
          [
           "Deletion",
           "Epidermal growth factor receptor [668-1210,T790M,L858R]"
          ],
          [
           "Deletion",
           "Epidermal growth factor receptor [668-1210,T790M,L858R]"
          ],
          [
           "Deletion",
           "Epidermal growth factor receptor [668-1210,T790M,L858R]"
          ],
          [
           "Deletion",
           "Epidermal growth factor receptor [668-1210,T790M,L858R]"
          ],
          [
           "Deletion",
           "Epidermal growth factor receptor [668-1210,T790M,L858R]"
          ],
          [
           "Deletion",
           "Epidermal growth factor receptor [668-1210,T790M,L858R]"
          ],
          [
           "Deletion",
           "Epidermal growth factor receptor [668-1210,T790M,L858R]"
          ],
          [
           "Deletion",
           "Epidermal growth factor receptor [668-1210,T790M,L858R]"
          ],
          [
           "Deletion",
           "Epidermal growth factor receptor [668-1210,T790M,L858R]"
          ],
          [
           "Deletion",
           "Epidermal growth factor receptor [668-1210,T790M,L858R]"
          ],
          [
           "Deletion",
           "Epidermal growth factor receptor [668-1210,T790M,L858R]"
          ],
          [
           "Deletion",
           "Epidermal growth factor receptor [668-1210,T790M,L858R]"
          ],
          [
           "Deletion",
           "Epidermal growth factor receptor [668-1210,T790M,L858R]"
          ],
          [
           "Deletion",
           "Epidermal growth factor receptor [668-1210,T790M,L858R]"
          ],
          [
           "Deletion",
           "Epidermal growth factor receptor [668-1210,T790M,L858R]"
          ],
          [
           "Deletion",
           "Epidermal growth factor receptor [668-1210,T790M,L858R]"
          ],
          [
           "Deletion",
           "Epidermal growth factor receptor [668-1210,T790M,L858R]"
          ],
          [
           "Deletion",
           "Epidermal growth factor receptor [668-1210,T790M,L858R]"
          ],
          [
           "Deletion",
           "Epidermal growth factor receptor [668-1210,T790M,L858R]"
          ],
          [
           "Deletion",
           "Epidermal growth factor receptor [668-1210,T790M,L858R]"
          ],
          [
           "Deletion",
           "Epidermal growth factor receptor [668-1210,T790M,L858R]"
          ],
          [
           "Deletion",
           "Epidermal growth factor receptor [668-1210,T790M,L858R]"
          ],
          [
           "Deletion",
           "Epidermal growth factor receptor [668-1210,T790M,L858R]"
          ],
          [
           "Deletion",
           "Epidermal growth factor receptor [668-1210,T790M,L858R]"
          ],
          [
           "Deletion",
           "Epidermal growth factor receptor [668-1210,T790M,L858R]"
          ],
          [
           "Deletion",
           "Epidermal growth factor receptor [668-1210,T790M,L858R]"
          ],
          [
           "Deletion",
           "Epidermal growth factor receptor [668-1210,T790M,L858R]"
          ],
          [
           "Deletion",
           "Epidermal growth factor receptor [668-1210,T790M,L858R]"
          ],
          [
           "Deletion",
           "Epidermal growth factor receptor [668-1210,T790M,L858R]"
          ],
          [
           "Deletion",
           "Epidermal growth factor receptor [668-1210,T790M,L858R]"
          ],
          [
           "Deletion",
           "Epidermal growth factor receptor [668-1210,T790M,L858R]"
          ],
          [
           "Deletion",
           "Epidermal growth factor receptor [668-1210,T790M,L858R]"
          ],
          [
           "Deletion",
           "Epidermal growth factor receptor [668-1210,T790M,L858R]"
          ],
          [
           "Deletion",
           "Epidermal growth factor receptor [668-1210,T790M,L858R]"
          ],
          [
           "Deletion",
           "Epidermal growth factor receptor [668-1210,T790M,L858R]"
          ],
          [
           "Deletion",
           "Epidermal growth factor receptor [668-1210,T790M,L858R]"
          ],
          [
           "Deletion",
           "Epidermal growth factor receptor [668-1210,T790M,L858R]"
          ],
          [
           "Deletion",
           "Epidermal growth factor receptor [668-1210,T790M,L858R]"
          ],
          [
           "Deletion",
           "Epidermal growth factor receptor [668-1210,T790M,L858R]"
          ],
          [
           "Deletion",
           "Epidermal growth factor receptor [668-1210,T790M,L858R]"
          ],
          [
           "Deletion",
           "Epidermal growth factor receptor [668-1210,T790M,L858R]"
          ],
          [
           "Deletion",
           "Epidermal growth factor receptor [668-1210,T790M,L858R]"
          ],
          [
           "Deletion",
           "Epidermal growth factor receptor [668-1210,T790M,L858R]"
          ],
          [
           "Deletion",
           "Epidermal growth factor receptor [668-1210,T790M,L858R]"
          ],
          [
           "Deletion",
           "Epidermal growth factor receptor [668-1210,T790M,L858R]"
          ],
          [
           "Deletion",
           "Epidermal growth factor receptor [668-1210,T790M,L858R]"
          ],
          [
           "Deletion",
           "Epidermal growth factor receptor [668-1210,T790M,L858R]"
          ],
          [
           "Deletion",
           "Epidermal growth factor receptor [668-1210,T790M,L858R]"
          ],
          [
           "Deletion",
           "Epidermal growth factor receptor [668-1210,T790M,L858R]"
          ],
          [
           "Deletion",
           "Epidermal growth factor receptor [668-1210,T790M,L858R]"
          ],
          [
           "Deletion",
           "Epidermal growth factor receptor [668-1210,T790M,L858R]"
          ],
          [
           "Deletion",
           "Epidermal growth factor receptor [668-1210,T790M,L858R]"
          ],
          [
           "Deletion",
           "Epidermal growth factor receptor [668-1210,T790M,L858R]"
          ],
          [
           "Deletion",
           "Epidermal growth factor receptor [668-1210,T790M,L858R]"
          ],
          [
           "Deletion",
           "Epidermal growth factor receptor [668-1210,T790M,L858R]"
          ],
          [
           "Deletion",
           "Epidermal growth factor receptor [668-1210,T790M,L858R]"
          ],
          [
           "Deletion",
           "Epidermal growth factor receptor [668-1210,T790M,L858R]"
          ],
          [
           "Deletion",
           "Epidermal growth factor receptor [668-1210,T790M,L858R]"
          ],
          [
           "Deletion",
           "Epidermal growth factor receptor [668-1210,T790M,L858R]"
          ],
          [
           "Deletion",
           "Epidermal growth factor receptor [668-1210,T790M,L858R]"
          ],
          [
           "Deletion",
           "Epidermal growth factor receptor [668-1210,T790M,L858R]"
          ],
          [
           "Deletion",
           "Epidermal growth factor receptor [668-1210,T790M,L858R]"
          ],
          [
           "Deletion",
           "Epidermal growth factor receptor [668-1210,T790M,L858R]"
          ],
          [
           "Deletion",
           "Epidermal growth factor receptor [668-1210,T790M,L858R]"
          ],
          [
           "Deletion",
           "Epidermal growth factor receptor [668-1210,T790M,L858R]"
          ],
          [
           "Deletion",
           "Epidermal growth factor receptor [668-1210,T790M,L858R]"
          ],
          [
           "Deletion",
           "Epidermal growth factor receptor [668-1210,T790M,L858R]"
          ],
          [
           "Deletion",
           "Epidermal growth factor receptor [668-1210,T790M,L858R]"
          ],
          [
           "Deletion",
           "Epidermal growth factor receptor [668-1210,T790M,L858R]"
          ],
          [
           "Deletion",
           "Epidermal growth factor receptor [668-1210,T790M,L858R]"
          ],
          [
           "Deletion",
           "Epidermal growth factor receptor [668-1210,T790M,L858R]"
          ],
          [
           "Deletion",
           "Epidermal growth factor receptor [668-1210,T790M,L858R]"
          ],
          [
           "Deletion",
           "Epidermal growth factor receptor [668-1210,T790M,L858R]"
          ],
          [
           "Deletion",
           "Epidermal growth factor receptor [668-1210,T790M,L858R]"
          ],
          [
           "Deletion",
           "Epidermal growth factor receptor [668-1210,T790M,L858R]"
          ],
          [
           "Deletion",
           "Epidermal growth factor receptor [668-1210,T790M,L858R]"
          ],
          [
           "Deletion",
           "Epidermal growth factor receptor [668-1210,T790M,L858R]"
          ],
          [
           "Deletion",
           "Epidermal growth factor receptor [668-1210,T790M,L858R]"
          ],
          [
           "Deletion",
           "Epidermal growth factor receptor [668-1210,T790M,L858R]"
          ],
          [
           "Deletion",
           "Epidermal growth factor receptor [668-1210,T790M,L858R]"
          ],
          [
           "Deletion",
           "Epidermal growth factor receptor [668-1210,T790M,L858R]"
          ],
          [
           "Deletion",
           "Epidermal growth factor receptor [668-1210,T790M,L858R]"
          ],
          [
           "Deletion",
           "Epidermal growth factor receptor [668-1210,T790M,L858R]"
          ],
          [
           "Deletion",
           "Epidermal growth factor receptor [668-1210,T790M,L858R]"
          ],
          [
           "Deletion",
           "Epidermal growth factor receptor [668-1210,T790M,L858R]"
          ],
          [
           "Deletion",
           "Epidermal growth factor receptor [668-1210,T790M,L858R]"
          ],
          [
           "Deletion",
           "Epidermal growth factor receptor [668-1210,T790M,L858R]"
          ],
          [
           "Deletion",
           "Epidermal growth factor receptor [668-1210,T790M,L858R]"
          ],
          [
           "Deletion",
           "Epidermal growth factor receptor [668-1210,T790M,L858R]"
          ],
          [
           "Deletion",
           "Epidermal growth factor receptor [668-1210,T790M,L858R]"
          ],
          [
           "Deletion",
           "Epidermal growth factor receptor [668-1210,T790M,L858R]"
          ],
          [
           "Deletion",
           "Epidermal growth factor receptor [668-1210,T790M,L858R]"
          ],
          [
           "Deletion",
           "Epidermal growth factor receptor [668-1210,T790M,L858R]"
          ],
          [
           "Deletion",
           "Epidermal growth factor receptor [668-1210,T790M,L858R]"
          ],
          [
           "Deletion",
           "Epidermal growth factor receptor [668-1210,T790M,L858R]"
          ],
          [
           "Deletion",
           "Epidermal growth factor receptor [668-1210,T790M,L858R]"
          ],
          [
           "Deletion",
           "Epidermal growth factor receptor [668-1210,T790M,L858R]"
          ],
          [
           "Deletion",
           "Epidermal growth factor receptor [668-1210,T790M,L858R]"
          ],
          [
           "Deletion",
           "Epidermal growth factor receptor [668-1210,T790M,L858R]"
          ],
          [
           "Deletion",
           "Epidermal growth factor receptor [668-1210,T790M,L858R]"
          ],
          [
           "Deletion",
           "Epidermal growth factor receptor [668-1210,T790M,L858R]"
          ],
          [
           "Deletion",
           "Epidermal growth factor receptor [668-1210,T790M,L858R]"
          ],
          [
           "Deletion",
           "Epidermal growth factor receptor [668-1210,T790M,L858R]"
          ],
          [
           "Deletion",
           "Epidermal growth factor receptor [668-1210,T790M,L858R]"
          ],
          [
           "Deletion",
           "Epidermal growth factor receptor [668-1210,T790M,L858R]"
          ],
          [
           "Deletion",
           "Epidermal growth factor receptor [668-1210,T790M,L858R]"
          ],
          [
           "Deletion",
           "Epidermal growth factor receptor [668-1210,T790M,L858R]"
          ],
          [
           "Deletion",
           "Epidermal growth factor receptor [668-1210,T790M,L858R]"
          ],
          [
           "Deletion",
           "Epidermal growth factor receptor [668-1210,T790M,L858R]"
          ],
          [
           "Deletion",
           "Epidermal growth factor receptor [668-1210,T790M,L858R]"
          ],
          [
           "Deletion",
           "Epidermal growth factor receptor [668-1210,T790M,L858R]"
          ],
          [
           "Deletion",
           "Epidermal growth factor receptor [668-1210,T790M,L858R]"
          ],
          [
           "Deletion",
           "Epidermal growth factor receptor [668-1210,T790M,L858R]"
          ],
          [
           "Deletion",
           "Epidermal growth factor receptor [668-1210,T790M,L858R]"
          ],
          [
           "Deletion",
           "Epidermal growth factor receptor [668-1210,T790M,L858R]"
          ],
          [
           "Deletion",
           "Epidermal growth factor receptor [668-1210,T790M,L858R]"
          ],
          [
           "Deletion",
           "Epidermal growth factor receptor [668-1210,T790M,L858R]"
          ],
          [
           "Deletion",
           "Epidermal growth factor receptor [668-1210,T790M,L858R]"
          ],
          [
           "Deletion",
           "Epidermal growth factor receptor [668-1210,T790M,L858R]"
          ],
          [
           "Deletion",
           "Epidermal growth factor receptor [668-1210,T790M,L858R]"
          ],
          [
           "Deletion",
           "Epidermal growth factor receptor [668-1210,T790M,L858R]"
          ],
          [
           "Deletion",
           "Epidermal growth factor receptor [668-1210,T790M,L858R]"
          ],
          [
           "Deletion",
           "Epidermal growth factor receptor [668-1210,T790M,L858R]"
          ],
          [
           "Deletion",
           "Epidermal growth factor receptor [668-1210,T790M,L858R]"
          ],
          [
           "Deletion",
           "Epidermal growth factor receptor [668-1210,T790M,L858R]"
          ],
          [
           "Deletion",
           "Epidermal growth factor receptor [668-1210,T790M,L858R]"
          ],
          [
           "Deletion",
           "Epidermal growth factor receptor [668-1210,T790M,L858R]"
          ],
          [
           "Deletion",
           "Epidermal growth factor receptor [668-1210,T790M,L858R]"
          ],
          [
           "Deletion",
           "Epidermal growth factor receptor [668-1210,T790M,L858R]"
          ],
          [
           "Deletion",
           "Epidermal growth factor receptor [668-1210,T790M,L858R]"
          ],
          [
           "Deletion",
           "Epidermal growth factor receptor [668-1210,T790M,L858R]"
          ],
          [
           "Deletion",
           "Epidermal growth factor receptor [668-1210,T790M,L858R]"
          ],
          [
           "Deletion",
           "Epidermal growth factor receptor [668-1210,T790M,L858R]"
          ],
          [
           "Deletion",
           "Epidermal growth factor receptor [668-1210,T790M,L858R]"
          ],
          [
           "Deletion",
           "Epidermal growth factor receptor [668-1210,T790M,L858R]"
          ],
          [
           "Deletion",
           "Epidermal growth factor receptor [668-1210,T790M,L858R]"
          ],
          [
           "Deletion",
           "Epidermal growth factor receptor [668-1210,T790M,L858R]"
          ],
          [
           "Deletion",
           "Epidermal growth factor receptor [668-1210,T790M,L858R]"
          ],
          [
           "Deletion",
           "Epidermal growth factor receptor [668-1210,T790M,L858R]"
          ],
          [
           "Deletion",
           "Epidermal growth factor receptor [668-1210,T790M,L858R]"
          ],
          [
           "Deletion",
           "Epidermal growth factor receptor [668-1210,T790M,L858R]"
          ],
          [
           "Deletion",
           "Epidermal growth factor receptor [668-1210,T790M,L858R]"
          ],
          [
           "Deletion",
           "Epidermal growth factor receptor [668-1210,T790M,L858R]"
          ],
          [
           "Deletion",
           "Epidermal growth factor receptor [668-1210,T790M,L858R]"
          ],
          [
           "Deletion",
           "Epidermal growth factor receptor [668-1210,T790M,L858R]"
          ],
          [
           "Deletion",
           "Epidermal growth factor receptor [668-1210,T790M,L858R]"
          ],
          [
           "Deletion",
           "Epidermal growth factor receptor [668-1210,T790M,L858R]"
          ],
          [
           "Deletion",
           "Epidermal growth factor receptor [668-1210,T790M,L858R]"
          ],
          [
           "Deletion",
           "Epidermal growth factor receptor [668-1210,T790M,L858R]"
          ],
          [
           "Deletion",
           "Epidermal growth factor receptor [668-1210,T790M,L858R]"
          ],
          [
           "Deletion",
           "Epidermal growth factor receptor [668-1210,T790M,L858R]"
          ],
          [
           "Deletion",
           "Epidermal growth factor receptor [668-1210,T790M,L858R]"
          ],
          [
           "Deletion",
           "Epidermal growth factor receptor [668-1210,T790M,L858R]"
          ],
          [
           "Deletion",
           "Epidermal growth factor receptor [668-1210,T790M,L858R]"
          ],
          [
           "Deletion",
           "Epidermal growth factor receptor [668-1210,T790M,L858R]"
          ],
          [
           "Deletion",
           "Epidermal growth factor receptor [668-1210,T790M,L858R]"
          ],
          [
           "Deletion",
           "Epidermal growth factor receptor [668-1210,T790M,L858R]"
          ],
          [
           "Deletion",
           "Epidermal growth factor receptor [668-1210,T790M,L858R]"
          ],
          [
           "Deletion",
           "Epidermal growth factor receptor [668-1210,T790M,L858R]"
          ],
          [
           "Deletion",
           "Epidermal growth factor receptor [668-1210,T790M,L858R]"
          ],
          [
           "Deletion",
           "Epidermal growth factor receptor [668-1210,T790M,L858R]"
          ],
          [
           "Deletion",
           "Epidermal growth factor receptor [668-1210,T790M,L858R]"
          ],
          [
           "Deletion",
           "Epidermal growth factor receptor [668-1210,T790M,L858R]"
          ],
          [
           "Deletion",
           "Epidermal growth factor receptor [668-1210,T790M,L858R]"
          ],
          [
           "Deletion",
           "Epidermal growth factor receptor [668-1210,T790M,L858R]"
          ],
          [
           "Deletion",
           "Epidermal growth factor receptor [668-1210,T790M,L858R]"
          ],
          [
           "Deletion",
           "Epidermal growth factor receptor [668-1210,T790M,L858R]"
          ],
          [
           "Deletion",
           "Epidermal growth factor receptor [668-1210,T790M,L858R]"
          ],
          [
           "Deletion",
           "Epidermal growth factor receptor [668-1210,T790M,L858R]"
          ],
          [
           "Deletion",
           "Epidermal growth factor receptor [668-1210,T790M,L858R]"
          ],
          [
           "Deletion",
           "Epidermal growth factor receptor [668-1210,T790M,L858R]"
          ],
          [
           "Deletion",
           "Epidermal growth factor receptor [668-1210,T790M,L858R]"
          ],
          [
           "Deletion",
           "Epidermal growth factor receptor [668-1210,T790M,L858R]"
          ],
          [
           "Deletion",
           "Epidermal growth factor receptor [668-1210,T790M,L858R]"
          ],
          [
           "Deletion",
           "Epidermal growth factor receptor [668-1210,T790M,L858R]"
          ],
          [
           "Deletion",
           "Epidermal growth factor receptor [668-1210,T790M,L858R]"
          ],
          [
           "Deletion",
           "Epidermal growth factor receptor [668-1210,T790M,L858R]"
          ],
          [
           "Deletion",
           "Epidermal growth factor receptor [668-1210,T790M,L858R]"
          ],
          [
           "Deletion",
           "Epidermal growth factor receptor [668-1210,T790M,L858R]"
          ],
          [
           "Deletion",
           "Epidermal growth factor receptor [668-1210,T790M,L858R]"
          ],
          [
           "Deletion",
           "Epidermal growth factor receptor [668-1210,T790M,L858R]"
          ],
          [
           "Deletion",
           "Epidermal growth factor receptor [668-1210,T790M,L858R]"
          ],
          [
           "Deletion",
           "Epidermal growth factor receptor [668-1210,T790M,L858R]"
          ],
          [
           "Deletion",
           "Epidermal growth factor receptor [668-1210,T790M,L858R]"
          ],
          [
           "Deletion",
           "Epidermal growth factor receptor [668-1210,T790M,L858R]"
          ],
          [
           "Deletion",
           "Epidermal growth factor receptor [668-1210,T790M,L858R]"
          ],
          [
           "Deletion",
           "Epidermal growth factor receptor [668-1210,T790M,L858R]"
          ],
          [
           "Deletion",
           "Epidermal growth factor receptor [668-1210,T790M,L858R]"
          ],
          [
           "Deletion",
           "Epidermal growth factor receptor [668-1210,T790M,L858R]"
          ],
          [
           "Deletion",
           "Epidermal growth factor receptor [668-1210,T790M,L858R]"
          ],
          [
           "Deletion",
           "Epidermal growth factor receptor [668-1210,T790M,L858R]"
          ],
          [
           "Deletion",
           "Epidermal growth factor receptor [668-1210,T790M,L858R]"
          ],
          [
           "Deletion",
           "Epidermal growth factor receptor [668-1210,T790M,L858R]"
          ],
          [
           "Deletion",
           "Epidermal growth factor receptor [668-1210,T790M,L858R]"
          ],
          [
           "Deletion",
           "Epidermal growth factor receptor [668-1210,T790M,L858R]"
          ],
          [
           "Deletion",
           "Epidermal growth factor receptor [668-1210,T790M,L858R]"
          ],
          [
           "Deletion",
           "Epidermal growth factor receptor [668-1210,T790M,L858R]"
          ],
          [
           "Deletion",
           "Epidermal growth factor receptor [668-1210,T790M,L858R]"
          ],
          [
           "Deletion",
           "Epidermal growth factor receptor [668-1210,T790M,L858R]"
          ],
          [
           "Deletion",
           "Epidermal growth factor receptor [668-1210,T790M,L858R]"
          ],
          [
           "Deletion",
           "Epidermal growth factor receptor [668-1210,T790M,L858R]"
          ],
          [
           "Deletion",
           "Epidermal growth factor receptor [668-1210,T790M,L858R]"
          ],
          [
           "Deletion",
           "Epidermal growth factor receptor [668-1210,T790M,L858R]"
          ],
          [
           "Deletion",
           "Epidermal growth factor receptor [668-1210,T790M,L858R]"
          ],
          [
           "Deletion",
           "Epidermal growth factor receptor [668-1210,T790M,L858R]"
          ],
          [
           "Deletion",
           "Epidermal growth factor receptor [668-1210,T790M,L858R]"
          ],
          [
           "Deletion",
           "Epidermal growth factor receptor [668-1210,T790M,L858R]"
          ],
          [
           "Deletion",
           "Epidermal growth factor receptor [668-1210,T790M,L858R]"
          ],
          [
           "Deletion",
           "Epidermal growth factor receptor [668-1210,T790M,L858R]"
          ],
          [
           "Deletion",
           "Epidermal growth factor receptor [668-1210,T790M,L858R]"
          ],
          [
           "Deletion",
           "Epidermal growth factor receptor [668-1210,T790M,L858R]"
          ],
          [
           "Deletion",
           "Epidermal growth factor receptor [668-1210,T790M,L858R]"
          ],
          [
           "Deletion",
           "Epidermal growth factor receptor [668-1210,T790M,L858R]"
          ],
          [
           "Deletion",
           "Epidermal growth factor receptor [668-1210,T790M,L858R]"
          ],
          [
           "Deletion",
           "Epidermal growth factor receptor [668-1210,T790M,L858R]"
          ],
          [
           "Deletion",
           "Epidermal growth factor receptor [668-1210,T790M,L858R]"
          ],
          [
           "Deletion",
           "Epidermal growth factor receptor [668-1210,T790M,L858R]"
          ],
          [
           "Deletion",
           "Epidermal growth factor receptor [668-1210,T790M,L858R]"
          ],
          [
           "Deletion",
           "Epidermal growth factor receptor [668-1210,T790M,L858R]"
          ],
          [
           "Deletion",
           "Epidermal growth factor receptor [668-1210,T790M,L858R]"
          ],
          [
           "Deletion",
           "Epidermal growth factor receptor [668-1210,T790M,L858R]"
          ],
          [
           "Deletion",
           "Epidermal growth factor receptor [668-1210,T790M,L858R]"
          ],
          [
           "Deletion",
           "Epidermal growth factor receptor [668-1210,T790M,L858R]"
          ],
          [
           "Deletion",
           "Epidermal growth factor receptor [668-1210,T790M,L858R]"
          ],
          [
           "Deletion",
           "Epidermal growth factor receptor [668-1210,T790M,L858R]"
          ],
          [
           "Deletion",
           "Epidermal growth factor receptor [668-1210,T790M,L858R]"
          ],
          [
           "Deletion",
           "Epidermal growth factor receptor [668-1210,T790M,L858R]"
          ],
          [
           "Deletion",
           "Epidermal growth factor receptor [668-1210,T790M,L858R]"
          ],
          [
           "Deletion",
           "Epidermal growth factor receptor [668-1210,T790M,L858R]"
          ],
          [
           "Deletion",
           "Epidermal growth factor receptor [668-1210,T790M,L858R]"
          ],
          [
           "Deletion",
           "Epidermal growth factor receptor [668-1210,T790M,L858R]"
          ],
          [
           "Deletion",
           "Epidermal growth factor receptor [668-1210,T790M,L858R]"
          ],
          [
           "Deletion",
           "Epidermal growth factor receptor [668-1210,T790M,L858R]"
          ],
          [
           "Deletion",
           "Epidermal growth factor receptor [668-1210,T790M,L858R]"
          ],
          [
           "Deletion",
           "Epidermal growth factor receptor [668-1210,T790M,L858R]"
          ],
          [
           "Deletion",
           "Epidermal growth factor receptor [668-1210,T790M,L858R]"
          ],
          [
           "Deletion",
           "Epidermal growth factor receptor [668-1210,T790M,L858R]"
          ],
          [
           "Deletion",
           "Epidermal growth factor receptor [668-1210,T790M,L858R]"
          ],
          [
           "Deletion",
           "Epidermal growth factor receptor [668-1210,T790M,L858R]"
          ],
          [
           "Deletion",
           "Epidermal growth factor receptor [668-1210,T790M,L858R]"
          ],
          [
           "Deletion",
           "Epidermal growth factor receptor [668-1210,T790M,L858R]"
          ],
          [
           "Deletion",
           "Epidermal growth factor receptor [668-1210,T790M,L858R]"
          ],
          [
           "Deletion",
           "Epidermal growth factor receptor [668-1210,T790M,L858R]"
          ],
          [
           "Deletion",
           "Epidermal growth factor receptor [668-1210,T790M,L858R]"
          ],
          [
           "Deletion",
           "Epidermal growth factor receptor [668-1210,T790M,L858R]"
          ],
          [
           "Deletion",
           "Epidermal growth factor receptor [668-1210,T790M,L858R]"
          ],
          [
           "Deletion",
           "Epidermal growth factor receptor [668-1210,T790M,L858R]"
          ],
          [
           "Deletion",
           "Epidermal growth factor receptor [668-1210,T790M,L858R]"
          ],
          [
           "Deletion",
           "Epidermal growth factor receptor [668-1210,T790M,L858R]"
          ],
          [
           "Deletion",
           "Epidermal growth factor receptor [668-1210,T790M,L858R]"
          ],
          [
           "Deletion",
           "Epidermal growth factor receptor [668-1210,T790M,L858R]"
          ],
          [
           "Deletion",
           "Epidermal growth factor receptor [668-1210,T790M,L858R]"
          ],
          [
           "Deletion",
           "Epidermal growth factor receptor [668-1210,T790M,L858R]"
          ],
          [
           "Deletion",
           "Epidermal growth factor receptor [668-1210,T790M,L858R]"
          ],
          [
           "Deletion",
           "Epidermal growth factor receptor [668-1210,T790M,L858R]"
          ],
          [
           "Deletion",
           "Epidermal growth factor receptor [668-1210,T790M,L858R]"
          ],
          [
           "Deletion",
           "Epidermal growth factor receptor [668-1210,T790M,L858R]"
          ],
          [
           "Deletion",
           "Epidermal growth factor receptor [668-1210,T790M,L858R]"
          ],
          [
           "Deletion",
           "Epidermal growth factor receptor [668-1210,T790M,L858R]"
          ],
          [
           "Deletion",
           "Epidermal growth factor receptor [668-1210,T790M,L858R]"
          ],
          [
           "Deletion",
           "Epidermal growth factor receptor [668-1210,T790M,L858R]"
          ],
          [
           "Deletion",
           "Epidermal growth factor receptor [668-1210,T790M,L858R]"
          ],
          [
           "Deletion",
           "Epidermal growth factor receptor [668-1210,T790M,L858R]"
          ],
          [
           "Deletion",
           "Epidermal growth factor receptor [668-1210,T790M,L858R]"
          ],
          [
           "Deletion",
           "Epidermal growth factor receptor [668-1210,T790M,L858R]"
          ],
          [
           "Deletion",
           "Epidermal growth factor receptor [668-1210,T790M,L858R]"
          ],
          [
           "Deletion",
           "Epidermal growth factor receptor [668-1210,T790M,L858R]"
          ],
          [
           "Deletion",
           "Epidermal growth factor receptor [668-1210,T790M,L858R]"
          ],
          [
           "Deletion",
           "Epidermal growth factor receptor [668-1210,T790M,L858R]"
          ],
          [
           "Deletion",
           "Epidermal growth factor receptor [668-1210,T790M,L858R]"
          ],
          [
           "Deletion",
           "Epidermal growth factor receptor [668-1210,T790M,L858R]"
          ],
          [
           "Deletion",
           "Epidermal growth factor receptor [668-1210,T790M,L858R]"
          ],
          [
           "Deletion",
           "Epidermal growth factor receptor [668-1210,T790M,L858R]"
          ],
          [
           "Deletion",
           "Epidermal growth factor receptor [668-1210,T790M,L858R]"
          ],
          [
           "Deletion",
           "Epidermal growth factor receptor [668-1210,T790M,L858R]"
          ],
          [
           "Deletion",
           "Epidermal growth factor receptor [668-1210,T790M,L858R]"
          ],
          [
           "Deletion",
           "Epidermal growth factor receptor [668-1210,T790M,L858R]"
          ],
          [
           "Deletion",
           "Epidermal growth factor receptor [668-1210,T790M,L858R]"
          ],
          [
           "Deletion",
           "Epidermal growth factor receptor [668-1210,T790M,L858R]"
          ],
          [
           "Deletion",
           "Epidermal growth factor receptor [668-1210,T790M,L858R]"
          ],
          [
           "Deletion",
           "Epidermal growth factor receptor [668-1210,T790M,L858R]"
          ],
          [
           "Deletion",
           "Epidermal growth factor receptor [668-1210,T790M,L858R]"
          ],
          [
           "Deletion",
           "Epidermal growth factor receptor [668-1210,T790M,L858R]"
          ],
          [
           "Deletion",
           "Epidermal growth factor receptor [668-1210,T790M,L858R]"
          ],
          [
           "Deletion",
           "Epidermal growth factor receptor [668-1210,T790M,L858R]"
          ],
          [
           "Deletion",
           "Epidermal growth factor receptor [668-1210,T790M,L858R]"
          ],
          [
           "Deletion",
           "Epidermal growth factor receptor [668-1210,T790M,L858R]"
          ],
          [
           "Deletion",
           "Epidermal growth factor receptor [668-1210,T790M,L858R]"
          ],
          [
           "Deletion",
           "Epidermal growth factor receptor [668-1210,T790M,L858R]"
          ],
          [
           "Deletion",
           "Epidermal growth factor receptor [668-1210,T790M,L858R]"
          ],
          [
           "Deletion",
           "Epidermal growth factor receptor [668-1210,T790M,L858R]"
          ],
          [
           "Deletion",
           "Epidermal growth factor receptor [668-1210,T790M,L858R]"
          ],
          [
           "Deletion",
           "Epidermal growth factor receptor [668-1210,T790M,L858R]"
          ],
          [
           "Deletion",
           "Epidermal growth factor receptor [668-1210,T790M,L858R]"
          ],
          [
           "Deletion",
           "Epidermal growth factor receptor [668-1210,T790M,L858R]"
          ],
          [
           "Deletion",
           "Epidermal growth factor receptor [668-1210,T790M,L858R]"
          ],
          [
           "Deletion",
           "Epidermal growth factor receptor [668-1210,T790M,L858R]"
          ],
          [
           "Deletion",
           "Epidermal growth factor receptor [668-1210,T790M,L858R]"
          ],
          [
           "Deletion",
           "Epidermal growth factor receptor [668-1210,T790M,L858R]"
          ],
          [
           "Deletion",
           "Epidermal growth factor receptor [668-1210,T790M,L858R]"
          ],
          [
           "Deletion",
           "Epidermal growth factor receptor [668-1210,T790M,L858R]"
          ],
          [
           "Deletion",
           "Epidermal growth factor receptor [668-1210,T790M,L858R]"
          ],
          [
           "Deletion",
           "Epidermal growth factor receptor [668-1210,T790M,L858R]"
          ],
          [
           "Deletion",
           "Epidermal growth factor receptor [668-1210,T790M,L858R]"
          ],
          [
           "Deletion",
           "Epidermal growth factor receptor [668-1210,T790M,L858R]"
          ],
          [
           "Deletion",
           "Epidermal growth factor receptor [668-1210,T790M,L858R]"
          ],
          [
           "Deletion",
           "Epidermal growth factor receptor [668-1210,T790M,L858R]"
          ],
          [
           "Deletion",
           "Epidermal growth factor receptor [668-1210,T790M,L858R]"
          ],
          [
           "Deletion",
           "Epidermal growth factor receptor [668-1210,T790M,L858R]"
          ],
          [
           "Deletion",
           "Epidermal growth factor receptor [668-1210,T790M,L858R]"
          ],
          [
           "Deletion",
           "Epidermal growth factor receptor [668-1210,T790M,L858R]"
          ],
          [
           "Deletion",
           "Epidermal growth factor receptor [668-1210,T790M,L858R]"
          ],
          [
           "Deletion",
           "Epidermal growth factor receptor [668-1210,T790M,L858R]"
          ],
          [
           "Deletion",
           "Epidermal growth factor receptor [668-1210,T790M,L858R]"
          ],
          [
           "Deletion",
           "Epidermal growth factor receptor [668-1210,T790M,L858R]"
          ],
          [
           "Deletion",
           "Epidermal growth factor receptor [668-1210,T790M,L858R]"
          ],
          [
           "Deletion",
           "Epidermal growth factor receptor [668-1210,T790M,L858R]"
          ],
          [
           "Deletion",
           "Epidermal growth factor receptor [668-1210,T790M,L858R]"
          ],
          [
           "Deletion",
           "Epidermal growth factor receptor [668-1210,T790M,L858R]"
          ],
          [
           "Deletion",
           "Epidermal growth factor receptor [668-1210,T790M,L858R]"
          ],
          [
           "Deletion",
           "Epidermal growth factor receptor [668-1210,T790M,L858R]"
          ],
          [
           "Deletion",
           "Epidermal growth factor receptor [668-1210,T790M,L858R]"
          ],
          [
           "Deletion",
           "Epidermal growth factor receptor [668-1210,T790M,L858R]"
          ],
          [
           "Deletion",
           "Epidermal growth factor receptor [668-1210,T790M,L858R]"
          ],
          [
           "Deletion",
           "Epidermal growth factor receptor [668-1210,T790M,L858R]"
          ],
          [
           "Deletion",
           "Epidermal growth factor receptor [668-1210,T790M,L858R]"
          ],
          [
           "Deletion",
           "Epidermal growth factor receptor [668-1210,T790M,L858R]"
          ],
          [
           "Deletion",
           "Epidermal growth factor receptor [668-1210,T790M,L858R]"
          ],
          [
           "Deletion",
           "Epidermal growth factor receptor [668-1210,T790M,L858R]"
          ],
          [
           "Deletion",
           "Epidermal growth factor receptor [668-1210,T790M,L858R]"
          ],
          [
           "Deletion",
           "Epidermal growth factor receptor [668-1210,T790M,L858R]"
          ],
          [
           "Deletion",
           "Epidermal growth factor receptor [668-1210,T790M,L858R]"
          ],
          [
           "Deletion",
           "Epidermal growth factor receptor [668-1210,T790M,L858R]"
          ],
          [
           "Deletion",
           "Epidermal growth factor receptor [668-1210,T790M,L858R]"
          ],
          [
           "Deletion",
           "Epidermal growth factor receptor [668-1210,T790M,L858R]"
          ],
          [
           "Deletion",
           "Epidermal growth factor receptor [668-1210,T790M,L858R]"
          ],
          [
           "Deletion",
           "Epidermal growth factor receptor [668-1210,T790M,L858R]"
          ],
          [
           "Deletion",
           "Epidermal growth factor receptor [668-1210,T790M,L858R]"
          ],
          [
           "Deletion",
           "Epidermal growth factor receptor [668-1210,T790M,L858R]"
          ],
          [
           "Deletion",
           "Epidermal growth factor receptor [668-1210,T790M,L858R]"
          ],
          [
           "Deletion",
           "Epidermal growth factor receptor [668-1210,T790M,L858R]"
          ],
          [
           "Deletion",
           "Epidermal growth factor receptor [668-1210,T790M,L858R]"
          ],
          [
           "Deletion",
           "Epidermal growth factor receptor [668-1210,T790M,L858R]"
          ],
          [
           "Deletion",
           "Epidermal growth factor receptor [668-1210,T790M,L858R]"
          ],
          [
           "Deletion",
           "Epidermal growth factor receptor [668-1210,T790M,L858R]"
          ],
          [
           "Deletion",
           "Epidermal growth factor receptor [668-1210,T790M,L858R]"
          ],
          [
           "Deletion",
           "Epidermal growth factor receptor [668-1210,T790M,L858R]"
          ],
          [
           "Deletion",
           "Epidermal growth factor receptor [668-1210,T790M,L858R]"
          ],
          [
           "Deletion",
           "Epidermal growth factor receptor [668-1210,T790M,L858R]"
          ],
          [
           "Deletion",
           "Epidermal growth factor receptor [668-1210,T790M,L858R]"
          ],
          [
           "Deletion",
           "Epidermal growth factor receptor [668-1210,T790M,L858R]"
          ],
          [
           "Deletion",
           "Epidermal growth factor receptor [668-1210,T790M,L858R]"
          ],
          [
           "Deletion",
           "Epidermal growth factor receptor [668-1210,T790M,L858R]"
          ],
          [
           "Deletion",
           "Epidermal growth factor receptor [668-1210,T790M,L858R]"
          ],
          [
           "Deletion",
           "Epidermal growth factor receptor [668-1210,T790M,L858R]"
          ],
          [
           "Deletion",
           "Epidermal growth factor receptor [668-1210,T790M,L858R]"
          ],
          [
           "Deletion",
           "Epidermal growth factor receptor [668-1210,T790M,L858R]"
          ],
          [
           "Deletion",
           "Epidermal growth factor receptor [668-1210,T790M,L858R]"
          ],
          [
           "Deletion",
           "Epidermal growth factor receptor [668-1210,T790M,L858R]"
          ],
          [
           "Deletion",
           "Epidermal growth factor receptor [668-1210,T790M,L858R]"
          ],
          [
           "Deletion",
           "Epidermal growth factor receptor [668-1210,T790M,L858R]"
          ],
          [
           "Deletion",
           "Epidermal growth factor receptor [668-1210,T790M,L858R]"
          ],
          [
           "Deletion",
           "Epidermal growth factor receptor [668-1210,T790M,L858R]"
          ],
          [
           "Deletion",
           "Epidermal growth factor receptor [668-1210,T790M,L858R]"
          ],
          [
           "Deletion",
           "Epidermal growth factor receptor [668-1210,T790M,L858R]"
          ],
          [
           "Deletion",
           "Epidermal growth factor receptor [668-1210,T790M,L858R]"
          ],
          [
           "Deletion",
           "Epidermal growth factor receptor [668-1210,T790M,L858R]"
          ],
          [
           "Deletion",
           "Epidermal growth factor receptor [668-1210,T790M,L858R]"
          ],
          [
           "Deletion",
           "Epidermal growth factor receptor [668-1210,T790M,L858R]"
          ],
          [
           "Deletion",
           "Epidermal growth factor receptor [668-1210,T790M,L858R]"
          ],
          [
           "Deletion",
           "Epidermal growth factor receptor [668-1210,T790M,L858R]"
          ],
          [
           "Deletion",
           "Epidermal growth factor receptor [668-1210,T790M,L858R]"
          ],
          [
           "Deletion",
           "Epidermal growth factor receptor [668-1210,T790M,L858R]"
          ],
          [
           "Deletion",
           "Epidermal growth factor receptor [668-1210,T790M,L858R]"
          ],
          [
           "Deletion",
           "Epidermal growth factor receptor [668-1210,T790M,L858R]"
          ],
          [
           "Deletion",
           "Epidermal growth factor receptor [668-1210,T790M,L858R]"
          ],
          [
           "Deletion",
           "Epidermal growth factor receptor [668-1210,T790M,L858R]"
          ],
          [
           "Deletion",
           "Epidermal growth factor receptor [668-1210,T790M,L858R]"
          ],
          [
           "Deletion",
           "Epidermal growth factor receptor [668-1210,T790M,L858R]"
          ],
          [
           "Deletion",
           "Epidermal growth factor receptor [668-1210,T790M,L858R]"
          ],
          [
           "Deletion",
           "Epidermal growth factor receptor [668-1210,T790M,L858R]"
          ],
          [
           "Deletion",
           "Epidermal growth factor receptor [668-1210,T790M,L858R]"
          ],
          [
           "Deletion",
           "Epidermal growth factor receptor [668-1210,T790M,L858R]"
          ],
          [
           "Deletion",
           "Epidermal growth factor receptor [668-1210,T790M,L858R]"
          ],
          [
           "Deletion",
           "Epidermal growth factor receptor [668-1210,T790M,L858R]"
          ],
          [
           "Deletion",
           "Epidermal growth factor receptor [668-1210,T790M,L858R]"
          ],
          [
           "Deletion",
           "Epidermal growth factor receptor [668-1210,T790M,L858R]"
          ],
          [
           "Deletion",
           "Epidermal growth factor receptor [668-1210,T790M,L858R]"
          ],
          [
           "Deletion",
           "Epidermal growth factor receptor [668-1210,T790M,L858R]"
          ],
          [
           "Deletion",
           "Epidermal growth factor receptor [668-1210,T790M,L858R]"
          ],
          [
           "Deletion",
           "Epidermal growth factor receptor [668-1210,T790M,L858R]"
          ],
          [
           "Deletion",
           "Epidermal growth factor receptor [668-1210,T790M,L858R]"
          ],
          [
           "Deletion",
           "Epidermal growth factor receptor [668-1210,T790M,L858R]"
          ],
          [
           "Deletion",
           "Epidermal growth factor receptor [668-1210,T790M,L858R]"
          ],
          [
           "Deletion",
           "Epidermal growth factor receptor [668-1210,T790M,L858R]"
          ],
          [
           "Deletion",
           "Epidermal growth factor receptor [668-1210,T790M,L858R]"
          ],
          [
           "Deletion",
           "Epidermal growth factor receptor [668-1210,T790M,L858R]"
          ],
          [
           "Deletion",
           "Epidermal growth factor receptor [668-1210,T790M,L858R]"
          ],
          [
           "Deletion",
           "Epidermal growth factor receptor [668-1210,T790M,L858R]"
          ],
          [
           "Deletion",
           "Epidermal growth factor receptor [668-1210,T790M,L858R]"
          ],
          [
           "Deletion",
           "Epidermal growth factor receptor [668-1210,T790M,L858R]"
          ],
          [
           "Deletion",
           "Epidermal growth factor receptor [668-1210,T790M,L858R]"
          ],
          [
           "Deletion",
           "Epidermal growth factor receptor [668-1210,T790M,L858R]"
          ],
          [
           "Deletion",
           "Epidermal growth factor receptor [668-1210,T790M,L858R]"
          ],
          [
           "Deletion",
           "Epidermal growth factor receptor [668-1210,T790M,L858R]"
          ],
          [
           "Deletion",
           "Epidermal growth factor receptor [668-1210,T790M,L858R]"
          ],
          [
           "Deletion",
           "Epidermal growth factor receptor [668-1210,T790M,L858R]"
          ],
          [
           "Deletion",
           "Epidermal growth factor receptor [668-1210,T790M,L858R]"
          ],
          [
           "Deletion",
           "Epidermal growth factor receptor [668-1210,T790M,L858R]"
          ],
          [
           "Deletion",
           "Epidermal growth factor receptor [668-1210,T790M,L858R]"
          ],
          [
           "Deletion",
           "Epidermal growth factor receptor [668-1210,T790M,L858R]"
          ],
          [
           "Deletion",
           "Epidermal growth factor receptor [668-1210,T790M,L858R]"
          ],
          [
           "Deletion",
           "Epidermal growth factor receptor [668-1210,T790M,L858R]"
          ],
          [
           "Deletion",
           "Epidermal growth factor receptor [668-1210,T790M,L858R]"
          ],
          [
           "Deletion",
           "Epidermal growth factor receptor [668-1210,T790M,L858R]"
          ],
          [
           "Deletion",
           "Epidermal growth factor receptor [668-1210,T790M,L858R]"
          ],
          [
           "Deletion",
           "Epidermal growth factor receptor [668-1210,T790M,L858R]"
          ],
          [
           "Deletion",
           "Epidermal growth factor receptor [668-1210,T790M,L858R]"
          ],
          [
           "Deletion",
           "Epidermal growth factor receptor [668-1210,T790M,L858R]"
          ],
          [
           "Deletion",
           "Epidermal growth factor receptor [668-1210,T790M,L858R]"
          ],
          [
           "Deletion",
           "Epidermal growth factor receptor [668-1210,T790M,L858R]"
          ],
          [
           "Deletion",
           "Epidermal growth factor receptor [668-1210,T790M,L858R]"
          ],
          [
           "Deletion",
           "Epidermal growth factor receptor [668-1210,T790M,L858R]"
          ],
          [
           "Deletion",
           "Epidermal growth factor receptor [668-1210,T790M,L858R]"
          ],
          [
           "Deletion",
           "Epidermal growth factor receptor [668-1210,T790M,L858R]"
          ],
          [
           "Deletion",
           "Epidermal growth factor receptor [668-1210,T790M,L858R]"
          ],
          [
           "Deletion",
           "Epidermal growth factor receptor [668-1210,T790M,L858R]"
          ],
          [
           "Deletion",
           "Epidermal growth factor receptor [668-1210,T790M,L858R]"
          ],
          [
           "Deletion",
           "Epidermal growth factor receptor [668-1210,T790M,L858R]"
          ],
          [
           "Deletion",
           "Epidermal growth factor receptor [668-1210,T790M,L858R]"
          ],
          [
           "Deletion",
           "Epidermal growth factor receptor [668-1210,T790M,L858R]"
          ],
          [
           "Deletion",
           "Epidermal growth factor receptor [668-1210,T790M,L858R]"
          ],
          [
           "Deletion",
           "Epidermal growth factor receptor [668-1210,T790M,L858R]"
          ],
          [
           "Deletion",
           "Epidermal growth factor receptor [668-1210,T790M,L858R]"
          ],
          [
           "Deletion",
           "Epidermal growth factor receptor [668-1210,T790M,L858R]"
          ],
          [
           "Deletion",
           "Epidermal growth factor receptor [668-1210,T790M,L858R]"
          ],
          [
           "Deletion",
           "Epidermal growth factor receptor [668-1210,T790M,L858R]"
          ],
          [
           "Deletion",
           "Epidermal growth factor receptor [668-1210,T790M,L858R]"
          ],
          [
           "Deletion",
           "Epidermal growth factor receptor [668-1210,T790M,L858R]"
          ],
          [
           "Deletion",
           "Epidermal growth factor receptor [668-1210,T790M,L858R]"
          ],
          [
           "Deletion",
           "Epidermal growth factor receptor [668-1210,T790M,L858R]"
          ],
          [
           "Deletion",
           "Epidermal growth factor receptor [668-1210,T790M,L858R]"
          ],
          [
           "Deletion",
           "Epidermal growth factor receptor [668-1210,T790M,L858R]"
          ],
          [
           "Deletion",
           "Epidermal growth factor receptor [668-1210,T790M,L858R]"
          ],
          [
           "Deletion",
           "Epidermal growth factor receptor [668-1210,T790M,L858R]"
          ],
          [
           "Deletion",
           "Epidermal growth factor receptor [668-1210,T790M,L858R]"
          ],
          [
           "Deletion",
           "Epidermal growth factor receptor [668-1210,T790M,L858R]"
          ],
          [
           "Deletion",
           "Epidermal growth factor receptor [668-1210,T790M,L858R]"
          ],
          [
           "Deletion",
           "Epidermal growth factor receptor [668-1210,T790M,L858R]"
          ],
          [
           "Deletion",
           "Epidermal growth factor receptor [668-1210,T790M,L858R]"
          ],
          [
           "Deletion",
           "Epidermal growth factor receptor [668-1210,T790M,L858R]"
          ],
          [
           "Deletion",
           "Epidermal growth factor receptor [668-1210,T790M,L858R]"
          ],
          [
           "Deletion",
           "Epidermal growth factor receptor [668-1210,T790M,L858R]"
          ],
          [
           "Deletion",
           "Epidermal growth factor receptor [668-1210,T790M,L858R]"
          ],
          [
           "Deletion",
           "Epidermal growth factor receptor [668-1210,T790M,L858R]"
          ],
          [
           "Deletion",
           "Epidermal growth factor receptor [668-1210,T790M,L858R]"
          ],
          [
           "Deletion",
           "Epidermal growth factor receptor [668-1210,T790M,L858R]"
          ],
          [
           "Deletion",
           "Epidermal growth factor receptor [668-1210,T790M,L858R]"
          ],
          [
           "Deletion",
           "Epidermal growth factor receptor [668-1210,T790M,L858R]"
          ],
          [
           "Deletion",
           "Epidermal growth factor receptor [668-1210,T790M,L858R]"
          ],
          [
           "Deletion",
           "Epidermal growth factor receptor [668-1210,T790M,L858R]"
          ],
          [
           "Deletion",
           "Epidermal growth factor receptor [668-1210,T790M,L858R]"
          ],
          [
           "Deletion",
           "Epidermal growth factor receptor [668-1210,T790M,L858R]"
          ],
          [
           "Deletion",
           "Epidermal growth factor receptor [668-1210,T790M,L858R]"
          ],
          [
           "Deletion",
           "Epidermal growth factor receptor [668-1210,T790M,L858R]"
          ],
          [
           "Deletion",
           "Epidermal growth factor receptor [668-1210,T790M,L858R]"
          ],
          [
           "Deletion",
           "Epidermal growth factor receptor [668-1210,T790M,L858R]"
          ],
          [
           "Deletion",
           "Epidermal growth factor receptor [668-1210,T790M,L858R]"
          ],
          [
           "Deletion",
           "Epidermal growth factor receptor [668-1210,T790M,L858R]"
          ],
          [
           "Deletion",
           "Epidermal growth factor receptor [668-1210,T790M,L858R]"
          ],
          [
           "Deletion",
           "Epidermal growth factor receptor [668-1210,T790M,L858R]"
          ],
          [
           "Deletion",
           "Epidermal growth factor receptor [668-1210,T790M,L858R]"
          ],
          [
           "Deletion",
           "Epidermal growth factor receptor [668-1210,T790M,L858R]"
          ],
          [
           "Deletion",
           "Epidermal growth factor receptor [668-1210,T790M,L858R]"
          ],
          [
           "Deletion",
           "Epidermal growth factor receptor [668-1210,T790M,L858R]"
          ],
          [
           "Deletion",
           "Epidermal growth factor receptor [668-1210,T790M,L858R]"
          ],
          [
           "Deletion",
           "Epidermal growth factor receptor [668-1210,T790M,L858R]"
          ],
          [
           "Deletion",
           "Epidermal growth factor receptor [668-1210,T790M,L858R]"
          ],
          [
           "Deletion",
           "Epidermal growth factor receptor [668-1210,T790M,L858R]"
          ],
          [
           "Deletion",
           "Epidermal growth factor receptor [668-1210,T790M,L858R]"
          ],
          [
           "Deletion",
           "Epidermal growth factor receptor [668-1210,T790M,L858R]"
          ],
          [
           "Deletion",
           "Epidermal growth factor receptor [668-1210,T790M,L858R]"
          ],
          [
           "Deletion",
           "Epidermal growth factor receptor [668-1210,T790M,L858R]"
          ],
          [
           "Deletion",
           "Epidermal growth factor receptor [668-1210,T790M,L858R]"
          ],
          [
           "Deletion",
           "Epidermal growth factor receptor [668-1210,T790M,L858R]"
          ],
          [
           "Deletion",
           "Epidermal growth factor receptor [668-1210,T790M,L858R]"
          ],
          [
           "Deletion",
           "Epidermal growth factor receptor [668-1210,T790M,L858R]"
          ],
          [
           "Deletion",
           "Epidermal growth factor receptor [668-1210,T790M,L858R]"
          ],
          [
           "Deletion",
           "Epidermal growth factor receptor [668-1210,T790M,L858R]"
          ],
          [
           "Deletion",
           "Epidermal growth factor receptor [668-1210,T790M,L858R]"
          ],
          [
           "Deletion",
           "Epidermal growth factor receptor [668-1210,T790M,L858R]"
          ],
          [
           "Deletion",
           "Epidermal growth factor receptor [668-1210,T790M,L858R]"
          ],
          [
           "Deletion",
           "Epidermal growth factor receptor [668-1210,T790M,L858R]"
          ],
          [
           "Deletion",
           "Epidermal growth factor receptor [668-1210,T790M,L858R]"
          ],
          [
           "Deletion",
           "Epidermal growth factor receptor [668-1210,T790M,L858R]"
          ],
          [
           "Deletion",
           "Epidermal growth factor receptor [668-1210,T790M,L858R]"
          ],
          [
           "Deletion",
           "Epidermal growth factor receptor [668-1210,T790M,L858R]"
          ],
          [
           "Deletion",
           "Epidermal growth factor receptor [668-1210,T790M,L858R]"
          ],
          [
           "Deletion",
           "Epidermal growth factor receptor [668-1210,T790M,L858R]"
          ],
          [
           "Deletion",
           "Epidermal growth factor receptor [668-1210,T790M,L858R]"
          ],
          [
           "Deletion",
           "Epidermal growth factor receptor [668-1210,T790M,L858R]"
          ],
          [
           "Deletion",
           "Epidermal growth factor receptor [668-1210,T790M,L858R]"
          ],
          [
           "Deletion",
           "Epidermal growth factor receptor [668-1210,T790M,L858R]"
          ],
          [
           "Deletion",
           "Epidermal growth factor receptor [668-1210,T790M,L858R]"
          ],
          [
           "Deletion",
           "Epidermal growth factor receptor [668-1210,T790M,L858R]"
          ],
          [
           "Deletion",
           "Epidermal growth factor receptor [668-1210,T790M,L858R]"
          ],
          [
           "Deletion",
           "Epidermal growth factor receptor [668-1210,T790M,L858R]"
          ],
          [
           "Deletion",
           "Epidermal growth factor receptor [668-1210,T790M,L858R]"
          ],
          [
           "Deletion",
           "Epidermal growth factor receptor [668-1210,T790M,L858R]"
          ],
          [
           "Deletion",
           "Epidermal growth factor receptor [668-1210,T790M,L858R]"
          ],
          [
           "Deletion",
           "Epidermal growth factor receptor [668-1210,T790M,L858R]"
          ],
          [
           "Deletion",
           "Epidermal growth factor receptor [668-1210,T790M,L858R]"
          ],
          [
           "Deletion",
           "Epidermal growth factor receptor [668-1210,T790M,L858R]"
          ],
          [
           "Deletion",
           "Epidermal growth factor receptor [668-1210,T790M,L858R]"
          ],
          [
           "Deletion",
           "Epidermal growth factor receptor [668-1210,T790M,L858R]"
          ],
          [
           "Deletion",
           "Epidermal growth factor receptor [668-1210,T790M,L858R]"
          ],
          [
           "Deletion",
           "Epidermal growth factor receptor [668-1210,T790M,L858R]"
          ],
          [
           "Deletion",
           "Epidermal growth factor receptor [668-1210,T790M,L858R]"
          ],
          [
           "Deletion",
           "Epidermal growth factor receptor [668-1210,T790M,L858R]"
          ],
          [
           "Deletion",
           "Epidermal growth factor receptor [668-1210,T790M,L858R]"
          ],
          [
           "Deletion",
           "Epidermal growth factor receptor [668-1210,T790M,L858R]"
          ],
          [
           "Deletion",
           "Epidermal growth factor receptor [668-1210,T790M,L858R]"
          ],
          [
           "Deletion",
           "Epidermal growth factor receptor [668-1210,T790M,L858R]"
          ],
          [
           "Deletion",
           "Epidermal growth factor receptor [668-1210,T790M,L858R]"
          ],
          [
           "Deletion",
           "Epidermal growth factor receptor [668-1210,T790M,L858R]"
          ],
          [
           "Deletion",
           "Epidermal growth factor receptor [668-1210,T790M,L858R]"
          ],
          [
           "Deletion",
           "Epidermal growth factor receptor [668-1210,T790M,L858R]"
          ],
          [
           "Deletion",
           "Epidermal growth factor receptor [668-1210,T790M,L858R]"
          ],
          [
           "Deletion",
           "Epidermal growth factor receptor [668-1210,T790M,L858R]"
          ],
          [
           "Deletion",
           "Epidermal growth factor receptor [668-1210,T790M,L858R]"
          ],
          [
           "Deletion",
           "Epidermal growth factor receptor [668-1210,T790M,L858R]"
          ],
          [
           "Deletion",
           "Epidermal growth factor receptor [668-1210,T790M,L858R]"
          ],
          [
           "Deletion",
           "Epidermal growth factor receptor [668-1210,T790M,L858R]"
          ],
          [
           "Threonine -> Methionine",
           "Epidermal growth factor receptor [668-1210,T790M,L858R]"
          ],
          [
           "Leucine -> Arginine",
           "Epidermal growth factor receptor [668-1210,T790M,L858R]"
          ]
         ],
         "hovertemplate": "<b>%{hovertext}</b><br><br>Mutation Position=%{x}<br>IC50 Difference=%{y}<br>Mutation=%{customdata[0]}<extra></extra>",
         "hovertext": [
          "Epidermal growth factor receptor [668-1210,T790M,L858R]",
          "Epidermal growth factor receptor [668-1210,T790M,L858R]",
          "Epidermal growth factor receptor [668-1210,T790M,L858R]",
          "Epidermal growth factor receptor [668-1210,T790M,L858R]",
          "Epidermal growth factor receptor [668-1210,T790M,L858R]",
          "Epidermal growth factor receptor [668-1210,T790M,L858R]",
          "Epidermal growth factor receptor [668-1210,T790M,L858R]",
          "Epidermal growth factor receptor [668-1210,T790M,L858R]",
          "Epidermal growth factor receptor [668-1210,T790M,L858R]",
          "Epidermal growth factor receptor [668-1210,T790M,L858R]",
          "Epidermal growth factor receptor [668-1210,T790M,L858R]",
          "Epidermal growth factor receptor [668-1210,T790M,L858R]",
          "Epidermal growth factor receptor [668-1210,T790M,L858R]",
          "Epidermal growth factor receptor [668-1210,T790M,L858R]",
          "Epidermal growth factor receptor [668-1210,T790M,L858R]",
          "Epidermal growth factor receptor [668-1210,T790M,L858R]",
          "Epidermal growth factor receptor [668-1210,T790M,L858R]",
          "Epidermal growth factor receptor [668-1210,T790M,L858R]",
          "Epidermal growth factor receptor [668-1210,T790M,L858R]",
          "Epidermal growth factor receptor [668-1210,T790M,L858R]",
          "Epidermal growth factor receptor [668-1210,T790M,L858R]",
          "Epidermal growth factor receptor [668-1210,T790M,L858R]",
          "Epidermal growth factor receptor [668-1210,T790M,L858R]",
          "Epidermal growth factor receptor [668-1210,T790M,L858R]",
          "Epidermal growth factor receptor [668-1210,T790M,L858R]",
          "Epidermal growth factor receptor [668-1210,T790M,L858R]",
          "Epidermal growth factor receptor [668-1210,T790M,L858R]",
          "Epidermal growth factor receptor [668-1210,T790M,L858R]",
          "Epidermal growth factor receptor [668-1210,T790M,L858R]",
          "Epidermal growth factor receptor [668-1210,T790M,L858R]",
          "Epidermal growth factor receptor [668-1210,T790M,L858R]",
          "Epidermal growth factor receptor [668-1210,T790M,L858R]",
          "Epidermal growth factor receptor [668-1210,T790M,L858R]",
          "Epidermal growth factor receptor [668-1210,T790M,L858R]",
          "Epidermal growth factor receptor [668-1210,T790M,L858R]",
          "Epidermal growth factor receptor [668-1210,T790M,L858R]",
          "Epidermal growth factor receptor [668-1210,T790M,L858R]",
          "Epidermal growth factor receptor [668-1210,T790M,L858R]",
          "Epidermal growth factor receptor [668-1210,T790M,L858R]",
          "Epidermal growth factor receptor [668-1210,T790M,L858R]",
          "Epidermal growth factor receptor [668-1210,T790M,L858R]",
          "Epidermal growth factor receptor [668-1210,T790M,L858R]",
          "Epidermal growth factor receptor [668-1210,T790M,L858R]",
          "Epidermal growth factor receptor [668-1210,T790M,L858R]",
          "Epidermal growth factor receptor [668-1210,T790M,L858R]",
          "Epidermal growth factor receptor [668-1210,T790M,L858R]",
          "Epidermal growth factor receptor [668-1210,T790M,L858R]",
          "Epidermal growth factor receptor [668-1210,T790M,L858R]",
          "Epidermal growth factor receptor [668-1210,T790M,L858R]",
          "Epidermal growth factor receptor [668-1210,T790M,L858R]",
          "Epidermal growth factor receptor [668-1210,T790M,L858R]",
          "Epidermal growth factor receptor [668-1210,T790M,L858R]",
          "Epidermal growth factor receptor [668-1210,T790M,L858R]",
          "Epidermal growth factor receptor [668-1210,T790M,L858R]",
          "Epidermal growth factor receptor [668-1210,T790M,L858R]",
          "Epidermal growth factor receptor [668-1210,T790M,L858R]",
          "Epidermal growth factor receptor [668-1210,T790M,L858R]",
          "Epidermal growth factor receptor [668-1210,T790M,L858R]",
          "Epidermal growth factor receptor [668-1210,T790M,L858R]",
          "Epidermal growth factor receptor [668-1210,T790M,L858R]",
          "Epidermal growth factor receptor [668-1210,T790M,L858R]",
          "Epidermal growth factor receptor [668-1210,T790M,L858R]",
          "Epidermal growth factor receptor [668-1210,T790M,L858R]",
          "Epidermal growth factor receptor [668-1210,T790M,L858R]",
          "Epidermal growth factor receptor [668-1210,T790M,L858R]",
          "Epidermal growth factor receptor [668-1210,T790M,L858R]",
          "Epidermal growth factor receptor [668-1210,T790M,L858R]",
          "Epidermal growth factor receptor [668-1210,T790M,L858R]",
          "Epidermal growth factor receptor [668-1210,T790M,L858R]",
          "Epidermal growth factor receptor [668-1210,T790M,L858R]",
          "Epidermal growth factor receptor [668-1210,T790M,L858R]",
          "Epidermal growth factor receptor [668-1210,T790M,L858R]",
          "Epidermal growth factor receptor [668-1210,T790M,L858R]",
          "Epidermal growth factor receptor [668-1210,T790M,L858R]",
          "Epidermal growth factor receptor [668-1210,T790M,L858R]",
          "Epidermal growth factor receptor [668-1210,T790M,L858R]",
          "Epidermal growth factor receptor [668-1210,T790M,L858R]",
          "Epidermal growth factor receptor [668-1210,T790M,L858R]",
          "Epidermal growth factor receptor [668-1210,T790M,L858R]",
          "Epidermal growth factor receptor [668-1210,T790M,L858R]",
          "Epidermal growth factor receptor [668-1210,T790M,L858R]",
          "Epidermal growth factor receptor [668-1210,T790M,L858R]",
          "Epidermal growth factor receptor [668-1210,T790M,L858R]",
          "Epidermal growth factor receptor [668-1210,T790M,L858R]",
          "Epidermal growth factor receptor [668-1210,T790M,L858R]",
          "Epidermal growth factor receptor [668-1210,T790M,L858R]",
          "Epidermal growth factor receptor [668-1210,T790M,L858R]",
          "Epidermal growth factor receptor [668-1210,T790M,L858R]",
          "Epidermal growth factor receptor [668-1210,T790M,L858R]",
          "Epidermal growth factor receptor [668-1210,T790M,L858R]",
          "Epidermal growth factor receptor [668-1210,T790M,L858R]",
          "Epidermal growth factor receptor [668-1210,T790M,L858R]",
          "Epidermal growth factor receptor [668-1210,T790M,L858R]",
          "Epidermal growth factor receptor [668-1210,T790M,L858R]",
          "Epidermal growth factor receptor [668-1210,T790M,L858R]",
          "Epidermal growth factor receptor [668-1210,T790M,L858R]",
          "Epidermal growth factor receptor [668-1210,T790M,L858R]",
          "Epidermal growth factor receptor [668-1210,T790M,L858R]",
          "Epidermal growth factor receptor [668-1210,T790M,L858R]",
          "Epidermal growth factor receptor [668-1210,T790M,L858R]",
          "Epidermal growth factor receptor [668-1210,T790M,L858R]",
          "Epidermal growth factor receptor [668-1210,T790M,L858R]",
          "Epidermal growth factor receptor [668-1210,T790M,L858R]",
          "Epidermal growth factor receptor [668-1210,T790M,L858R]",
          "Epidermal growth factor receptor [668-1210,T790M,L858R]",
          "Epidermal growth factor receptor [668-1210,T790M,L858R]",
          "Epidermal growth factor receptor [668-1210,T790M,L858R]",
          "Epidermal growth factor receptor [668-1210,T790M,L858R]",
          "Epidermal growth factor receptor [668-1210,T790M,L858R]",
          "Epidermal growth factor receptor [668-1210,T790M,L858R]",
          "Epidermal growth factor receptor [668-1210,T790M,L858R]",
          "Epidermal growth factor receptor [668-1210,T790M,L858R]",
          "Epidermal growth factor receptor [668-1210,T790M,L858R]",
          "Epidermal growth factor receptor [668-1210,T790M,L858R]",
          "Epidermal growth factor receptor [668-1210,T790M,L858R]",
          "Epidermal growth factor receptor [668-1210,T790M,L858R]",
          "Epidermal growth factor receptor [668-1210,T790M,L858R]",
          "Epidermal growth factor receptor [668-1210,T790M,L858R]",
          "Epidermal growth factor receptor [668-1210,T790M,L858R]",
          "Epidermal growth factor receptor [668-1210,T790M,L858R]",
          "Epidermal growth factor receptor [668-1210,T790M,L858R]",
          "Epidermal growth factor receptor [668-1210,T790M,L858R]",
          "Epidermal growth factor receptor [668-1210,T790M,L858R]",
          "Epidermal growth factor receptor [668-1210,T790M,L858R]",
          "Epidermal growth factor receptor [668-1210,T790M,L858R]",
          "Epidermal growth factor receptor [668-1210,T790M,L858R]",
          "Epidermal growth factor receptor [668-1210,T790M,L858R]",
          "Epidermal growth factor receptor [668-1210,T790M,L858R]",
          "Epidermal growth factor receptor [668-1210,T790M,L858R]",
          "Epidermal growth factor receptor [668-1210,T790M,L858R]",
          "Epidermal growth factor receptor [668-1210,T790M,L858R]",
          "Epidermal growth factor receptor [668-1210,T790M,L858R]",
          "Epidermal growth factor receptor [668-1210,T790M,L858R]",
          "Epidermal growth factor receptor [668-1210,T790M,L858R]",
          "Epidermal growth factor receptor [668-1210,T790M,L858R]",
          "Epidermal growth factor receptor [668-1210,T790M,L858R]",
          "Epidermal growth factor receptor [668-1210,T790M,L858R]",
          "Epidermal growth factor receptor [668-1210,T790M,L858R]",
          "Epidermal growth factor receptor [668-1210,T790M,L858R]",
          "Epidermal growth factor receptor [668-1210,T790M,L858R]",
          "Epidermal growth factor receptor [668-1210,T790M,L858R]",
          "Epidermal growth factor receptor [668-1210,T790M,L858R]",
          "Epidermal growth factor receptor [668-1210,T790M,L858R]",
          "Epidermal growth factor receptor [668-1210,T790M,L858R]",
          "Epidermal growth factor receptor [668-1210,T790M,L858R]",
          "Epidermal growth factor receptor [668-1210,T790M,L858R]",
          "Epidermal growth factor receptor [668-1210,T790M,L858R]",
          "Epidermal growth factor receptor [668-1210,T790M,L858R]",
          "Epidermal growth factor receptor [668-1210,T790M,L858R]",
          "Epidermal growth factor receptor [668-1210,T790M,L858R]",
          "Epidermal growth factor receptor [668-1210,T790M,L858R]",
          "Epidermal growth factor receptor [668-1210,T790M,L858R]",
          "Epidermal growth factor receptor [668-1210,T790M,L858R]",
          "Epidermal growth factor receptor [668-1210,T790M,L858R]",
          "Epidermal growth factor receptor [668-1210,T790M,L858R]",
          "Epidermal growth factor receptor [668-1210,T790M,L858R]",
          "Epidermal growth factor receptor [668-1210,T790M,L858R]",
          "Epidermal growth factor receptor [668-1210,T790M,L858R]",
          "Epidermal growth factor receptor [668-1210,T790M,L858R]",
          "Epidermal growth factor receptor [668-1210,T790M,L858R]",
          "Epidermal growth factor receptor [668-1210,T790M,L858R]",
          "Epidermal growth factor receptor [668-1210,T790M,L858R]",
          "Epidermal growth factor receptor [668-1210,T790M,L858R]",
          "Epidermal growth factor receptor [668-1210,T790M,L858R]",
          "Epidermal growth factor receptor [668-1210,T790M,L858R]",
          "Epidermal growth factor receptor [668-1210,T790M,L858R]",
          "Epidermal growth factor receptor [668-1210,T790M,L858R]",
          "Epidermal growth factor receptor [668-1210,T790M,L858R]",
          "Epidermal growth factor receptor [668-1210,T790M,L858R]",
          "Epidermal growth factor receptor [668-1210,T790M,L858R]",
          "Epidermal growth factor receptor [668-1210,T790M,L858R]",
          "Epidermal growth factor receptor [668-1210,T790M,L858R]",
          "Epidermal growth factor receptor [668-1210,T790M,L858R]",
          "Epidermal growth factor receptor [668-1210,T790M,L858R]",
          "Epidermal growth factor receptor [668-1210,T790M,L858R]",
          "Epidermal growth factor receptor [668-1210,T790M,L858R]",
          "Epidermal growth factor receptor [668-1210,T790M,L858R]",
          "Epidermal growth factor receptor [668-1210,T790M,L858R]",
          "Epidermal growth factor receptor [668-1210,T790M,L858R]",
          "Epidermal growth factor receptor [668-1210,T790M,L858R]",
          "Epidermal growth factor receptor [668-1210,T790M,L858R]",
          "Epidermal growth factor receptor [668-1210,T790M,L858R]",
          "Epidermal growth factor receptor [668-1210,T790M,L858R]",
          "Epidermal growth factor receptor [668-1210,T790M,L858R]",
          "Epidermal growth factor receptor [668-1210,T790M,L858R]",
          "Epidermal growth factor receptor [668-1210,T790M,L858R]",
          "Epidermal growth factor receptor [668-1210,T790M,L858R]",
          "Epidermal growth factor receptor [668-1210,T790M,L858R]",
          "Epidermal growth factor receptor [668-1210,T790M,L858R]",
          "Epidermal growth factor receptor [668-1210,T790M,L858R]",
          "Epidermal growth factor receptor [668-1210,T790M,L858R]",
          "Epidermal growth factor receptor [668-1210,T790M,L858R]",
          "Epidermal growth factor receptor [668-1210,T790M,L858R]",
          "Epidermal growth factor receptor [668-1210,T790M,L858R]",
          "Epidermal growth factor receptor [668-1210,T790M,L858R]",
          "Epidermal growth factor receptor [668-1210,T790M,L858R]",
          "Epidermal growth factor receptor [668-1210,T790M,L858R]",
          "Epidermal growth factor receptor [668-1210,T790M,L858R]",
          "Epidermal growth factor receptor [668-1210,T790M,L858R]",
          "Epidermal growth factor receptor [668-1210,T790M,L858R]",
          "Epidermal growth factor receptor [668-1210,T790M,L858R]",
          "Epidermal growth factor receptor [668-1210,T790M,L858R]",
          "Epidermal growth factor receptor [668-1210,T790M,L858R]",
          "Epidermal growth factor receptor [668-1210,T790M,L858R]",
          "Epidermal growth factor receptor [668-1210,T790M,L858R]",
          "Epidermal growth factor receptor [668-1210,T790M,L858R]",
          "Epidermal growth factor receptor [668-1210,T790M,L858R]",
          "Epidermal growth factor receptor [668-1210,T790M,L858R]",
          "Epidermal growth factor receptor [668-1210,T790M,L858R]",
          "Epidermal growth factor receptor [668-1210,T790M,L858R]",
          "Epidermal growth factor receptor [668-1210,T790M,L858R]",
          "Epidermal growth factor receptor [668-1210,T790M,L858R]",
          "Epidermal growth factor receptor [668-1210,T790M,L858R]",
          "Epidermal growth factor receptor [668-1210,T790M,L858R]",
          "Epidermal growth factor receptor [668-1210,T790M,L858R]",
          "Epidermal growth factor receptor [668-1210,T790M,L858R]",
          "Epidermal growth factor receptor [668-1210,T790M,L858R]",
          "Epidermal growth factor receptor [668-1210,T790M,L858R]",
          "Epidermal growth factor receptor [668-1210,T790M,L858R]",
          "Epidermal growth factor receptor [668-1210,T790M,L858R]",
          "Epidermal growth factor receptor [668-1210,T790M,L858R]",
          "Epidermal growth factor receptor [668-1210,T790M,L858R]",
          "Epidermal growth factor receptor [668-1210,T790M,L858R]",
          "Epidermal growth factor receptor [668-1210,T790M,L858R]",
          "Epidermal growth factor receptor [668-1210,T790M,L858R]",
          "Epidermal growth factor receptor [668-1210,T790M,L858R]",
          "Epidermal growth factor receptor [668-1210,T790M,L858R]",
          "Epidermal growth factor receptor [668-1210,T790M,L858R]",
          "Epidermal growth factor receptor [668-1210,T790M,L858R]",
          "Epidermal growth factor receptor [668-1210,T790M,L858R]",
          "Epidermal growth factor receptor [668-1210,T790M,L858R]",
          "Epidermal growth factor receptor [668-1210,T790M,L858R]",
          "Epidermal growth factor receptor [668-1210,T790M,L858R]",
          "Epidermal growth factor receptor [668-1210,T790M,L858R]",
          "Epidermal growth factor receptor [668-1210,T790M,L858R]",
          "Epidermal growth factor receptor [668-1210,T790M,L858R]",
          "Epidermal growth factor receptor [668-1210,T790M,L858R]",
          "Epidermal growth factor receptor [668-1210,T790M,L858R]",
          "Epidermal growth factor receptor [668-1210,T790M,L858R]",
          "Epidermal growth factor receptor [668-1210,T790M,L858R]",
          "Epidermal growth factor receptor [668-1210,T790M,L858R]",
          "Epidermal growth factor receptor [668-1210,T790M,L858R]",
          "Epidermal growth factor receptor [668-1210,T790M,L858R]",
          "Epidermal growth factor receptor [668-1210,T790M,L858R]",
          "Epidermal growth factor receptor [668-1210,T790M,L858R]",
          "Epidermal growth factor receptor [668-1210,T790M,L858R]",
          "Epidermal growth factor receptor [668-1210,T790M,L858R]",
          "Epidermal growth factor receptor [668-1210,T790M,L858R]",
          "Epidermal growth factor receptor [668-1210,T790M,L858R]",
          "Epidermal growth factor receptor [668-1210,T790M,L858R]",
          "Epidermal growth factor receptor [668-1210,T790M,L858R]",
          "Epidermal growth factor receptor [668-1210,T790M,L858R]",
          "Epidermal growth factor receptor [668-1210,T790M,L858R]",
          "Epidermal growth factor receptor [668-1210,T790M,L858R]",
          "Epidermal growth factor receptor [668-1210,T790M,L858R]",
          "Epidermal growth factor receptor [668-1210,T790M,L858R]",
          "Epidermal growth factor receptor [668-1210,T790M,L858R]",
          "Epidermal growth factor receptor [668-1210,T790M,L858R]",
          "Epidermal growth factor receptor [668-1210,T790M,L858R]",
          "Epidermal growth factor receptor [668-1210,T790M,L858R]",
          "Epidermal growth factor receptor [668-1210,T790M,L858R]",
          "Epidermal growth factor receptor [668-1210,T790M,L858R]",
          "Epidermal growth factor receptor [668-1210,T790M,L858R]",
          "Epidermal growth factor receptor [668-1210,T790M,L858R]",
          "Epidermal growth factor receptor [668-1210,T790M,L858R]",
          "Epidermal growth factor receptor [668-1210,T790M,L858R]",
          "Epidermal growth factor receptor [668-1210,T790M,L858R]",
          "Epidermal growth factor receptor [668-1210,T790M,L858R]",
          "Epidermal growth factor receptor [668-1210,T790M,L858R]",
          "Epidermal growth factor receptor [668-1210,T790M,L858R]",
          "Epidermal growth factor receptor [668-1210,T790M,L858R]",
          "Epidermal growth factor receptor [668-1210,T790M,L858R]",
          "Epidermal growth factor receptor [668-1210,T790M,L858R]",
          "Epidermal growth factor receptor [668-1210,T790M,L858R]",
          "Epidermal growth factor receptor [668-1210,T790M,L858R]",
          "Epidermal growth factor receptor [668-1210,T790M,L858R]",
          "Epidermal growth factor receptor [668-1210,T790M,L858R]",
          "Epidermal growth factor receptor [668-1210,T790M,L858R]",
          "Epidermal growth factor receptor [668-1210,T790M,L858R]",
          "Epidermal growth factor receptor [668-1210,T790M,L858R]",
          "Epidermal growth factor receptor [668-1210,T790M,L858R]",
          "Epidermal growth factor receptor [668-1210,T790M,L858R]",
          "Epidermal growth factor receptor [668-1210,T790M,L858R]",
          "Epidermal growth factor receptor [668-1210,T790M,L858R]",
          "Epidermal growth factor receptor [668-1210,T790M,L858R]",
          "Epidermal growth factor receptor [668-1210,T790M,L858R]",
          "Epidermal growth factor receptor [668-1210,T790M,L858R]",
          "Epidermal growth factor receptor [668-1210,T790M,L858R]",
          "Epidermal growth factor receptor [668-1210,T790M,L858R]",
          "Epidermal growth factor receptor [668-1210,T790M,L858R]",
          "Epidermal growth factor receptor [668-1210,T790M,L858R]",
          "Epidermal growth factor receptor [668-1210,T790M,L858R]",
          "Epidermal growth factor receptor [668-1210,T790M,L858R]",
          "Epidermal growth factor receptor [668-1210,T790M,L858R]",
          "Epidermal growth factor receptor [668-1210,T790M,L858R]",
          "Epidermal growth factor receptor [668-1210,T790M,L858R]",
          "Epidermal growth factor receptor [668-1210,T790M,L858R]",
          "Epidermal growth factor receptor [668-1210,T790M,L858R]",
          "Epidermal growth factor receptor [668-1210,T790M,L858R]",
          "Epidermal growth factor receptor [668-1210,T790M,L858R]",
          "Epidermal growth factor receptor [668-1210,T790M,L858R]",
          "Epidermal growth factor receptor [668-1210,T790M,L858R]",
          "Epidermal growth factor receptor [668-1210,T790M,L858R]",
          "Epidermal growth factor receptor [668-1210,T790M,L858R]",
          "Epidermal growth factor receptor [668-1210,T790M,L858R]",
          "Epidermal growth factor receptor [668-1210,T790M,L858R]",
          "Epidermal growth factor receptor [668-1210,T790M,L858R]",
          "Epidermal growth factor receptor [668-1210,T790M,L858R]",
          "Epidermal growth factor receptor [668-1210,T790M,L858R]",
          "Epidermal growth factor receptor [668-1210,T790M,L858R]",
          "Epidermal growth factor receptor [668-1210,T790M,L858R]",
          "Epidermal growth factor receptor [668-1210,T790M,L858R]",
          "Epidermal growth factor receptor [668-1210,T790M,L858R]",
          "Epidermal growth factor receptor [668-1210,T790M,L858R]",
          "Epidermal growth factor receptor [668-1210,T790M,L858R]",
          "Epidermal growth factor receptor [668-1210,T790M,L858R]",
          "Epidermal growth factor receptor [668-1210,T790M,L858R]",
          "Epidermal growth factor receptor [668-1210,T790M,L858R]",
          "Epidermal growth factor receptor [668-1210,T790M,L858R]",
          "Epidermal growth factor receptor [668-1210,T790M,L858R]",
          "Epidermal growth factor receptor [668-1210,T790M,L858R]",
          "Epidermal growth factor receptor [668-1210,T790M,L858R]",
          "Epidermal growth factor receptor [668-1210,T790M,L858R]",
          "Epidermal growth factor receptor [668-1210,T790M,L858R]",
          "Epidermal growth factor receptor [668-1210,T790M,L858R]",
          "Epidermal growth factor receptor [668-1210,T790M,L858R]",
          "Epidermal growth factor receptor [668-1210,T790M,L858R]",
          "Epidermal growth factor receptor [668-1210,T790M,L858R]",
          "Epidermal growth factor receptor [668-1210,T790M,L858R]",
          "Epidermal growth factor receptor [668-1210,T790M,L858R]",
          "Epidermal growth factor receptor [668-1210,T790M,L858R]",
          "Epidermal growth factor receptor [668-1210,T790M,L858R]",
          "Epidermal growth factor receptor [668-1210,T790M,L858R]",
          "Epidermal growth factor receptor [668-1210,T790M,L858R]",
          "Epidermal growth factor receptor [668-1210,T790M,L858R]",
          "Epidermal growth factor receptor [668-1210,T790M,L858R]",
          "Epidermal growth factor receptor [668-1210,T790M,L858R]",
          "Epidermal growth factor receptor [668-1210,T790M,L858R]",
          "Epidermal growth factor receptor [668-1210,T790M,L858R]",
          "Epidermal growth factor receptor [668-1210,T790M,L858R]",
          "Epidermal growth factor receptor [668-1210,T790M,L858R]",
          "Epidermal growth factor receptor [668-1210,T790M,L858R]",
          "Epidermal growth factor receptor [668-1210,T790M,L858R]",
          "Epidermal growth factor receptor [668-1210,T790M,L858R]",
          "Epidermal growth factor receptor [668-1210,T790M,L858R]",
          "Epidermal growth factor receptor [668-1210,T790M,L858R]",
          "Epidermal growth factor receptor [668-1210,T790M,L858R]",
          "Epidermal growth factor receptor [668-1210,T790M,L858R]",
          "Epidermal growth factor receptor [668-1210,T790M,L858R]",
          "Epidermal growth factor receptor [668-1210,T790M,L858R]",
          "Epidermal growth factor receptor [668-1210,T790M,L858R]",
          "Epidermal growth factor receptor [668-1210,T790M,L858R]",
          "Epidermal growth factor receptor [668-1210,T790M,L858R]",
          "Epidermal growth factor receptor [668-1210,T790M,L858R]",
          "Epidermal growth factor receptor [668-1210,T790M,L858R]",
          "Epidermal growth factor receptor [668-1210,T790M,L858R]",
          "Epidermal growth factor receptor [668-1210,T790M,L858R]",
          "Epidermal growth factor receptor [668-1210,T790M,L858R]",
          "Epidermal growth factor receptor [668-1210,T790M,L858R]",
          "Epidermal growth factor receptor [668-1210,T790M,L858R]",
          "Epidermal growth factor receptor [668-1210,T790M,L858R]",
          "Epidermal growth factor receptor [668-1210,T790M,L858R]",
          "Epidermal growth factor receptor [668-1210,T790M,L858R]",
          "Epidermal growth factor receptor [668-1210,T790M,L858R]",
          "Epidermal growth factor receptor [668-1210,T790M,L858R]",
          "Epidermal growth factor receptor [668-1210,T790M,L858R]",
          "Epidermal growth factor receptor [668-1210,T790M,L858R]",
          "Epidermal growth factor receptor [668-1210,T790M,L858R]",
          "Epidermal growth factor receptor [668-1210,T790M,L858R]",
          "Epidermal growth factor receptor [668-1210,T790M,L858R]",
          "Epidermal growth factor receptor [668-1210,T790M,L858R]",
          "Epidermal growth factor receptor [668-1210,T790M,L858R]",
          "Epidermal growth factor receptor [668-1210,T790M,L858R]",
          "Epidermal growth factor receptor [668-1210,T790M,L858R]",
          "Epidermal growth factor receptor [668-1210,T790M,L858R]",
          "Epidermal growth factor receptor [668-1210,T790M,L858R]",
          "Epidermal growth factor receptor [668-1210,T790M,L858R]",
          "Epidermal growth factor receptor [668-1210,T790M,L858R]",
          "Epidermal growth factor receptor [668-1210,T790M,L858R]",
          "Epidermal growth factor receptor [668-1210,T790M,L858R]",
          "Epidermal growth factor receptor [668-1210,T790M,L858R]",
          "Epidermal growth factor receptor [668-1210,T790M,L858R]",
          "Epidermal growth factor receptor [668-1210,T790M,L858R]",
          "Epidermal growth factor receptor [668-1210,T790M,L858R]",
          "Epidermal growth factor receptor [668-1210,T790M,L858R]",
          "Epidermal growth factor receptor [668-1210,T790M,L858R]",
          "Epidermal growth factor receptor [668-1210,T790M,L858R]",
          "Epidermal growth factor receptor [668-1210,T790M,L858R]",
          "Epidermal growth factor receptor [668-1210,T790M,L858R]",
          "Epidermal growth factor receptor [668-1210,T790M,L858R]",
          "Epidermal growth factor receptor [668-1210,T790M,L858R]",
          "Epidermal growth factor receptor [668-1210,T790M,L858R]",
          "Epidermal growth factor receptor [668-1210,T790M,L858R]",
          "Epidermal growth factor receptor [668-1210,T790M,L858R]",
          "Epidermal growth factor receptor [668-1210,T790M,L858R]",
          "Epidermal growth factor receptor [668-1210,T790M,L858R]",
          "Epidermal growth factor receptor [668-1210,T790M,L858R]",
          "Epidermal growth factor receptor [668-1210,T790M,L858R]",
          "Epidermal growth factor receptor [668-1210,T790M,L858R]",
          "Epidermal growth factor receptor [668-1210,T790M,L858R]",
          "Epidermal growth factor receptor [668-1210,T790M,L858R]",
          "Epidermal growth factor receptor [668-1210,T790M,L858R]",
          "Epidermal growth factor receptor [668-1210,T790M,L858R]",
          "Epidermal growth factor receptor [668-1210,T790M,L858R]",
          "Epidermal growth factor receptor [668-1210,T790M,L858R]",
          "Epidermal growth factor receptor [668-1210,T790M,L858R]",
          "Epidermal growth factor receptor [668-1210,T790M,L858R]",
          "Epidermal growth factor receptor [668-1210,T790M,L858R]",
          "Epidermal growth factor receptor [668-1210,T790M,L858R]",
          "Epidermal growth factor receptor [668-1210,T790M,L858R]",
          "Epidermal growth factor receptor [668-1210,T790M,L858R]",
          "Epidermal growth factor receptor [668-1210,T790M,L858R]",
          "Epidermal growth factor receptor [668-1210,T790M,L858R]",
          "Epidermal growth factor receptor [668-1210,T790M,L858R]",
          "Epidermal growth factor receptor [668-1210,T790M,L858R]",
          "Epidermal growth factor receptor [668-1210,T790M,L858R]",
          "Epidermal growth factor receptor [668-1210,T790M,L858R]",
          "Epidermal growth factor receptor [668-1210,T790M,L858R]",
          "Epidermal growth factor receptor [668-1210,T790M,L858R]",
          "Epidermal growth factor receptor [668-1210,T790M,L858R]",
          "Epidermal growth factor receptor [668-1210,T790M,L858R]",
          "Epidermal growth factor receptor [668-1210,T790M,L858R]",
          "Epidermal growth factor receptor [668-1210,T790M,L858R]",
          "Epidermal growth factor receptor [668-1210,T790M,L858R]",
          "Epidermal growth factor receptor [668-1210,T790M,L858R]",
          "Epidermal growth factor receptor [668-1210,T790M,L858R]",
          "Epidermal growth factor receptor [668-1210,T790M,L858R]",
          "Epidermal growth factor receptor [668-1210,T790M,L858R]",
          "Epidermal growth factor receptor [668-1210,T790M,L858R]",
          "Epidermal growth factor receptor [668-1210,T790M,L858R]",
          "Epidermal growth factor receptor [668-1210,T790M,L858R]",
          "Epidermal growth factor receptor [668-1210,T790M,L858R]",
          "Epidermal growth factor receptor [668-1210,T790M,L858R]",
          "Epidermal growth factor receptor [668-1210,T790M,L858R]",
          "Epidermal growth factor receptor [668-1210,T790M,L858R]",
          "Epidermal growth factor receptor [668-1210,T790M,L858R]",
          "Epidermal growth factor receptor [668-1210,T790M,L858R]",
          "Epidermal growth factor receptor [668-1210,T790M,L858R]",
          "Epidermal growth factor receptor [668-1210,T790M,L858R]",
          "Epidermal growth factor receptor [668-1210,T790M,L858R]",
          "Epidermal growth factor receptor [668-1210,T790M,L858R]",
          "Epidermal growth factor receptor [668-1210,T790M,L858R]",
          "Epidermal growth factor receptor [668-1210,T790M,L858R]",
          "Epidermal growth factor receptor [668-1210,T790M,L858R]",
          "Epidermal growth factor receptor [668-1210,T790M,L858R]",
          "Epidermal growth factor receptor [668-1210,T790M,L858R]",
          "Epidermal growth factor receptor [668-1210,T790M,L858R]",
          "Epidermal growth factor receptor [668-1210,T790M,L858R]",
          "Epidermal growth factor receptor [668-1210,T790M,L858R]",
          "Epidermal growth factor receptor [668-1210,T790M,L858R]",
          "Epidermal growth factor receptor [668-1210,T790M,L858R]",
          "Epidermal growth factor receptor [668-1210,T790M,L858R]",
          "Epidermal growth factor receptor [668-1210,T790M,L858R]",
          "Epidermal growth factor receptor [668-1210,T790M,L858R]",
          "Epidermal growth factor receptor [668-1210,T790M,L858R]",
          "Epidermal growth factor receptor [668-1210,T790M,L858R]",
          "Epidermal growth factor receptor [668-1210,T790M,L858R]",
          "Epidermal growth factor receptor [668-1210,T790M,L858R]",
          "Epidermal growth factor receptor [668-1210,T790M,L858R]",
          "Epidermal growth factor receptor [668-1210,T790M,L858R]",
          "Epidermal growth factor receptor [668-1210,T790M,L858R]",
          "Epidermal growth factor receptor [668-1210,T790M,L858R]",
          "Epidermal growth factor receptor [668-1210,T790M,L858R]",
          "Epidermal growth factor receptor [668-1210,T790M,L858R]",
          "Epidermal growth factor receptor [668-1210,T790M,L858R]",
          "Epidermal growth factor receptor [668-1210,T790M,L858R]",
          "Epidermal growth factor receptor [668-1210,T790M,L858R]",
          "Epidermal growth factor receptor [668-1210,T790M,L858R]",
          "Epidermal growth factor receptor [668-1210,T790M,L858R]",
          "Epidermal growth factor receptor [668-1210,T790M,L858R]",
          "Epidermal growth factor receptor [668-1210,T790M,L858R]",
          "Epidermal growth factor receptor [668-1210,T790M,L858R]",
          "Epidermal growth factor receptor [668-1210,T790M,L858R]",
          "Epidermal growth factor receptor [668-1210,T790M,L858R]",
          "Epidermal growth factor receptor [668-1210,T790M,L858R]",
          "Epidermal growth factor receptor [668-1210,T790M,L858R]",
          "Epidermal growth factor receptor [668-1210,T790M,L858R]",
          "Epidermal growth factor receptor [668-1210,T790M,L858R]",
          "Epidermal growth factor receptor [668-1210,T790M,L858R]",
          "Epidermal growth factor receptor [668-1210,T790M,L858R]",
          "Epidermal growth factor receptor [668-1210,T790M,L858R]",
          "Epidermal growth factor receptor [668-1210,T790M,L858R]",
          "Epidermal growth factor receptor [668-1210,T790M,L858R]",
          "Epidermal growth factor receptor [668-1210,T790M,L858R]",
          "Epidermal growth factor receptor [668-1210,T790M,L858R]",
          "Epidermal growth factor receptor [668-1210,T790M,L858R]",
          "Epidermal growth factor receptor [668-1210,T790M,L858R]",
          "Epidermal growth factor receptor [668-1210,T790M,L858R]",
          "Epidermal growth factor receptor [668-1210,T790M,L858R]",
          "Epidermal growth factor receptor [668-1210,T790M,L858R]",
          "Epidermal growth factor receptor [668-1210,T790M,L858R]",
          "Epidermal growth factor receptor [668-1210,T790M,L858R]",
          "Epidermal growth factor receptor [668-1210,T790M,L858R]",
          "Epidermal growth factor receptor [668-1210,T790M,L858R]",
          "Epidermal growth factor receptor [668-1210,T790M,L858R]",
          "Epidermal growth factor receptor [668-1210,T790M,L858R]",
          "Epidermal growth factor receptor [668-1210,T790M,L858R]",
          "Epidermal growth factor receptor [668-1210,T790M,L858R]",
          "Epidermal growth factor receptor [668-1210,T790M,L858R]",
          "Epidermal growth factor receptor [668-1210,T790M,L858R]",
          "Epidermal growth factor receptor [668-1210,T790M,L858R]",
          "Epidermal growth factor receptor [668-1210,T790M,L858R]",
          "Epidermal growth factor receptor [668-1210,T790M,L858R]",
          "Epidermal growth factor receptor [668-1210,T790M,L858R]",
          "Epidermal growth factor receptor [668-1210,T790M,L858R]",
          "Epidermal growth factor receptor [668-1210,T790M,L858R]",
          "Epidermal growth factor receptor [668-1210,T790M,L858R]",
          "Epidermal growth factor receptor [668-1210,T790M,L858R]",
          "Epidermal growth factor receptor [668-1210,T790M,L858R]",
          "Epidermal growth factor receptor [668-1210,T790M,L858R]",
          "Epidermal growth factor receptor [668-1210,T790M,L858R]",
          "Epidermal growth factor receptor [668-1210,T790M,L858R]",
          "Epidermal growth factor receptor [668-1210,T790M,L858R]",
          "Epidermal growth factor receptor [668-1210,T790M,L858R]",
          "Epidermal growth factor receptor [668-1210,T790M,L858R]",
          "Epidermal growth factor receptor [668-1210,T790M,L858R]",
          "Epidermal growth factor receptor [668-1210,T790M,L858R]",
          "Epidermal growth factor receptor [668-1210,T790M,L858R]",
          "Epidermal growth factor receptor [668-1210,T790M,L858R]",
          "Epidermal growth factor receptor [668-1210,T790M,L858R]",
          "Epidermal growth factor receptor [668-1210,T790M,L858R]",
          "Epidermal growth factor receptor [668-1210,T790M,L858R]",
          "Epidermal growth factor receptor [668-1210,T790M,L858R]",
          "Epidermal growth factor receptor [668-1210,T790M,L858R]",
          "Epidermal growth factor receptor [668-1210,T790M,L858R]",
          "Epidermal growth factor receptor [668-1210,T790M,L858R]",
          "Epidermal growth factor receptor [668-1210,T790M,L858R]",
          "Epidermal growth factor receptor [668-1210,T790M,L858R]",
          "Epidermal growth factor receptor [668-1210,T790M,L858R]",
          "Epidermal growth factor receptor [668-1210,T790M,L858R]",
          "Epidermal growth factor receptor [668-1210,T790M,L858R]",
          "Epidermal growth factor receptor [668-1210,T790M,L858R]",
          "Epidermal growth factor receptor [668-1210,T790M,L858R]",
          "Epidermal growth factor receptor [668-1210,T790M,L858R]",
          "Epidermal growth factor receptor [668-1210,T790M,L858R]",
          "Epidermal growth factor receptor [668-1210,T790M,L858R]",
          "Epidermal growth factor receptor [668-1210,T790M,L858R]",
          "Epidermal growth factor receptor [668-1210,T790M,L858R]",
          "Epidermal growth factor receptor [668-1210,T790M,L858R]",
          "Epidermal growth factor receptor [668-1210,T790M,L858R]",
          "Epidermal growth factor receptor [668-1210,T790M,L858R]",
          "Epidermal growth factor receptor [668-1210,T790M,L858R]",
          "Epidermal growth factor receptor [668-1210,T790M,L858R]",
          "Epidermal growth factor receptor [668-1210,T790M,L858R]",
          "Epidermal growth factor receptor [668-1210,T790M,L858R]",
          "Epidermal growth factor receptor [668-1210,T790M,L858R]",
          "Epidermal growth factor receptor [668-1210,T790M,L858R]",
          "Epidermal growth factor receptor [668-1210,T790M,L858R]",
          "Epidermal growth factor receptor [668-1210,T790M,L858R]",
          "Epidermal growth factor receptor [668-1210,T790M,L858R]",
          "Epidermal growth factor receptor [668-1210,T790M,L858R]",
          "Epidermal growth factor receptor [668-1210,T790M,L858R]",
          "Epidermal growth factor receptor [668-1210,T790M,L858R]",
          "Epidermal growth factor receptor [668-1210,T790M,L858R]",
          "Epidermal growth factor receptor [668-1210,T790M,L858R]",
          "Epidermal growth factor receptor [668-1210,T790M,L858R]",
          "Epidermal growth factor receptor [668-1210,T790M,L858R]",
          "Epidermal growth factor receptor [668-1210,T790M,L858R]",
          "Epidermal growth factor receptor [668-1210,T790M,L858R]",
          "Epidermal growth factor receptor [668-1210,T790M,L858R]",
          "Epidermal growth factor receptor [668-1210,T790M,L858R]",
          "Epidermal growth factor receptor [668-1210,T790M,L858R]",
          "Epidermal growth factor receptor [668-1210,T790M,L858R]",
          "Epidermal growth factor receptor [668-1210,T790M,L858R]",
          "Epidermal growth factor receptor [668-1210,T790M,L858R]",
          "Epidermal growth factor receptor [668-1210,T790M,L858R]",
          "Epidermal growth factor receptor [668-1210,T790M,L858R]",
          "Epidermal growth factor receptor [668-1210,T790M,L858R]",
          "Epidermal growth factor receptor [668-1210,T790M,L858R]",
          "Epidermal growth factor receptor [668-1210,T790M,L858R]",
          "Epidermal growth factor receptor [668-1210,T790M,L858R]",
          "Epidermal growth factor receptor [668-1210,T790M,L858R]",
          "Epidermal growth factor receptor [668-1210,T790M,L858R]",
          "Epidermal growth factor receptor [668-1210,T790M,L858R]",
          "Epidermal growth factor receptor [668-1210,T790M,L858R]",
          "Epidermal growth factor receptor [668-1210,T790M,L858R]",
          "Epidermal growth factor receptor [668-1210,T790M,L858R]",
          "Epidermal growth factor receptor [668-1210,T790M,L858R]",
          "Epidermal growth factor receptor [668-1210,T790M,L858R]",
          "Epidermal growth factor receptor [668-1210,T790M,L858R]",
          "Epidermal growth factor receptor [668-1210,T790M,L858R]",
          "Epidermal growth factor receptor [668-1210,T790M,L858R]",
          "Epidermal growth factor receptor [668-1210,T790M,L858R]",
          "Epidermal growth factor receptor [668-1210,T790M,L858R]",
          "Epidermal growth factor receptor [668-1210,T790M,L858R]",
          "Epidermal growth factor receptor [668-1210,T790M,L858R]",
          "Epidermal growth factor receptor [668-1210,T790M,L858R]",
          "Epidermal growth factor receptor [668-1210,T790M,L858R]",
          "Epidermal growth factor receptor [668-1210,T790M,L858R]",
          "Epidermal growth factor receptor [668-1210,T790M,L858R]",
          "Epidermal growth factor receptor [668-1210,T790M,L858R]",
          "Epidermal growth factor receptor [668-1210,T790M,L858R]",
          "Epidermal growth factor receptor [668-1210,T790M,L858R]",
          "Epidermal growth factor receptor [668-1210,T790M,L858R]",
          "Epidermal growth factor receptor [668-1210,T790M,L858R]",
          "Epidermal growth factor receptor [668-1210,T790M,L858R]",
          "Epidermal growth factor receptor [668-1210,T790M,L858R]",
          "Epidermal growth factor receptor [668-1210,T790M,L858R]",
          "Epidermal growth factor receptor [668-1210,T790M,L858R]",
          "Epidermal growth factor receptor [668-1210,T790M,L858R]",
          "Epidermal growth factor receptor [668-1210,T790M,L858R]",
          "Epidermal growth factor receptor [668-1210,T790M,L858R]",
          "Epidermal growth factor receptor [668-1210,T790M,L858R]",
          "Epidermal growth factor receptor [668-1210,T790M,L858R]",
          "Epidermal growth factor receptor [668-1210,T790M,L858R]",
          "Epidermal growth factor receptor [668-1210,T790M,L858R]",
          "Epidermal growth factor receptor [668-1210,T790M,L858R]",
          "Epidermal growth factor receptor [668-1210,T790M,L858R]",
          "Epidermal growth factor receptor [668-1210,T790M,L858R]",
          "Epidermal growth factor receptor [668-1210,T790M,L858R]",
          "Epidermal growth factor receptor [668-1210,T790M,L858R]",
          "Epidermal growth factor receptor [668-1210,T790M,L858R]",
          "Epidermal growth factor receptor [668-1210,T790M,L858R]",
          "Epidermal growth factor receptor [668-1210,T790M,L858R]",
          "Epidermal growth factor receptor [668-1210,T790M,L858R]",
          "Epidermal growth factor receptor [668-1210,T790M,L858R]",
          "Epidermal growth factor receptor [668-1210,T790M,L858R]",
          "Epidermal growth factor receptor [668-1210,T790M,L858R]",
          "Epidermal growth factor receptor [668-1210,T790M,L858R]",
          "Epidermal growth factor receptor [668-1210,T790M,L858R]",
          "Epidermal growth factor receptor [668-1210,T790M,L858R]",
          "Epidermal growth factor receptor [668-1210,T790M,L858R]",
          "Epidermal growth factor receptor [668-1210,T790M,L858R]",
          "Epidermal growth factor receptor [668-1210,T790M,L858R]",
          "Epidermal growth factor receptor [668-1210,T790M,L858R]",
          "Epidermal growth factor receptor [668-1210,T790M,L858R]",
          "Epidermal growth factor receptor [668-1210,T790M,L858R]",
          "Epidermal growth factor receptor [668-1210,T790M,L858R]",
          "Epidermal growth factor receptor [668-1210,T790M,L858R]",
          "Epidermal growth factor receptor [668-1210,T790M,L858R]",
          "Epidermal growth factor receptor [668-1210,T790M,L858R]",
          "Epidermal growth factor receptor [668-1210,T790M,L858R]",
          "Epidermal growth factor receptor [668-1210,T790M,L858R]",
          "Epidermal growth factor receptor [668-1210,T790M,L858R]",
          "Epidermal growth factor receptor [668-1210,T790M,L858R]",
          "Epidermal growth factor receptor [668-1210,T790M,L858R]",
          "Epidermal growth factor receptor [668-1210,T790M,L858R]",
          "Epidermal growth factor receptor [668-1210,T790M,L858R]",
          "Epidermal growth factor receptor [668-1210,T790M,L858R]",
          "Epidermal growth factor receptor [668-1210,T790M,L858R]",
          "Epidermal growth factor receptor [668-1210,T790M,L858R]",
          "Epidermal growth factor receptor [668-1210,T790M,L858R]",
          "Epidermal growth factor receptor [668-1210,T790M,L858R]",
          "Epidermal growth factor receptor [668-1210,T790M,L858R]",
          "Epidermal growth factor receptor [668-1210,T790M,L858R]",
          "Epidermal growth factor receptor [668-1210,T790M,L858R]",
          "Epidermal growth factor receptor [668-1210,T790M,L858R]",
          "Epidermal growth factor receptor [668-1210,T790M,L858R]",
          "Epidermal growth factor receptor [668-1210,T790M,L858R]",
          "Epidermal growth factor receptor [668-1210,T790M,L858R]",
          "Epidermal growth factor receptor [668-1210,T790M,L858R]",
          "Epidermal growth factor receptor [668-1210,T790M,L858R]",
          "Epidermal growth factor receptor [668-1210,T790M,L858R]",
          "Epidermal growth factor receptor [668-1210,T790M,L858R]",
          "Epidermal growth factor receptor [668-1210,T790M,L858R]",
          "Epidermal growth factor receptor [668-1210,T790M,L858R]",
          "Epidermal growth factor receptor [668-1210,T790M,L858R]",
          "Epidermal growth factor receptor [668-1210,T790M,L858R]",
          "Epidermal growth factor receptor [668-1210,T790M,L858R]",
          "Epidermal growth factor receptor [668-1210,T790M,L858R]",
          "Epidermal growth factor receptor [668-1210,T790M,L858R]",
          "Epidermal growth factor receptor [668-1210,T790M,L858R]",
          "Epidermal growth factor receptor [668-1210,T790M,L858R]",
          "Epidermal growth factor receptor [668-1210,T790M,L858R]",
          "Epidermal growth factor receptor [668-1210,T790M,L858R]",
          "Epidermal growth factor receptor [668-1210,T790M,L858R]",
          "Epidermal growth factor receptor [668-1210,T790M,L858R]",
          "Epidermal growth factor receptor [668-1210,T790M,L858R]",
          "Epidermal growth factor receptor [668-1210,T790M,L858R]"
         ],
         "legendgroup": "Epidermal growth factor receptor [668-1210,T790M,L858R]",
         "marker": {
          "color": "#FF6692",
          "symbol": "circle"
         },
         "mode": "markers",
         "name": "Epidermal growth factor receptor [668-1210,T790M,L858R]",
         "orientation": "v",
         "showlegend": true,
         "type": "scatter",
         "x": [
          0,
          1,
          2,
          3,
          4,
          5,
          6,
          7,
          8,
          9,
          10,
          11,
          12,
          13,
          14,
          15,
          16,
          17,
          18,
          19,
          20,
          21,
          22,
          23,
          24,
          25,
          26,
          27,
          28,
          29,
          30,
          31,
          32,
          33,
          34,
          35,
          36,
          37,
          38,
          39,
          40,
          41,
          42,
          43,
          44,
          45,
          46,
          47,
          48,
          49,
          50,
          51,
          52,
          53,
          54,
          55,
          56,
          57,
          58,
          59,
          60,
          61,
          62,
          63,
          64,
          65,
          66,
          67,
          68,
          69,
          70,
          71,
          72,
          73,
          74,
          75,
          76,
          77,
          78,
          79,
          80,
          81,
          82,
          83,
          84,
          85,
          86,
          87,
          88,
          89,
          90,
          91,
          92,
          93,
          94,
          95,
          96,
          97,
          98,
          99,
          100,
          101,
          102,
          103,
          104,
          105,
          106,
          107,
          108,
          109,
          110,
          111,
          112,
          113,
          114,
          115,
          116,
          117,
          118,
          119,
          120,
          121,
          122,
          123,
          124,
          125,
          126,
          127,
          128,
          129,
          130,
          131,
          132,
          133,
          134,
          135,
          136,
          137,
          138,
          139,
          140,
          141,
          142,
          143,
          144,
          145,
          146,
          147,
          148,
          149,
          150,
          151,
          152,
          153,
          154,
          155,
          156,
          157,
          158,
          159,
          160,
          161,
          162,
          163,
          164,
          165,
          166,
          167,
          168,
          169,
          170,
          171,
          172,
          173,
          174,
          175,
          176,
          177,
          178,
          179,
          180,
          181,
          182,
          183,
          184,
          185,
          186,
          187,
          188,
          189,
          190,
          191,
          192,
          193,
          194,
          195,
          196,
          197,
          198,
          199,
          200,
          201,
          202,
          203,
          204,
          205,
          206,
          207,
          208,
          209,
          210,
          211,
          212,
          213,
          214,
          215,
          216,
          217,
          218,
          219,
          220,
          221,
          222,
          223,
          224,
          225,
          226,
          227,
          228,
          229,
          230,
          231,
          232,
          233,
          234,
          235,
          236,
          237,
          238,
          239,
          240,
          241,
          242,
          243,
          244,
          245,
          246,
          247,
          248,
          249,
          250,
          251,
          252,
          253,
          254,
          255,
          256,
          257,
          258,
          259,
          260,
          261,
          262,
          263,
          264,
          265,
          266,
          267,
          268,
          269,
          270,
          271,
          272,
          273,
          274,
          275,
          276,
          277,
          278,
          279,
          280,
          281,
          282,
          283,
          284,
          285,
          286,
          287,
          288,
          289,
          290,
          291,
          292,
          293,
          294,
          295,
          296,
          297,
          298,
          299,
          300,
          301,
          302,
          303,
          304,
          305,
          306,
          307,
          308,
          309,
          310,
          311,
          312,
          313,
          314,
          315,
          316,
          317,
          318,
          319,
          320,
          321,
          322,
          323,
          324,
          325,
          326,
          327,
          328,
          329,
          330,
          331,
          332,
          333,
          334,
          335,
          336,
          337,
          338,
          339,
          340,
          341,
          342,
          343,
          344,
          345,
          346,
          347,
          348,
          349,
          350,
          351,
          352,
          353,
          354,
          355,
          356,
          357,
          358,
          359,
          360,
          361,
          362,
          363,
          364,
          365,
          366,
          367,
          368,
          369,
          370,
          371,
          372,
          373,
          374,
          375,
          376,
          377,
          378,
          379,
          380,
          381,
          382,
          383,
          384,
          385,
          386,
          387,
          388,
          389,
          390,
          391,
          392,
          393,
          394,
          395,
          396,
          397,
          398,
          399,
          400,
          401,
          402,
          403,
          404,
          405,
          406,
          407,
          408,
          409,
          410,
          411,
          412,
          413,
          414,
          415,
          416,
          417,
          418,
          419,
          420,
          421,
          422,
          423,
          424,
          425,
          426,
          427,
          428,
          429,
          430,
          431,
          432,
          433,
          434,
          435,
          436,
          437,
          438,
          439,
          440,
          441,
          442,
          443,
          444,
          445,
          446,
          447,
          448,
          449,
          450,
          451,
          452,
          453,
          454,
          455,
          456,
          457,
          458,
          459,
          460,
          461,
          462,
          463,
          464,
          465,
          466,
          467,
          468,
          469,
          470,
          471,
          472,
          473,
          474,
          475,
          476,
          477,
          478,
          479,
          480,
          481,
          482,
          483,
          484,
          485,
          486,
          487,
          488,
          489,
          490,
          491,
          492,
          493,
          494,
          495,
          496,
          497,
          498,
          499,
          500,
          501,
          502,
          503,
          504,
          505,
          506,
          507,
          508,
          509,
          510,
          511,
          512,
          513,
          514,
          515,
          516,
          517,
          518,
          519,
          520,
          521,
          522,
          523,
          524,
          525,
          526,
          527,
          528,
          529,
          530,
          531,
          532,
          533,
          534,
          535,
          536,
          537,
          538,
          539,
          540,
          541,
          542,
          543,
          544,
          545,
          546,
          547,
          548,
          549,
          550,
          551,
          552,
          553,
          554,
          555,
          556,
          557,
          558,
          559,
          560,
          561,
          562,
          563,
          564,
          565,
          566,
          567,
          568,
          569,
          570,
          571,
          572,
          573,
          574,
          575,
          576,
          577,
          578,
          579,
          580,
          581,
          582,
          583,
          584,
          585,
          586,
          587,
          588,
          589,
          590,
          591,
          592,
          593,
          594,
          595,
          596,
          597,
          598,
          599,
          600,
          601,
          602,
          603,
          604,
          605,
          606,
          607,
          608,
          609,
          610,
          611,
          612,
          613,
          614,
          615,
          616,
          617,
          618,
          619,
          620,
          621,
          622,
          623,
          624,
          625,
          626,
          627,
          628,
          629,
          630,
          631,
          632,
          633,
          634,
          635,
          636,
          637,
          638,
          639,
          640,
          641,
          642,
          643,
          644,
          645,
          646,
          647,
          648,
          649,
          650,
          651,
          652,
          653,
          654,
          655,
          656,
          657,
          658,
          659,
          660,
          661,
          662,
          663,
          664,
          665,
          666,
          789,
          857
         ],
         "xaxis": "x",
         "y": [
          4,
          4,
          4,
          4,
          4,
          4,
          4,
          4,
          4,
          4,
          4,
          4,
          4,
          4,
          4,
          4,
          4,
          4,
          4,
          4,
          4,
          4,
          4,
          4,
          4,
          4,
          4,
          4,
          4,
          4,
          4,
          4,
          4,
          4,
          4,
          4,
          4,
          4,
          4,
          4,
          4,
          4,
          4,
          4,
          4,
          4,
          4,
          4,
          4,
          4,
          4,
          4,
          4,
          4,
          4,
          4,
          4,
          4,
          4,
          4,
          4,
          4,
          4,
          4,
          4,
          4,
          4,
          4,
          4,
          4,
          4,
          4,
          4,
          4,
          4,
          4,
          4,
          4,
          4,
          4,
          4,
          4,
          4,
          4,
          4,
          4,
          4,
          4,
          4,
          4,
          4,
          4,
          4,
          4,
          4,
          4,
          4,
          4,
          4,
          4,
          4,
          4,
          4,
          4,
          4,
          4,
          4,
          4,
          4,
          4,
          4,
          4,
          4,
          4,
          4,
          4,
          4,
          4,
          4,
          4,
          4,
          4,
          4,
          4,
          4,
          4,
          4,
          4,
          4,
          4,
          4,
          4,
          4,
          4,
          4,
          4,
          4,
          4,
          4,
          4,
          4,
          4,
          4,
          4,
          4,
          4,
          4,
          4,
          4,
          4,
          4,
          4,
          4,
          4,
          4,
          4,
          4,
          4,
          4,
          4,
          4,
          4,
          4,
          4,
          4,
          4,
          4,
          4,
          4,
          4,
          4,
          4,
          4,
          4,
          4,
          4,
          4,
          4,
          4,
          4,
          4,
          4,
          4,
          4,
          4,
          4,
          4,
          4,
          4,
          4,
          4,
          4,
          4,
          4,
          4,
          4,
          4,
          4,
          4,
          4,
          4,
          4,
          4,
          4,
          4,
          4,
          4,
          4,
          4,
          4,
          4,
          4,
          4,
          4,
          4,
          4,
          4,
          4,
          4,
          4,
          4,
          4,
          4,
          4,
          4,
          4,
          4,
          4,
          4,
          4,
          4,
          4,
          4,
          4,
          4,
          4,
          4,
          4,
          4,
          4,
          4,
          4,
          4,
          4,
          4,
          4,
          4,
          4,
          4,
          4,
          4,
          4,
          4,
          4,
          4,
          4,
          4,
          4,
          4,
          4,
          4,
          4,
          4,
          4,
          4,
          4,
          4,
          4,
          4,
          4,
          4,
          4,
          4,
          4,
          4,
          4,
          4,
          4,
          4,
          4,
          4,
          4,
          4,
          4,
          4,
          4,
          4,
          4,
          4,
          4,
          4,
          4,
          4,
          4,
          4,
          4,
          4,
          4,
          4,
          4,
          4,
          4,
          4,
          4,
          4,
          4,
          4,
          4,
          4,
          4,
          4,
          4,
          4,
          4,
          4,
          4,
          4,
          4,
          4,
          4,
          4,
          4,
          4,
          4,
          4,
          4,
          4,
          4,
          4,
          4,
          4,
          4,
          4,
          4,
          4,
          4,
          4,
          4,
          4,
          4,
          4,
          4,
          4,
          4,
          4,
          4,
          4,
          4,
          4,
          4,
          4,
          4,
          4,
          4,
          4,
          4,
          4,
          4,
          4,
          4,
          4,
          4,
          4,
          4,
          4,
          4,
          4,
          4,
          4,
          4,
          4,
          4,
          4,
          4,
          4,
          4,
          4,
          4,
          4,
          4,
          4,
          4,
          4,
          4,
          4,
          4,
          4,
          4,
          4,
          4,
          4,
          4,
          4,
          4,
          4,
          4,
          4,
          4,
          4,
          4,
          4,
          4,
          4,
          4,
          4,
          4,
          4,
          4,
          4,
          4,
          4,
          4,
          4,
          4,
          4,
          4,
          4,
          4,
          4,
          4,
          4,
          4,
          4,
          4,
          4,
          4,
          4,
          4,
          4,
          4,
          4,
          4,
          4,
          4,
          4,
          4,
          4,
          4,
          4,
          4,
          4,
          4,
          4,
          4,
          4,
          4,
          4,
          4,
          4,
          4,
          4,
          4,
          4,
          4,
          4,
          4,
          4,
          4,
          4,
          4,
          4,
          4,
          4,
          4,
          4,
          4,
          4,
          4,
          4,
          4,
          4,
          4,
          4,
          4,
          4,
          4,
          4,
          4,
          4,
          4,
          4,
          4,
          4,
          4,
          4,
          4,
          4,
          4,
          4,
          4,
          4,
          4,
          4,
          4,
          4,
          4,
          4,
          4,
          4,
          4,
          4,
          4,
          4,
          4,
          4,
          4,
          4,
          4,
          4,
          4,
          4,
          4,
          4,
          4,
          4,
          4,
          4,
          4,
          4,
          4,
          4,
          4,
          4,
          4,
          4,
          4,
          4,
          4,
          4,
          4,
          4,
          4,
          4,
          4,
          4,
          4,
          4,
          4,
          4,
          4,
          4,
          4,
          4,
          4,
          4,
          4,
          4,
          4,
          4,
          4,
          4,
          4,
          4,
          4,
          4,
          4,
          4,
          4,
          4,
          4,
          4,
          4,
          4,
          4,
          4,
          4,
          4,
          4,
          4,
          4,
          4,
          4,
          4,
          4,
          4,
          4,
          4,
          4,
          4,
          4,
          4,
          4,
          4,
          4,
          4,
          4,
          4,
          4,
          4,
          4,
          4,
          4,
          4,
          4,
          4,
          4,
          4,
          4,
          4,
          4,
          4,
          4,
          4,
          4,
          4,
          4,
          4,
          4,
          4,
          4,
          4,
          4,
          4,
          4,
          4,
          4,
          4,
          4,
          4,
          4,
          4,
          4,
          4,
          4,
          4,
          4,
          4,
          4,
          4,
          4,
          4,
          4,
          4,
          4,
          4,
          4,
          4,
          4,
          4,
          4,
          4,
          4,
          4,
          4,
          4,
          4,
          4,
          4,
          4,
          4,
          4,
          4,
          4,
          4,
          4,
          4,
          4,
          4,
          4,
          4,
          4,
          4,
          4,
          4,
          4,
          4,
          4,
          4,
          4
         ],
         "yaxis": "y"
        },
        {
         "customdata": [
          [
           "Cysteine -> Serine",
           "Epidermal growth factor receptor [L858R,C797S]"
          ],
          [
           "Leucine -> Arginine",
           "Epidermal growth factor receptor [L858R,C797S]"
          ]
         ],
         "hovertemplate": "<b>%{hovertext}</b><br><br>Mutation Position=%{x}<br>IC50 Difference=%{y}<br>Mutation=%{customdata[0]}<extra></extra>",
         "hovertext": [
          "Epidermal growth factor receptor [L858R,C797S]",
          "Epidermal growth factor receptor [L858R,C797S]"
         ],
         "legendgroup": "Epidermal growth factor receptor [L858R,C797S]",
         "marker": {
          "color": "#B6E880",
          "symbol": "circle"
         },
         "mode": "markers",
         "name": "Epidermal growth factor receptor [L858R,C797S]",
         "orientation": "v",
         "showlegend": true,
         "type": "scatter",
         "x": [
          796,
          857
         ],
         "xaxis": "x",
         "y": [
          6.2,
          6.2
         ],
         "yaxis": "y"
        },
        {
         "customdata": [
          [
           "Threonine -> Methionine",
           "Epidermal growth factor receptor [L858R,T790M,C797S]"
          ],
          [
           "Cysteine -> Serine",
           "Epidermal growth factor receptor [L858R,T790M,C797S]"
          ],
          [
           "Leucine -> Arginine",
           "Epidermal growth factor receptor [L858R,T790M,C797S]"
          ]
         ],
         "hovertemplate": "<b>%{hovertext}</b><br><br>Mutation Position=%{x}<br>IC50 Difference=%{y}<br>Mutation=%{customdata[0]}<extra></extra>",
         "hovertext": [
          "Epidermal growth factor receptor [L858R,T790M,C797S]",
          "Epidermal growth factor receptor [L858R,T790M,C797S]",
          "Epidermal growth factor receptor [L858R,T790M,C797S]"
         ],
         "legendgroup": "Epidermal growth factor receptor [L858R,T790M,C797S]",
         "marker": {
          "color": "#FF97FF",
          "symbol": "circle"
         },
         "mode": "markers",
         "name": "Epidermal growth factor receptor [L858R,T790M,C797S]",
         "orientation": "v",
         "showlegend": true,
         "type": "scatter",
         "x": [
          789,
          796,
          857
         ],
         "xaxis": "x",
         "y": [
          1144,
          1144,
          1144
         ],
         "yaxis": "y"
        },
        {
         "customdata": [
          [
           "Leucine -> Arginine",
           "Epidermal growth factor receptor [L858R]"
          ]
         ],
         "hovertemplate": "<b>%{hovertext}</b><br><br>Mutation Position=%{x}<br>IC50 Difference=%{y}<br>Mutation=%{customdata[0]}<extra></extra>",
         "hovertext": [
          "Epidermal growth factor receptor [L858R]"
         ],
         "legendgroup": "Epidermal growth factor receptor [L858R]",
         "marker": {
          "color": "#FECB52",
          "symbol": "circle"
         },
         "mode": "markers",
         "name": "Epidermal growth factor receptor [L858R]",
         "orientation": "v",
         "showlegend": true,
         "type": "scatter",
         "x": [
          857
         ],
         "xaxis": "x",
         "y": [
          -0.98
         ],
         "yaxis": "y"
        },
        {
         "customdata": [
          [
           "Threonine -> Methionine",
           "Epidermal growth factor receptor [T790M,L858R]"
          ],
          [
           "Leucine -> Arginine",
           "Epidermal growth factor receptor [T790M,L858R]"
          ]
         ],
         "hovertemplate": "<b>%{hovertext}</b><br><br>Mutation Position=%{x}<br>IC50 Difference=%{y}<br>Mutation=%{customdata[0]}<extra></extra>",
         "hovertext": [
          "Epidermal growth factor receptor [T790M,L858R]",
          "Epidermal growth factor receptor [T790M,L858R]"
         ],
         "legendgroup": "Epidermal growth factor receptor [T790M,L858R]",
         "marker": {
          "color": "#636efa",
          "symbol": "circle"
         },
         "mode": "markers",
         "name": "Epidermal growth factor receptor [T790M,L858R]",
         "orientation": "v",
         "showlegend": true,
         "type": "scatter",
         "x": [
          789,
          857
         ],
         "xaxis": "x",
         "y": [
          4,
          4
         ],
         "yaxis": "y"
        }
       ],
       "layout": {
        "hovermode": "closest",
        "legend": {
         "title": {
          "text": "Mutant Name"
         },
         "tracegroupgap": 0
        },
        "template": {
         "data": {
          "bar": [
           {
            "error_x": {
             "color": "#f2f5fa"
            },
            "error_y": {
             "color": "#f2f5fa"
            },
            "marker": {
             "line": {
              "color": "rgb(17,17,17)",
              "width": 0.5
             },
             "pattern": {
              "fillmode": "overlay",
              "size": 10,
              "solidity": 0.2
             }
            },
            "type": "bar"
           }
          ],
          "barpolar": [
           {
            "marker": {
             "line": {
              "color": "rgb(17,17,17)",
              "width": 0.5
             },
             "pattern": {
              "fillmode": "overlay",
              "size": 10,
              "solidity": 0.2
             }
            },
            "type": "barpolar"
           }
          ],
          "carpet": [
           {
            "aaxis": {
             "endlinecolor": "#A2B1C6",
             "gridcolor": "#506784",
             "linecolor": "#506784",
             "minorgridcolor": "#506784",
             "startlinecolor": "#A2B1C6"
            },
            "baxis": {
             "endlinecolor": "#A2B1C6",
             "gridcolor": "#506784",
             "linecolor": "#506784",
             "minorgridcolor": "#506784",
             "startlinecolor": "#A2B1C6"
            },
            "type": "carpet"
           }
          ],
          "choropleth": [
           {
            "colorbar": {
             "outlinewidth": 0,
             "ticks": ""
            },
            "type": "choropleth"
           }
          ],
          "contour": [
           {
            "colorbar": {
             "outlinewidth": 0,
             "ticks": ""
            },
            "colorscale": [
             [
              0,
              "#0d0887"
             ],
             [
              0.1111111111111111,
              "#46039f"
             ],
             [
              0.2222222222222222,
              "#7201a8"
             ],
             [
              0.3333333333333333,
              "#9c179e"
             ],
             [
              0.4444444444444444,
              "#bd3786"
             ],
             [
              0.5555555555555556,
              "#d8576b"
             ],
             [
              0.6666666666666666,
              "#ed7953"
             ],
             [
              0.7777777777777778,
              "#fb9f3a"
             ],
             [
              0.8888888888888888,
              "#fdca26"
             ],
             [
              1,
              "#f0f921"
             ]
            ],
            "type": "contour"
           }
          ],
          "contourcarpet": [
           {
            "colorbar": {
             "outlinewidth": 0,
             "ticks": ""
            },
            "type": "contourcarpet"
           }
          ],
          "heatmap": [
           {
            "colorbar": {
             "outlinewidth": 0,
             "ticks": ""
            },
            "colorscale": [
             [
              0,
              "#0d0887"
             ],
             [
              0.1111111111111111,
              "#46039f"
             ],
             [
              0.2222222222222222,
              "#7201a8"
             ],
             [
              0.3333333333333333,
              "#9c179e"
             ],
             [
              0.4444444444444444,
              "#bd3786"
             ],
             [
              0.5555555555555556,
              "#d8576b"
             ],
             [
              0.6666666666666666,
              "#ed7953"
             ],
             [
              0.7777777777777778,
              "#fb9f3a"
             ],
             [
              0.8888888888888888,
              "#fdca26"
             ],
             [
              1,
              "#f0f921"
             ]
            ],
            "type": "heatmap"
           }
          ],
          "heatmapgl": [
           {
            "colorbar": {
             "outlinewidth": 0,
             "ticks": ""
            },
            "colorscale": [
             [
              0,
              "#0d0887"
             ],
             [
              0.1111111111111111,
              "#46039f"
             ],
             [
              0.2222222222222222,
              "#7201a8"
             ],
             [
              0.3333333333333333,
              "#9c179e"
             ],
             [
              0.4444444444444444,
              "#bd3786"
             ],
             [
              0.5555555555555556,
              "#d8576b"
             ],
             [
              0.6666666666666666,
              "#ed7953"
             ],
             [
              0.7777777777777778,
              "#fb9f3a"
             ],
             [
              0.8888888888888888,
              "#fdca26"
             ],
             [
              1,
              "#f0f921"
             ]
            ],
            "type": "heatmapgl"
           }
          ],
          "histogram": [
           {
            "marker": {
             "pattern": {
              "fillmode": "overlay",
              "size": 10,
              "solidity": 0.2
             }
            },
            "type": "histogram"
           }
          ],
          "histogram2d": [
           {
            "colorbar": {
             "outlinewidth": 0,
             "ticks": ""
            },
            "colorscale": [
             [
              0,
              "#0d0887"
             ],
             [
              0.1111111111111111,
              "#46039f"
             ],
             [
              0.2222222222222222,
              "#7201a8"
             ],
             [
              0.3333333333333333,
              "#9c179e"
             ],
             [
              0.4444444444444444,
              "#bd3786"
             ],
             [
              0.5555555555555556,
              "#d8576b"
             ],
             [
              0.6666666666666666,
              "#ed7953"
             ],
             [
              0.7777777777777778,
              "#fb9f3a"
             ],
             [
              0.8888888888888888,
              "#fdca26"
             ],
             [
              1,
              "#f0f921"
             ]
            ],
            "type": "histogram2d"
           }
          ],
          "histogram2dcontour": [
           {
            "colorbar": {
             "outlinewidth": 0,
             "ticks": ""
            },
            "colorscale": [
             [
              0,
              "#0d0887"
             ],
             [
              0.1111111111111111,
              "#46039f"
             ],
             [
              0.2222222222222222,
              "#7201a8"
             ],
             [
              0.3333333333333333,
              "#9c179e"
             ],
             [
              0.4444444444444444,
              "#bd3786"
             ],
             [
              0.5555555555555556,
              "#d8576b"
             ],
             [
              0.6666666666666666,
              "#ed7953"
             ],
             [
              0.7777777777777778,
              "#fb9f3a"
             ],
             [
              0.8888888888888888,
              "#fdca26"
             ],
             [
              1,
              "#f0f921"
             ]
            ],
            "type": "histogram2dcontour"
           }
          ],
          "mesh3d": [
           {
            "colorbar": {
             "outlinewidth": 0,
             "ticks": ""
            },
            "type": "mesh3d"
           }
          ],
          "parcoords": [
           {
            "line": {
             "colorbar": {
              "outlinewidth": 0,
              "ticks": ""
             }
            },
            "type": "parcoords"
           }
          ],
          "pie": [
           {
            "automargin": true,
            "type": "pie"
           }
          ],
          "scatter": [
           {
            "marker": {
             "line": {
              "color": "#283442"
             }
            },
            "type": "scatter"
           }
          ],
          "scatter3d": [
           {
            "line": {
             "colorbar": {
              "outlinewidth": 0,
              "ticks": ""
             }
            },
            "marker": {
             "colorbar": {
              "outlinewidth": 0,
              "ticks": ""
             }
            },
            "type": "scatter3d"
           }
          ],
          "scattercarpet": [
           {
            "marker": {
             "colorbar": {
              "outlinewidth": 0,
              "ticks": ""
             }
            },
            "type": "scattercarpet"
           }
          ],
          "scattergeo": [
           {
            "marker": {
             "colorbar": {
              "outlinewidth": 0,
              "ticks": ""
             }
            },
            "type": "scattergeo"
           }
          ],
          "scattergl": [
           {
            "marker": {
             "line": {
              "color": "#283442"
             }
            },
            "type": "scattergl"
           }
          ],
          "scattermapbox": [
           {
            "marker": {
             "colorbar": {
              "outlinewidth": 0,
              "ticks": ""
             }
            },
            "type": "scattermapbox"
           }
          ],
          "scatterpolar": [
           {
            "marker": {
             "colorbar": {
              "outlinewidth": 0,
              "ticks": ""
             }
            },
            "type": "scatterpolar"
           }
          ],
          "scatterpolargl": [
           {
            "marker": {
             "colorbar": {
              "outlinewidth": 0,
              "ticks": ""
             }
            },
            "type": "scatterpolargl"
           }
          ],
          "scatterternary": [
           {
            "marker": {
             "colorbar": {
              "outlinewidth": 0,
              "ticks": ""
             }
            },
            "type": "scatterternary"
           }
          ],
          "surface": [
           {
            "colorbar": {
             "outlinewidth": 0,
             "ticks": ""
            },
            "colorscale": [
             [
              0,
              "#0d0887"
             ],
             [
              0.1111111111111111,
              "#46039f"
             ],
             [
              0.2222222222222222,
              "#7201a8"
             ],
             [
              0.3333333333333333,
              "#9c179e"
             ],
             [
              0.4444444444444444,
              "#bd3786"
             ],
             [
              0.5555555555555556,
              "#d8576b"
             ],
             [
              0.6666666666666666,
              "#ed7953"
             ],
             [
              0.7777777777777778,
              "#fb9f3a"
             ],
             [
              0.8888888888888888,
              "#fdca26"
             ],
             [
              1,
              "#f0f921"
             ]
            ],
            "type": "surface"
           }
          ],
          "table": [
           {
            "cells": {
             "fill": {
              "color": "#506784"
             },
             "line": {
              "color": "rgb(17,17,17)"
             }
            },
            "header": {
             "fill": {
              "color": "#2a3f5f"
             },
             "line": {
              "color": "rgb(17,17,17)"
             }
            },
            "type": "table"
           }
          ]
         },
         "layout": {
          "annotationdefaults": {
           "arrowcolor": "#f2f5fa",
           "arrowhead": 0,
           "arrowwidth": 1
          },
          "autotypenumbers": "strict",
          "coloraxis": {
           "colorbar": {
            "outlinewidth": 0,
            "ticks": ""
           }
          },
          "colorscale": {
           "diverging": [
            [
             0,
             "#8e0152"
            ],
            [
             0.1,
             "#c51b7d"
            ],
            [
             0.2,
             "#de77ae"
            ],
            [
             0.3,
             "#f1b6da"
            ],
            [
             0.4,
             "#fde0ef"
            ],
            [
             0.5,
             "#f7f7f7"
            ],
            [
             0.6,
             "#e6f5d0"
            ],
            [
             0.7,
             "#b8e186"
            ],
            [
             0.8,
             "#7fbc41"
            ],
            [
             0.9,
             "#4d9221"
            ],
            [
             1,
             "#276419"
            ]
           ],
           "sequential": [
            [
             0,
             "#0d0887"
            ],
            [
             0.1111111111111111,
             "#46039f"
            ],
            [
             0.2222222222222222,
             "#7201a8"
            ],
            [
             0.3333333333333333,
             "#9c179e"
            ],
            [
             0.4444444444444444,
             "#bd3786"
            ],
            [
             0.5555555555555556,
             "#d8576b"
            ],
            [
             0.6666666666666666,
             "#ed7953"
            ],
            [
             0.7777777777777778,
             "#fb9f3a"
            ],
            [
             0.8888888888888888,
             "#fdca26"
            ],
            [
             1,
             "#f0f921"
            ]
           ],
           "sequentialminus": [
            [
             0,
             "#0d0887"
            ],
            [
             0.1111111111111111,
             "#46039f"
            ],
            [
             0.2222222222222222,
             "#7201a8"
            ],
            [
             0.3333333333333333,
             "#9c179e"
            ],
            [
             0.4444444444444444,
             "#bd3786"
            ],
            [
             0.5555555555555556,
             "#d8576b"
            ],
            [
             0.6666666666666666,
             "#ed7953"
            ],
            [
             0.7777777777777778,
             "#fb9f3a"
            ],
            [
             0.8888888888888888,
             "#fdca26"
            ],
            [
             1,
             "#f0f921"
            ]
           ]
          },
          "colorway": [
           "#636efa",
           "#EF553B",
           "#00cc96",
           "#ab63fa",
           "#FFA15A",
           "#19d3f3",
           "#FF6692",
           "#B6E880",
           "#FF97FF",
           "#FECB52"
          ],
          "font": {
           "color": "#f2f5fa"
          },
          "geo": {
           "bgcolor": "rgb(17,17,17)",
           "lakecolor": "rgb(17,17,17)",
           "landcolor": "rgb(17,17,17)",
           "showlakes": true,
           "showland": true,
           "subunitcolor": "#506784"
          },
          "hoverlabel": {
           "align": "left"
          },
          "hovermode": "closest",
          "mapbox": {
           "style": "dark"
          },
          "paper_bgcolor": "rgb(17,17,17)",
          "plot_bgcolor": "rgb(17,17,17)",
          "polar": {
           "angularaxis": {
            "gridcolor": "#506784",
            "linecolor": "#506784",
            "ticks": ""
           },
           "bgcolor": "rgb(17,17,17)",
           "radialaxis": {
            "gridcolor": "#506784",
            "linecolor": "#506784",
            "ticks": ""
           }
          },
          "scene": {
           "xaxis": {
            "backgroundcolor": "rgb(17,17,17)",
            "gridcolor": "#506784",
            "gridwidth": 2,
            "linecolor": "#506784",
            "showbackground": true,
            "ticks": "",
            "zerolinecolor": "#C8D4E3"
           },
           "yaxis": {
            "backgroundcolor": "rgb(17,17,17)",
            "gridcolor": "#506784",
            "gridwidth": 2,
            "linecolor": "#506784",
            "showbackground": true,
            "ticks": "",
            "zerolinecolor": "#C8D4E3"
           },
           "zaxis": {
            "backgroundcolor": "rgb(17,17,17)",
            "gridcolor": "#506784",
            "gridwidth": 2,
            "linecolor": "#506784",
            "showbackground": true,
            "ticks": "",
            "zerolinecolor": "#C8D4E3"
           }
          },
          "shapedefaults": {
           "line": {
            "color": "#f2f5fa"
           }
          },
          "sliderdefaults": {
           "bgcolor": "#C8D4E3",
           "bordercolor": "rgb(17,17,17)",
           "borderwidth": 1,
           "tickwidth": 0
          },
          "ternary": {
           "aaxis": {
            "gridcolor": "#506784",
            "linecolor": "#506784",
            "ticks": ""
           },
           "baxis": {
            "gridcolor": "#506784",
            "linecolor": "#506784",
            "ticks": ""
           },
           "bgcolor": "rgb(17,17,17)",
           "caxis": {
            "gridcolor": "#506784",
            "linecolor": "#506784",
            "ticks": ""
           }
          },
          "title": {
           "x": 0.05
          },
          "updatemenudefaults": {
           "bgcolor": "#506784",
           "borderwidth": 0
          },
          "xaxis": {
           "automargin": true,
           "gridcolor": "#283442",
           "linecolor": "#506784",
           "ticks": "",
           "title": {
            "standoff": 15
           },
           "zerolinecolor": "#283442",
           "zerolinewidth": 2
          },
          "yaxis": {
           "automargin": true,
           "gridcolor": "#283442",
           "linecolor": "#506784",
           "ticks": "",
           "title": {
            "standoff": 15
           },
           "zerolinecolor": "#283442",
           "zerolinewidth": 2
          }
         }
        },
        "title": {
         "text": "IC50 Differences of Mutants by Position"
        },
        "xaxis": {
         "anchor": "y",
         "domain": [
          0,
          1
         ],
         "title": {
          "text": "Mutation Position"
         }
        },
        "yaxis": {
         "anchor": "x",
         "domain": [
          0,
          1
         ],
         "title": {
          "text": "IC50 Difference"
         }
        }
       }
      }
     },
     "metadata": {},
     "output_type": "display_data"
    }
   ],
   "source": [
    "amino_acid_dict = {\n",
    "    'A': 'Alanine',\n",
    "    'C': 'Cysteine',\n",
    "    'D': 'Aspartic Acid',\n",
    "    'E': 'Glutamic Acid',\n",
    "    'F': 'Phenylalanine',\n",
    "    'G': 'Glycine',\n",
    "    'H': 'Histidine',\n",
    "    'I': 'Isoleucine',\n",
    "    'K': 'Lysine',\n",
    "    'L': 'Leucine',\n",
    "    'M': 'Methionine',\n",
    "    'N': 'Asparagine',\n",
    "    'P': 'Proline',\n",
    "    'Q': 'Glutamine',\n",
    "    'R': 'Arginine',\n",
    "    'S': 'Serine',\n",
    "    'T': 'Threonine',\n",
    "    'V': 'Valine',\n",
    "    'W': 'Tryptophan',\n",
    "    'Y': 'Tyrosine'\n",
    "}\n",
    "\n",
    "def convert_aa_names(string):\n",
    "    if string!='Deletion':\n",
    "        aa1 = string.split(' -> ')[0]\n",
    "        aa2 = string.split(' -> ')[1]\n",
    "        return f'{amino_acid_dict[aa1]} -> {amino_acid_dict[aa2]}'\n",
    "    else:\n",
    "        return 'Deletion'\n",
    "\n",
    "file_directory = 'src/data/pair_dfs'\n",
    "saving_directory = 'src/plots'\n",
    "\n",
    "for name in os.listdir(file_directory):\n",
    "    path = os.path.join(file_directory, name)\n",
    "    df_pair = pd.read_csv(path)\n",
    "    df_pair.loc[df_pair.Type == 'gap','Mutation'] = 'Deletion'\n",
    "    df_pair.Mutation = df_pair.Mutation.apply(convert_aa_names)\n",
    "    # Creating and Saving IC50 plot\n",
    "    fig = px.scatter(\n",
    "        df_pair,\n",
    "        x='Positions',  # x-axis is the mutation position\n",
    "        y='IC50',  # y-axis is the IC50 value\n",
    "        color='Mutant Name',  # color by the mutant name\n",
    "        hover_name='Mutant Name',\n",
    "        hover_data={'Positions': True, 'Mutation': True, 'IC50': True, 'Mutant Name':False},  # info to display on hover\n",
    "        title='IC50 Differences of Mutants by Position',\n",
    "        labels={'Positions': 'Mutation Position', 'IC50': 'IC50 Difference'},\n",
    "    )\n",
    "\n",
    "    # Customize layout if needed\n",
    "    fig.update_layout(\n",
    "        hovermode='closest',  # Ensure tooltips show up when hovering closest to a point\n",
    "        xaxis_title='Mutation Position',\n",
    "        yaxis_title='IC50 Difference',\n",
    "        template='plotly_dark'  # Optional: use a dark theme (you can remove or change this)\n",
    "    )\n",
    "\n",
    "    # Show the interactive plot\n",
    "    fig.show()\n",
    "    saving_path = os.path.join(saving_directory, name.split('.')[0])\n",
    "    fig.write_html(saving_path + '.html')    "
   ]
  },
  {
   "cell_type": "code",
   "execution_count": 260,
   "metadata": {},
   "outputs": [
    {
     "name": "stdout",
     "output_type": "stream",
     "text": [
      "WT protein\n",
      "Mutant:  mutant [1-18]\n",
      "Mutant:  mutant [C18->T]\n",
      "Mutant:  mutant [1-18][C21->T]\n"
     ]
    }
   ],
   "source": [
    "# Load the PDB file\n",
    "def viualize_mutant(protein_file, row=None):\n",
    "    view = nv.show_file(protein_file)  # Update with the correct file path\n",
    "\n",
    "    # Remove default representations\n",
    "    if row.mutations is None:\n",
    "        print(\"WT protein\")\n",
    "    else:\n",
    "        print(\"Mutant: \", row.mutant_name)\n",
    "        view.clear_representations()\n",
    "        view.add_cartoon(color=\"#D3D3D3\")\n",
    "\n",
    "        for m in row.mutations:\n",
    "            if m[0] == 'Deletion':\n",
    "                view.add_cartoon(selection=m[1], color=\"blue\")  # Highlight region 1-18 in blue\n",
    "            else:\n",
    "                view.add_ball_and_stick(selection=m[1], color=\"red\")  # Highlight residue 858 in red\n",
    "    nv.write_html(row.mutant_name + '.html', [view])\n",
    "\n",
    "test_df = pd.DataFrame({'mutant_name': ['WT', 'mutant [1-18]', 'mutant [C18->T]', 'mutant [1-18][C21->T]'], 'mutations': [None, ['Deletion', '1-18'], ['C18->T', '18'], [['Deletion', '1-18'], ['C21->T', '21']]]})\n",
    "\n",
    "for name, r in test_df.iterrows():\n",
    "    viualize_mutant('pdb_files/P00533.pdb', r)"
   ]
  },
  {
   "cell_type": "code",
   "execution_count": null,
   "metadata": {},
   "outputs": [],
   "source": [
    "# Probably remove\n",
    "for name, group in df_mutants[df_mutants['Target Names'].apply(lambda x: len(x)>10)].groupby('WT Target Name'):\n",
    "    d = {}\n",
    "    for idx, top_pair in group.iterrows():\n",
    "        target_names = top_pair['Target Names']\n",
    "        target_sequences = top_pair['BindingDB Target Chain Sequence']\n",
    "        d.update(dict(zip(target_names, target_sequences)))"
   ]
  },
  {
   "cell_type": "code",
   "execution_count": null,
   "metadata": {},
   "outputs": [],
   "source": [
    "# Probably remove\n",
    "def save_to_fasta(group_dict, filename=\"output.fasta\"):\n",
    "    \"\"\"\n",
    "    Saves the protein names and sequences from the dictionary to a FASTA file.\n",
    "    \n",
    "    :param group_dict: Dictionary where keys are protein names and values are sequences\n",
    "    :param filename: Output FASTA file name (default is \"output.fasta\")\n",
    "    \"\"\"\n",
    "    with open(filename, 'w') as fasta_file:\n",
    "        for protein_name, sequence in group_dict.items():\n",
    "            # Write each protein's name and sequence in FASTA format\n",
    "            fasta_file.write(f\">{protein_name}\\n\")\n",
    "            # Write the sequence, split into multiple lines if necessary\n",
    "            for i in range(0, len(sequence), 80):  # 80 characters per line\n",
    "                fasta_file.write(sequence[i:i+80] + \"\\n\")\n",
    "    \n",
    "    print(f\"FASTA file saved as {filename}\")\n"
   ]
  },
  {
   "cell_type": "code",
   "execution_count": null,
   "metadata": {},
   "outputs": [
    {
     "name": "stdout",
     "output_type": "stream",
     "text": [
      "-----------------------------------------\n",
      "Started processing Group:  Epidermal growth factor receptor\n",
      "FASTA file saved as Epidermal growth factor receptor.fasta\n",
      "Finished processing Group:  Epidermal growth factor receptor\n",
      "-----------------------------------------\n",
      "-----------------------------------------\n",
      "Started processing Group:  cAMP-dependent protein kinase catalytic subunit alpha\n",
      "FASTA file saved as cAMP-dependent protein kinase catalytic subunit alpha.fasta\n",
      "Finished processing Group:  cAMP-dependent protein kinase catalytic subunit alpha\n",
      "-----------------------------------------\n"
     ]
    }
   ],
   "source": [
    "# Probably remove\n",
    "for name, group in df_mutants[df_mutants['Target Names'].apply(lambda x: len(x)>10)].groupby('WT Target Name'):\n",
    "    group_dict = {}\n",
    "    print(\"-----------------------------------------\")\n",
    "    print('Started processing Group: ', name)\n",
    "    for idx, top_pair in group.iterrows():\n",
    "        target_names = top_pair['Target Names']\n",
    "        target_sequences = top_pair['BindingDB Target Chain Sequence']\n",
    "        group_dict.update(dict(zip(target_names, target_sequences)))\n",
    "    \n",
    "    save_to_fasta(group_dict, f\"{name}.fasta\")\n",
    "    print('Finished processing Group: ', name)\n",
    "    print(\"-----------------------------------------\")"
   ]
  },
  {
   "cell_type": "code",
   "execution_count": null,
   "metadata": {},
   "outputs": [
    {
     "name": "stderr",
     "output_type": "stream",
     "text": [
      "Fetching Metadata: 100%|██████████| 2/2 [00:00<00:00,  2.66it/s]\n",
      "Fetching files: 100%|██████████| 2/2 [00:00<00:00,  7.91it/s]\n"
     ]
    }
   ],
   "source": [
    "# TBD\n",
    "from alphafetcher import AlphaFetcher\n",
    "\n",
    "# Instantiate the fetcher\n",
    "# The base_savedir parameter allows you to set a base directory where files will be saved.\n",
    "# Inside this directory, two separate directories for pdb and cif files will be created.\n",
    "fetcher = AlphaFetcher(base_savedir=\"\")\n",
    "ids= ['P00533', 'P27791']\n",
    "# Add desired Uniprot access codes\n",
    "fetcher.add_proteins(ids)\n",
    "\n",
    "# Retrieve metadata\n",
    "fetcher.fetch_metadata(multithread=True, workers=4)\n",
    "# Metadata available at fetcher.metadata_dict\n",
    "\n",
    "# Commence download of specified files\n",
    "fetcher.download_all_files(pdb=True, multithread=True, workers=4)"
   ]
  }
 ],
 "metadata": {
  "kernelspec": {
   "display_name": "ada",
   "language": "python",
   "name": "python3"
  },
  "language_info": {
   "codemirror_mode": {
    "name": "ipython",
    "version": 3
   },
   "file_extension": ".py",
   "mimetype": "text/x-python",
   "name": "python",
   "nbconvert_exporter": "python",
   "pygments_lexer": "ipython3",
   "version": "3.11.9"
  }
 },
 "nbformat": 4,
 "nbformat_minor": 2
}
