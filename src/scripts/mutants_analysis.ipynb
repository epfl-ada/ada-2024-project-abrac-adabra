{
 "cells": [
  {
   "cell_type": "code",
   "execution_count": 24,
   "metadata": {},
   "outputs": [],
   "source": [
    "import ast\n",
    "import requests\n",
    "import os\n",
    "import sys\n",
    "import pandas as pd\n",
    "from rdkit import Chem\n",
    "from rdkit.Chem import AllChem\n",
    "import nglview as nv\n",
    "import py3Dmol\n",
    "import plotly.graph_objects as go\n",
    "import torch\n",
    "from plotly.subplots import make_subplots\n",
    "from datastory_plots import *"
   ]
  },
  {
   "cell_type": "code",
   "execution_count": 10,
   "metadata": {},
   "outputs": [
    {
     "name": "stdout",
     "output_type": "stream",
     "text": [
      "Started loading data\n",
      "Loaded data\n"
     ]
    }
   ],
   "source": [
    "print(\"Started loading data\")\n",
    "df_mutants = pd.read_csv('../data/mutants.csv')\n",
    "df_merged = pd.read_csv('../data/merged_df.csv')\n",
    "df_mutants['Target Names'] = df_mutants['Target Names'].apply(lambda x: ast.literal_eval(x))\n",
    "df_mutants['BindingDB Target Chain Sequence'] = df_mutants['BindingDB Target Chain Sequence'].apply(lambda x: ast.literal_eval(x))\n",
    "print(\"Loaded data\")"
   ]
  },
  {
   "cell_type": "code",
   "execution_count": 11,
   "metadata": {},
   "outputs": [
    {
     "name": "stderr",
     "output_type": "stream",
     "text": [
      "Device set to use cpu\n"
     ]
    },
    {
     "name": "stdout",
     "output_type": "stream",
     "text": [
      "Pair information succesfully saved\n",
      "---------------------------------------------------------------------------\n"
     ]
    },
    {
     "name": "stderr",
     "output_type": "stream",
     "text": [
      "Device set to use cpu\n"
     ]
    },
    {
     "name": "stdout",
     "output_type": "stream",
     "text": [
      "Pair information succesfully saved\n",
      "---------------------------------------------------------------------------\n",
      "For this ligand-protein pair there are multiple values of IC50 and we decided to drop this case.\n",
      "This pair will not be saved due to multiple conflicting values in BindingDB\n",
      "---------------------------------------------------------------------------\n"
     ]
    },
    {
     "name": "stderr",
     "output_type": "stream",
     "text": [
      "Device set to use cpu\n"
     ]
    },
    {
     "name": "stdout",
     "output_type": "stream",
     "text": [
      "Pair information succesfully saved\n",
      "---------------------------------------------------------------------------\n"
     ]
    },
    {
     "name": "stderr",
     "output_type": "stream",
     "text": [
      "Device set to use cpu\n"
     ]
    },
    {
     "name": "stdout",
     "output_type": "stream",
     "text": [
      "Pair information succesfully saved\n",
      "---------------------------------------------------------------------------\n"
     ]
    },
    {
     "name": "stderr",
     "output_type": "stream",
     "text": [
      "Device set to use cpu\n"
     ]
    },
    {
     "name": "stdout",
     "output_type": "stream",
     "text": [
      "Pair information succesfully saved\n",
      "---------------------------------------------------------------------------\n",
      "For this ligand-protein pair there are multiple values of IC50 and we decided to drop this case.\n",
      "This pair will not be saved due to multiple conflicting values in BindingDB\n",
      "---------------------------------------------------------------------------\n"
     ]
    }
   ],
   "source": [
    "interaction_pairs = save_dfs_ligands(df_merged, df_mutants)"
   ]
  },
  {
   "cell_type": "code",
   "execution_count": 13,
   "metadata": {},
   "outputs": [
    {
     "name": "stdout",
     "output_type": "stream",
     "text": [
      "Saved dfs\n"
     ]
    }
   ],
   "source": [
    "interaction_pairs.to_csv('../data/interaction_pairs.csv')\n",
    "print(\"Saved dfs\")"
   ]
  },
  {
   "cell_type": "code",
   "execution_count": null,
   "metadata": {},
   "outputs": [
    {
     "name": "stdout",
     "output_type": "stream",
     "text": [
      "Saved ligand representations\n"
     ]
    },
    {
     "name": "stderr",
     "output_type": "stream",
     "text": [
      "[18:30:36] Molecule does not have explicit Hs. Consider calling AddHs()\n",
      "[18:30:36] Molecule does not have explicit Hs. Consider calling AddHs()\n",
      "[18:30:36] Molecule does not have explicit Hs. Consider calling AddHs()\n",
      "[18:30:36] Molecule does not have explicit Hs. Consider calling AddHs()\n",
      "[18:30:36] Molecule does not have explicit Hs. Consider calling AddHs()\n",
      "[18:30:36] Molecule does not have explicit Hs. Consider calling AddHs()\n",
      "[18:30:36] Molecule does not have explicit Hs. Consider calling AddHs()\n",
      "[18:30:36] Molecule does not have explicit Hs. Consider calling AddHs()\n",
      "[18:30:36] Molecule does not have explicit Hs. Consider calling AddHs()\n",
      "[18:30:36] Molecule does not have explicit Hs. Consider calling AddHs()\n"
     ]
    }
   ],
   "source": [
    "visualize_ligands(interaction_pairs['Ligand SMILES'])\n",
    "print(\"Saved ligand representations\")"
   ]
  },
  {
   "cell_type": "code",
   "execution_count": 26,
   "metadata": {},
   "outputs": [
    {
     "name": "stdout",
     "output_type": "stream",
     "text": [
      "Saved interactive IC50 plot\n"
     ]
    }
   ],
   "source": [
    "generate_interactive_ic50_plot()\n",
    "print(\"Saved interactive IC50 plot\")"
   ]
  },
  {
   "cell_type": "code",
   "execution_count": null,
   "metadata": {},
   "outputs": [
    {
     "name": "stdout",
     "output_type": "stream",
     "text": [
      "WT protein\n",
      "Mutant:  mutant [1-18]\n",
      "Mutant:  mutant [C18->T]\n",
      "Mutant:  mutant [1-18][C21->T]\n"
     ]
    }
   ],
   "source": [
    "# Load the PDB file\n",
    "def viualize_mutant(protein_file, row=None):\n",
    "    view = nv.show_file(protein_file)  # Update with the correct file path\n",
    "\n",
    "    # Remove default representations\n",
    "    if row.mutations is None:\n",
    "        print(\"WT protein\")\n",
    "    else:\n",
    "        print(\"Mutant: \", row.mutant_name)\n",
    "        view.clear_representations()\n",
    "        view.add_cartoon(color=\"#D3D3D3\")\n",
    "\n",
    "        for m in row.mutations:\n",
    "            if m[0] == 'Deletion':\n",
    "                view.add_cartoon(selection=m[1], color=\"blue\")  # Highlight region 1-18 in blue\n",
    "            else:\n",
    "                view.add_ball_and_stick(selection=m[1], color=\"red\")  # Highlight residue 858 in red\n",
    "    nv.write_html(row.mutant_name + '.html', [view])\n",
    "\n",
    "test_df = pd.DataFrame({'mutant_name': ['WT', 'mutant [1-18]', 'mutant [C18->T]', 'mutant [1-18][C21->T]'], 'mutations': [None, ['Deletion', '1-18'], ['C18->T', '18'], [['Deletion', '1-18'], ['C21->T', '21']]]})\n",
    "\n",
    "for name, r in test_df.iterrows():\n",
    "    viualize_mutant('pdb_files/P00533.pdb', r)"
   ]
  },
  {
   "cell_type": "code",
   "execution_count": null,
   "metadata": {},
   "outputs": [
    {
     "name": "stderr",
     "output_type": "stream",
     "text": [
      "Fetching Metadata: 100%|██████████| 2/2 [00:00<00:00,  2.66it/s]\n",
      "Fetching files: 100%|██████████| 2/2 [00:00<00:00,  7.91it/s]\n"
     ]
    }
   ],
   "source": [
    "# TBD\n",
    "from alphafetcher import AlphaFetcher\n",
    "\n",
    "# Instantiate the fetcher\n",
    "# The base_savedir parameter allows you to set a base directory where files will be saved.\n",
    "# Inside this directory, two separate directories for pdb and cif files will be created.\n",
    "fetcher = AlphaFetcher(base_savedir=\"\")\n",
    "ids= ['P00533', 'P27791']\n",
    "# Add desired Uniprot access codes\n",
    "fetcher.add_proteins(ids)\n",
    "\n",
    "# Retrieve metadata\n",
    "fetcher.fetch_metadata(multithread=True, workers=4)\n",
    "# Metadata available at fetcher.metadata_dict\n",
    "\n",
    "# Commence download of specified files\n",
    "fetcher.download_all_files(pdb=True, multithread=True, workers=4)"
   ]
  },
  {
   "cell_type": "code",
   "execution_count": 214,
   "metadata": {},
   "outputs": [
    {
     "ename": "ValueError",
     "evalue": "Value of 'y' is not the name of a column in 'data_frame'. Expected one of ['Unnamed: 0', 'Mutant Name', 'Positions', 'Colour', 'IC50 Difference', 'IC50 Ratio', 'IC50 Percentage', 'Type', 'Mutation', 'Probability'] but received: IC50",
     "output_type": "error",
     "traceback": [
      "\u001b[0;31m---------------------------------------------------------------------------\u001b[0m",
      "\u001b[0;31mValueError\u001b[0m                                Traceback (most recent call last)",
      "Cell \u001b[0;32mIn[214], line 42\u001b[0m\n\u001b[1;32m     40\u001b[0m df_pair\u001b[38;5;241m.\u001b[39mMutation \u001b[38;5;241m=\u001b[39m df_pair\u001b[38;5;241m.\u001b[39mMutation\u001b[38;5;241m.\u001b[39mapply(convert_aa_names)\n\u001b[1;32m     41\u001b[0m \u001b[38;5;66;03m# Creating and Saving IC50 plot\u001b[39;00m\n\u001b[0;32m---> 42\u001b[0m fig \u001b[38;5;241m=\u001b[39m px\u001b[38;5;241m.\u001b[39mscatter(\n\u001b[1;32m     43\u001b[0m     df_pair,\n\u001b[1;32m     44\u001b[0m     x\u001b[38;5;241m=\u001b[39m\u001b[38;5;124m'\u001b[39m\u001b[38;5;124mPositions\u001b[39m\u001b[38;5;124m'\u001b[39m,  \u001b[38;5;66;03m# x-axis is the mutation position\u001b[39;00m\n\u001b[1;32m     45\u001b[0m     y\u001b[38;5;241m=\u001b[39m\u001b[38;5;124m'\u001b[39m\u001b[38;5;124mIC50\u001b[39m\u001b[38;5;124m'\u001b[39m,  \u001b[38;5;66;03m# y-axis is the IC50 value\u001b[39;00m\n\u001b[1;32m     46\u001b[0m     color\u001b[38;5;241m=\u001b[39m\u001b[38;5;124m'\u001b[39m\u001b[38;5;124mMutant Name\u001b[39m\u001b[38;5;124m'\u001b[39m,  \u001b[38;5;66;03m# color by the mutant name\u001b[39;00m\n\u001b[1;32m     47\u001b[0m     hover_name\u001b[38;5;241m=\u001b[39m\u001b[38;5;124m'\u001b[39m\u001b[38;5;124mMutant Name\u001b[39m\u001b[38;5;124m'\u001b[39m,\n\u001b[1;32m     48\u001b[0m     hover_data\u001b[38;5;241m=\u001b[39m{\u001b[38;5;124m'\u001b[39m\u001b[38;5;124mPositions\u001b[39m\u001b[38;5;124m'\u001b[39m: \u001b[38;5;28;01mTrue\u001b[39;00m, \u001b[38;5;124m'\u001b[39m\u001b[38;5;124mMutation\u001b[39m\u001b[38;5;124m'\u001b[39m: \u001b[38;5;28;01mTrue\u001b[39;00m, \u001b[38;5;124m'\u001b[39m\u001b[38;5;124mIC50\u001b[39m\u001b[38;5;124m'\u001b[39m: \u001b[38;5;28;01mTrue\u001b[39;00m, \u001b[38;5;124m'\u001b[39m\u001b[38;5;124mMutant Name\u001b[39m\u001b[38;5;124m'\u001b[39m:\u001b[38;5;28;01mFalse\u001b[39;00m},  \u001b[38;5;66;03m# info to display on hover\u001b[39;00m\n\u001b[1;32m     49\u001b[0m     title\u001b[38;5;241m=\u001b[39m\u001b[38;5;124m'\u001b[39m\u001b[38;5;124mIC50 Differences of Mutants by Position\u001b[39m\u001b[38;5;124m'\u001b[39m,\n\u001b[1;32m     50\u001b[0m     labels\u001b[38;5;241m=\u001b[39m{\u001b[38;5;124m'\u001b[39m\u001b[38;5;124mPositions\u001b[39m\u001b[38;5;124m'\u001b[39m: \u001b[38;5;124m'\u001b[39m\u001b[38;5;124mMutation Position\u001b[39m\u001b[38;5;124m'\u001b[39m, \u001b[38;5;124m'\u001b[39m\u001b[38;5;124mIC50\u001b[39m\u001b[38;5;124m'\u001b[39m: \u001b[38;5;124m'\u001b[39m\u001b[38;5;124mIC50 Difference\u001b[39m\u001b[38;5;124m'\u001b[39m},\n\u001b[1;32m     51\u001b[0m )\n\u001b[1;32m     53\u001b[0m \u001b[38;5;66;03m# Customize layout if needed\u001b[39;00m\n\u001b[1;32m     54\u001b[0m fig\u001b[38;5;241m.\u001b[39mupdate_layout(\n\u001b[1;32m     55\u001b[0m     hovermode\u001b[38;5;241m=\u001b[39m\u001b[38;5;124m'\u001b[39m\u001b[38;5;124mclosest\u001b[39m\u001b[38;5;124m'\u001b[39m,  \u001b[38;5;66;03m# Ensure tooltips show up when hovering closest to a point\u001b[39;00m\n\u001b[1;32m     56\u001b[0m     xaxis_title\u001b[38;5;241m=\u001b[39m\u001b[38;5;124m'\u001b[39m\u001b[38;5;124mMutation Position\u001b[39m\u001b[38;5;124m'\u001b[39m,\n\u001b[1;32m     57\u001b[0m     yaxis_title\u001b[38;5;241m=\u001b[39m\u001b[38;5;124m'\u001b[39m\u001b[38;5;124mIC50 Difference\u001b[39m\u001b[38;5;124m'\u001b[39m,\n\u001b[1;32m     58\u001b[0m     template\u001b[38;5;241m=\u001b[39m\u001b[38;5;124m'\u001b[39m\u001b[38;5;124mplotly_dark\u001b[39m\u001b[38;5;124m'\u001b[39m  \u001b[38;5;66;03m# Optional: use a dark theme (you can remove or change this)\u001b[39;00m\n\u001b[1;32m     59\u001b[0m )\n",
      "File \u001b[0;32m~/anaconda3/envs/ada/lib/python3.11/site-packages/plotly/express/_chart_types.py:66\u001b[0m, in \u001b[0;36mscatter\u001b[0;34m(data_frame, x, y, color, symbol, size, hover_name, hover_data, custom_data, text, facet_row, facet_col, facet_col_wrap, facet_row_spacing, facet_col_spacing, error_x, error_x_minus, error_y, error_y_minus, animation_frame, animation_group, category_orders, labels, orientation, color_discrete_sequence, color_discrete_map, color_continuous_scale, range_color, color_continuous_midpoint, symbol_sequence, symbol_map, opacity, size_max, marginal_x, marginal_y, trendline, trendline_options, trendline_color_override, trendline_scope, log_x, log_y, range_x, range_y, render_mode, title, template, width, height)\u001b[0m\n\u001b[1;32m     12\u001b[0m \u001b[38;5;28;01mdef\u001b[39;00m \u001b[38;5;21mscatter\u001b[39m(\n\u001b[1;32m     13\u001b[0m     data_frame\u001b[38;5;241m=\u001b[39m\u001b[38;5;28;01mNone\u001b[39;00m,\n\u001b[1;32m     14\u001b[0m     x\u001b[38;5;241m=\u001b[39m\u001b[38;5;28;01mNone\u001b[39;00m,\n\u001b[0;32m   (...)\u001b[0m\n\u001b[1;32m     60\u001b[0m     height\u001b[38;5;241m=\u001b[39m\u001b[38;5;28;01mNone\u001b[39;00m,\n\u001b[1;32m     61\u001b[0m ) \u001b[38;5;241m-\u001b[39m\u001b[38;5;241m>\u001b[39m go\u001b[38;5;241m.\u001b[39mFigure:\n\u001b[1;32m     62\u001b[0m \u001b[38;5;250m    \u001b[39m\u001b[38;5;124;03m\"\"\"\u001b[39;00m\n\u001b[1;32m     63\u001b[0m \u001b[38;5;124;03m    In a scatter plot, each row of `data_frame` is represented by a symbol\u001b[39;00m\n\u001b[1;32m     64\u001b[0m \u001b[38;5;124;03m    mark in 2D space.\u001b[39;00m\n\u001b[1;32m     65\u001b[0m \u001b[38;5;124;03m    \"\"\"\u001b[39;00m\n\u001b[0;32m---> 66\u001b[0m     \u001b[38;5;28;01mreturn\u001b[39;00m make_figure(args\u001b[38;5;241m=\u001b[39m\u001b[38;5;28mlocals\u001b[39m(), constructor\u001b[38;5;241m=\u001b[39mgo\u001b[38;5;241m.\u001b[39mScatter)\n",
      "File \u001b[0;32m~/anaconda3/envs/ada/lib/python3.11/site-packages/plotly/express/_core.py:2117\u001b[0m, in \u001b[0;36mmake_figure\u001b[0;34m(args, constructor, trace_patch, layout_patch)\u001b[0m\n\u001b[1;32m   2114\u001b[0m layout_patch \u001b[38;5;241m=\u001b[39m layout_patch \u001b[38;5;129;01mor\u001b[39;00m {}\n\u001b[1;32m   2115\u001b[0m apply_default_cascade(args)\n\u001b[0;32m-> 2117\u001b[0m args \u001b[38;5;241m=\u001b[39m build_dataframe(args, constructor)\n\u001b[1;32m   2118\u001b[0m \u001b[38;5;28;01mif\u001b[39;00m constructor \u001b[38;5;129;01min\u001b[39;00m [go\u001b[38;5;241m.\u001b[39mTreemap, go\u001b[38;5;241m.\u001b[39mSunburst, go\u001b[38;5;241m.\u001b[39mIcicle] \u001b[38;5;129;01mand\u001b[39;00m args[\u001b[38;5;124m\"\u001b[39m\u001b[38;5;124mpath\u001b[39m\u001b[38;5;124m\"\u001b[39m] \u001b[38;5;129;01mis\u001b[39;00m \u001b[38;5;129;01mnot\u001b[39;00m \u001b[38;5;28;01mNone\u001b[39;00m:\n\u001b[1;32m   2119\u001b[0m     args \u001b[38;5;241m=\u001b[39m process_dataframe_hierarchy(args)\n",
      "File \u001b[0;32m~/anaconda3/envs/ada/lib/python3.11/site-packages/plotly/express/_core.py:1513\u001b[0m, in \u001b[0;36mbuild_dataframe\u001b[0;34m(args, constructor)\u001b[0m\n\u001b[1;32m   1510\u001b[0m     args[\u001b[38;5;124m\"\u001b[39m\u001b[38;5;124mcolor\u001b[39m\u001b[38;5;124m\"\u001b[39m] \u001b[38;5;241m=\u001b[39m \u001b[38;5;28;01mNone\u001b[39;00m\n\u001b[1;32m   1511\u001b[0m \u001b[38;5;66;03m# now that things have been prepped, we do the systematic rewriting of `args`\u001b[39;00m\n\u001b[0;32m-> 1513\u001b[0m df_output, wide_id_vars \u001b[38;5;241m=\u001b[39m process_args_into_dataframe(\n\u001b[1;32m   1514\u001b[0m     args, wide_mode, var_name, value_name\n\u001b[1;32m   1515\u001b[0m )\n\u001b[1;32m   1517\u001b[0m \u001b[38;5;66;03m# now that `df_output` exists and `args` contains only references, we complete\u001b[39;00m\n\u001b[1;32m   1518\u001b[0m \u001b[38;5;66;03m# the special-case and wide-mode handling by further rewriting args and/or mutating\u001b[39;00m\n\u001b[1;32m   1519\u001b[0m \u001b[38;5;66;03m# df_output\u001b[39;00m\n\u001b[1;32m   1521\u001b[0m count_name \u001b[38;5;241m=\u001b[39m _escape_col_name(df_output, \u001b[38;5;124m\"\u001b[39m\u001b[38;5;124mcount\u001b[39m\u001b[38;5;124m\"\u001b[39m, [var_name, value_name])\n",
      "File \u001b[0;32m~/anaconda3/envs/ada/lib/python3.11/site-packages/plotly/express/_core.py:1234\u001b[0m, in \u001b[0;36mprocess_args_into_dataframe\u001b[0;34m(args, wide_mode, var_name, value_name)\u001b[0m\n\u001b[1;32m   1232\u001b[0m         \u001b[38;5;28;01mif\u001b[39;00m argument \u001b[38;5;241m==\u001b[39m \u001b[38;5;124m\"\u001b[39m\u001b[38;5;124mindex\u001b[39m\u001b[38;5;124m\"\u001b[39m:\n\u001b[1;32m   1233\u001b[0m             err_msg \u001b[38;5;241m+\u001b[39m\u001b[38;5;241m=\u001b[39m \u001b[38;5;124m\"\u001b[39m\u001b[38;5;130;01m\\n\u001b[39;00m\u001b[38;5;124m To use the index, pass it in directly as `df.index`.\u001b[39m\u001b[38;5;124m\"\u001b[39m\n\u001b[0;32m-> 1234\u001b[0m         \u001b[38;5;28;01mraise\u001b[39;00m \u001b[38;5;167;01mValueError\u001b[39;00m(err_msg)\n\u001b[1;32m   1235\u001b[0m \u001b[38;5;28;01melif\u001b[39;00m length \u001b[38;5;129;01mand\u001b[39;00m \u001b[38;5;28mlen\u001b[39m(df_input[argument]) \u001b[38;5;241m!=\u001b[39m length:\n\u001b[1;32m   1236\u001b[0m     \u001b[38;5;28;01mraise\u001b[39;00m \u001b[38;5;167;01mValueError\u001b[39;00m(\n\u001b[1;32m   1237\u001b[0m         \u001b[38;5;124m\"\u001b[39m\u001b[38;5;124mAll arguments should have the same length. \u001b[39m\u001b[38;5;124m\"\u001b[39m\n\u001b[1;32m   1238\u001b[0m         \u001b[38;5;124m\"\u001b[39m\u001b[38;5;124mThe length of column argument `df[\u001b[39m\u001b[38;5;132;01m%s\u001b[39;00m\u001b[38;5;124m]` is \u001b[39m\u001b[38;5;132;01m%d\u001b[39;00m\u001b[38;5;124m, whereas the \u001b[39m\u001b[38;5;124m\"\u001b[39m\n\u001b[0;32m   (...)\u001b[0m\n\u001b[1;32m   1245\u001b[0m         )\n\u001b[1;32m   1246\u001b[0m     )\n",
      "\u001b[0;31mValueError\u001b[0m: Value of 'y' is not the name of a column in 'data_frame'. Expected one of ['Unnamed: 0', 'Mutant Name', 'Positions', 'Colour', 'IC50 Difference', 'IC50 Ratio', 'IC50 Percentage', 'Type', 'Mutation', 'Probability'] but received: IC50"
     ]
    }
   ],
   "source": [
    "# OLD\n",
    "amino_acid_dict = {\n",
    "    'A': 'Alanine',\n",
    "    'C': 'Cysteine',\n",
    "    'D': 'Aspartic Acid',\n",
    "    'E': 'Glutamic Acid',\n",
    "    'F': 'Phenylalanine',\n",
    "    'G': 'Glycine',\n",
    "    'H': 'Histidine',\n",
    "    'I': 'Isoleucine',\n",
    "    'K': 'Lysine',\n",
    "    'L': 'Leucine',\n",
    "    'M': 'Methionine',\n",
    "    'N': 'Asparagine',\n",
    "    'P': 'Proline',\n",
    "    'Q': 'Glutamine',\n",
    "    'R': 'Arginine',\n",
    "    'S': 'Serine',\n",
    "    'T': 'Threonine',\n",
    "    'V': 'Valine',\n",
    "    'W': 'Tryptophan',\n",
    "    'Y': 'Tyrosine'\n",
    "}\n",
    "\n",
    "def convert_aa_names(string):\n",
    "    if string!='Deletion':\n",
    "        aa1 = string.split(' -> ')[0]\n",
    "        aa2 = string.split(' -> ')[1]\n",
    "        return f'{amino_acid_dict[aa1]} -> {amino_acid_dict[aa2]}'\n",
    "    else:\n",
    "        return 'Deletion'\n",
    "\n",
    "file_directory = 'src/data/pair_dfs'\n",
    "saving_directory = 'src/plots'\n",
    "\n",
    "for name in os.listdir(file_directory):\n",
    "    path = os.path.join(file_directory, name)\n",
    "    df_pair = pd.read_csv(path)\n",
    "    df_pair.loc[df_pair.Type == 'gap','Mutation'] = 'Deletion'\n",
    "    df_pair.Mutation = df_pair.Mutation.apply(convert_aa_names)\n",
    "    # Creating and Saving IC50 plot\n",
    "    fig = px.scatter(\n",
    "        df_pair,\n",
    "        x='Positions',  # x-axis is the mutation position\n",
    "        y='IC50',  # y-axis is the IC50 value\n",
    "        color='Mutant Name',  # color by the mutant name\n",
    "        hover_name='Mutant Name',\n",
    "        hover_data={'Positions': True, 'Mutation': True, 'IC50': True, 'Mutant Name':False},  # info to display on hover\n",
    "        title='IC50 Differences of Mutants by Position',\n",
    "        labels={'Positions': 'Mutation Position', 'IC50': 'IC50 Difference'},\n",
    "    )\n",
    "\n",
    "    # Customize layout if needed\n",
    "    fig.update_layout(\n",
    "        hovermode='closest',  # Ensure tooltips show up when hovering closest to a point\n",
    "        xaxis_title='Mutation Position',\n",
    "        yaxis_title='IC50 Difference',\n",
    "        template='plotly_dark'  # Optional: use a dark theme (you can remove or change this)\n",
    "    )\n",
    "\n",
    "    # Show the interactive plot\n",
    "    fig.show()\n",
    "    saving_path = os.path.join(saving_directory, name.split('.')[0])\n",
    "    fig.write_html(saving_path + '.html')    "
   ]
  },
  {
   "cell_type": "code",
   "execution_count": 90,
   "metadata": {},
   "outputs": [],
   "source": [
    "# Probably remove\n",
    "for name, group in df_mutants[df_mutants['Target Names'].apply(lambda x: len(x)>10)].groupby('WT Target Name'):\n",
    "    d = {}\n",
    "    for idx, top_pair in group.iterrows():\n",
    "        target_names = top_pair['Target Names']\n",
    "        target_sequences = top_pair['BindingDB Target Chain Sequence']\n",
    "        d.update(dict(zip(target_names, target_sequences)))"
   ]
  },
  {
   "cell_type": "code",
   "execution_count": null,
   "metadata": {},
   "outputs": [],
   "source": [
    "# Probably remove\n",
    "def save_to_fasta(group_dict, filename=\"output.fasta\"):\n",
    "    \"\"\"\n",
    "    Saves the protein names and sequences from the dictionary to a FASTA file.\n",
    "    \n",
    "    :param group_dict: Dictionary where keys are protein names and values are sequences\n",
    "    :param filename: Output FASTA file name (default is \"output.fasta\")\n",
    "    \"\"\"\n",
    "    with open(filename, 'w') as fasta_file:\n",
    "        for protein_name, sequence in group_dict.items():\n",
    "            # Write each protein's name and sequence in FASTA format\n",
    "            fasta_file.write(f\">{protein_name}\\n\")\n",
    "            # Write the sequence, split into multiple lines if necessary\n",
    "            for i in range(0, len(sequence), 80):  # 80 characters per line\n",
    "                fasta_file.write(sequence[i:i+80] + \"\\n\")\n",
    "    \n",
    "    print(f\"FASTA file saved as {filename}\")\n"
   ]
  },
  {
   "cell_type": "code",
   "execution_count": null,
   "metadata": {},
   "outputs": [
    {
     "name": "stdout",
     "output_type": "stream",
     "text": [
      "-----------------------------------------\n",
      "Started processing Group:  Epidermal growth factor receptor\n",
      "FASTA file saved as Epidermal growth factor receptor.fasta\n",
      "Finished processing Group:  Epidermal growth factor receptor\n",
      "-----------------------------------------\n",
      "-----------------------------------------\n",
      "Started processing Group:  cAMP-dependent protein kinase catalytic subunit alpha\n",
      "FASTA file saved as cAMP-dependent protein kinase catalytic subunit alpha.fasta\n",
      "Finished processing Group:  cAMP-dependent protein kinase catalytic subunit alpha\n",
      "-----------------------------------------\n"
     ]
    }
   ],
   "source": [
    "# Probably remove\n",
    "for name, group in df_mutants[df_mutants['Target Names'].apply(lambda x: len(x)>10)].groupby('WT Target Name'):\n",
    "    group_dict = {}\n",
    "    print(\"-----------------------------------------\")\n",
    "    print('Started processing Group: ', name)\n",
    "    for idx, top_pair in group.iterrows():\n",
    "        target_names = top_pair['Target Names']\n",
    "        target_sequences = top_pair['BindingDB Target Chain Sequence']\n",
    "        group_dict.update(dict(zip(target_names, target_sequences)))\n",
    "    \n",
    "    save_to_fasta(group_dict, f\"{name}.fasta\")\n",
    "    print('Finished processing Group: ', name)\n",
    "    print(\"-----------------------------------------\")"
   ]
  }
 ],
 "metadata": {
  "kernelspec": {
   "display_name": "abacadabra-env",
   "language": "python",
   "name": "python3"
  },
  "language_info": {
   "codemirror_mode": {
    "name": "ipython",
    "version": 3
   },
   "file_extension": ".py",
   "mimetype": "text/x-python",
   "name": "python",
   "nbconvert_exporter": "python",
   "pygments_lexer": "ipython3",
   "version": "3.11.10"
  }
 },
 "nbformat": 4,
 "nbformat_minor": 2
}
